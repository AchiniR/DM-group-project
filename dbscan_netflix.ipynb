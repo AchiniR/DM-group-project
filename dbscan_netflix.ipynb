{
  "nbformat": 4,
  "nbformat_minor": 0,
  "metadata": {
    "colab": {
      "provenance": [],
      "mount_file_id": "1vfYKF0N3sJKC68kA1ZeM-Ba7QbelhgLY",
      "authorship_tag": "ABX9TyN1GXx2Qx9CqjOg2wYrdHO3",
      "include_colab_link": true
    },
    "kernelspec": {
      "name": "python3",
      "display_name": "Python 3"
    },
    "language_info": {
      "name": "python"
    }
  },
  "cells": [
    {
      "cell_type": "markdown",
      "metadata": {
        "id": "view-in-github",
        "colab_type": "text"
      },
      "source": [
        "<a href=\"https://colab.research.google.com/github/AchiniR/DM-group-project/blob/main/dbscan_netflix.ipynb\" target=\"_parent\"><img src=\"https://colab.research.google.com/assets/colab-badge.svg\" alt=\"Open In Colab\"/></a>"
      ]
    },
    {
      "cell_type": "code",
      "execution_count": 1,
      "metadata": {
        "id": "vzK6jstT713x"
      },
      "outputs": [],
      "source": [
        "# dataset\n",
        "#https://www.kaggle.com/datasets/jhajalaj/netflix-india-shows-and-movies/data\n",
        "\n",
        "\n",
        "# Ref\n",
        "#https://www.kaggle.com/code/bansodesandeep/netflix-movies-and-tv-shows-clustering/notebook#4.-Cleaning-data"
      ]
    },
    {
      "cell_type": "code",
      "source": [
        "!pip install contractions\n",
        "!pip install yellowbrick"
      ],
      "metadata": {
        "id": "jjP-GeKagj_N"
      },
      "execution_count": null,
      "outputs": []
    },
    {
      "cell_type": "code",
      "source": [
        "from google.colab import drive\n",
        "drive.mount('/content/drive')"
      ],
      "metadata": {
        "colab": {
          "base_uri": "https://localhost:8080/"
        },
        "id": "3n9uRTlgNc0_",
        "outputId": "0288e400-caa5-451c-f324-ab05e7468b71"
      },
      "execution_count": 3,
      "outputs": [
        {
          "output_type": "stream",
          "name": "stdout",
          "text": [
            "Mounted at /content/drive\n"
          ]
        }
      ]
    },
    {
      "cell_type": "code",
      "source": [
        "import pandas as pd\n",
        "import numpy as np\n",
        "import matplotlib.pyplot as plt\n",
        "import seaborn as sns\n",
        "from datetime import datetime as dt\n",
        "from sklearn.preprocessing import LabelEncoder\n",
        "from sklearn.model_selection import train_test_split\n",
        "from sklearn.preprocessing import MultiLabelBinarizer\n",
        "from sklearn.feature_extraction.text import TfidfVectorizer\n",
        "from sklearn.cluster import KMeans\n",
        "from sklearn.decomposition import PCA\n",
        "import contractions\n",
        "import nltk\n",
        "from nltk.corpus import stopwords\n",
        "import string\n",
        "from yellowbrick.cluster.elbow import kelbow_visualizer\n",
        "from sklearn.neighbors import NearestNeighbors\n",
        "from sklearn.cluster import DBSCAN\n",
        "from sklearn.metrics import silhouette_score, calinski_harabasz_score, davies_bouldin_score\n",
        "from sklearn.metrics.pairwise import cosine_similarity\n",
        "\n",
        "import warnings\n",
        "warnings.filterwarnings('ignore')"
      ],
      "metadata": {
        "id": "KWb96xuH8IC2"
      },
      "execution_count": 197,
      "outputs": []
    },
    {
      "cell_type": "code",
      "source": [
        "# reading data\n",
        "path = '/content/drive/MyDrive/DM_prroject/netflix_india_shows_and_movies.csv'\n",
        "\n",
        "original_df = pd.read_csv(path,index_col='showid')\n",
        "df = original_df.copy()"
      ],
      "metadata": {
        "id": "Sku9BmYh8IxR"
      },
      "execution_count": 5,
      "outputs": []
    },
    {
      "cell_type": "code",
      "source": [
        "df.info()"
      ],
      "metadata": {
        "id": "f_K8s3Gc9hzl",
        "colab": {
          "base_uri": "https://localhost:8080/"
        },
        "outputId": "72ae0121-dfef-4103-ba42-953c50400d19"
      },
      "execution_count": 6,
      "outputs": [
        {
          "output_type": "stream",
          "name": "stdout",
          "text": [
            "<class 'pandas.core.frame.DataFrame'>\n",
            "Int64Index: 6698 entries, 81607354 to 81023623\n",
            "Data columns (total 18 columns):\n",
            " #   Column              Non-Null Count  Dtype  \n",
            "---  ------              --------------  -----  \n",
            " 0   name                6698 non-null   object \n",
            " 1   type                6698 non-null   object \n",
            " 2   rating              6698 non-null   object \n",
            " 3   duration            6698 non-null   object \n",
            " 4   description         6698 non-null   object \n",
            " 5   hook_text           3165 non-null   object \n",
            " 6   genre               6698 non-null   object \n",
            " 7   release_year        6685 non-null   float64\n",
            " 8   release_date        6698 non-null   object \n",
            " 9   mood_tag            6051 non-null   object \n",
            " 10  actors              6031 non-null   object \n",
            " 11  creator             1174 non-null   object \n",
            " 12  director            4260 non-null   object \n",
            " 13  audio               3998 non-null   object \n",
            " 14  subtitles           3997 non-null   object \n",
            " 15  tags                6698 non-null   object \n",
            " 16  similar_titles_id   6687 non-null   object \n",
            " 17  production_country  6144 non-null   object \n",
            "dtypes: float64(1), object(17)\n",
            "memory usage: 994.2+ KB\n"
          ]
        }
      ]
    },
    {
      "cell_type": "code",
      "source": [
        "df.head()"
      ],
      "metadata": {
        "id": "il4ghnza9vDb",
        "colab": {
          "base_uri": "https://localhost:8080/",
          "height": 535
        },
        "outputId": "118969dc-abf6-44dd-dee3-5bf278e66d87"
      },
      "execution_count": 7,
      "outputs": [
        {
          "output_type": "execute_result",
          "data": {
            "text/plain": [
              "                            name      type   rating  duration  \\\n",
              "showid                                                          \n",
              "81607354        A Killer Paradox  TVSeries        A  1 Season   \n",
              "81616617                   Ashes     Movie        A    1.6667   \n",
              "81732726                Bhakshak     Movie        A      2.25   \n",
              "81611991  Lover, Stalker, Killer     Movie  U/A 16+       1.5   \n",
              "70305903            Interstellar     Movie  U/A 13+    2.8167   \n",
              "\n",
              "                                                description hook_text  \\\n",
              "showid                                                                  \n",
              "81607354  When one accidental killing leads to another, ...       NaN   \n",
              "81616617  From an intoxicating fantasy to a dangerous af...       NaN   \n",
              "81732726  A struggling local journalist begins a dogged ...       NaN   \n",
              "81611991  In this twisting documentary, a mechanic tries...       NaN   \n",
              "70305903  With humanity teetering on the brink of extinc...       NaN   \n",
              "\n",
              "                genre  release_year release_date  \\\n",
              "showid                                             \n",
              "81607354     Thriller        2024.0     2024-2-9   \n",
              "81616617        Drama        2024.0     2024-2-9   \n",
              "81732726        Drama        2024.0     2024-2-9   \n",
              "81611991  Documentary        2024.0     2024-2-9   \n",
              "70305903       Sci-Fi        2014.0     2024-2-9   \n",
              "\n",
              "                                 mood_tag  \\\n",
              "showid                                      \n",
              "81607354              Offbeat;Suspenseful   \n",
              "81616617  Psychological;Intimate;Romantic   \n",
              "81732726                           Gritty   \n",
              "81611991                              NaN   \n",
              "70305903            Mind-Bending;Cerebral   \n",
              "\n",
              "                                                     actors  \\\n",
              "showid                                                        \n",
              "81607354               Choi Woo-shik;Son Suk-ku;Lee Hee-jun   \n",
              "81616617  Funda Eryiğit;Alperen Duymaz;Mehmet Günsür;Nur...   \n",
              "81732726  Bhumi Pednekar;Sanjay Mishra;Aditya Srivastava...   \n",
              "81611991                                                NaN   \n",
              "70305903  Matthew McConaughey;Anne Hathaway;Jessica Chas...   \n",
              "\n",
              "                           creator           director  \\\n",
              "showid                                                  \n",
              "81607354  Lee Chang-hee;Kim Da-min                NaN   \n",
              "81616617                       NaN      Erdem Tepegöz   \n",
              "81732726                       NaN             Pulkit   \n",
              "81611991                       NaN      Sam Hobkinson   \n",
              "70305903                       NaN  Christopher Nolan   \n",
              "\n",
              "                                                      audio  \\\n",
              "showid                                                        \n",
              "81607354                                                NaN   \n",
              "81616617  English;Turkish - Audio Description;Turkish [O...   \n",
              "81732726  English;Hindi - Audio Description;Hindi [Origi...   \n",
              "81611991     English - Audio Description;English [Original]   \n",
              "70305903                                 English [Original]   \n",
              "\n",
              "                        subtitles  \\\n",
              "showid                              \n",
              "81607354                      NaN   \n",
              "81616617  English;English;Turkish   \n",
              "81732726    English;English;Hindi   \n",
              "81611991                  English   \n",
              "70305903            English;Hindi   \n",
              "\n",
              "                                                       tags  \\\n",
              "showid                                                        \n",
              "81607354  Korean;Crime TV Shows;K-dramas based on Webtoo...   \n",
              "81616617                     Turkish;Dramas;Romantic Movies   \n",
              "81732726  Hindi-Language Movies;Bollywood Movies;Crime M...   \n",
              "81611991  Documentaries;Crime Movies;True Crime Document...   \n",
              "70305903  Sci-Fi Movies;Dramas;Action & Adventure Movies...   \n",
              "\n",
              "                                          similar_titles_id production_country  \n",
              "showid                                                                          \n",
              "81607354  81444051;81461539;81011211;81640988;80990668;8...        South Korea  \n",
              "81616617  81732726;81256740;81671215;81637260;81566662;8...             Turkey  \n",
              "81732726  81671215;81637260;81725616;81637261;81740214;8...              India  \n",
              "81611991  81671836;81130130;81620852;81607097;81212487;8...                NaN  \n",
              "70305903  70131314;81198930;80117456;80023689;80244645;8...      United States  "
            ],
            "text/html": [
              "\n",
              "  <div id=\"df-c7193699-7df1-445d-aa48-e1639dc6b991\" class=\"colab-df-container\">\n",
              "    <div>\n",
              "<style scoped>\n",
              "    .dataframe tbody tr th:only-of-type {\n",
              "        vertical-align: middle;\n",
              "    }\n",
              "\n",
              "    .dataframe tbody tr th {\n",
              "        vertical-align: top;\n",
              "    }\n",
              "\n",
              "    .dataframe thead th {\n",
              "        text-align: right;\n",
              "    }\n",
              "</style>\n",
              "<table border=\"1\" class=\"dataframe\">\n",
              "  <thead>\n",
              "    <tr style=\"text-align: right;\">\n",
              "      <th></th>\n",
              "      <th>name</th>\n",
              "      <th>type</th>\n",
              "      <th>rating</th>\n",
              "      <th>duration</th>\n",
              "      <th>description</th>\n",
              "      <th>hook_text</th>\n",
              "      <th>genre</th>\n",
              "      <th>release_year</th>\n",
              "      <th>release_date</th>\n",
              "      <th>mood_tag</th>\n",
              "      <th>actors</th>\n",
              "      <th>creator</th>\n",
              "      <th>director</th>\n",
              "      <th>audio</th>\n",
              "      <th>subtitles</th>\n",
              "      <th>tags</th>\n",
              "      <th>similar_titles_id</th>\n",
              "      <th>production_country</th>\n",
              "    </tr>\n",
              "    <tr>\n",
              "      <th>showid</th>\n",
              "      <th></th>\n",
              "      <th></th>\n",
              "      <th></th>\n",
              "      <th></th>\n",
              "      <th></th>\n",
              "      <th></th>\n",
              "      <th></th>\n",
              "      <th></th>\n",
              "      <th></th>\n",
              "      <th></th>\n",
              "      <th></th>\n",
              "      <th></th>\n",
              "      <th></th>\n",
              "      <th></th>\n",
              "      <th></th>\n",
              "      <th></th>\n",
              "      <th></th>\n",
              "      <th></th>\n",
              "    </tr>\n",
              "  </thead>\n",
              "  <tbody>\n",
              "    <tr>\n",
              "      <th>81607354</th>\n",
              "      <td>A Killer Paradox</td>\n",
              "      <td>TVSeries</td>\n",
              "      <td>A</td>\n",
              "      <td>1 Season</td>\n",
              "      <td>When one accidental killing leads to another, ...</td>\n",
              "      <td>NaN</td>\n",
              "      <td>Thriller</td>\n",
              "      <td>2024.0</td>\n",
              "      <td>2024-2-9</td>\n",
              "      <td>Offbeat;Suspenseful</td>\n",
              "      <td>Choi Woo-shik;Son Suk-ku;Lee Hee-jun</td>\n",
              "      <td>Lee Chang-hee;Kim Da-min</td>\n",
              "      <td>NaN</td>\n",
              "      <td>NaN</td>\n",
              "      <td>NaN</td>\n",
              "      <td>Korean;Crime TV Shows;K-dramas based on Webtoo...</td>\n",
              "      <td>81444051;81461539;81011211;81640988;80990668;8...</td>\n",
              "      <td>South Korea</td>\n",
              "    </tr>\n",
              "    <tr>\n",
              "      <th>81616617</th>\n",
              "      <td>Ashes</td>\n",
              "      <td>Movie</td>\n",
              "      <td>A</td>\n",
              "      <td>1.6667</td>\n",
              "      <td>From an intoxicating fantasy to a dangerous af...</td>\n",
              "      <td>NaN</td>\n",
              "      <td>Drama</td>\n",
              "      <td>2024.0</td>\n",
              "      <td>2024-2-9</td>\n",
              "      <td>Psychological;Intimate;Romantic</td>\n",
              "      <td>Funda Eryiğit;Alperen Duymaz;Mehmet Günsür;Nur...</td>\n",
              "      <td>NaN</td>\n",
              "      <td>Erdem Tepegöz</td>\n",
              "      <td>English;Turkish - Audio Description;Turkish [O...</td>\n",
              "      <td>English;English;Turkish</td>\n",
              "      <td>Turkish;Dramas;Romantic Movies</td>\n",
              "      <td>81732726;81256740;81671215;81637260;81566662;8...</td>\n",
              "      <td>Turkey</td>\n",
              "    </tr>\n",
              "    <tr>\n",
              "      <th>81732726</th>\n",
              "      <td>Bhakshak</td>\n",
              "      <td>Movie</td>\n",
              "      <td>A</td>\n",
              "      <td>2.25</td>\n",
              "      <td>A struggling local journalist begins a dogged ...</td>\n",
              "      <td>NaN</td>\n",
              "      <td>Drama</td>\n",
              "      <td>2024.0</td>\n",
              "      <td>2024-2-9</td>\n",
              "      <td>Gritty</td>\n",
              "      <td>Bhumi Pednekar;Sanjay Mishra;Aditya Srivastava...</td>\n",
              "      <td>NaN</td>\n",
              "      <td>Pulkit</td>\n",
              "      <td>English;Hindi - Audio Description;Hindi [Origi...</td>\n",
              "      <td>English;English;Hindi</td>\n",
              "      <td>Hindi-Language Movies;Bollywood Movies;Crime M...</td>\n",
              "      <td>81671215;81637260;81725616;81637261;81740214;8...</td>\n",
              "      <td>India</td>\n",
              "    </tr>\n",
              "    <tr>\n",
              "      <th>81611991</th>\n",
              "      <td>Lover, Stalker, Killer</td>\n",
              "      <td>Movie</td>\n",
              "      <td>U/A 16+</td>\n",
              "      <td>1.5</td>\n",
              "      <td>In this twisting documentary, a mechanic tries...</td>\n",
              "      <td>NaN</td>\n",
              "      <td>Documentary</td>\n",
              "      <td>2024.0</td>\n",
              "      <td>2024-2-9</td>\n",
              "      <td>NaN</td>\n",
              "      <td>NaN</td>\n",
              "      <td>NaN</td>\n",
              "      <td>Sam Hobkinson</td>\n",
              "      <td>English - Audio Description;English [Original]</td>\n",
              "      <td>English</td>\n",
              "      <td>Documentaries;Crime Movies;True Crime Document...</td>\n",
              "      <td>81671836;81130130;81620852;81607097;81212487;8...</td>\n",
              "      <td>NaN</td>\n",
              "    </tr>\n",
              "    <tr>\n",
              "      <th>70305903</th>\n",
              "      <td>Interstellar</td>\n",
              "      <td>Movie</td>\n",
              "      <td>U/A 13+</td>\n",
              "      <td>2.8167</td>\n",
              "      <td>With humanity teetering on the brink of extinc...</td>\n",
              "      <td>NaN</td>\n",
              "      <td>Sci-Fi</td>\n",
              "      <td>2014.0</td>\n",
              "      <td>2024-2-9</td>\n",
              "      <td>Mind-Bending;Cerebral</td>\n",
              "      <td>Matthew McConaughey;Anne Hathaway;Jessica Chas...</td>\n",
              "      <td>NaN</td>\n",
              "      <td>Christopher Nolan</td>\n",
              "      <td>English [Original]</td>\n",
              "      <td>English;Hindi</td>\n",
              "      <td>Sci-Fi Movies;Dramas;Action &amp; Adventure Movies...</td>\n",
              "      <td>70131314;81198930;80117456;80023689;80244645;8...</td>\n",
              "      <td>United States</td>\n",
              "    </tr>\n",
              "  </tbody>\n",
              "</table>\n",
              "</div>\n",
              "    <div class=\"colab-df-buttons\">\n",
              "\n",
              "  <div class=\"colab-df-container\">\n",
              "    <button class=\"colab-df-convert\" onclick=\"convertToInteractive('df-c7193699-7df1-445d-aa48-e1639dc6b991')\"\n",
              "            title=\"Convert this dataframe to an interactive table.\"\n",
              "            style=\"display:none;\">\n",
              "\n",
              "  <svg xmlns=\"http://www.w3.org/2000/svg\" height=\"24px\" viewBox=\"0 -960 960 960\">\n",
              "    <path d=\"M120-120v-720h720v720H120Zm60-500h600v-160H180v160Zm220 220h160v-160H400v160Zm0 220h160v-160H400v160ZM180-400h160v-160H180v160Zm440 0h160v-160H620v160ZM180-180h160v-160H180v160Zm440 0h160v-160H620v160Z\"/>\n",
              "  </svg>\n",
              "    </button>\n",
              "\n",
              "  <style>\n",
              "    .colab-df-container {\n",
              "      display:flex;\n",
              "      gap: 12px;\n",
              "    }\n",
              "\n",
              "    .colab-df-convert {\n",
              "      background-color: #E8F0FE;\n",
              "      border: none;\n",
              "      border-radius: 50%;\n",
              "      cursor: pointer;\n",
              "      display: none;\n",
              "      fill: #1967D2;\n",
              "      height: 32px;\n",
              "      padding: 0 0 0 0;\n",
              "      width: 32px;\n",
              "    }\n",
              "\n",
              "    .colab-df-convert:hover {\n",
              "      background-color: #E2EBFA;\n",
              "      box-shadow: 0px 1px 2px rgba(60, 64, 67, 0.3), 0px 1px 3px 1px rgba(60, 64, 67, 0.15);\n",
              "      fill: #174EA6;\n",
              "    }\n",
              "\n",
              "    .colab-df-buttons div {\n",
              "      margin-bottom: 4px;\n",
              "    }\n",
              "\n",
              "    [theme=dark] .colab-df-convert {\n",
              "      background-color: #3B4455;\n",
              "      fill: #D2E3FC;\n",
              "    }\n",
              "\n",
              "    [theme=dark] .colab-df-convert:hover {\n",
              "      background-color: #434B5C;\n",
              "      box-shadow: 0px 1px 3px 1px rgba(0, 0, 0, 0.15);\n",
              "      filter: drop-shadow(0px 1px 2px rgba(0, 0, 0, 0.3));\n",
              "      fill: #FFFFFF;\n",
              "    }\n",
              "  </style>\n",
              "\n",
              "    <script>\n",
              "      const buttonEl =\n",
              "        document.querySelector('#df-c7193699-7df1-445d-aa48-e1639dc6b991 button.colab-df-convert');\n",
              "      buttonEl.style.display =\n",
              "        google.colab.kernel.accessAllowed ? 'block' : 'none';\n",
              "\n",
              "      async function convertToInteractive(key) {\n",
              "        const element = document.querySelector('#df-c7193699-7df1-445d-aa48-e1639dc6b991');\n",
              "        const dataTable =\n",
              "          await google.colab.kernel.invokeFunction('convertToInteractive',\n",
              "                                                    [key], {});\n",
              "        if (!dataTable) return;\n",
              "\n",
              "        const docLinkHtml = 'Like what you see? Visit the ' +\n",
              "          '<a target=\"_blank\" href=https://colab.research.google.com/notebooks/data_table.ipynb>data table notebook</a>'\n",
              "          + ' to learn more about interactive tables.';\n",
              "        element.innerHTML = '';\n",
              "        dataTable['output_type'] = 'display_data';\n",
              "        await google.colab.output.renderOutput(dataTable, element);\n",
              "        const docLink = document.createElement('div');\n",
              "        docLink.innerHTML = docLinkHtml;\n",
              "        element.appendChild(docLink);\n",
              "      }\n",
              "    </script>\n",
              "  </div>\n",
              "\n",
              "\n",
              "<div id=\"df-f7e2d445-91c7-41a2-89ec-79251edb075a\">\n",
              "  <button class=\"colab-df-quickchart\" onclick=\"quickchart('df-f7e2d445-91c7-41a2-89ec-79251edb075a')\"\n",
              "            title=\"Suggest charts\"\n",
              "            style=\"display:none;\">\n",
              "\n",
              "<svg xmlns=\"http://www.w3.org/2000/svg\" height=\"24px\"viewBox=\"0 0 24 24\"\n",
              "     width=\"24px\">\n",
              "    <g>\n",
              "        <path d=\"M19 3H5c-1.1 0-2 .9-2 2v14c0 1.1.9 2 2 2h14c1.1 0 2-.9 2-2V5c0-1.1-.9-2-2-2zM9 17H7v-7h2v7zm4 0h-2V7h2v10zm4 0h-2v-4h2v4z\"/>\n",
              "    </g>\n",
              "</svg>\n",
              "  </button>\n",
              "\n",
              "<style>\n",
              "  .colab-df-quickchart {\n",
              "      --bg-color: #E8F0FE;\n",
              "      --fill-color: #1967D2;\n",
              "      --hover-bg-color: #E2EBFA;\n",
              "      --hover-fill-color: #174EA6;\n",
              "      --disabled-fill-color: #AAA;\n",
              "      --disabled-bg-color: #DDD;\n",
              "  }\n",
              "\n",
              "  [theme=dark] .colab-df-quickchart {\n",
              "      --bg-color: #3B4455;\n",
              "      --fill-color: #D2E3FC;\n",
              "      --hover-bg-color: #434B5C;\n",
              "      --hover-fill-color: #FFFFFF;\n",
              "      --disabled-bg-color: #3B4455;\n",
              "      --disabled-fill-color: #666;\n",
              "  }\n",
              "\n",
              "  .colab-df-quickchart {\n",
              "    background-color: var(--bg-color);\n",
              "    border: none;\n",
              "    border-radius: 50%;\n",
              "    cursor: pointer;\n",
              "    display: none;\n",
              "    fill: var(--fill-color);\n",
              "    height: 32px;\n",
              "    padding: 0;\n",
              "    width: 32px;\n",
              "  }\n",
              "\n",
              "  .colab-df-quickchart:hover {\n",
              "    background-color: var(--hover-bg-color);\n",
              "    box-shadow: 0 1px 2px rgba(60, 64, 67, 0.3), 0 1px 3px 1px rgba(60, 64, 67, 0.15);\n",
              "    fill: var(--button-hover-fill-color);\n",
              "  }\n",
              "\n",
              "  .colab-df-quickchart-complete:disabled,\n",
              "  .colab-df-quickchart-complete:disabled:hover {\n",
              "    background-color: var(--disabled-bg-color);\n",
              "    fill: var(--disabled-fill-color);\n",
              "    box-shadow: none;\n",
              "  }\n",
              "\n",
              "  .colab-df-spinner {\n",
              "    border: 2px solid var(--fill-color);\n",
              "    border-color: transparent;\n",
              "    border-bottom-color: var(--fill-color);\n",
              "    animation:\n",
              "      spin 1s steps(1) infinite;\n",
              "  }\n",
              "\n",
              "  @keyframes spin {\n",
              "    0% {\n",
              "      border-color: transparent;\n",
              "      border-bottom-color: var(--fill-color);\n",
              "      border-left-color: var(--fill-color);\n",
              "    }\n",
              "    20% {\n",
              "      border-color: transparent;\n",
              "      border-left-color: var(--fill-color);\n",
              "      border-top-color: var(--fill-color);\n",
              "    }\n",
              "    30% {\n",
              "      border-color: transparent;\n",
              "      border-left-color: var(--fill-color);\n",
              "      border-top-color: var(--fill-color);\n",
              "      border-right-color: var(--fill-color);\n",
              "    }\n",
              "    40% {\n",
              "      border-color: transparent;\n",
              "      border-right-color: var(--fill-color);\n",
              "      border-top-color: var(--fill-color);\n",
              "    }\n",
              "    60% {\n",
              "      border-color: transparent;\n",
              "      border-right-color: var(--fill-color);\n",
              "    }\n",
              "    80% {\n",
              "      border-color: transparent;\n",
              "      border-right-color: var(--fill-color);\n",
              "      border-bottom-color: var(--fill-color);\n",
              "    }\n",
              "    90% {\n",
              "      border-color: transparent;\n",
              "      border-bottom-color: var(--fill-color);\n",
              "    }\n",
              "  }\n",
              "</style>\n",
              "\n",
              "  <script>\n",
              "    async function quickchart(key) {\n",
              "      const quickchartButtonEl =\n",
              "        document.querySelector('#' + key + ' button');\n",
              "      quickchartButtonEl.disabled = true;  // To prevent multiple clicks.\n",
              "      quickchartButtonEl.classList.add('colab-df-spinner');\n",
              "      try {\n",
              "        const charts = await google.colab.kernel.invokeFunction(\n",
              "            'suggestCharts', [key], {});\n",
              "      } catch (error) {\n",
              "        console.error('Error during call to suggestCharts:', error);\n",
              "      }\n",
              "      quickchartButtonEl.classList.remove('colab-df-spinner');\n",
              "      quickchartButtonEl.classList.add('colab-df-quickchart-complete');\n",
              "    }\n",
              "    (() => {\n",
              "      let quickchartButtonEl =\n",
              "        document.querySelector('#df-f7e2d445-91c7-41a2-89ec-79251edb075a button');\n",
              "      quickchartButtonEl.style.display =\n",
              "        google.colab.kernel.accessAllowed ? 'block' : 'none';\n",
              "    })();\n",
              "  </script>\n",
              "</div>\n",
              "    </div>\n",
              "  </div>\n"
            ],
            "application/vnd.google.colaboratory.intrinsic+json": {
              "type": "dataframe",
              "variable_name": "df",
              "summary": "{\n  \"name\": \"df\",\n  \"rows\": 6698,\n  \"fields\": [\n    {\n      \"column\": \"showid\",\n      \"properties\": {\n        \"dtype\": \"number\",\n        \"std\": 6757110,\n        \"min\": 215309,\n        \"max\": 81755382,\n        \"num_unique_values\": 6698,\n        \"samples\": [\n          81392197,\n          81388078,\n          70139555\n        ],\n        \"semantic_type\": \"\",\n        \"description\": \"\"\n      }\n    },\n    {\n      \"column\": \"name\",\n      \"properties\": {\n        \"dtype\": \"string\",\n        \"num_unique_values\": 6626,\n        \"samples\": [\n          \"Nobody Knows I'm Here\",\n          \"Takki\",\n          \"To All The Boys: Always And Forever\"\n        ],\n        \"semantic_type\": \"\",\n        \"description\": \"\"\n      }\n    },\n    {\n      \"column\": \"type\",\n      \"properties\": {\n        \"dtype\": \"category\",\n        \"num_unique_values\": 2,\n        \"samples\": [\n          \"Movie\",\n          \"TVSeries\"\n        ],\n        \"semantic_type\": \"\",\n        \"description\": \"\"\n      }\n    },\n    {\n      \"column\": \"rating\",\n      \"properties\": {\n        \"dtype\": \"category\",\n        \"num_unique_values\": 5,\n        \"samples\": [\n          \"U/A 16+\",\n          \"U\"\n        ],\n        \"semantic_type\": \"\",\n        \"description\": \"\"\n      }\n    },\n    {\n      \"column\": \"duration\",\n      \"properties\": {\n        \"dtype\": \"category\",\n        \"num_unique_values\": 205,\n        \"samples\": [\n          \"2.2\",\n          \"2 Seasons\"\n        ],\n        \"semantic_type\": \"\",\n        \"description\": \"\"\n      }\n    },\n    {\n      \"column\": \"description\",\n      \"properties\": {\n        \"dtype\": \"string\",\n        \"num_unique_values\": 6559,\n        \"samples\": [\n          \"Matters of the heart introduce chaos into the once-idyllic bachelor existence of three young men who share an apartment.\",\n          \"Angsty Syd navigates high school awkwardness, family drama and an unrequited crush on her best friend while trying to rein in her budding superpowers.\"\n        ],\n        \"semantic_type\": \"\",\n        \"description\": \"\"\n      }\n    },\n    {\n      \"column\": \"hook_text\",\n      \"properties\": {\n        \"dtype\": \"category\",\n        \"num_unique_values\": 3119,\n        \"samples\": [\n          \"Hitting number one in Japan, Fujii Kaze's second album was certified platinum by the Recording Industry Association of Japan.\",\n          \"Nicolas Cantu, Darren Barnet and Mae Whitman star with Benjamin Bratt and Betty Gilpin in this animated fantasy adventure.\"\n        ],\n        \"semantic_type\": \"\",\n        \"description\": \"\"\n      }\n    },\n    {\n      \"column\": \"genre\",\n      \"properties\": {\n        \"dtype\": \"category\",\n        \"num_unique_values\": 20,\n        \"samples\": [\n          \"Thriller\",\n          \"Variety TV\"\n        ],\n        \"semantic_type\": \"\",\n        \"description\": \"\"\n      }\n    },\n    {\n      \"column\": \"release_year\",\n      \"properties\": {\n        \"dtype\": \"number\",\n        \"std\": 6.0920065369960446,\n        \"min\": 1945.0,\n        \"max\": 2024.0,\n        \"num_unique_values\": 56,\n        \"samples\": [\n          2024.0,\n          2012.0\n        ],\n        \"semantic_type\": \"\",\n        \"description\": \"\"\n      }\n    },\n    {\n      \"column\": \"release_date\",\n      \"properties\": {\n        \"dtype\": \"object\",\n        \"num_unique_values\": 1845,\n        \"samples\": [\n          \"2018-11-15\",\n          \"2020-11-13\"\n        ],\n        \"semantic_type\": \"\",\n        \"description\": \"\"\n      }\n    },\n    {\n      \"column\": \"mood_tag\",\n      \"properties\": {\n        \"dtype\": \"category\",\n        \"num_unique_values\": 987,\n        \"samples\": [\n          \"Psychological;Dark\",\n          \"Raunchy;Quirky;Romantic\"\n        ],\n        \"semantic_type\": \"\",\n        \"description\": \"\"\n      }\n    },\n    {\n      \"column\": \"actors\",\n      \"properties\": {\n        \"dtype\": \"string\",\n        \"num_unique_values\": 5694,\n        \"samples\": [\n          \"Jeremy Ray Taylor;Madison Iseman;Caleel Harris;Wendi McLendon-Covey;Chris Parnell;Ken Jeong;Jack Black\",\n          \"Mo'Nique\"\n        ],\n        \"semantic_type\": \"\",\n        \"description\": \"\"\n      }\n    },\n    {\n      \"column\": \"creator\",\n      \"properties\": {\n        \"dtype\": \"category\",\n        \"num_unique_values\": 1061,\n        \"samples\": [\n          \"Keith Chapman\",\n          \"Chinaza Onuzo;Dami Elebe\"\n        ],\n        \"semantic_type\": \"\",\n        \"description\": \"\"\n      }\n    },\n    {\n      \"column\": \"director\",\n      \"properties\": {\n        \"dtype\": \"category\",\n        \"num_unique_values\": 3096,\n        \"samples\": [\n          \"Shashank Khaitan;Raj Mehta;Neeraj Ghaywan;Kayoze Irani\",\n          \"Katt Williams\"\n        ],\n        \"semantic_type\": \"\",\n        \"description\": \"\"\n      }\n    },\n    {\n      \"column\": \"audio\",\n      \"properties\": {\n        \"dtype\": \"category\",\n        \"num_unique_values\": 261,\n        \"samples\": [\n          \"English;Hindi;Korean - Audio Description;Korean [Original];Tamil;Telugu\",\n          \"Arabic (Tunisia) [Original]\"\n        ],\n        \"semantic_type\": \"\",\n        \"description\": \"\"\n      }\n    },\n    {\n      \"column\": \"subtitles\",\n      \"properties\": {\n        \"dtype\": \"category\",\n        \"num_unique_values\": 125,\n        \"samples\": [\n          \"Arabic (Saudi Arabia);English;English\",\n          \"English;English;Thai\"\n        ],\n        \"semantic_type\": \"\",\n        \"description\": \"\"\n      }\n    },\n    {\n      \"column\": \"tags\",\n      \"properties\": {\n        \"dtype\": \"string\",\n        \"num_unique_values\": 3484,\n        \"samples\": [\n          \"Crime Movies;Dramas;Romantic Movies;Marathi-Language Movies\",\n          \"Family Features;Dramas;Comedy Movies;Independent Movies;Marathi-Language Movies\"\n        ],\n        \"semantic_type\": \"\",\n        \"description\": \"\"\n      }\n    },\n    {\n      \"column\": \"similar_titles_id\",\n      \"properties\": {\n        \"dtype\": \"string\",\n        \"num_unique_values\": 6685,\n        \"samples\": [\n          \"70262614;70139075;81210705;70111162;80201175;81508378;70303432;80164904;70107499;81154455;81280352;81269716\",\n          \"81033086;81045305;80242446;81717706;81324413;80177441;80242926;81672085;80160759;81054619;81672780;81426967\"\n        ],\n        \"semantic_type\": \"\",\n        \"description\": \"\"\n      }\n    },\n    {\n      \"column\": \"production_country\",\n      \"properties\": {\n        \"dtype\": \"category\",\n        \"num_unique_values\": 57,\n        \"samples\": [\n          \"South Korea\",\n          \"Japan\"\n        ],\n        \"semantic_type\": \"\",\n        \"description\": \"\"\n      }\n    }\n  ]\n}"
            }
          },
          "metadata": {},
          "execution_count": 7
        }
      ]
    },
    {
      "cell_type": "code",
      "source": [
        "# calculating missing values\n",
        "missing_values = df.isnull()\n",
        "total_missing_values = missing_values.sum()\n",
        "print(total_missing_values)"
      ],
      "metadata": {
        "id": "kPVxEtAG8X6l",
        "colab": {
          "base_uri": "https://localhost:8080/"
        },
        "outputId": "1962f0e5-c259-45f1-b71e-df05b97ae698"
      },
      "execution_count": 8,
      "outputs": [
        {
          "output_type": "stream",
          "name": "stdout",
          "text": [
            "name                     0\n",
            "type                     0\n",
            "rating                   0\n",
            "duration                 0\n",
            "description              0\n",
            "hook_text             3533\n",
            "genre                    0\n",
            "release_year            13\n",
            "release_date             0\n",
            "mood_tag               647\n",
            "actors                 667\n",
            "creator               5524\n",
            "director              2438\n",
            "audio                 2700\n",
            "subtitles             2701\n",
            "tags                     0\n",
            "similar_titles_id       11\n",
            "production_country     554\n",
            "dtype: int64\n"
          ]
        }
      ]
    },
    {
      "cell_type": "code",
      "source": [
        "# convert to date-time\n",
        "df[\"release_date\"] = pd.to_datetime(df['release_date'])\n",
        "\n",
        "# create seperate column for year, month, and day\n",
        "df['month'] = df['release_date'].dt.month\n",
        "df['year'] = df['release_date'].dt.year\n",
        "df['day'] = df['release_date'].dt.day\n",
        "\n",
        "df['day_of_week'] = df['release_date'].dt.dayofweek\n",
        "df['weekend'] = df['day_of_week'].isin([5, 6]).astype(int)"
      ],
      "metadata": {
        "id": "l1rlN0P39C0e"
      },
      "execution_count": 9,
      "outputs": []
    },
    {
      "cell_type": "code",
      "source": [
        "#Drop columns\n",
        "df.drop('release_year',axis=1,inplace=True)\n",
        "df.drop('creator',axis=1,inplace=True)\n",
        "df.drop('release_date',axis=1,inplace=True)"
      ],
      "metadata": {
        "id": "SUWsR4mJ8nY3"
      },
      "execution_count": 10,
      "outputs": []
    },
    {
      "cell_type": "code",
      "source": [
        "df[['director','actors','production_country', 'hook_text', 'audio', 'subtitles', 'mood_tag']] = df[['director','actors','production_country', 'hook_text', 'audio', 'subtitles', 'mood_tag']].fillna('Unknown')\n",
        "df[['similar_titles_id']] = df[['similar_titles_id']].fillna('None')\n",
        "df['rating'] = df['rating'].fillna(df['rating'].mode()[0])"
      ],
      "metadata": {
        "id": "x-0-NL7hBLqk"
      },
      "execution_count": 11,
      "outputs": []
    },
    {
      "cell_type": "code",
      "source": [
        "# Age ratings\n",
        "df.rating.unique()"
      ],
      "metadata": {
        "id": "qOYYo2ZjCShO",
        "colab": {
          "base_uri": "https://localhost:8080/"
        },
        "outputId": "848d004b-b025-42ff-aeee-b01f8a0e6af3"
      },
      "execution_count": 12,
      "outputs": [
        {
          "output_type": "execute_result",
          "data": {
            "text/plain": [
              "array(['A', 'U/A 16+', 'U/A 13+', 'U/A 7+', 'U'], dtype=object)"
            ]
          },
          "metadata": {},
          "execution_count": 12
        }
      ]
    },
    {
      "cell_type": "code",
      "source": [
        "# Initialize LabelEncoder\n",
        "label_encoder = LabelEncoder()\n",
        "\n",
        "# Fit and transform the 'rating' column\n",
        "df[\"rating_encoded\"] = label_encoder.fit_transform(df[\"rating\"])"
      ],
      "metadata": {
        "id": "x_P0csEVC8V_"
      },
      "execution_count": 13,
      "outputs": []
    },
    {
      "cell_type": "code",
      "source": [
        "#one hot encoding\n",
        "dummies=pd.get_dummies(df.type)\n",
        "\n",
        "df = pd.concat([df,dummies],axis=1)\n",
        "\n",
        "df.drop('type',axis=1,inplace=True)"
      ],
      "metadata": {
        "id": "JTqo6nMzEJoJ"
      },
      "execution_count": 14,
      "outputs": []
    },
    {
      "cell_type": "code",
      "source": [
        "df[df['year']==1970]"
      ],
      "metadata": {
        "id": "Zj9aN96RIe6_",
        "colab": {
          "base_uri": "https://localhost:8080/",
          "height": 551
        },
        "outputId": "91558a8e-c3f3-49b4-a764-707994da158d"
      },
      "execution_count": 15,
      "outputs": [
        {
          "output_type": "execute_result",
          "data": {
            "text/plain": [
              "                                           name  rating duration  \\\n",
              "showid                                                             \n",
              "80151644  Puss in Book: Trapped in an Epic Tale  U/A 7+   0.5833   \n",
              "80196044                               The Crew       A   1.3333   \n",
              "81031181                  Goyo: The Boy General       A   2.4833   \n",
              "81023623                          Close Enemies       A   1.8333   \n",
              "\n",
              "                                                description  \\\n",
              "showid                                                        \n",
              "80151644  Puss in Boots has fallen into a magic book rul...   \n",
              "80196044  After an unexpected misstep, a crew of skilled...   \n",
              "81031181  Brash ladies' man Gregorio \"Goyo\" del Pilar ri...   \n",
              "81023623  After an ambush leaves his partner dead, drug ...   \n",
              "\n",
              "                                                  hook_text     genre  \\\n",
              "showid                                                                  \n",
              "80151644                                            Unknown      Kids   \n",
              "80196044  French hip-hop artist Kaaris co-stars as a men...  Thriller   \n",
              "81031181                                            Unknown     Drama   \n",
              "81023623  Nominated for a Golden Lion at the Venice Film...     Drama   \n",
              "\n",
              "         mood_tag                                             actors  \\\n",
              "showid                                                                 \n",
              "80151644    Goofy  Eric Bauza;Jayma Mays;Maria Bamford;Jeff Benne...   \n",
              "80196044   Gritty  Sami Bouajila;Guillaume Gouix;Youssef Hajdi;Re...   \n",
              "81031181  Unknown  Paulo Avelino;Carlo Aquino;Arron Villaflor;Mon...   \n",
              "81023623   Gritty  Matthias Schoenaerts;Reda Kateb;Adel Bencherif...   \n",
              "\n",
              "                               director    audio  ...  \\\n",
              "showid                                            ...   \n",
              "80151644  Roy Burdine;Johnny Castuciano  Unknown  ...   \n",
              "80196044                Julien Leclercq  Unknown  ...   \n",
              "81031181                  Jerrold Tarog  Unknown  ...   \n",
              "81023623                David Oelhoffen  Unknown  ...   \n",
              "\n",
              "                                          similar_titles_id  \\\n",
              "showid                                                        \n",
              "80151644  80018988;81054409;80994695;81108751;80227574;8...   \n",
              "80196044  81175433;81079723;81446739;81721676;81115400;7...   \n",
              "81031181  81726434;80141777;80218962;81687835;81268316;8...   \n",
              "81023623  81115400;81483371;81102814;81312798;81218770;8...   \n",
              "\n",
              "         production_country month  year  day  day_of_week  weekend  \\\n",
              "showid                                                               \n",
              "80151644      United States     1  1970    1            3        0   \n",
              "80196044             France     1  1970    1            3        0   \n",
              "81031181        Philippines     1  1970    1            3        0   \n",
              "81023623             France     1  1970    1            3        0   \n",
              "\n",
              "          rating_encoded  Movie  TVSeries  \n",
              "showid                                     \n",
              "80151644               4      1         0  \n",
              "80196044               0      1         0  \n",
              "81031181               0      1         0  \n",
              "81023623               0      1         0  \n",
              "\n",
              "[4 rows x 22 columns]"
            ],
            "text/html": [
              "\n",
              "  <div id=\"df-e465a7e6-854b-4318-bbf0-ccf299c6174f\" class=\"colab-df-container\">\n",
              "    <div>\n",
              "<style scoped>\n",
              "    .dataframe tbody tr th:only-of-type {\n",
              "        vertical-align: middle;\n",
              "    }\n",
              "\n",
              "    .dataframe tbody tr th {\n",
              "        vertical-align: top;\n",
              "    }\n",
              "\n",
              "    .dataframe thead th {\n",
              "        text-align: right;\n",
              "    }\n",
              "</style>\n",
              "<table border=\"1\" class=\"dataframe\">\n",
              "  <thead>\n",
              "    <tr style=\"text-align: right;\">\n",
              "      <th></th>\n",
              "      <th>name</th>\n",
              "      <th>rating</th>\n",
              "      <th>duration</th>\n",
              "      <th>description</th>\n",
              "      <th>hook_text</th>\n",
              "      <th>genre</th>\n",
              "      <th>mood_tag</th>\n",
              "      <th>actors</th>\n",
              "      <th>director</th>\n",
              "      <th>audio</th>\n",
              "      <th>...</th>\n",
              "      <th>similar_titles_id</th>\n",
              "      <th>production_country</th>\n",
              "      <th>month</th>\n",
              "      <th>year</th>\n",
              "      <th>day</th>\n",
              "      <th>day_of_week</th>\n",
              "      <th>weekend</th>\n",
              "      <th>rating_encoded</th>\n",
              "      <th>Movie</th>\n",
              "      <th>TVSeries</th>\n",
              "    </tr>\n",
              "    <tr>\n",
              "      <th>showid</th>\n",
              "      <th></th>\n",
              "      <th></th>\n",
              "      <th></th>\n",
              "      <th></th>\n",
              "      <th></th>\n",
              "      <th></th>\n",
              "      <th></th>\n",
              "      <th></th>\n",
              "      <th></th>\n",
              "      <th></th>\n",
              "      <th></th>\n",
              "      <th></th>\n",
              "      <th></th>\n",
              "      <th></th>\n",
              "      <th></th>\n",
              "      <th></th>\n",
              "      <th></th>\n",
              "      <th></th>\n",
              "      <th></th>\n",
              "      <th></th>\n",
              "      <th></th>\n",
              "    </tr>\n",
              "  </thead>\n",
              "  <tbody>\n",
              "    <tr>\n",
              "      <th>80151644</th>\n",
              "      <td>Puss in Book: Trapped in an Epic Tale</td>\n",
              "      <td>U/A 7+</td>\n",
              "      <td>0.5833</td>\n",
              "      <td>Puss in Boots has fallen into a magic book rul...</td>\n",
              "      <td>Unknown</td>\n",
              "      <td>Kids</td>\n",
              "      <td>Goofy</td>\n",
              "      <td>Eric Bauza;Jayma Mays;Maria Bamford;Jeff Benne...</td>\n",
              "      <td>Roy Burdine;Johnny Castuciano</td>\n",
              "      <td>Unknown</td>\n",
              "      <td>...</td>\n",
              "      <td>80018988;81054409;80994695;81108751;80227574;8...</td>\n",
              "      <td>United States</td>\n",
              "      <td>1</td>\n",
              "      <td>1970</td>\n",
              "      <td>1</td>\n",
              "      <td>3</td>\n",
              "      <td>0</td>\n",
              "      <td>4</td>\n",
              "      <td>1</td>\n",
              "      <td>0</td>\n",
              "    </tr>\n",
              "    <tr>\n",
              "      <th>80196044</th>\n",
              "      <td>The Crew</td>\n",
              "      <td>A</td>\n",
              "      <td>1.3333</td>\n",
              "      <td>After an unexpected misstep, a crew of skilled...</td>\n",
              "      <td>French hip-hop artist Kaaris co-stars as a men...</td>\n",
              "      <td>Thriller</td>\n",
              "      <td>Gritty</td>\n",
              "      <td>Sami Bouajila;Guillaume Gouix;Youssef Hajdi;Re...</td>\n",
              "      <td>Julien Leclercq</td>\n",
              "      <td>Unknown</td>\n",
              "      <td>...</td>\n",
              "      <td>81175433;81079723;81446739;81721676;81115400;7...</td>\n",
              "      <td>France</td>\n",
              "      <td>1</td>\n",
              "      <td>1970</td>\n",
              "      <td>1</td>\n",
              "      <td>3</td>\n",
              "      <td>0</td>\n",
              "      <td>0</td>\n",
              "      <td>1</td>\n",
              "      <td>0</td>\n",
              "    </tr>\n",
              "    <tr>\n",
              "      <th>81031181</th>\n",
              "      <td>Goyo: The Boy General</td>\n",
              "      <td>A</td>\n",
              "      <td>2.4833</td>\n",
              "      <td>Brash ladies' man Gregorio \"Goyo\" del Pilar ri...</td>\n",
              "      <td>Unknown</td>\n",
              "      <td>Drama</td>\n",
              "      <td>Unknown</td>\n",
              "      <td>Paulo Avelino;Carlo Aquino;Arron Villaflor;Mon...</td>\n",
              "      <td>Jerrold Tarog</td>\n",
              "      <td>Unknown</td>\n",
              "      <td>...</td>\n",
              "      <td>81726434;80141777;80218962;81687835;81268316;8...</td>\n",
              "      <td>Philippines</td>\n",
              "      <td>1</td>\n",
              "      <td>1970</td>\n",
              "      <td>1</td>\n",
              "      <td>3</td>\n",
              "      <td>0</td>\n",
              "      <td>0</td>\n",
              "      <td>1</td>\n",
              "      <td>0</td>\n",
              "    </tr>\n",
              "    <tr>\n",
              "      <th>81023623</th>\n",
              "      <td>Close Enemies</td>\n",
              "      <td>A</td>\n",
              "      <td>1.8333</td>\n",
              "      <td>After an ambush leaves his partner dead, drug ...</td>\n",
              "      <td>Nominated for a Golden Lion at the Venice Film...</td>\n",
              "      <td>Drama</td>\n",
              "      <td>Gritty</td>\n",
              "      <td>Matthias Schoenaerts;Reda Kateb;Adel Bencherif...</td>\n",
              "      <td>David Oelhoffen</td>\n",
              "      <td>Unknown</td>\n",
              "      <td>...</td>\n",
              "      <td>81115400;81483371;81102814;81312798;81218770;8...</td>\n",
              "      <td>France</td>\n",
              "      <td>1</td>\n",
              "      <td>1970</td>\n",
              "      <td>1</td>\n",
              "      <td>3</td>\n",
              "      <td>0</td>\n",
              "      <td>0</td>\n",
              "      <td>1</td>\n",
              "      <td>0</td>\n",
              "    </tr>\n",
              "  </tbody>\n",
              "</table>\n",
              "<p>4 rows × 22 columns</p>\n",
              "</div>\n",
              "    <div class=\"colab-df-buttons\">\n",
              "\n",
              "  <div class=\"colab-df-container\">\n",
              "    <button class=\"colab-df-convert\" onclick=\"convertToInteractive('df-e465a7e6-854b-4318-bbf0-ccf299c6174f')\"\n",
              "            title=\"Convert this dataframe to an interactive table.\"\n",
              "            style=\"display:none;\">\n",
              "\n",
              "  <svg xmlns=\"http://www.w3.org/2000/svg\" height=\"24px\" viewBox=\"0 -960 960 960\">\n",
              "    <path d=\"M120-120v-720h720v720H120Zm60-500h600v-160H180v160Zm220 220h160v-160H400v160Zm0 220h160v-160H400v160ZM180-400h160v-160H180v160Zm440 0h160v-160H620v160ZM180-180h160v-160H180v160Zm440 0h160v-160H620v160Z\"/>\n",
              "  </svg>\n",
              "    </button>\n",
              "\n",
              "  <style>\n",
              "    .colab-df-container {\n",
              "      display:flex;\n",
              "      gap: 12px;\n",
              "    }\n",
              "\n",
              "    .colab-df-convert {\n",
              "      background-color: #E8F0FE;\n",
              "      border: none;\n",
              "      border-radius: 50%;\n",
              "      cursor: pointer;\n",
              "      display: none;\n",
              "      fill: #1967D2;\n",
              "      height: 32px;\n",
              "      padding: 0 0 0 0;\n",
              "      width: 32px;\n",
              "    }\n",
              "\n",
              "    .colab-df-convert:hover {\n",
              "      background-color: #E2EBFA;\n",
              "      box-shadow: 0px 1px 2px rgba(60, 64, 67, 0.3), 0px 1px 3px 1px rgba(60, 64, 67, 0.15);\n",
              "      fill: #174EA6;\n",
              "    }\n",
              "\n",
              "    .colab-df-buttons div {\n",
              "      margin-bottom: 4px;\n",
              "    }\n",
              "\n",
              "    [theme=dark] .colab-df-convert {\n",
              "      background-color: #3B4455;\n",
              "      fill: #D2E3FC;\n",
              "    }\n",
              "\n",
              "    [theme=dark] .colab-df-convert:hover {\n",
              "      background-color: #434B5C;\n",
              "      box-shadow: 0px 1px 3px 1px rgba(0, 0, 0, 0.15);\n",
              "      filter: drop-shadow(0px 1px 2px rgba(0, 0, 0, 0.3));\n",
              "      fill: #FFFFFF;\n",
              "    }\n",
              "  </style>\n",
              "\n",
              "    <script>\n",
              "      const buttonEl =\n",
              "        document.querySelector('#df-e465a7e6-854b-4318-bbf0-ccf299c6174f button.colab-df-convert');\n",
              "      buttonEl.style.display =\n",
              "        google.colab.kernel.accessAllowed ? 'block' : 'none';\n",
              "\n",
              "      async function convertToInteractive(key) {\n",
              "        const element = document.querySelector('#df-e465a7e6-854b-4318-bbf0-ccf299c6174f');\n",
              "        const dataTable =\n",
              "          await google.colab.kernel.invokeFunction('convertToInteractive',\n",
              "                                                    [key], {});\n",
              "        if (!dataTable) return;\n",
              "\n",
              "        const docLinkHtml = 'Like what you see? Visit the ' +\n",
              "          '<a target=\"_blank\" href=https://colab.research.google.com/notebooks/data_table.ipynb>data table notebook</a>'\n",
              "          + ' to learn more about interactive tables.';\n",
              "        element.innerHTML = '';\n",
              "        dataTable['output_type'] = 'display_data';\n",
              "        await google.colab.output.renderOutput(dataTable, element);\n",
              "        const docLink = document.createElement('div');\n",
              "        docLink.innerHTML = docLinkHtml;\n",
              "        element.appendChild(docLink);\n",
              "      }\n",
              "    </script>\n",
              "  </div>\n",
              "\n",
              "\n",
              "<div id=\"df-77aacf6a-0e75-4e5d-9707-8f65a05a69b7\">\n",
              "  <button class=\"colab-df-quickchart\" onclick=\"quickchart('df-77aacf6a-0e75-4e5d-9707-8f65a05a69b7')\"\n",
              "            title=\"Suggest charts\"\n",
              "            style=\"display:none;\">\n",
              "\n",
              "<svg xmlns=\"http://www.w3.org/2000/svg\" height=\"24px\"viewBox=\"0 0 24 24\"\n",
              "     width=\"24px\">\n",
              "    <g>\n",
              "        <path d=\"M19 3H5c-1.1 0-2 .9-2 2v14c0 1.1.9 2 2 2h14c1.1 0 2-.9 2-2V5c0-1.1-.9-2-2-2zM9 17H7v-7h2v7zm4 0h-2V7h2v10zm4 0h-2v-4h2v4z\"/>\n",
              "    </g>\n",
              "</svg>\n",
              "  </button>\n",
              "\n",
              "<style>\n",
              "  .colab-df-quickchart {\n",
              "      --bg-color: #E8F0FE;\n",
              "      --fill-color: #1967D2;\n",
              "      --hover-bg-color: #E2EBFA;\n",
              "      --hover-fill-color: #174EA6;\n",
              "      --disabled-fill-color: #AAA;\n",
              "      --disabled-bg-color: #DDD;\n",
              "  }\n",
              "\n",
              "  [theme=dark] .colab-df-quickchart {\n",
              "      --bg-color: #3B4455;\n",
              "      --fill-color: #D2E3FC;\n",
              "      --hover-bg-color: #434B5C;\n",
              "      --hover-fill-color: #FFFFFF;\n",
              "      --disabled-bg-color: #3B4455;\n",
              "      --disabled-fill-color: #666;\n",
              "  }\n",
              "\n",
              "  .colab-df-quickchart {\n",
              "    background-color: var(--bg-color);\n",
              "    border: none;\n",
              "    border-radius: 50%;\n",
              "    cursor: pointer;\n",
              "    display: none;\n",
              "    fill: var(--fill-color);\n",
              "    height: 32px;\n",
              "    padding: 0;\n",
              "    width: 32px;\n",
              "  }\n",
              "\n",
              "  .colab-df-quickchart:hover {\n",
              "    background-color: var(--hover-bg-color);\n",
              "    box-shadow: 0 1px 2px rgba(60, 64, 67, 0.3), 0 1px 3px 1px rgba(60, 64, 67, 0.15);\n",
              "    fill: var(--button-hover-fill-color);\n",
              "  }\n",
              "\n",
              "  .colab-df-quickchart-complete:disabled,\n",
              "  .colab-df-quickchart-complete:disabled:hover {\n",
              "    background-color: var(--disabled-bg-color);\n",
              "    fill: var(--disabled-fill-color);\n",
              "    box-shadow: none;\n",
              "  }\n",
              "\n",
              "  .colab-df-spinner {\n",
              "    border: 2px solid var(--fill-color);\n",
              "    border-color: transparent;\n",
              "    border-bottom-color: var(--fill-color);\n",
              "    animation:\n",
              "      spin 1s steps(1) infinite;\n",
              "  }\n",
              "\n",
              "  @keyframes spin {\n",
              "    0% {\n",
              "      border-color: transparent;\n",
              "      border-bottom-color: var(--fill-color);\n",
              "      border-left-color: var(--fill-color);\n",
              "    }\n",
              "    20% {\n",
              "      border-color: transparent;\n",
              "      border-left-color: var(--fill-color);\n",
              "      border-top-color: var(--fill-color);\n",
              "    }\n",
              "    30% {\n",
              "      border-color: transparent;\n",
              "      border-left-color: var(--fill-color);\n",
              "      border-top-color: var(--fill-color);\n",
              "      border-right-color: var(--fill-color);\n",
              "    }\n",
              "    40% {\n",
              "      border-color: transparent;\n",
              "      border-right-color: var(--fill-color);\n",
              "      border-top-color: var(--fill-color);\n",
              "    }\n",
              "    60% {\n",
              "      border-color: transparent;\n",
              "      border-right-color: var(--fill-color);\n",
              "    }\n",
              "    80% {\n",
              "      border-color: transparent;\n",
              "      border-right-color: var(--fill-color);\n",
              "      border-bottom-color: var(--fill-color);\n",
              "    }\n",
              "    90% {\n",
              "      border-color: transparent;\n",
              "      border-bottom-color: var(--fill-color);\n",
              "    }\n",
              "  }\n",
              "</style>\n",
              "\n",
              "  <script>\n",
              "    async function quickchart(key) {\n",
              "      const quickchartButtonEl =\n",
              "        document.querySelector('#' + key + ' button');\n",
              "      quickchartButtonEl.disabled = true;  // To prevent multiple clicks.\n",
              "      quickchartButtonEl.classList.add('colab-df-spinner');\n",
              "      try {\n",
              "        const charts = await google.colab.kernel.invokeFunction(\n",
              "            'suggestCharts', [key], {});\n",
              "      } catch (error) {\n",
              "        console.error('Error during call to suggestCharts:', error);\n",
              "      }\n",
              "      quickchartButtonEl.classList.remove('colab-df-spinner');\n",
              "      quickchartButtonEl.classList.add('colab-df-quickchart-complete');\n",
              "    }\n",
              "    (() => {\n",
              "      let quickchartButtonEl =\n",
              "        document.querySelector('#df-77aacf6a-0e75-4e5d-9707-8f65a05a69b7 button');\n",
              "      quickchartButtonEl.style.display =\n",
              "        google.colab.kernel.accessAllowed ? 'block' : 'none';\n",
              "    })();\n",
              "  </script>\n",
              "</div>\n",
              "    </div>\n",
              "  </div>\n"
            ],
            "application/vnd.google.colaboratory.intrinsic+json": {
              "type": "dataframe"
            }
          },
          "metadata": {},
          "execution_count": 15
        }
      ]
    },
    {
      "cell_type": "code",
      "source": [
        "## droping the 1970 movies as all the other movies are from 2015 to present\n",
        "df.drop(df[df['year']==1970].index, axis=0,inplace=True)"
      ],
      "metadata": {
        "id": "nOy1RAG8JZ2y"
      },
      "execution_count": 16,
      "outputs": []
    },
    {
      "cell_type": "code",
      "source": [
        "df.genre.value_counts()"
      ],
      "metadata": {
        "id": "ToKNxL2yKntj",
        "colab": {
          "base_uri": "https://localhost:8080/"
        },
        "outputId": "618d8841-a0f7-47aa-e38d-9322d48415ac"
      },
      "execution_count": 17,
      "outputs": [
        {
          "output_type": "execute_result",
          "data": {
            "text/plain": [
              "Drama               1737\n",
              "Comedy              1357\n",
              "Documentary          791\n",
              "Kids                 642\n",
              "Action               466\n",
              "Thriller             356\n",
              "Romance              355\n",
              "Anime                287\n",
              "Reality TV           259\n",
              "Horror               223\n",
              "Sci-Fi                85\n",
              "Fantasy               65\n",
              "Music                 26\n",
              "Special Interest      10\n",
              "Talk Show             10\n",
              "Variety TV             9\n",
              "Musical                7\n",
              "Sports                 4\n",
              "Western                4\n",
              "Friendship             1\n",
              "Name: genre, dtype: int64"
            ]
          },
          "metadata": {},
          "execution_count": 17
        }
      ]
    },
    {
      "cell_type": "code",
      "source": [
        "# Fit and transform the 'genre' column\n",
        "df[\"genre_encoded\"] = label_encoder.fit_transform(df[\"genre\"])"
      ],
      "metadata": {
        "id": "KukTCwvMm1W7"
      },
      "execution_count": 18,
      "outputs": []
    },
    {
      "cell_type": "code",
      "source": [
        "df.production_country.value_counts()"
      ],
      "metadata": {
        "id": "lqmbgJ-CK4IE",
        "colab": {
          "base_uri": "https://localhost:8080/"
        },
        "outputId": "92ea48d6-5354-4219-9224-46f6530d0150"
      },
      "execution_count": 19,
      "outputs": [
        {
          "output_type": "execute_result",
          "data": {
            "text/plain": [
              "United States           1898\n",
              "India                    866\n",
              "Unknown                  554\n",
              "Japan                    477\n",
              "South Korea              402\n",
              "United Kingdom           265\n",
              "Spain                    203\n",
              "Mexico                   148\n",
              "Africa                   146\n",
              "France                   125\n",
              "China                    122\n",
              "Canada                   111\n",
              "Brazil                   101\n",
              "Germany                   86\n",
              "Indonesia                 83\n",
              "Turkey                    78\n",
              "Italy                     76\n",
              "South Africa              76\n",
              "Taiwan                    74\n",
              "Poland                    69\n",
              "Egypt                     68\n",
              "Australia                 67\n",
              "Thailand                  64\n",
              "Philippines               59\n",
              "Colombia                  47\n",
              "Argentina                 44\n",
              "Scandinavia               37\n",
              "Malaysia                  34\n",
              "Singapore                 27\n",
              "Middle East               25\n",
              "Saudi Arabia              24\n",
              "Norway                    23\n",
              "Netherlands               22\n",
              "Vietnam                   21\n",
              "Lebanon                   19\n",
              "Nigeria                   17\n",
              "Swaden                    16\n",
              "Belgium                   16\n",
              "United Arab Emirates      15\n",
              "Russia                    11\n",
              "Kuwait                    11\n",
              "Chile                      9\n",
              "Denmark                    8\n",
              "Peru                       7\n",
              "Israel                     7\n",
              "Ireland                    6\n",
              "Syria                      5\n",
              "Romania                    4\n",
              "Austria                    4\n",
              "New Zealand                3\n",
              "Portugal                   3\n",
              "Ukraine                    3\n",
              "Switzerland                2\n",
              "Greece                     2\n",
              "Afganistan                 1\n",
              "Nepal                      1\n",
              "Finland                    1\n",
              "Czech Republic             1\n",
              "Name: production_country, dtype: int64"
            ]
          },
          "metadata": {},
          "execution_count": 19
        }
      ]
    },
    {
      "cell_type": "code",
      "source": [
        "# Split tags with multiple values\n",
        "tags_split = [tag.split(';') for tag in df['mood_tag'].values]\n",
        "\n",
        "# Use MultiLabelBinarizer for one-hot encoding\n",
        "mlb = MultiLabelBinarizer()\n",
        "encoded_tags = pd.DataFrame(mlb.fit_transform(tags_split), columns=mlb.classes_)"
      ],
      "metadata": {
        "id": "TBe9TJcXseAA"
      },
      "execution_count": 20,
      "outputs": []
    },
    {
      "cell_type": "code",
      "source": [
        "encoded_tags.columns"
      ],
      "metadata": {
        "id": "ElzBcDTxtuyf",
        "colab": {
          "base_uri": "https://localhost:8080/"
        },
        "outputId": "fc1ee3d5-f5c4-46ab-8028-14123b6a0c96"
      },
      "execution_count": 21,
      "outputs": [
        {
          "output_type": "execute_result",
          "data": {
            "text/plain": [
              "Index(['Absurd', 'Adrenaline Rush', 'Bittersweet', 'Campy', 'Cerebral',\n",
              "       'Charming', 'Chilling', 'Controversial', 'Dark', 'Deadpan', 'Emotional',\n",
              "       'Exciting', 'Feel-Good', 'Goofy', 'Gritty', 'Heartfelt', 'Inspiring',\n",
              "       'Intimate', 'Investigative', 'Mind-Bending', 'Nostalgic', 'Offbeat',\n",
              "       'Ominous', 'Provocative', 'Psychological', 'Quirky', 'Raunchy',\n",
              "       'Relaxing', 'Romantic', 'Scandalous', 'Scary', 'Sentimental', 'Steamy',\n",
              "       'Suspenseful', 'Swoonworthy', 'Understated', 'Unknown', 'Violent',\n",
              "       'Witty'],\n",
              "      dtype='object')"
            ]
          },
          "metadata": {},
          "execution_count": 21
        }
      ]
    },
    {
      "cell_type": "code",
      "source": [
        "#dropping unknown tags column\n",
        "encoded_tags.drop('Unknown',axis=1,inplace=True)"
      ],
      "metadata": {
        "id": "ZRsrvyuuvUZb"
      },
      "execution_count": 22,
      "outputs": []
    },
    {
      "cell_type": "code",
      "source": [
        "encoded_tags['showid'] = df.index"
      ],
      "metadata": {
        "id": "5hO8AurNELg_"
      },
      "execution_count": 23,
      "outputs": []
    },
    {
      "cell_type": "code",
      "source": [
        "tags_final = encoded_tags.set_index('showid')"
      ],
      "metadata": {
        "id": "jjUcnBD3E-4x"
      },
      "execution_count": 24,
      "outputs": []
    },
    {
      "cell_type": "code",
      "source": [
        "df.director.value_counts()"
      ],
      "metadata": {
        "id": "eUCo8QqlvrUM",
        "colab": {
          "base_uri": "https://localhost:8080/"
        },
        "outputId": "874b866e-55d7-4c0b-f425-8560e050bec8"
      },
      "execution_count": 25,
      "outputs": [
        {
          "output_type": "execute_result",
          "data": {
            "text/plain": [
              "Unknown                  2438\n",
              "Raúl Campos;Jan Suter      17\n",
              "Suhas Kadav                17\n",
              "Rajiv Chilaka              16\n",
              "Marcus Raboy               15\n",
              "                         ... \n",
              "Choi Jin-seong              1\n",
              "Ridha Behi                  1\n",
              "Assad Fouladkar             1\n",
              "Ismail Farouk               1\n",
              "Rhys Thomas                 1\n",
              "Name: director, Length: 3094, dtype: int64"
            ]
          },
          "metadata": {},
          "execution_count": 25
        }
      ]
    },
    {
      "cell_type": "code",
      "source": [
        "# Split tags with multiple values\n",
        "directors_split = [tag.split(';') for tag in df['director'].values]\n",
        "\n",
        "# Use MultiLabelBinarizer for one-hot encoding\n",
        "encoded_directors = pd.DataFrame(mlb.fit_transform(directors_split), columns=mlb.classes_)"
      ],
      "metadata": {
        "id": "cXduki9CwB1v"
      },
      "execution_count": 26,
      "outputs": []
    },
    {
      "cell_type": "code",
      "source": [
        "column_sums = encoded_directors.sum(axis=0)\n",
        "\n",
        "# Print the column sums\n",
        "greater_than_10_columns = column_sums[column_sums >=10].index"
      ],
      "metadata": {
        "id": "lFycjRRizmpv"
      },
      "execution_count": 27,
      "outputs": []
    },
    {
      "cell_type": "code",
      "source": [
        "selected_directors = encoded_directors[greater_than_10_columns]\n",
        "#dropping unknown directors column\n",
        "selected_directors.drop('Unknown',axis=1,inplace=True)"
      ],
      "metadata": {
        "id": "vRrXKzSEwMrC"
      },
      "execution_count": 28,
      "outputs": []
    },
    {
      "cell_type": "code",
      "source": [
        "selected_directors['showid'] = df.index"
      ],
      "metadata": {
        "id": "FI5VMRCrGvMg"
      },
      "execution_count": 29,
      "outputs": []
    },
    {
      "cell_type": "code",
      "source": [
        "directors_final = selected_directors.set_index('showid')"
      ],
      "metadata": {
        "id": "sKHTtPkpGzTn"
      },
      "execution_count": 30,
      "outputs": []
    },
    {
      "cell_type": "code",
      "source": [
        "# Extract numerical part from 'duration' column\n",
        "df['duration'] = df['duration'].str.extract('(\\d+\\.?\\d*)').astype(float)"
      ],
      "metadata": {
        "id": "5F2sttPg5YgB"
      },
      "execution_count": 31,
      "outputs": []
    },
    {
      "cell_type": "code",
      "source": [
        "selected_columns = ['description','month','year','day', 'day_of_week','weekend','rating_encoded','genre_encoded', 'duration' ]\n",
        "\n",
        "# Create a new DataFrame with only the selected columns\n",
        "df_trans = df[selected_columns].copy()"
      ],
      "metadata": {
        "id": "c6xWeQlV5bxD"
      },
      "execution_count": 32,
      "outputs": []
    },
    {
      "cell_type": "code",
      "source": [
        "df_trans_new = pd.merge(df_trans, tags_final, left_index=True, right_index=True)\n",
        "df_trans_new = pd.merge(df_trans_new, directors_final, left_index=True, right_index=True)"
      ],
      "metadata": {
        "id": "rM6mpQJS9vy2"
      },
      "execution_count": 33,
      "outputs": []
    },
    {
      "cell_type": "code",
      "source": [
        "df_trans_new.head()"
      ],
      "metadata": {
        "id": "B-ffZk_GD27a",
        "colab": {
          "base_uri": "https://localhost:8080/",
          "height": 458
        },
        "outputId": "622b8147-5691-46b0-a0c4-cfdab0ce3eb9"
      },
      "execution_count": 34,
      "outputs": [
        {
          "output_type": "execute_result",
          "data": {
            "text/plain": [
              "                                                description  month  year  day  \\\n",
              "showid                                                                          \n",
              "81607354  When one accidental killing leads to another, ...      2  2024    9   \n",
              "81616617  From an intoxicating fantasy to a dangerous af...      2  2024    9   \n",
              "81732726  A struggling local journalist begins a dogged ...      2  2024    9   \n",
              "81611991  In this twisting documentary, a mechanic tries...      2  2024    9   \n",
              "70305903  With humanity teetering on the brink of extinc...      2  2024    9   \n",
              "\n",
              "          day_of_week  weekend  rating_encoded  genre_encoded  duration  \\\n",
              "showid                                                                    \n",
              "81607354            4        0               0             17    1.0000   \n",
              "81616617            4        0               0              4    1.6667   \n",
              "81732726            4        0               0              4    2.2500   \n",
              "81611991            4        0               3              3    1.5000   \n",
              "70305903            4        0               2             13    2.8167   \n",
              "\n",
              "          Absurd  ...  Anurag Kashyap  Hayao Miyazaki  Jan Suter  Jay Karas  \\\n",
              "showid            ...                                                         \n",
              "81607354       0  ...               0               0          0          0   \n",
              "81616617       0  ...               0               0          0          0   \n",
              "81732726       0  ...               0               0          0          0   \n",
              "81611991       0  ...               0               0          0          0   \n",
              "70305903       0  ...               0               0          0          0   \n",
              "\n",
              "          Kunle Afolayan  Marcus Raboy  Rajiv Chilaka  Raúl Campos  \\\n",
              "showid                                                               \n",
              "81607354               0             0              0            0   \n",
              "81616617               0             0              0            0   \n",
              "81732726               0             0              0            0   \n",
              "81611991               0             0              0            0   \n",
              "70305903               0             0              0            0   \n",
              "\n",
              "          Ryan Polito  Suhas Kadav  \n",
              "showid                              \n",
              "81607354            0            0  \n",
              "81616617            0            0  \n",
              "81732726            0            0  \n",
              "81611991            0            0  \n",
              "70305903            0            0  \n",
              "\n",
              "[5 rows x 57 columns]"
            ],
            "text/html": [
              "\n",
              "  <div id=\"df-5a49c908-1056-4cf1-8bd9-0927818c341e\" class=\"colab-df-container\">\n",
              "    <div>\n",
              "<style scoped>\n",
              "    .dataframe tbody tr th:only-of-type {\n",
              "        vertical-align: middle;\n",
              "    }\n",
              "\n",
              "    .dataframe tbody tr th {\n",
              "        vertical-align: top;\n",
              "    }\n",
              "\n",
              "    .dataframe thead th {\n",
              "        text-align: right;\n",
              "    }\n",
              "</style>\n",
              "<table border=\"1\" class=\"dataframe\">\n",
              "  <thead>\n",
              "    <tr style=\"text-align: right;\">\n",
              "      <th></th>\n",
              "      <th>description</th>\n",
              "      <th>month</th>\n",
              "      <th>year</th>\n",
              "      <th>day</th>\n",
              "      <th>day_of_week</th>\n",
              "      <th>weekend</th>\n",
              "      <th>rating_encoded</th>\n",
              "      <th>genre_encoded</th>\n",
              "      <th>duration</th>\n",
              "      <th>Absurd</th>\n",
              "      <th>...</th>\n",
              "      <th>Anurag Kashyap</th>\n",
              "      <th>Hayao Miyazaki</th>\n",
              "      <th>Jan Suter</th>\n",
              "      <th>Jay Karas</th>\n",
              "      <th>Kunle Afolayan</th>\n",
              "      <th>Marcus Raboy</th>\n",
              "      <th>Rajiv Chilaka</th>\n",
              "      <th>Raúl Campos</th>\n",
              "      <th>Ryan Polito</th>\n",
              "      <th>Suhas Kadav</th>\n",
              "    </tr>\n",
              "    <tr>\n",
              "      <th>showid</th>\n",
              "      <th></th>\n",
              "      <th></th>\n",
              "      <th></th>\n",
              "      <th></th>\n",
              "      <th></th>\n",
              "      <th></th>\n",
              "      <th></th>\n",
              "      <th></th>\n",
              "      <th></th>\n",
              "      <th></th>\n",
              "      <th></th>\n",
              "      <th></th>\n",
              "      <th></th>\n",
              "      <th></th>\n",
              "      <th></th>\n",
              "      <th></th>\n",
              "      <th></th>\n",
              "      <th></th>\n",
              "      <th></th>\n",
              "      <th></th>\n",
              "      <th></th>\n",
              "    </tr>\n",
              "  </thead>\n",
              "  <tbody>\n",
              "    <tr>\n",
              "      <th>81607354</th>\n",
              "      <td>When one accidental killing leads to another, ...</td>\n",
              "      <td>2</td>\n",
              "      <td>2024</td>\n",
              "      <td>9</td>\n",
              "      <td>4</td>\n",
              "      <td>0</td>\n",
              "      <td>0</td>\n",
              "      <td>17</td>\n",
              "      <td>1.0000</td>\n",
              "      <td>0</td>\n",
              "      <td>...</td>\n",
              "      <td>0</td>\n",
              "      <td>0</td>\n",
              "      <td>0</td>\n",
              "      <td>0</td>\n",
              "      <td>0</td>\n",
              "      <td>0</td>\n",
              "      <td>0</td>\n",
              "      <td>0</td>\n",
              "      <td>0</td>\n",
              "      <td>0</td>\n",
              "    </tr>\n",
              "    <tr>\n",
              "      <th>81616617</th>\n",
              "      <td>From an intoxicating fantasy to a dangerous af...</td>\n",
              "      <td>2</td>\n",
              "      <td>2024</td>\n",
              "      <td>9</td>\n",
              "      <td>4</td>\n",
              "      <td>0</td>\n",
              "      <td>0</td>\n",
              "      <td>4</td>\n",
              "      <td>1.6667</td>\n",
              "      <td>0</td>\n",
              "      <td>...</td>\n",
              "      <td>0</td>\n",
              "      <td>0</td>\n",
              "      <td>0</td>\n",
              "      <td>0</td>\n",
              "      <td>0</td>\n",
              "      <td>0</td>\n",
              "      <td>0</td>\n",
              "      <td>0</td>\n",
              "      <td>0</td>\n",
              "      <td>0</td>\n",
              "    </tr>\n",
              "    <tr>\n",
              "      <th>81732726</th>\n",
              "      <td>A struggling local journalist begins a dogged ...</td>\n",
              "      <td>2</td>\n",
              "      <td>2024</td>\n",
              "      <td>9</td>\n",
              "      <td>4</td>\n",
              "      <td>0</td>\n",
              "      <td>0</td>\n",
              "      <td>4</td>\n",
              "      <td>2.2500</td>\n",
              "      <td>0</td>\n",
              "      <td>...</td>\n",
              "      <td>0</td>\n",
              "      <td>0</td>\n",
              "      <td>0</td>\n",
              "      <td>0</td>\n",
              "      <td>0</td>\n",
              "      <td>0</td>\n",
              "      <td>0</td>\n",
              "      <td>0</td>\n",
              "      <td>0</td>\n",
              "      <td>0</td>\n",
              "    </tr>\n",
              "    <tr>\n",
              "      <th>81611991</th>\n",
              "      <td>In this twisting documentary, a mechanic tries...</td>\n",
              "      <td>2</td>\n",
              "      <td>2024</td>\n",
              "      <td>9</td>\n",
              "      <td>4</td>\n",
              "      <td>0</td>\n",
              "      <td>3</td>\n",
              "      <td>3</td>\n",
              "      <td>1.5000</td>\n",
              "      <td>0</td>\n",
              "      <td>...</td>\n",
              "      <td>0</td>\n",
              "      <td>0</td>\n",
              "      <td>0</td>\n",
              "      <td>0</td>\n",
              "      <td>0</td>\n",
              "      <td>0</td>\n",
              "      <td>0</td>\n",
              "      <td>0</td>\n",
              "      <td>0</td>\n",
              "      <td>0</td>\n",
              "    </tr>\n",
              "    <tr>\n",
              "      <th>70305903</th>\n",
              "      <td>With humanity teetering on the brink of extinc...</td>\n",
              "      <td>2</td>\n",
              "      <td>2024</td>\n",
              "      <td>9</td>\n",
              "      <td>4</td>\n",
              "      <td>0</td>\n",
              "      <td>2</td>\n",
              "      <td>13</td>\n",
              "      <td>2.8167</td>\n",
              "      <td>0</td>\n",
              "      <td>...</td>\n",
              "      <td>0</td>\n",
              "      <td>0</td>\n",
              "      <td>0</td>\n",
              "      <td>0</td>\n",
              "      <td>0</td>\n",
              "      <td>0</td>\n",
              "      <td>0</td>\n",
              "      <td>0</td>\n",
              "      <td>0</td>\n",
              "      <td>0</td>\n",
              "    </tr>\n",
              "  </tbody>\n",
              "</table>\n",
              "<p>5 rows × 57 columns</p>\n",
              "</div>\n",
              "    <div class=\"colab-df-buttons\">\n",
              "\n",
              "  <div class=\"colab-df-container\">\n",
              "    <button class=\"colab-df-convert\" onclick=\"convertToInteractive('df-5a49c908-1056-4cf1-8bd9-0927818c341e')\"\n",
              "            title=\"Convert this dataframe to an interactive table.\"\n",
              "            style=\"display:none;\">\n",
              "\n",
              "  <svg xmlns=\"http://www.w3.org/2000/svg\" height=\"24px\" viewBox=\"0 -960 960 960\">\n",
              "    <path d=\"M120-120v-720h720v720H120Zm60-500h600v-160H180v160Zm220 220h160v-160H400v160Zm0 220h160v-160H400v160ZM180-400h160v-160H180v160Zm440 0h160v-160H620v160ZM180-180h160v-160H180v160Zm440 0h160v-160H620v160Z\"/>\n",
              "  </svg>\n",
              "    </button>\n",
              "\n",
              "  <style>\n",
              "    .colab-df-container {\n",
              "      display:flex;\n",
              "      gap: 12px;\n",
              "    }\n",
              "\n",
              "    .colab-df-convert {\n",
              "      background-color: #E8F0FE;\n",
              "      border: none;\n",
              "      border-radius: 50%;\n",
              "      cursor: pointer;\n",
              "      display: none;\n",
              "      fill: #1967D2;\n",
              "      height: 32px;\n",
              "      padding: 0 0 0 0;\n",
              "      width: 32px;\n",
              "    }\n",
              "\n",
              "    .colab-df-convert:hover {\n",
              "      background-color: #E2EBFA;\n",
              "      box-shadow: 0px 1px 2px rgba(60, 64, 67, 0.3), 0px 1px 3px 1px rgba(60, 64, 67, 0.15);\n",
              "      fill: #174EA6;\n",
              "    }\n",
              "\n",
              "    .colab-df-buttons div {\n",
              "      margin-bottom: 4px;\n",
              "    }\n",
              "\n",
              "    [theme=dark] .colab-df-convert {\n",
              "      background-color: #3B4455;\n",
              "      fill: #D2E3FC;\n",
              "    }\n",
              "\n",
              "    [theme=dark] .colab-df-convert:hover {\n",
              "      background-color: #434B5C;\n",
              "      box-shadow: 0px 1px 3px 1px rgba(0, 0, 0, 0.15);\n",
              "      filter: drop-shadow(0px 1px 2px rgba(0, 0, 0, 0.3));\n",
              "      fill: #FFFFFF;\n",
              "    }\n",
              "  </style>\n",
              "\n",
              "    <script>\n",
              "      const buttonEl =\n",
              "        document.querySelector('#df-5a49c908-1056-4cf1-8bd9-0927818c341e button.colab-df-convert');\n",
              "      buttonEl.style.display =\n",
              "        google.colab.kernel.accessAllowed ? 'block' : 'none';\n",
              "\n",
              "      async function convertToInteractive(key) {\n",
              "        const element = document.querySelector('#df-5a49c908-1056-4cf1-8bd9-0927818c341e');\n",
              "        const dataTable =\n",
              "          await google.colab.kernel.invokeFunction('convertToInteractive',\n",
              "                                                    [key], {});\n",
              "        if (!dataTable) return;\n",
              "\n",
              "        const docLinkHtml = 'Like what you see? Visit the ' +\n",
              "          '<a target=\"_blank\" href=https://colab.research.google.com/notebooks/data_table.ipynb>data table notebook</a>'\n",
              "          + ' to learn more about interactive tables.';\n",
              "        element.innerHTML = '';\n",
              "        dataTable['output_type'] = 'display_data';\n",
              "        await google.colab.output.renderOutput(dataTable, element);\n",
              "        const docLink = document.createElement('div');\n",
              "        docLink.innerHTML = docLinkHtml;\n",
              "        element.appendChild(docLink);\n",
              "      }\n",
              "    </script>\n",
              "  </div>\n",
              "\n",
              "\n",
              "<div id=\"df-545454c5-4218-4c95-9ab3-d0df762bd856\">\n",
              "  <button class=\"colab-df-quickchart\" onclick=\"quickchart('df-545454c5-4218-4c95-9ab3-d0df762bd856')\"\n",
              "            title=\"Suggest charts\"\n",
              "            style=\"display:none;\">\n",
              "\n",
              "<svg xmlns=\"http://www.w3.org/2000/svg\" height=\"24px\"viewBox=\"0 0 24 24\"\n",
              "     width=\"24px\">\n",
              "    <g>\n",
              "        <path d=\"M19 3H5c-1.1 0-2 .9-2 2v14c0 1.1.9 2 2 2h14c1.1 0 2-.9 2-2V5c0-1.1-.9-2-2-2zM9 17H7v-7h2v7zm4 0h-2V7h2v10zm4 0h-2v-4h2v4z\"/>\n",
              "    </g>\n",
              "</svg>\n",
              "  </button>\n",
              "\n",
              "<style>\n",
              "  .colab-df-quickchart {\n",
              "      --bg-color: #E8F0FE;\n",
              "      --fill-color: #1967D2;\n",
              "      --hover-bg-color: #E2EBFA;\n",
              "      --hover-fill-color: #174EA6;\n",
              "      --disabled-fill-color: #AAA;\n",
              "      --disabled-bg-color: #DDD;\n",
              "  }\n",
              "\n",
              "  [theme=dark] .colab-df-quickchart {\n",
              "      --bg-color: #3B4455;\n",
              "      --fill-color: #D2E3FC;\n",
              "      --hover-bg-color: #434B5C;\n",
              "      --hover-fill-color: #FFFFFF;\n",
              "      --disabled-bg-color: #3B4455;\n",
              "      --disabled-fill-color: #666;\n",
              "  }\n",
              "\n",
              "  .colab-df-quickchart {\n",
              "    background-color: var(--bg-color);\n",
              "    border: none;\n",
              "    border-radius: 50%;\n",
              "    cursor: pointer;\n",
              "    display: none;\n",
              "    fill: var(--fill-color);\n",
              "    height: 32px;\n",
              "    padding: 0;\n",
              "    width: 32px;\n",
              "  }\n",
              "\n",
              "  .colab-df-quickchart:hover {\n",
              "    background-color: var(--hover-bg-color);\n",
              "    box-shadow: 0 1px 2px rgba(60, 64, 67, 0.3), 0 1px 3px 1px rgba(60, 64, 67, 0.15);\n",
              "    fill: var(--button-hover-fill-color);\n",
              "  }\n",
              "\n",
              "  .colab-df-quickchart-complete:disabled,\n",
              "  .colab-df-quickchart-complete:disabled:hover {\n",
              "    background-color: var(--disabled-bg-color);\n",
              "    fill: var(--disabled-fill-color);\n",
              "    box-shadow: none;\n",
              "  }\n",
              "\n",
              "  .colab-df-spinner {\n",
              "    border: 2px solid var(--fill-color);\n",
              "    border-color: transparent;\n",
              "    border-bottom-color: var(--fill-color);\n",
              "    animation:\n",
              "      spin 1s steps(1) infinite;\n",
              "  }\n",
              "\n",
              "  @keyframes spin {\n",
              "    0% {\n",
              "      border-color: transparent;\n",
              "      border-bottom-color: var(--fill-color);\n",
              "      border-left-color: var(--fill-color);\n",
              "    }\n",
              "    20% {\n",
              "      border-color: transparent;\n",
              "      border-left-color: var(--fill-color);\n",
              "      border-top-color: var(--fill-color);\n",
              "    }\n",
              "    30% {\n",
              "      border-color: transparent;\n",
              "      border-left-color: var(--fill-color);\n",
              "      border-top-color: var(--fill-color);\n",
              "      border-right-color: var(--fill-color);\n",
              "    }\n",
              "    40% {\n",
              "      border-color: transparent;\n",
              "      border-right-color: var(--fill-color);\n",
              "      border-top-color: var(--fill-color);\n",
              "    }\n",
              "    60% {\n",
              "      border-color: transparent;\n",
              "      border-right-color: var(--fill-color);\n",
              "    }\n",
              "    80% {\n",
              "      border-color: transparent;\n",
              "      border-right-color: var(--fill-color);\n",
              "      border-bottom-color: var(--fill-color);\n",
              "    }\n",
              "    90% {\n",
              "      border-color: transparent;\n",
              "      border-bottom-color: var(--fill-color);\n",
              "    }\n",
              "  }\n",
              "</style>\n",
              "\n",
              "  <script>\n",
              "    async function quickchart(key) {\n",
              "      const quickchartButtonEl =\n",
              "        document.querySelector('#' + key + ' button');\n",
              "      quickchartButtonEl.disabled = true;  // To prevent multiple clicks.\n",
              "      quickchartButtonEl.classList.add('colab-df-spinner');\n",
              "      try {\n",
              "        const charts = await google.colab.kernel.invokeFunction(\n",
              "            'suggestCharts', [key], {});\n",
              "      } catch (error) {\n",
              "        console.error('Error during call to suggestCharts:', error);\n",
              "      }\n",
              "      quickchartButtonEl.classList.remove('colab-df-spinner');\n",
              "      quickchartButtonEl.classList.add('colab-df-quickchart-complete');\n",
              "    }\n",
              "    (() => {\n",
              "      let quickchartButtonEl =\n",
              "        document.querySelector('#df-545454c5-4218-4c95-9ab3-d0df762bd856 button');\n",
              "      quickchartButtonEl.style.display =\n",
              "        google.colab.kernel.accessAllowed ? 'block' : 'none';\n",
              "    })();\n",
              "  </script>\n",
              "</div>\n",
              "    </div>\n",
              "  </div>\n"
            ],
            "application/vnd.google.colaboratory.intrinsic+json": {
              "type": "dataframe",
              "variable_name": "df_trans_new"
            }
          },
          "metadata": {},
          "execution_count": 34
        }
      ]
    },
    {
      "cell_type": "code",
      "source": [
        "df_trans_new.info()"
      ],
      "metadata": {
        "id": "Ar2novmD2B99",
        "colab": {
          "base_uri": "https://localhost:8080/"
        },
        "outputId": "b563e246-8d86-4aea-e1c4-0060ed88634e"
      },
      "execution_count": 35,
      "outputs": [
        {
          "output_type": "stream",
          "name": "stdout",
          "text": [
            "<class 'pandas.core.frame.DataFrame'>\n",
            "Int64Index: 6694 entries, 81607354 to 80058424\n",
            "Data columns (total 57 columns):\n",
            " #   Column           Non-Null Count  Dtype  \n",
            "---  ------           --------------  -----  \n",
            " 0   description      6694 non-null   object \n",
            " 1   month            6694 non-null   int64  \n",
            " 2   year             6694 non-null   int64  \n",
            " 3   day              6694 non-null   int64  \n",
            " 4   day_of_week      6694 non-null   int64  \n",
            " 5   weekend          6694 non-null   int64  \n",
            " 6   rating_encoded   6694 non-null   int64  \n",
            " 7   genre_encoded    6694 non-null   int64  \n",
            " 8   duration         6694 non-null   float64\n",
            " 9   Absurd           6694 non-null   int64  \n",
            " 10  Adrenaline Rush  6694 non-null   int64  \n",
            " 11  Bittersweet      6694 non-null   int64  \n",
            " 12  Campy            6694 non-null   int64  \n",
            " 13  Cerebral         6694 non-null   int64  \n",
            " 14  Charming         6694 non-null   int64  \n",
            " 15  Chilling         6694 non-null   int64  \n",
            " 16  Controversial    6694 non-null   int64  \n",
            " 17  Dark             6694 non-null   int64  \n",
            " 18  Deadpan          6694 non-null   int64  \n",
            " 19  Emotional        6694 non-null   int64  \n",
            " 20  Exciting         6694 non-null   int64  \n",
            " 21  Feel-Good        6694 non-null   int64  \n",
            " 22  Goofy            6694 non-null   int64  \n",
            " 23  Gritty           6694 non-null   int64  \n",
            " 24  Heartfelt        6694 non-null   int64  \n",
            " 25  Inspiring        6694 non-null   int64  \n",
            " 26  Intimate         6694 non-null   int64  \n",
            " 27  Investigative    6694 non-null   int64  \n",
            " 28  Mind-Bending     6694 non-null   int64  \n",
            " 29  Nostalgic        6694 non-null   int64  \n",
            " 30  Offbeat          6694 non-null   int64  \n",
            " 31  Ominous          6694 non-null   int64  \n",
            " 32  Provocative      6694 non-null   int64  \n",
            " 33  Psychological    6694 non-null   int64  \n",
            " 34  Quirky           6694 non-null   int64  \n",
            " 35  Raunchy          6694 non-null   int64  \n",
            " 36  Relaxing         6694 non-null   int64  \n",
            " 37  Romantic         6694 non-null   int64  \n",
            " 38  Scandalous       6694 non-null   int64  \n",
            " 39  Scary            6694 non-null   int64  \n",
            " 40  Sentimental      6694 non-null   int64  \n",
            " 41  Steamy           6694 non-null   int64  \n",
            " 42  Suspenseful      6694 non-null   int64  \n",
            " 43  Swoonworthy      6694 non-null   int64  \n",
            " 44  Understated      6694 non-null   int64  \n",
            " 45  Violent          6694 non-null   int64  \n",
            " 46  Witty            6694 non-null   int64  \n",
            " 47  Anurag Kashyap   6694 non-null   int64  \n",
            " 48  Hayao Miyazaki   6694 non-null   int64  \n",
            " 49  Jan Suter        6694 non-null   int64  \n",
            " 50  Jay Karas        6694 non-null   int64  \n",
            " 51  Kunle Afolayan   6694 non-null   int64  \n",
            " 52  Marcus Raboy     6694 non-null   int64  \n",
            " 53  Rajiv Chilaka    6694 non-null   int64  \n",
            " 54  Raúl Campos      6694 non-null   int64  \n",
            " 55  Ryan Polito      6694 non-null   int64  \n",
            " 56  Suhas Kadav      6694 non-null   int64  \n",
            "dtypes: float64(1), int64(55), object(1)\n",
            "memory usage: 3.2+ MB\n"
          ]
        }
      ]
    },
    {
      "cell_type": "code",
      "source": [
        "#  standardize the data\n",
        "# Mean\n",
        "X_mean = df_trans_new.mean()\n",
        "\n",
        "# Standard deviation\n",
        "X_std = df_trans_new.std()\n",
        "\n",
        "# Standardization\n",
        "Z = (df_trans_new - X_mean) / X_std"
      ],
      "metadata": {
        "id": "Bgp5ZEsIA9n4"
      },
      "execution_count": 36,
      "outputs": []
    },
    {
      "cell_type": "code",
      "source": [
        "# covariance\n",
        "c = Z.cov()\n",
        "\n",
        "# Plot the covariance matrix\n",
        "import matplotlib.pyplot as plt\n",
        "import seaborn as sns\n",
        "sns.heatmap(c)\n",
        "plt.show()"
      ],
      "metadata": {
        "id": "S_qHVk-WBNza",
        "colab": {
          "base_uri": "https://localhost:8080/",
          "height": 578
        },
        "outputId": "7d415b6c-ede2-42b1-c32c-d398c15bcf0d"
      },
      "execution_count": 37,
      "outputs": [
        {
          "output_type": "display_data",
          "data": {
            "text/plain": [
              "<Figure size 800x550 with 2 Axes>"
            ],
            "image/png": "[encoded data removed]"
          },
          "metadata": {}
        }
      ]
    },
    {
      "cell_type": "markdown",
      "source": [
        "# Textual Data Preprocessing\n",
        "Considered the description column"
      ],
      "metadata": {
        "id": "2RVmPnxQf9mT"
      }
    },
    {
      "cell_type": "code",
      "source": [
        "df_text = df_trans_new.copy()"
      ],
      "metadata": {
        "id": "j7jhiu_mgTT4"
      },
      "execution_count": 38,
      "outputs": []
    },
    {
      "cell_type": "code",
      "source": [
        "## Creating new feature having length of words of description variable\n",
        "df_text['description_len'] = df_text['description'].apply(lambda x: len(x.split()))"
      ],
      "metadata": {
        "id": "Npa8EWLXfcMk"
      },
      "execution_count": 39,
      "outputs": []
    },
    {
      "cell_type": "code",
      "source": [
        "def contraction_process(corpus):\n",
        "    '''Function which expands contractions from the corpus\n",
        "    Args:\n",
        "    corpus (string): corpus to which function is to be applied\n",
        "    Returns:\n",
        "    corpus with expanded contractions\n",
        "    '''\n",
        "    corpus = contractions.fix(corpus)\n",
        "    return corpus\n",
        "\n",
        "# Apply the contraction_process function to each examples in description variable\n",
        "df_text['contractions_description']=df_text['description'].apply(contraction_process)\n",
        "df_text.head()"
      ],
      "metadata": {
        "id": "l9DGG81EgfPz",
        "colab": {
          "base_uri": "https://localhost:8080/",
          "height": 582
        },
        "outputId": "ea7229c3-9282-495c-e50e-2840eecb7ac9"
      },
      "execution_count": 40,
      "outputs": [
        {
          "output_type": "execute_result",
          "data": {
            "text/plain": [
              "                                                description  month  year  day  \\\n",
              "showid                                                                          \n",
              "81607354  When one accidental killing leads to another, ...      2  2024    9   \n",
              "81616617  From an intoxicating fantasy to a dangerous af...      2  2024    9   \n",
              "81732726  A struggling local journalist begins a dogged ...      2  2024    9   \n",
              "81611991  In this twisting documentary, a mechanic tries...      2  2024    9   \n",
              "70305903  With humanity teetering on the brink of extinc...      2  2024    9   \n",
              "\n",
              "          day_of_week  weekend  rating_encoded  genre_encoded  duration  \\\n",
              "showid                                                                    \n",
              "81607354            4        0               0             17    1.0000   \n",
              "81616617            4        0               0              4    1.6667   \n",
              "81732726            4        0               0              4    2.2500   \n",
              "81611991            4        0               3              3    1.5000   \n",
              "70305903            4        0               2             13    2.8167   \n",
              "\n",
              "          Absurd  ...  Jan Suter  Jay Karas  Kunle Afolayan  Marcus Raboy  \\\n",
              "showid            ...                                                       \n",
              "81607354       0  ...          0          0               0             0   \n",
              "81616617       0  ...          0          0               0             0   \n",
              "81732726       0  ...          0          0               0             0   \n",
              "81611991       0  ...          0          0               0             0   \n",
              "70305903       0  ...          0          0               0             0   \n",
              "\n",
              "          Rajiv Chilaka  Raúl Campos  Ryan Polito  Suhas Kadav  \\\n",
              "showid                                                           \n",
              "81607354              0            0            0            0   \n",
              "81616617              0            0            0            0   \n",
              "81732726              0            0            0            0   \n",
              "81611991              0            0            0            0   \n",
              "70305903              0            0            0            0   \n",
              "\n",
              "          description_len                           contractions_description  \n",
              "showid                                                                        \n",
              "81607354               23  When one accidental killing leads to another, ...  \n",
              "81616617               23  From an intoxicating fantasy to a dangerous af...  \n",
              "81732726               22  A struggling local journalist begins a dogged ...  \n",
              "81611991               25  In this twisting documentary, a mechanic tries...  \n",
              "70305903               22  With humanity teetering on the brink of extinc...  \n",
              "\n",
              "[5 rows x 59 columns]"
            ],
            "text/html": [
              "\n",
              "  <div id=\"df-099c7b15-8aca-48dc-8024-874440ce5061\" class=\"colab-df-container\">\n",
              "    <div>\n",
              "<style scoped>\n",
              "    .dataframe tbody tr th:only-of-type {\n",
              "        vertical-align: middle;\n",
              "    }\n",
              "\n",
              "    .dataframe tbody tr th {\n",
              "        vertical-align: top;\n",
              "    }\n",
              "\n",
              "    .dataframe thead th {\n",
              "        text-align: right;\n",
              "    }\n",
              "</style>\n",
              "<table border=\"1\" class=\"dataframe\">\n",
              "  <thead>\n",
              "    <tr style=\"text-align: right;\">\n",
              "      <th></th>\n",
              "      <th>description</th>\n",
              "      <th>month</th>\n",
              "      <th>year</th>\n",
              "      <th>day</th>\n",
              "      <th>day_of_week</th>\n",
              "      <th>weekend</th>\n",
              "      <th>rating_encoded</th>\n",
              "      <th>genre_encoded</th>\n",
              "      <th>duration</th>\n",
              "      <th>Absurd</th>\n",
              "      <th>...</th>\n",
              "      <th>Jan Suter</th>\n",
              "      <th>Jay Karas</th>\n",
              "      <th>Kunle Afolayan</th>\n",
              "      <th>Marcus Raboy</th>\n",
              "      <th>Rajiv Chilaka</th>\n",
              "      <th>Raúl Campos</th>\n",
              "      <th>Ryan Polito</th>\n",
              "      <th>Suhas Kadav</th>\n",
              "      <th>description_len</th>\n",
              "      <th>contractions_description</th>\n",
              "    </tr>\n",
              "    <tr>\n",
              "      <th>showid</th>\n",
              "      <th></th>\n",
              "      <th></th>\n",
              "      <th></th>\n",
              "      <th></th>\n",
              "      <th></th>\n",
              "      <th></th>\n",
              "      <th></th>\n",
              "      <th></th>\n",
              "      <th></th>\n",
              "      <th></th>\n",
              "      <th></th>\n",
              "      <th></th>\n",
              "      <th></th>\n",
              "      <th></th>\n",
              "      <th></th>\n",
              "      <th></th>\n",
              "      <th></th>\n",
              "      <th></th>\n",
              "      <th></th>\n",
              "      <th></th>\n",
              "      <th></th>\n",
              "    </tr>\n",
              "  </thead>\n",
              "  <tbody>\n",
              "    <tr>\n",
              "      <th>81607354</th>\n",
              "      <td>When one accidental killing leads to another, ...</td>\n",
              "      <td>2</td>\n",
              "      <td>2024</td>\n",
              "      <td>9</td>\n",
              "      <td>4</td>\n",
              "      <td>0</td>\n",
              "      <td>0</td>\n",
              "      <td>17</td>\n",
              "      <td>1.0000</td>\n",
              "      <td>0</td>\n",
              "      <td>...</td>\n",
              "      <td>0</td>\n",
              "      <td>0</td>\n",
              "      <td>0</td>\n",
              "      <td>0</td>\n",
              "      <td>0</td>\n",
              "      <td>0</td>\n",
              "      <td>0</td>\n",
              "      <td>0</td>\n",
              "      <td>23</td>\n",
              "      <td>When one accidental killing leads to another, ...</td>\n",
              "    </tr>\n",
              "    <tr>\n",
              "      <th>81616617</th>\n",
              "      <td>From an intoxicating fantasy to a dangerous af...</td>\n",
              "      <td>2</td>\n",
              "      <td>2024</td>\n",
              "      <td>9</td>\n",
              "      <td>4</td>\n",
              "      <td>0</td>\n",
              "      <td>0</td>\n",
              "      <td>4</td>\n",
              "      <td>1.6667</td>\n",
              "      <td>0</td>\n",
              "      <td>...</td>\n",
              "      <td>0</td>\n",
              "      <td>0</td>\n",
              "      <td>0</td>\n",
              "      <td>0</td>\n",
              "      <td>0</td>\n",
              "      <td>0</td>\n",
              "      <td>0</td>\n",
              "      <td>0</td>\n",
              "      <td>23</td>\n",
              "      <td>From an intoxicating fantasy to a dangerous af...</td>\n",
              "    </tr>\n",
              "    <tr>\n",
              "      <th>81732726</th>\n",
              "      <td>A struggling local journalist begins a dogged ...</td>\n",
              "      <td>2</td>\n",
              "      <td>2024</td>\n",
              "      <td>9</td>\n",
              "      <td>4</td>\n",
              "      <td>0</td>\n",
              "      <td>0</td>\n",
              "      <td>4</td>\n",
              "      <td>2.2500</td>\n",
              "      <td>0</td>\n",
              "      <td>...</td>\n",
              "      <td>0</td>\n",
              "      <td>0</td>\n",
              "      <td>0</td>\n",
              "      <td>0</td>\n",
              "      <td>0</td>\n",
              "      <td>0</td>\n",
              "      <td>0</td>\n",
              "      <td>0</td>\n",
              "      <td>22</td>\n",
              "      <td>A struggling local journalist begins a dogged ...</td>\n",
              "    </tr>\n",
              "    <tr>\n",
              "      <th>81611991</th>\n",
              "      <td>In this twisting documentary, a mechanic tries...</td>\n",
              "      <td>2</td>\n",
              "      <td>2024</td>\n",
              "      <td>9</td>\n",
              "      <td>4</td>\n",
              "      <td>0</td>\n",
              "      <td>3</td>\n",
              "      <td>3</td>\n",
              "      <td>1.5000</td>\n",
              "      <td>0</td>\n",
              "      <td>...</td>\n",
              "      <td>0</td>\n",
              "      <td>0</td>\n",
              "      <td>0</td>\n",
              "      <td>0</td>\n",
              "      <td>0</td>\n",
              "      <td>0</td>\n",
              "      <td>0</td>\n",
              "      <td>0</td>\n",
              "      <td>25</td>\n",
              "      <td>In this twisting documentary, a mechanic tries...</td>\n",
              "    </tr>\n",
              "    <tr>\n",
              "      <th>70305903</th>\n",
              "      <td>With humanity teetering on the brink of extinc...</td>\n",
              "      <td>2</td>\n",
              "      <td>2024</td>\n",
              "      <td>9</td>\n",
              "      <td>4</td>\n",
              "      <td>0</td>\n",
              "      <td>2</td>\n",
              "      <td>13</td>\n",
              "      <td>2.8167</td>\n",
              "      <td>0</td>\n",
              "      <td>...</td>\n",
              "      <td>0</td>\n",
              "      <td>0</td>\n",
              "      <td>0</td>\n",
              "      <td>0</td>\n",
              "      <td>0</td>\n",
              "      <td>0</td>\n",
              "      <td>0</td>\n",
              "      <td>0</td>\n",
              "      <td>22</td>\n",
              "      <td>With humanity teetering on the brink of extinc...</td>\n",
              "    </tr>\n",
              "  </tbody>\n",
              "</table>\n",
              "<p>5 rows × 59 columns</p>\n",
              "</div>\n",
              "    <div class=\"colab-df-buttons\">\n",
              "\n",
              "  <div class=\"colab-df-container\">\n",
              "    <button class=\"colab-df-convert\" onclick=\"convertToInteractive('df-099c7b15-8aca-48dc-8024-874440ce5061')\"\n",
              "            title=\"Convert this dataframe to an interactive table.\"\n",
              "            style=\"display:none;\">\n",
              "\n",
              "  <svg xmlns=\"http://www.w3.org/2000/svg\" height=\"24px\" viewBox=\"0 -960 960 960\">\n",
              "    <path d=\"M120-120v-720h720v720H120Zm60-500h600v-160H180v160Zm220 220h160v-160H400v160Zm0 220h160v-160H400v160ZM180-400h160v-160H180v160Zm440 0h160v-160H620v160ZM180-180h160v-160H180v160Zm440 0h160v-160H620v160Z\"/>\n",
              "  </svg>\n",
              "    </button>\n",
              "\n",
              "  <style>\n",
              "    .colab-df-container {\n",
              "      display:flex;\n",
              "      gap: 12px;\n",
              "    }\n",
              "\n",
              "    .colab-df-convert {\n",
              "      background-color: #E8F0FE;\n",
              "      border: none;\n",
              "      border-radius: 50%;\n",
              "      cursor: pointer;\n",
              "      display: none;\n",
              "      fill: #1967D2;\n",
              "      height: 32px;\n",
              "      padding: 0 0 0 0;\n",
              "      width: 32px;\n",
              "    }\n",
              "\n",
              "    .colab-df-convert:hover {\n",
              "      background-color: #E2EBFA;\n",
              "      box-shadow: 0px 1px 2px rgba(60, 64, 67, 0.3), 0px 1px 3px 1px rgba(60, 64, 67, 0.15);\n",
              "      fill: #174EA6;\n",
              "    }\n",
              "\n",
              "    .colab-df-buttons div {\n",
              "      margin-bottom: 4px;\n",
              "    }\n",
              "\n",
              "    [theme=dark] .colab-df-convert {\n",
              "      background-color: #3B4455;\n",
              "      fill: #D2E3FC;\n",
              "    }\n",
              "\n",
              "    [theme=dark] .colab-df-convert:hover {\n",
              "      background-color: #434B5C;\n",
              "      box-shadow: 0px 1px 3px 1px rgba(0, 0, 0, 0.15);\n",
              "      filter: drop-shadow(0px 1px 2px rgba(0, 0, 0, 0.3));\n",
              "      fill: #FFFFFF;\n",
              "    }\n",
              "  </style>\n",
              "\n",
              "    <script>\n",
              "      const buttonEl =\n",
              "        document.querySelector('#df-099c7b15-8aca-48dc-8024-874440ce5061 button.colab-df-convert');\n",
              "      buttonEl.style.display =\n",
              "        google.colab.kernel.accessAllowed ? 'block' : 'none';\n",
              "\n",
              "      async function convertToInteractive(key) {\n",
              "        const element = document.querySelector('#df-099c7b15-8aca-48dc-8024-874440ce5061');\n",
              "        const dataTable =\n",
              "          await google.colab.kernel.invokeFunction('convertToInteractive',\n",
              "                                                    [key], {});\n",
              "        if (!dataTable) return;\n",
              "\n",
              "        const docLinkHtml = 'Like what you see? Visit the ' +\n",
              "          '<a target=\"_blank\" href=https://colab.research.google.com/notebooks/data_table.ipynb>data table notebook</a>'\n",
              "          + ' to learn more about interactive tables.';\n",
              "        element.innerHTML = '';\n",
              "        dataTable['output_type'] = 'display_data';\n",
              "        await google.colab.output.renderOutput(dataTable, element);\n",
              "        const docLink = document.createElement('div');\n",
              "        docLink.innerHTML = docLinkHtml;\n",
              "        element.appendChild(docLink);\n",
              "      }\n",
              "    </script>\n",
              "  </div>\n",
              "\n",
              "\n",
              "<div id=\"df-d677f2bf-ec44-4382-a785-61e81c3419b4\">\n",
              "  <button class=\"colab-df-quickchart\" onclick=\"quickchart('df-d677f2bf-ec44-4382-a785-61e81c3419b4')\"\n",
              "            title=\"Suggest charts\"\n",
              "            style=\"display:none;\">\n",
              "\n",
              "<svg xmlns=\"http://www.w3.org/2000/svg\" height=\"24px\"viewBox=\"0 0 24 24\"\n",
              "     width=\"24px\">\n",
              "    <g>\n",
              "        <path d=\"M19 3H5c-1.1 0-2 .9-2 2v14c0 1.1.9 2 2 2h14c1.1 0 2-.9 2-2V5c0-1.1-.9-2-2-2zM9 17H7v-7h2v7zm4 0h-2V7h2v10zm4 0h-2v-4h2v4z\"/>\n",
              "    </g>\n",
              "</svg>\n",
              "  </button>\n",
              "\n",
              "<style>\n",
              "  .colab-df-quickchart {\n",
              "      --bg-color: #E8F0FE;\n",
              "      --fill-color: #1967D2;\n",
              "      --hover-bg-color: #E2EBFA;\n",
              "      --hover-fill-color: #174EA6;\n",
              "      --disabled-fill-color: #AAA;\n",
              "      --disabled-bg-color: #DDD;\n",
              "  }\n",
              "\n",
              "  [theme=dark] .colab-df-quickchart {\n",
              "      --bg-color: #3B4455;\n",
              "      --fill-color: #D2E3FC;\n",
              "      --hover-bg-color: #434B5C;\n",
              "      --hover-fill-color: #FFFFFF;\n",
              "      --disabled-bg-color: #3B4455;\n",
              "      --disabled-fill-color: #666;\n",
              "  }\n",
              "\n",
              "  .colab-df-quickchart {\n",
              "    background-color: var(--bg-color);\n",
              "    border: none;\n",
              "    border-radius: 50%;\n",
              "    cursor: pointer;\n",
              "    display: none;\n",
              "    fill: var(--fill-color);\n",
              "    height: 32px;\n",
              "    padding: 0;\n",
              "    width: 32px;\n",
              "  }\n",
              "\n",
              "  .colab-df-quickchart:hover {\n",
              "    background-color: var(--hover-bg-color);\n",
              "    box-shadow: 0 1px 2px rgba(60, 64, 67, 0.3), 0 1px 3px 1px rgba(60, 64, 67, 0.15);\n",
              "    fill: var(--button-hover-fill-color);\n",
              "  }\n",
              "\n",
              "  .colab-df-quickchart-complete:disabled,\n",
              "  .colab-df-quickchart-complete:disabled:hover {\n",
              "    background-color: var(--disabled-bg-color);\n",
              "    fill: var(--disabled-fill-color);\n",
              "    box-shadow: none;\n",
              "  }\n",
              "\n",
              "  .colab-df-spinner {\n",
              "    border: 2px solid var(--fill-color);\n",
              "    border-color: transparent;\n",
              "    border-bottom-color: var(--fill-color);\n",
              "    animation:\n",
              "      spin 1s steps(1) infinite;\n",
              "  }\n",
              "\n",
              "  @keyframes spin {\n",
              "    0% {\n",
              "      border-color: transparent;\n",
              "      border-bottom-color: var(--fill-color);\n",
              "      border-left-color: var(--fill-color);\n",
              "    }\n",
              "    20% {\n",
              "      border-color: transparent;\n",
              "      border-left-color: var(--fill-color);\n",
              "      border-top-color: var(--fill-color);\n",
              "    }\n",
              "    30% {\n",
              "      border-color: transparent;\n",
              "      border-left-color: var(--fill-color);\n",
              "      border-top-color: var(--fill-color);\n",
              "      border-right-color: var(--fill-color);\n",
              "    }\n",
              "    40% {\n",
              "      border-color: transparent;\n",
              "      border-right-color: var(--fill-color);\n",
              "      border-top-color: var(--fill-color);\n",
              "    }\n",
              "    60% {\n",
              "      border-color: transparent;\n",
              "      border-right-color: var(--fill-color);\n",
              "    }\n",
              "    80% {\n",
              "      border-color: transparent;\n",
              "      border-right-color: var(--fill-color);\n",
              "      border-bottom-color: var(--fill-color);\n",
              "    }\n",
              "    90% {\n",
              "      border-color: transparent;\n",
              "      border-bottom-color: var(--fill-color);\n",
              "    }\n",
              "  }\n",
              "</style>\n",
              "\n",
              "  <script>\n",
              "    async function quickchart(key) {\n",
              "      const quickchartButtonEl =\n",
              "        document.querySelector('#' + key + ' button');\n",
              "      quickchartButtonEl.disabled = true;  // To prevent multiple clicks.\n",
              "      quickchartButtonEl.classList.add('colab-df-spinner');\n",
              "      try {\n",
              "        const charts = await google.colab.kernel.invokeFunction(\n",
              "            'suggestCharts', [key], {});\n",
              "      } catch (error) {\n",
              "        console.error('Error during call to suggestCharts:', error);\n",
              "      }\n",
              "      quickchartButtonEl.classList.remove('colab-df-spinner');\n",
              "      quickchartButtonEl.classList.add('colab-df-quickchart-complete');\n",
              "    }\n",
              "    (() => {\n",
              "      let quickchartButtonEl =\n",
              "        document.querySelector('#df-d677f2bf-ec44-4382-a785-61e81c3419b4 button');\n",
              "      quickchartButtonEl.style.display =\n",
              "        google.colab.kernel.accessAllowed ? 'block' : 'none';\n",
              "    })();\n",
              "  </script>\n",
              "</div>\n",
              "    </div>\n",
              "  </div>\n"
            ],
            "application/vnd.google.colaboratory.intrinsic+json": {
              "type": "dataframe",
              "variable_name": "df_text"
            }
          },
          "metadata": {},
          "execution_count": 40
        }
      ]
    },
    {
      "cell_type": "code",
      "source": [
        "nltk.download('stopwords')\n",
        "stopwords = stopwords.words('english')\n",
        "# Displaying the English stopwords\n",
        "np.array(stopwords)"
      ],
      "metadata": {
        "id": "1tvJ4dG1hTu8",
        "colab": {
          "base_uri": "https://localhost:8080/"
        },
        "outputId": "224492e6-33d4-4399-e1d0-7add73cca978"
      },
      "execution_count": 41,
      "outputs": [
        {
          "output_type": "stream",
          "name": "stderr",
          "text": [
            "[nltk_data] Downloading package stopwords to /root/nltk_data...\n",
            "[nltk_data]   Unzipping corpora/stopwords.zip.\n"
          ]
        },
        {
          "output_type": "execute_result",
          "data": {
            "text/plain": [
              "array(['i', 'me', 'my', 'myself', 'we', 'our', 'ours', 'ourselves', 'you',\n",
              "       \"you're\", \"you've\", \"you'll\", \"you'd\", 'your', 'yours', 'yourself',\n",
              "       'yourselves', 'he', 'him', 'his', 'himself', 'she', \"she's\", 'her',\n",
              "       'hers', 'herself', 'it', \"it's\", 'its', 'itself', 'they', 'them',\n",
              "       'their', 'theirs', 'themselves', 'what', 'which', 'who', 'whom',\n",
              "       'this', 'that', \"that'll\", 'these', 'those', 'am', 'is', 'are',\n",
              "       'was', 'were', 'be', 'been', 'being', 'have', 'has', 'had',\n",
              "       'having', 'do', 'does', 'did', 'doing', 'a', 'an', 'the', 'and',\n",
              "       'but', 'if', 'or', 'because', 'as', 'until', 'while', 'of', 'at',\n",
              "       'by', 'for', 'with', 'about', 'against', 'between', 'into',\n",
              "       'through', 'during', 'before', 'after', 'above', 'below', 'to',\n",
              "       'from', 'up', 'down', 'in', 'out', 'on', 'off', 'over', 'under',\n",
              "       'again', 'further', 'then', 'once', 'here', 'there', 'when',\n",
              "       'where', 'why', 'how', 'all', 'any', 'both', 'each', 'few', 'more',\n",
              "       'most', 'other', 'some', 'such', 'no', 'nor', 'not', 'only', 'own',\n",
              "       'same', 'so', 'than', 'too', 'very', 's', 't', 'can', 'will',\n",
              "       'just', 'don', \"don't\", 'should', \"should've\", 'now', 'd', 'll',\n",
              "       'm', 'o', 're', 've', 'y', 'ain', 'aren', \"aren't\", 'couldn',\n",
              "       \"couldn't\", 'didn', \"didn't\", 'doesn', \"doesn't\", 'hadn', \"hadn't\",\n",
              "       'hasn', \"hasn't\", 'haven', \"haven't\", 'isn', \"isn't\", 'ma',\n",
              "       'mightn', \"mightn't\", 'mustn', \"mustn't\", 'needn', \"needn't\",\n",
              "       'shan', \"shan't\", 'shouldn', \"shouldn't\", 'wasn', \"wasn't\",\n",
              "       'weren', \"weren't\", 'won', \"won't\", 'wouldn', \"wouldn't\"],\n",
              "      dtype='<U10')"
            ]
          },
          "metadata": {},
          "execution_count": 41
        }
      ]
    },
    {
      "cell_type": "code",
      "source": [
        "# Extracting punctuations\n",
        "punctuations = string.punctuation\n",
        "# Displaying the punctuations\n",
        "punctuations"
      ],
      "metadata": {
        "id": "OpNzcNdyhctn",
        "colab": {
          "base_uri": "https://localhost:8080/",
          "height": 35
        },
        "outputId": "2361586a-3f36-4ae0-ad6e-c5552aff2c4e"
      },
      "execution_count": 42,
      "outputs": [
        {
          "output_type": "execute_result",
          "data": {
            "text/plain": [
              "'!\"#$%&\\'()*+,-./:;<=>?@[\\\\]^_`{|}~'"
            ],
            "application/vnd.google.colaboratory.intrinsic+json": {
              "type": "string"
            }
          },
          "metadata": {},
          "execution_count": 42
        }
      ]
    },
    {
      "cell_type": "code",
      "source": [
        "def punctuation_count(txt):\n",
        "    count = sum([1 for c in txt if c in punctuations])\n",
        "    return 100*count/len(txt)\n",
        "\n",
        "# Apply function to contractions_description variable\n",
        "df_text['punctuation_%'] = df_text['contractions_description'].apply(lambda x: punctuation_count(x))\n",
        "df_text.head()"
      ],
      "metadata": {
        "id": "5qVGmstIhjRw",
        "colab": {
          "base_uri": "https://localhost:8080/",
          "height": 582
        },
        "outputId": "52b100fd-8465-4380-966b-dccd2de07307"
      },
      "execution_count": 43,
      "outputs": [
        {
          "output_type": "execute_result",
          "data": {
            "text/plain": [
              "                                                description  month  year  day  \\\n",
              "showid                                                                          \n",
              "81607354  When one accidental killing leads to another, ...      2  2024    9   \n",
              "81616617  From an intoxicating fantasy to a dangerous af...      2  2024    9   \n",
              "81732726  A struggling local journalist begins a dogged ...      2  2024    9   \n",
              "81611991  In this twisting documentary, a mechanic tries...      2  2024    9   \n",
              "70305903  With humanity teetering on the brink of extinc...      2  2024    9   \n",
              "\n",
              "          day_of_week  weekend  rating_encoded  genre_encoded  duration  \\\n",
              "showid                                                                    \n",
              "81607354            4        0               0             17    1.0000   \n",
              "81616617            4        0               0              4    1.6667   \n",
              "81732726            4        0               0              4    2.2500   \n",
              "81611991            4        0               3              3    1.5000   \n",
              "70305903            4        0               2             13    2.8167   \n",
              "\n",
              "          Absurd  ...  Jay Karas  Kunle Afolayan  Marcus Raboy  Rajiv Chilaka  \\\n",
              "showid            ...                                                           \n",
              "81607354       0  ...          0               0             0              0   \n",
              "81616617       0  ...          0               0             0              0   \n",
              "81732726       0  ...          0               0             0              0   \n",
              "81611991       0  ...          0               0             0              0   \n",
              "70305903       0  ...          0               0             0              0   \n",
              "\n",
              "          Raúl Campos  Ryan Polito  Suhas Kadav  description_len  \\\n",
              "showid                                                             \n",
              "81607354            0            0            0               23   \n",
              "81616617            0            0            0               23   \n",
              "81732726            0            0            0               22   \n",
              "81611991            0            0            0               25   \n",
              "70305903            0            0            0               22   \n",
              "\n",
              "                                   contractions_description  punctuation_%  \n",
              "showid                                                                      \n",
              "81607354  When one accidental killing leads to another, ...       2.739726  \n",
              "81616617  From an intoxicating fantasy to a dangerous af...       1.315789  \n",
              "81732726  A struggling local journalist begins a dogged ...       0.735294  \n",
              "81611991  In this twisting documentary, a mechanic tries...       1.360544  \n",
              "70305903  With humanity teetering on the brink of extinc...       1.418440  \n",
              "\n",
              "[5 rows x 60 columns]"
            ],
            "text/html": [
              "\n",
              "  <div id=\"df-2ff07e06-5271-4332-aa0c-173d5908cdb5\" class=\"colab-df-container\">\n",
              "    <div>\n",
              "<style scoped>\n",
              "    .dataframe tbody tr th:only-of-type {\n",
              "        vertical-align: middle;\n",
              "    }\n",
              "\n",
              "    .dataframe tbody tr th {\n",
              "        vertical-align: top;\n",
              "    }\n",
              "\n",
              "    .dataframe thead th {\n",
              "        text-align: right;\n",
              "    }\n",
              "</style>\n",
              "<table border=\"1\" class=\"dataframe\">\n",
              "  <thead>\n",
              "    <tr style=\"text-align: right;\">\n",
              "      <th></th>\n",
              "      <th>description</th>\n",
              "      <th>month</th>\n",
              "      <th>year</th>\n",
              "      <th>day</th>\n",
              "      <th>day_of_week</th>\n",
              "      <th>weekend</th>\n",
              "      <th>rating_encoded</th>\n",
              "      <th>genre_encoded</th>\n",
              "      <th>duration</th>\n",
              "      <th>Absurd</th>\n",
              "      <th>...</th>\n",
              "      <th>Jay Karas</th>\n",
              "      <th>Kunle Afolayan</th>\n",
              "      <th>Marcus Raboy</th>\n",
              "      <th>Rajiv Chilaka</th>\n",
              "      <th>Raúl Campos</th>\n",
              "      <th>Ryan Polito</th>\n",
              "      <th>Suhas Kadav</th>\n",
              "      <th>description_len</th>\n",
              "      <th>contractions_description</th>\n",
              "      <th>punctuation_%</th>\n",
              "    </tr>\n",
              "    <tr>\n",
              "      <th>showid</th>\n",
              "      <th></th>\n",
              "      <th></th>\n",
              "      <th></th>\n",
              "      <th></th>\n",
              "      <th></th>\n",
              "      <th></th>\n",
              "      <th></th>\n",
              "      <th></th>\n",
              "      <th></th>\n",
              "      <th></th>\n",
              "      <th></th>\n",
              "      <th></th>\n",
              "      <th></th>\n",
              "      <th></th>\n",
              "      <th></th>\n",
              "      <th></th>\n",
              "      <th></th>\n",
              "      <th></th>\n",
              "      <th></th>\n",
              "      <th></th>\n",
              "      <th></th>\n",
              "    </tr>\n",
              "  </thead>\n",
              "  <tbody>\n",
              "    <tr>\n",
              "      <th>81607354</th>\n",
              "      <td>When one accidental killing leads to another, ...</td>\n",
              "      <td>2</td>\n",
              "      <td>2024</td>\n",
              "      <td>9</td>\n",
              "      <td>4</td>\n",
              "      <td>0</td>\n",
              "      <td>0</td>\n",
              "      <td>17</td>\n",
              "      <td>1.0000</td>\n",
              "      <td>0</td>\n",
              "      <td>...</td>\n",
              "      <td>0</td>\n",
              "      <td>0</td>\n",
              "      <td>0</td>\n",
              "      <td>0</td>\n",
              "      <td>0</td>\n",
              "      <td>0</td>\n",
              "      <td>0</td>\n",
              "      <td>23</td>\n",
              "      <td>When one accidental killing leads to another, ...</td>\n",
              "      <td>2.739726</td>\n",
              "    </tr>\n",
              "    <tr>\n",
              "      <th>81616617</th>\n",
              "      <td>From an intoxicating fantasy to a dangerous af...</td>\n",
              "      <td>2</td>\n",
              "      <td>2024</td>\n",
              "      <td>9</td>\n",
              "      <td>4</td>\n",
              "      <td>0</td>\n",
              "      <td>0</td>\n",
              "      <td>4</td>\n",
              "      <td>1.6667</td>\n",
              "      <td>0</td>\n",
              "      <td>...</td>\n",
              "      <td>0</td>\n",
              "      <td>0</td>\n",
              "      <td>0</td>\n",
              "      <td>0</td>\n",
              "      <td>0</td>\n",
              "      <td>0</td>\n",
              "      <td>0</td>\n",
              "      <td>23</td>\n",
              "      <td>From an intoxicating fantasy to a dangerous af...</td>\n",
              "      <td>1.315789</td>\n",
              "    </tr>\n",
              "    <tr>\n",
              "      <th>81732726</th>\n",
              "      <td>A struggling local journalist begins a dogged ...</td>\n",
              "      <td>2</td>\n",
              "      <td>2024</td>\n",
              "      <td>9</td>\n",
              "      <td>4</td>\n",
              "      <td>0</td>\n",
              "      <td>0</td>\n",
              "      <td>4</td>\n",
              "      <td>2.2500</td>\n",
              "      <td>0</td>\n",
              "      <td>...</td>\n",
              "      <td>0</td>\n",
              "      <td>0</td>\n",
              "      <td>0</td>\n",
              "      <td>0</td>\n",
              "      <td>0</td>\n",
              "      <td>0</td>\n",
              "      <td>0</td>\n",
              "      <td>22</td>\n",
              "      <td>A struggling local journalist begins a dogged ...</td>\n",
              "      <td>0.735294</td>\n",
              "    </tr>\n",
              "    <tr>\n",
              "      <th>81611991</th>\n",
              "      <td>In this twisting documentary, a mechanic tries...</td>\n",
              "      <td>2</td>\n",
              "      <td>2024</td>\n",
              "      <td>9</td>\n",
              "      <td>4</td>\n",
              "      <td>0</td>\n",
              "      <td>3</td>\n",
              "      <td>3</td>\n",
              "      <td>1.5000</td>\n",
              "      <td>0</td>\n",
              "      <td>...</td>\n",
              "      <td>0</td>\n",
              "      <td>0</td>\n",
              "      <td>0</td>\n",
              "      <td>0</td>\n",
              "      <td>0</td>\n",
              "      <td>0</td>\n",
              "      <td>0</td>\n",
              "      <td>25</td>\n",
              "      <td>In this twisting documentary, a mechanic tries...</td>\n",
              "      <td>1.360544</td>\n",
              "    </tr>\n",
              "    <tr>\n",
              "      <th>70305903</th>\n",
              "      <td>With humanity teetering on the brink of extinc...</td>\n",
              "      <td>2</td>\n",
              "      <td>2024</td>\n",
              "      <td>9</td>\n",
              "      <td>4</td>\n",
              "      <td>0</td>\n",
              "      <td>2</td>\n",
              "      <td>13</td>\n",
              "      <td>2.8167</td>\n",
              "      <td>0</td>\n",
              "      <td>...</td>\n",
              "      <td>0</td>\n",
              "      <td>0</td>\n",
              "      <td>0</td>\n",
              "      <td>0</td>\n",
              "      <td>0</td>\n",
              "      <td>0</td>\n",
              "      <td>0</td>\n",
              "      <td>22</td>\n",
              "      <td>With humanity teetering on the brink of extinc...</td>\n",
              "      <td>1.418440</td>\n",
              "    </tr>\n",
              "  </tbody>\n",
              "</table>\n",
              "<p>5 rows × 60 columns</p>\n",
              "</div>\n",
              "    <div class=\"colab-df-buttons\">\n",
              "\n",
              "  <div class=\"colab-df-container\">\n",
              "    <button class=\"colab-df-convert\" onclick=\"convertToInteractive('df-2ff07e06-5271-4332-aa0c-173d5908cdb5')\"\n",
              "            title=\"Convert this dataframe to an interactive table.\"\n",
              "            style=\"display:none;\">\n",
              "\n",
              "  <svg xmlns=\"http://www.w3.org/2000/svg\" height=\"24px\" viewBox=\"0 -960 960 960\">\n",
              "    <path d=\"M120-120v-720h720v720H120Zm60-500h600v-160H180v160Zm220 220h160v-160H400v160Zm0 220h160v-160H400v160ZM180-400h160v-160H180v160Zm440 0h160v-160H620v160ZM180-180h160v-160H180v160Zm440 0h160v-160H620v160Z\"/>\n",
              "  </svg>\n",
              "    </button>\n",
              "\n",
              "  <style>\n",
              "    .colab-df-container {\n",
              "      display:flex;\n",
              "      gap: 12px;\n",
              "    }\n",
              "\n",
              "    .colab-df-convert {\n",
              "      background-color: #E8F0FE;\n",
              "      border: none;\n",
              "      border-radius: 50%;\n",
              "      cursor: pointer;\n",
              "      display: none;\n",
              "      fill: #1967D2;\n",
              "      height: 32px;\n",
              "      padding: 0 0 0 0;\n",
              "      width: 32px;\n",
              "    }\n",
              "\n",
              "    .colab-df-convert:hover {\n",
              "      background-color: #E2EBFA;\n",
              "      box-shadow: 0px 1px 2px rgba(60, 64, 67, 0.3), 0px 1px 3px 1px rgba(60, 64, 67, 0.15);\n",
              "      fill: #174EA6;\n",
              "    }\n",
              "\n",
              "    .colab-df-buttons div {\n",
              "      margin-bottom: 4px;\n",
              "    }\n",
              "\n",
              "    [theme=dark] .colab-df-convert {\n",
              "      background-color: #3B4455;\n",
              "      fill: #D2E3FC;\n",
              "    }\n",
              "\n",
              "    [theme=dark] .colab-df-convert:hover {\n",
              "      background-color: #434B5C;\n",
              "      box-shadow: 0px 1px 3px 1px rgba(0, 0, 0, 0.15);\n",
              "      filter: drop-shadow(0px 1px 2px rgba(0, 0, 0, 0.3));\n",
              "      fill: #FFFFFF;\n",
              "    }\n",
              "  </style>\n",
              "\n",
              "    <script>\n",
              "      const buttonEl =\n",
              "        document.querySelector('#df-2ff07e06-5271-4332-aa0c-173d5908cdb5 button.colab-df-convert');\n",
              "      buttonEl.style.display =\n",
              "        google.colab.kernel.accessAllowed ? 'block' : 'none';\n",
              "\n",
              "      async function convertToInteractive(key) {\n",
              "        const element = document.querySelector('#df-2ff07e06-5271-4332-aa0c-173d5908cdb5');\n",
              "        const dataTable =\n",
              "          await google.colab.kernel.invokeFunction('convertToInteractive',\n",
              "                                                    [key], {});\n",
              "        if (!dataTable) return;\n",
              "\n",
              "        const docLinkHtml = 'Like what you see? Visit the ' +\n",
              "          '<a target=\"_blank\" href=https://colab.research.google.com/notebooks/data_table.ipynb>data table notebook</a>'\n",
              "          + ' to learn more about interactive tables.';\n",
              "        element.innerHTML = '';\n",
              "        dataTable['output_type'] = 'display_data';\n",
              "        await google.colab.output.renderOutput(dataTable, element);\n",
              "        const docLink = document.createElement('div');\n",
              "        docLink.innerHTML = docLinkHtml;\n",
              "        element.appendChild(docLink);\n",
              "      }\n",
              "    </script>\n",
              "  </div>\n",
              "\n",
              "\n",
              "<div id=\"df-00d7bd55-2c78-41c4-88c0-ac4a2265bf6f\">\n",
              "  <button class=\"colab-df-quickchart\" onclick=\"quickchart('df-00d7bd55-2c78-41c4-88c0-ac4a2265bf6f')\"\n",
              "            title=\"Suggest charts\"\n",
              "            style=\"display:none;\">\n",
              "\n",
              "<svg xmlns=\"http://www.w3.org/2000/svg\" height=\"24px\"viewBox=\"0 0 24 24\"\n",
              "     width=\"24px\">\n",
              "    <g>\n",
              "        <path d=\"M19 3H5c-1.1 0-2 .9-2 2v14c0 1.1.9 2 2 2h14c1.1 0 2-.9 2-2V5c0-1.1-.9-2-2-2zM9 17H7v-7h2v7zm4 0h-2V7h2v10zm4 0h-2v-4h2v4z\"/>\n",
              "    </g>\n",
              "</svg>\n",
              "  </button>\n",
              "\n",
              "<style>\n",
              "  .colab-df-quickchart {\n",
              "      --bg-color: #E8F0FE;\n",
              "      --fill-color: #1967D2;\n",
              "      --hover-bg-color: #E2EBFA;\n",
              "      --hover-fill-color: #174EA6;\n",
              "      --disabled-fill-color: #AAA;\n",
              "      --disabled-bg-color: #DDD;\n",
              "  }\n",
              "\n",
              "  [theme=dark] .colab-df-quickchart {\n",
              "      --bg-color: #3B4455;\n",
              "      --fill-color: #D2E3FC;\n",
              "      --hover-bg-color: #434B5C;\n",
              "      --hover-fill-color: #FFFFFF;\n",
              "      --disabled-bg-color: #3B4455;\n",
              "      --disabled-fill-color: #666;\n",
              "  }\n",
              "\n",
              "  .colab-df-quickchart {\n",
              "    background-color: var(--bg-color);\n",
              "    border: none;\n",
              "    border-radius: 50%;\n",
              "    cursor: pointer;\n",
              "    display: none;\n",
              "    fill: var(--fill-color);\n",
              "    height: 32px;\n",
              "    padding: 0;\n",
              "    width: 32px;\n",
              "  }\n",
              "\n",
              "  .colab-df-quickchart:hover {\n",
              "    background-color: var(--hover-bg-color);\n",
              "    box-shadow: 0 1px 2px rgba(60, 64, 67, 0.3), 0 1px 3px 1px rgba(60, 64, 67, 0.15);\n",
              "    fill: var(--button-hover-fill-color);\n",
              "  }\n",
              "\n",
              "  .colab-df-quickchart-complete:disabled,\n",
              "  .colab-df-quickchart-complete:disabled:hover {\n",
              "    background-color: var(--disabled-bg-color);\n",
              "    fill: var(--disabled-fill-color);\n",
              "    box-shadow: none;\n",
              "  }\n",
              "\n",
              "  .colab-df-spinner {\n",
              "    border: 2px solid var(--fill-color);\n",
              "    border-color: transparent;\n",
              "    border-bottom-color: var(--fill-color);\n",
              "    animation:\n",
              "      spin 1s steps(1) infinite;\n",
              "  }\n",
              "\n",
              "  @keyframes spin {\n",
              "    0% {\n",
              "      border-color: transparent;\n",
              "      border-bottom-color: var(--fill-color);\n",
              "      border-left-color: var(--fill-color);\n",
              "    }\n",
              "    20% {\n",
              "      border-color: transparent;\n",
              "      border-left-color: var(--fill-color);\n",
              "      border-top-color: var(--fill-color);\n",
              "    }\n",
              "    30% {\n",
              "      border-color: transparent;\n",
              "      border-left-color: var(--fill-color);\n",
              "      border-top-color: var(--fill-color);\n",
              "      border-right-color: var(--fill-color);\n",
              "    }\n",
              "    40% {\n",
              "      border-color: transparent;\n",
              "      border-right-color: var(--fill-color);\n",
              "      border-top-color: var(--fill-color);\n",
              "    }\n",
              "    60% {\n",
              "      border-color: transparent;\n",
              "      border-right-color: var(--fill-color);\n",
              "    }\n",
              "    80% {\n",
              "      border-color: transparent;\n",
              "      border-right-color: var(--fill-color);\n",
              "      border-bottom-color: var(--fill-color);\n",
              "    }\n",
              "    90% {\n",
              "      border-color: transparent;\n",
              "      border-bottom-color: var(--fill-color);\n",
              "    }\n",
              "  }\n",
              "</style>\n",
              "\n",
              "  <script>\n",
              "    async function quickchart(key) {\n",
              "      const quickchartButtonEl =\n",
              "        document.querySelector('#' + key + ' button');\n",
              "      quickchartButtonEl.disabled = true;  // To prevent multiple clicks.\n",
              "      quickchartButtonEl.classList.add('colab-df-spinner');\n",
              "      try {\n",
              "        const charts = await google.colab.kernel.invokeFunction(\n",
              "            'suggestCharts', [key], {});\n",
              "      } catch (error) {\n",
              "        console.error('Error during call to suggestCharts:', error);\n",
              "      }\n",
              "      quickchartButtonEl.classList.remove('colab-df-spinner');\n",
              "      quickchartButtonEl.classList.add('colab-df-quickchart-complete');\n",
              "    }\n",
              "    (() => {\n",
              "      let quickchartButtonEl =\n",
              "        document.querySelector('#df-00d7bd55-2c78-41c4-88c0-ac4a2265bf6f button');\n",
              "      quickchartButtonEl.style.display =\n",
              "        google.colab.kernel.accessAllowed ? 'block' : 'none';\n",
              "    })();\n",
              "  </script>\n",
              "</div>\n",
              "    </div>\n",
              "  </div>\n"
            ],
            "application/vnd.google.colaboratory.intrinsic+json": {
              "type": "dataframe",
              "variable_name": "df_text"
            }
          },
          "metadata": {},
          "execution_count": 43
        }
      ]
    },
    {
      "cell_type": "code",
      "source": [
        "plt.figure(figsize=(12,6))\n",
        "bins = np.linspace(0, 250, 50)\n",
        "\n",
        "# Plot histogram\n",
        "plt.hist(df_text['punctuation_%'], bins)\n",
        "plt.axvline(df_text['punctuation_%'].mean(), color='black', linestyle='dashed', label='average_punctuation_%')\n",
        "\n",
        "# Labeling to plot\n",
        "plt.title('Histogram for percentage of punctuations in corpus')\n",
        "plt.xlabel('percentage of punctuations')\n",
        "plt.ylabel('numbers')\n",
        "plt.legend(loc='best')\n",
        "plt.xlim(0,20)\n",
        "\n",
        "# Display plot\n",
        "plt.show()"
      ],
      "metadata": {
        "id": "6OYYQSR8jKp0",
        "colab": {
          "base_uri": "https://localhost:8080/",
          "height": 562
        },
        "outputId": "c4c1efdf-7110-472a-e8b7-25cefbb923d2"
      },
      "execution_count": 44,
      "outputs": [
        {
          "output_type": "display_data",
          "data": {
            "text/plain": [
              "<Figure size 1200x600 with 1 Axes>"
            ],
            "image/png": "[encoded data removed]"
          },
          "metadata": {}
        }
      ]
    },
    {
      "cell_type": "code",
      "source": [
        "## Function to remove stopwords and punctuations and lower casing to the corpus\n",
        "\n",
        "def remove_stopwords_punctuations(corpus):\n",
        "    '''Function which removes stopwords and punctuations and lower casing to the corpus\n",
        "    Args:\n",
        "    corpus (string) to which function is to be applied\n",
        "    Returns:\n",
        "    lowercase corpus without stopwords and punctuations\n",
        "    '''\n",
        "    nopunc =[char for char in corpus if char not in punctuations]\n",
        "    nopunc=''.join(nopunc)\n",
        "    return ' '.join([word.lower() for word in nopunc.split() if word.lower() not in stopwords])\n",
        "\n",
        "# Apply the remove_stopwords_punctuations function to each instance in variable contractions_description\n",
        "df_text['no_sw_pun_description']=df_text['contractions_description'].apply(remove_stopwords_punctuations)"
      ],
      "metadata": {
        "id": "Z0uqR1gIjTlQ"
      },
      "execution_count": 45,
      "outputs": []
    },
    {
      "cell_type": "code",
      "source": [
        "import re\n",
        "\n",
        "def remove_URL(corpus):\n",
        "    '''\n",
        "    Removes URL addresses from a corpus, if present\n",
        "    Args:\n",
        "        corpus (string): String to which the function is to be applied\n",
        "    Returns:\n",
        "        clean string without URL addresses\n",
        "    '''\n",
        "    return re.sub(r'https?://\\S+|www\\.\\S+', '', corpus)\n",
        "\n",
        "# Apply the remove_URL function to each instance in variable no_sw_pun_description\n",
        "df_text['clean_description']=df_text['no_sw_pun_description'].apply(remove_URL)"
      ],
      "metadata": {
        "id": "CsMv2r02jpTh"
      },
      "execution_count": 46,
      "outputs": []
    },
    {
      "cell_type": "code",
      "source": [
        "def remove_emails(corpus):\n",
        "    '''\n",
        "    Removes email addresses from a corpus, if present\n",
        "    Args:\n",
        "        corpus (string): String to which the function is to be applied\n",
        "    Returns:\n",
        "        clean string without email addresses\n",
        "    '''\n",
        "    corpus_split = corpus.split()\n",
        "    return ' '.join([i for i in corpus_split if '@' not in i])\n",
        "\n",
        "# Apply the remove_emails function to each instance in variable clean_description\n",
        "df_text['clean_description']=df_text['clean_description'].apply(remove_emails)"
      ],
      "metadata": {
        "id": "AyEmw3OajztC"
      },
      "execution_count": 47,
      "outputs": []
    },
    {
      "cell_type": "code",
      "source": [
        "from bs4 import BeautifulSoup\n",
        "\n",
        "def remove_html_tags(corpus):\n",
        "    '''\n",
        "    Removes HTML-Tags from a corpus, if present\n",
        "    Args:\n",
        "        text (string): corpus to which the function is to be applied,\n",
        "    Returns:\n",
        "        Clean corpus without HTML-Tags\n",
        "    '''\n",
        "    return BeautifulSoup(corpus, 'html.parser').get_text()\n",
        "\n",
        "# Apply the remove_html_tags function to each instance in variable clean_description\n",
        "df_text['clean_description']=df_text['clean_description'].apply(remove_html_tags)"
      ],
      "metadata": {
        "id": "AWrgCzPIj1_2"
      },
      "execution_count": 48,
      "outputs": []
    },
    {
      "cell_type": "code",
      "source": [
        "def remove_special_char(corpus):\n",
        "    \"\"\"Remove Special Characters from the corpus, if present\n",
        "    args:\n",
        "    corpus (string): corpus to which a function is to be applied\n",
        "    return:\n",
        "    clean corpus without  special characters\n",
        "    \"\"\"\n",
        "    return re.sub(r\"[^a-zA-Z0-9]\",\" \",corpus)\n",
        "\n",
        "# Apply the remove_special_char function to each instance in variable clean_description\n",
        "df_text['clean_description']=df_text['clean_description'].apply(remove_special_char)"
      ],
      "metadata": {
        "id": "741nsrLgj96f"
      },
      "execution_count": 49,
      "outputs": []
    },
    {
      "cell_type": "code",
      "source": [
        "def remove_digits(corpus):\n",
        "    '''\n",
        "    Removes digits from a corpus, if present\n",
        "    Args:\n",
        "        corpus (string): corpus to which the function is to be applied\n",
        "    Returns:\n",
        "        Clean string without digits\n",
        "    '''\n",
        "    return re.sub('\\w*\\d\\w*','',corpus)\n",
        "\n",
        "# Apply the remove_digits function to each instance in variable clean_description\n",
        "df_text['clean_description']=df_text['clean_description'].apply(remove_digits)"
      ],
      "metadata": {
        "id": "SCO46ONqkEty"
      },
      "execution_count": 50,
      "outputs": []
    },
    {
      "cell_type": "code",
      "source": [
        "def remove_extra_whitespaces(corpus):\n",
        "    '''\n",
        "    Removes extra whitespaces from a corpus, if present\n",
        "    Args:\n",
        "        text (string): corpus to which the function is to be applied\n",
        "    Returns:\n",
        "        Clean string without extra whitespaces\n",
        "    '''\n",
        "    return re.sub(r'^\\s*|\\s\\s*', ' ', corpus).strip()\n",
        "\n",
        "# Apply the remove_extra_whitespaces function to each instance to variable clean_description\n",
        "df_text['clean_description']=df_text['clean_description'].apply(remove_extra_whitespaces)"
      ],
      "metadata": {
        "id": "QRI62fQPkF9F"
      },
      "execution_count": 51,
      "outputs": []
    },
    {
      "cell_type": "code",
      "source": [
        "nltk.download('punkt')\n",
        "\n",
        "def tokenization_fun(corpus):\n",
        "    '''\n",
        "    Function tokenize corpus\n",
        "    Args:\n",
        "        corpus (string): corpus to which the function is to be applied\n",
        "    Returns:\n",
        "        tokenised corpus\n",
        "    '''\n",
        "    return nltk.word_tokenize(corpus)\n",
        "\n",
        "# Apply the tokenization_fun function to each instance in variable clean_description\n",
        "df_text['tokenized_description']=df_text['clean_description'].apply(tokenization_fun)"
      ],
      "metadata": {
        "id": "lQq_Rjqokdkw",
        "colab": {
          "base_uri": "https://localhost:8080/"
        },
        "outputId": "329790a7-a990-4c01-8197-9e3145215637"
      },
      "execution_count": 52,
      "outputs": [
        {
          "output_type": "stream",
          "name": "stderr",
          "text": [
            "[nltk_data] Downloading package punkt to /root/nltk_data...\n",
            "[nltk_data]   Unzipping tokenizers/punkt.zip.\n"
          ]
        }
      ]
    },
    {
      "cell_type": "code",
      "source": [
        "from nltk.stem.porter import PorterStemmer\n",
        "\n",
        "# Create object for stemming\n",
        "porter_stemmer = PorterStemmer()\n",
        "\n",
        "# Creating function for stemming\n",
        "def stemming(tokenized_text):\n",
        "    '''Function which stem each word in token'''\n",
        "    text = [porter_stemmer.stem(word) for word in tokenized_text]\n",
        "    return text"
      ],
      "metadata": {
        "id": "VrW0BucekmeG"
      },
      "execution_count": 53,
      "outputs": []
    },
    {
      "cell_type": "code",
      "source": [
        "from nltk.stem import WordNetLemmatizer\n",
        "\n",
        "# Download all nltk corpuses\n",
        "nltk.download('wordnet')\n",
        "nltk.download('omw-1.4')\n",
        "\n",
        "# Create object for lemmatization\n",
        "lemmatizer = WordNetLemmatizer()\n",
        "\n",
        "# Creating function for lemmatization\n",
        "def lemmatization(tokenized_text):\n",
        "    '''Function which lemmatize each word in token'''\n",
        "    text = [lemmatizer.lemmatize(word, pos=\"v\") for word in tokenized_text]\n",
        "    return text\n",
        "\n",
        "# Apply the lemmatization function to each instance in variable tokenized_description\n",
        "df_text['lemmatized_description'] = df_text['tokenized_description'].apply(lambda x : lemmatization(x))"
      ],
      "metadata": {
        "id": "8sRR4pL6ku5y",
        "colab": {
          "base_uri": "https://localhost:8080/"
        },
        "outputId": "da4b7bf1-64ab-410b-d1a0-828dbfa5f0b8"
      },
      "execution_count": 54,
      "outputs": [
        {
          "output_type": "stream",
          "name": "stderr",
          "text": [
            "[nltk_data] Downloading package wordnet to /root/nltk_data...\n",
            "[nltk_data] Downloading package omw-1.4 to /root/nltk_data...\n"
          ]
        }
      ]
    },
    {
      "cell_type": "code",
      "source": [
        "df_text['final_description'] = df_text['lemmatized_description'].apply(lambda x: ' '.join(x))"
      ],
      "metadata": {
        "id": "m_E2ZqOvkzqR"
      },
      "execution_count": 55,
      "outputs": []
    },
    {
      "cell_type": "code",
      "source": [
        "from sklearn.feature_extraction.text import TfidfVectorizer, CountVectorizer\n",
        "\n",
        "# Create the object of tfid vectorizer\n",
        "tfid_vectorizer = TfidfVectorizer()\n",
        "\n",
        "# Fit the vectorizer using the text data\n",
        "X = tfid_vectorizer.fit(df_text['final_description'])\n",
        "\n",
        "# Collect the vocabulary items used in the vectorizer\n",
        "dictionary = X.vocabulary_.items()\n",
        "\n",
        "## Bar plot of top words after cleaning text\n",
        "\n",
        "# Lists to store the vocab and counts\n",
        "vocab = []\n",
        "count = []\n",
        "\n",
        "# Iterate through each vocab and count append the value to designated lists\n",
        "for key, value in dictionary:\n",
        "    vocab.append(key)\n",
        "    count.append(value)\n",
        "\n",
        "# Store the count in panadas dataframe with vocab as index\n",
        "vocab_count_df = pd.Series(count, index=vocab)\n",
        "\n",
        "# Sort the dataframe\n",
        "vocab_count_df= vocab_count_df.sort_values(ascending=False)\n",
        "\n",
        "# Top 20 vocab\n",
        "top_vacab = vocab_count_df.head(20)\n",
        "\n",
        "# Plot of the top 20 vocab\n",
        "plt.figure(figsize=(10,5))\n",
        "ax=sns.barplot(y=top_vacab.index, x=top_vacab.values, color='goldenrod')\n",
        "ax.set_title('Top 20 most frequent words')\n",
        "ax.set_xlabel('frequency')\n",
        "ax.set_ylabel('words')\n",
        "ax.bar_label(ax.containers[0])\n",
        "plt.show()"
      ],
      "metadata": {
        "id": "CB1rNa9hlQmy",
        "colab": {
          "base_uri": "https://localhost:8080/",
          "height": 485
        },
        "outputId": "06d4581c-9247-4a5e-87e4-79752500824d"
      },
      "execution_count": 56,
      "outputs": [
        {
          "output_type": "display_data",
          "data": {
            "text/plain": [
              "<Figure size 1000x500 with 1 Axes>"
            ],
            "image/png": "[encoded data removed]"
          },
          "metadata": {}
        }
      ]
    },
    {
      "cell_type": "code",
      "source": [
        "# Create the object of tfid vectorizer\n",
        "vectorizer=TfidfVectorizer(max_features = 10000)\n",
        "\n",
        "# Fit the vectorizer using the text data\n",
        "X_tfidf = vectorizer.fit_transform(df_text['final_description'])\n"
      ],
      "metadata": {
        "id": "loVy-jGA-OLl"
      },
      "execution_count": 57,
      "outputs": []
    },
    {
      "cell_type": "code",
      "source": [
        "vector = pd.DataFrame(X_tfidf.toarray(), columns = vectorizer.get_feature_names_out(), index=df_trans_new.index)\n",
        "vector.head()"
      ],
      "metadata": {
        "id": "afCs1ePpnSxy",
        "colab": {
          "base_uri": "https://localhost:8080/",
          "height": 267
        },
        "outputId": "2e0b0e9d-dc6e-4fd9-858d-552a42d960c4"
      },
      "execution_count": 58,
      "outputs": [
        {
          "output_type": "execute_result",
          "data": {
            "text/plain": [
              "          aamir  aaron  abandon  abbey  abby  abduct  abduction  abductors  \\\n",
              "showid                                                                       \n",
              "81607354    0.0    0.0      0.0    0.0   0.0     0.0        0.0        0.0   \n",
              "81616617    0.0    0.0      0.0    0.0   0.0     0.0        0.0        0.0   \n",
              "81732726    0.0    0.0      0.0    0.0   0.0     0.0        0.0        0.0   \n",
              "81611991    0.0    0.0      0.0    0.0   0.0     0.0        0.0        0.0   \n",
              "70305903    0.0    0.0      0.0    0.0   0.0     0.0        0.0        0.0   \n",
              "\n",
              "          abilities  ability  ...  zombies  zombieslaying  zone  zoo  \\\n",
              "showid                        ...                                      \n",
              "81607354        0.0      0.0  ...      0.0            0.0   0.0  0.0   \n",
              "81616617        0.0      0.0  ...      0.0            0.0   0.0  0.0   \n",
              "81732726        0.0      0.0  ...      0.0            0.0   0.0  0.0   \n",
              "81611991        0.0      0.0  ...      0.0            0.0   0.0  0.0   \n",
              "70305903        0.0      0.0  ...      0.0            0.0   0.0  0.0   \n",
              "\n",
              "          zoologist  zoom  zorro  zoya  zquez  zulu  \n",
              "showid                                               \n",
              "81607354        0.0   0.0    0.0   0.0    0.0   0.0  \n",
              "81616617        0.0   0.0    0.0   0.0    0.0   0.0  \n",
              "81732726        0.0   0.0    0.0   0.0    0.0   0.0  \n",
              "81611991        0.0   0.0    0.0   0.0    0.0   0.0  \n",
              "70305903        0.0   0.0    0.0   0.0    0.0   0.0  \n",
              "\n",
              "[5 rows x 10000 columns]"
            ],
            "text/html": [
              "\n",
              "  <div id=\"df-67960a41-aa79-4574-a10b-5f3ba3832545\" class=\"colab-df-container\">\n",
              "    <div>\n",
              "<style scoped>\n",
              "    .dataframe tbody tr th:only-of-type {\n",
              "        vertical-align: middle;\n",
              "    }\n",
              "\n",
              "    .dataframe tbody tr th {\n",
              "        vertical-align: top;\n",
              "    }\n",
              "\n",
              "    .dataframe thead th {\n",
              "        text-align: right;\n",
              "    }\n",
              "</style>\n",
              "<table border=\"1\" class=\"dataframe\">\n",
              "  <thead>\n",
              "    <tr style=\"text-align: right;\">\n",
              "      <th></th>\n",
              "      <th>aamir</th>\n",
              "      <th>aaron</th>\n",
              "      <th>abandon</th>\n",
              "      <th>abbey</th>\n",
              "      <th>abby</th>\n",
              "      <th>abduct</th>\n",
              "      <th>abduction</th>\n",
              "      <th>abductors</th>\n",
              "      <th>abilities</th>\n",
              "      <th>ability</th>\n",
              "      <th>...</th>\n",
              "      <th>zombies</th>\n",
              "      <th>zombieslaying</th>\n",
              "      <th>zone</th>\n",
              "      <th>zoo</th>\n",
              "      <th>zoologist</th>\n",
              "      <th>zoom</th>\n",
              "      <th>zorro</th>\n",
              "      <th>zoya</th>\n",
              "      <th>zquez</th>\n",
              "      <th>zulu</th>\n",
              "    </tr>\n",
              "    <tr>\n",
              "      <th>showid</th>\n",
              "      <th></th>\n",
              "      <th></th>\n",
              "      <th></th>\n",
              "      <th></th>\n",
              "      <th></th>\n",
              "      <th></th>\n",
              "      <th></th>\n",
              "      <th></th>\n",
              "      <th></th>\n",
              "      <th></th>\n",
              "      <th></th>\n",
              "      <th></th>\n",
              "      <th></th>\n",
              "      <th></th>\n",
              "      <th></th>\n",
              "      <th></th>\n",
              "      <th></th>\n",
              "      <th></th>\n",
              "      <th></th>\n",
              "      <th></th>\n",
              "      <th></th>\n",
              "    </tr>\n",
              "  </thead>\n",
              "  <tbody>\n",
              "    <tr>\n",
              "      <th>81607354</th>\n",
              "      <td>0.0</td>\n",
              "      <td>0.0</td>\n",
              "      <td>0.0</td>\n",
              "      <td>0.0</td>\n",
              "      <td>0.0</td>\n",
              "      <td>0.0</td>\n",
              "      <td>0.0</td>\n",
              "      <td>0.0</td>\n",
              "      <td>0.0</td>\n",
              "      <td>0.0</td>\n",
              "      <td>...</td>\n",
              "      <td>0.0</td>\n",
              "      <td>0.0</td>\n",
              "      <td>0.0</td>\n",
              "      <td>0.0</td>\n",
              "      <td>0.0</td>\n",
              "      <td>0.0</td>\n",
              "      <td>0.0</td>\n",
              "      <td>0.0</td>\n",
              "      <td>0.0</td>\n",
              "      <td>0.0</td>\n",
              "    </tr>\n",
              "    <tr>\n",
              "      <th>81616617</th>\n",
              "      <td>0.0</td>\n",
              "      <td>0.0</td>\n",
              "      <td>0.0</td>\n",
              "      <td>0.0</td>\n",
              "      <td>0.0</td>\n",
              "      <td>0.0</td>\n",
              "      <td>0.0</td>\n",
              "      <td>0.0</td>\n",
              "      <td>0.0</td>\n",
              "      <td>0.0</td>\n",
              "      <td>...</td>\n",
              "      <td>0.0</td>\n",
              "      <td>0.0</td>\n",
              "      <td>0.0</td>\n",
              "      <td>0.0</td>\n",
              "      <td>0.0</td>\n",
              "      <td>0.0</td>\n",
              "      <td>0.0</td>\n",
              "      <td>0.0</td>\n",
              "      <td>0.0</td>\n",
              "      <td>0.0</td>\n",
              "    </tr>\n",
              "    <tr>\n",
              "      <th>81732726</th>\n",
              "      <td>0.0</td>\n",
              "      <td>0.0</td>\n",
              "      <td>0.0</td>\n",
              "      <td>0.0</td>\n",
              "      <td>0.0</td>\n",
              "      <td>0.0</td>\n",
              "      <td>0.0</td>\n",
              "      <td>0.0</td>\n",
              "      <td>0.0</td>\n",
              "      <td>0.0</td>\n",
              "      <td>...</td>\n",
              "      <td>0.0</td>\n",
              "      <td>0.0</td>\n",
              "      <td>0.0</td>\n",
              "      <td>0.0</td>\n",
              "      <td>0.0</td>\n",
              "      <td>0.0</td>\n",
              "      <td>0.0</td>\n",
              "      <td>0.0</td>\n",
              "      <td>0.0</td>\n",
              "      <td>0.0</td>\n",
              "    </tr>\n",
              "    <tr>\n",
              "      <th>81611991</th>\n",
              "      <td>0.0</td>\n",
              "      <td>0.0</td>\n",
              "      <td>0.0</td>\n",
              "      <td>0.0</td>\n",
              "      <td>0.0</td>\n",
              "      <td>0.0</td>\n",
              "      <td>0.0</td>\n",
              "      <td>0.0</td>\n",
              "      <td>0.0</td>\n",
              "      <td>0.0</td>\n",
              "      <td>...</td>\n",
              "      <td>0.0</td>\n",
              "      <td>0.0</td>\n",
              "      <td>0.0</td>\n",
              "      <td>0.0</td>\n",
              "      <td>0.0</td>\n",
              "      <td>0.0</td>\n",
              "      <td>0.0</td>\n",
              "      <td>0.0</td>\n",
              "      <td>0.0</td>\n",
              "      <td>0.0</td>\n",
              "    </tr>\n",
              "    <tr>\n",
              "      <th>70305903</th>\n",
              "      <td>0.0</td>\n",
              "      <td>0.0</td>\n",
              "      <td>0.0</td>\n",
              "      <td>0.0</td>\n",
              "      <td>0.0</td>\n",
              "      <td>0.0</td>\n",
              "      <td>0.0</td>\n",
              "      <td>0.0</td>\n",
              "      <td>0.0</td>\n",
              "      <td>0.0</td>\n",
              "      <td>...</td>\n",
              "      <td>0.0</td>\n",
              "      <td>0.0</td>\n",
              "      <td>0.0</td>\n",
              "      <td>0.0</td>\n",
              "      <td>0.0</td>\n",
              "      <td>0.0</td>\n",
              "      <td>0.0</td>\n",
              "      <td>0.0</td>\n",
              "      <td>0.0</td>\n",
              "      <td>0.0</td>\n",
              "    </tr>\n",
              "  </tbody>\n",
              "</table>\n",
              "<p>5 rows × 10000 columns</p>\n",
              "</div>\n",
              "    <div class=\"colab-df-buttons\">\n",
              "\n",
              "  <div class=\"colab-df-container\">\n",
              "    <button class=\"colab-df-convert\" onclick=\"convertToInteractive('df-67960a41-aa79-4574-a10b-5f3ba3832545')\"\n",
              "            title=\"Convert this dataframe to an interactive table.\"\n",
              "            style=\"display:none;\">\n",
              "\n",
              "  <svg xmlns=\"http://www.w3.org/2000/svg\" height=\"24px\" viewBox=\"0 -960 960 960\">\n",
              "    <path d=\"M120-120v-720h720v720H120Zm60-500h600v-160H180v160Zm220 220h160v-160H400v160Zm0 220h160v-160H400v160ZM180-400h160v-160H180v160Zm440 0h160v-160H620v160ZM180-180h160v-160H180v160Zm440 0h160v-160H620v160Z\"/>\n",
              "  </svg>\n",
              "    </button>\n",
              "\n",
              "  <style>\n",
              "    .colab-df-container {\n",
              "      display:flex;\n",
              "      gap: 12px;\n",
              "    }\n",
              "\n",
              "    .colab-df-convert {\n",
              "      background-color: #E8F0FE;\n",
              "      border: none;\n",
              "      border-radius: 50%;\n",
              "      cursor: pointer;\n",
              "      display: none;\n",
              "      fill: #1967D2;\n",
              "      height: 32px;\n",
              "      padding: 0 0 0 0;\n",
              "      width: 32px;\n",
              "    }\n",
              "\n",
              "    .colab-df-convert:hover {\n",
              "      background-color: #E2EBFA;\n",
              "      box-shadow: 0px 1px 2px rgba(60, 64, 67, 0.3), 0px 1px 3px 1px rgba(60, 64, 67, 0.15);\n",
              "      fill: #174EA6;\n",
              "    }\n",
              "\n",
              "    .colab-df-buttons div {\n",
              "      margin-bottom: 4px;\n",
              "    }\n",
              "\n",
              "    [theme=dark] .colab-df-convert {\n",
              "      background-color: #3B4455;\n",
              "      fill: #D2E3FC;\n",
              "    }\n",
              "\n",
              "    [theme=dark] .colab-df-convert:hover {\n",
              "      background-color: #434B5C;\n",
              "      box-shadow: 0px 1px 3px 1px rgba(0, 0, 0, 0.15);\n",
              "      filter: drop-shadow(0px 1px 2px rgba(0, 0, 0, 0.3));\n",
              "      fill: #FFFFFF;\n",
              "    }\n",
              "  </style>\n",
              "\n",
              "    <script>\n",
              "      const buttonEl =\n",
              "        document.querySelector('#df-67960a41-aa79-4574-a10b-5f3ba3832545 button.colab-df-convert');\n",
              "      buttonEl.style.display =\n",
              "        google.colab.kernel.accessAllowed ? 'block' : 'none';\n",
              "\n",
              "      async function convertToInteractive(key) {\n",
              "        const element = document.querySelector('#df-67960a41-aa79-4574-a10b-5f3ba3832545');\n",
              "        const dataTable =\n",
              "          await google.colab.kernel.invokeFunction('convertToInteractive',\n",
              "                                                    [key], {});\n",
              "        if (!dataTable) return;\n",
              "\n",
              "        const docLinkHtml = 'Like what you see? Visit the ' +\n",
              "          '<a target=\"_blank\" href=https://colab.research.google.com/notebooks/data_table.ipynb>data table notebook</a>'\n",
              "          + ' to learn more about interactive tables.';\n",
              "        element.innerHTML = '';\n",
              "        dataTable['output_type'] = 'display_data';\n",
              "        await google.colab.output.renderOutput(dataTable, element);\n",
              "        const docLink = document.createElement('div');\n",
              "        docLink.innerHTML = docLinkHtml;\n",
              "        element.appendChild(docLink);\n",
              "      }\n",
              "    </script>\n",
              "  </div>\n",
              "\n",
              "\n",
              "<div id=\"df-b7575759-53b6-4c74-aeba-9047fa0387e4\">\n",
              "  <button class=\"colab-df-quickchart\" onclick=\"quickchart('df-b7575759-53b6-4c74-aeba-9047fa0387e4')\"\n",
              "            title=\"Suggest charts\"\n",
              "            style=\"display:none;\">\n",
              "\n",
              "<svg xmlns=\"http://www.w3.org/2000/svg\" height=\"24px\"viewBox=\"0 0 24 24\"\n",
              "     width=\"24px\">\n",
              "    <g>\n",
              "        <path d=\"M19 3H5c-1.1 0-2 .9-2 2v14c0 1.1.9 2 2 2h14c1.1 0 2-.9 2-2V5c0-1.1-.9-2-2-2zM9 17H7v-7h2v7zm4 0h-2V7h2v10zm4 0h-2v-4h2v4z\"/>\n",
              "    </g>\n",
              "</svg>\n",
              "  </button>\n",
              "\n",
              "<style>\n",
              "  .colab-df-quickchart {\n",
              "      --bg-color: #E8F0FE;\n",
              "      --fill-color: #1967D2;\n",
              "      --hover-bg-color: #E2EBFA;\n",
              "      --hover-fill-color: #174EA6;\n",
              "      --disabled-fill-color: #AAA;\n",
              "      --disabled-bg-color: #DDD;\n",
              "  }\n",
              "\n",
              "  [theme=dark] .colab-df-quickchart {\n",
              "      --bg-color: #3B4455;\n",
              "      --fill-color: #D2E3FC;\n",
              "      --hover-bg-color: #434B5C;\n",
              "      --hover-fill-color: #FFFFFF;\n",
              "      --disabled-bg-color: #3B4455;\n",
              "      --disabled-fill-color: #666;\n",
              "  }\n",
              "\n",
              "  .colab-df-quickchart {\n",
              "    background-color: var(--bg-color);\n",
              "    border: none;\n",
              "    border-radius: 50%;\n",
              "    cursor: pointer;\n",
              "    display: none;\n",
              "    fill: var(--fill-color);\n",
              "    height: 32px;\n",
              "    padding: 0;\n",
              "    width: 32px;\n",
              "  }\n",
              "\n",
              "  .colab-df-quickchart:hover {\n",
              "    background-color: var(--hover-bg-color);\n",
              "    box-shadow: 0 1px 2px rgba(60, 64, 67, 0.3), 0 1px 3px 1px rgba(60, 64, 67, 0.15);\n",
              "    fill: var(--button-hover-fill-color);\n",
              "  }\n",
              "\n",
              "  .colab-df-quickchart-complete:disabled,\n",
              "  .colab-df-quickchart-complete:disabled:hover {\n",
              "    background-color: var(--disabled-bg-color);\n",
              "    fill: var(--disabled-fill-color);\n",
              "    box-shadow: none;\n",
              "  }\n",
              "\n",
              "  .colab-df-spinner {\n",
              "    border: 2px solid var(--fill-color);\n",
              "    border-color: transparent;\n",
              "    border-bottom-color: var(--fill-color);\n",
              "    animation:\n",
              "      spin 1s steps(1) infinite;\n",
              "  }\n",
              "\n",
              "  @keyframes spin {\n",
              "    0% {\n",
              "      border-color: transparent;\n",
              "      border-bottom-color: var(--fill-color);\n",
              "      border-left-color: var(--fill-color);\n",
              "    }\n",
              "    20% {\n",
              "      border-color: transparent;\n",
              "      border-left-color: var(--fill-color);\n",
              "      border-top-color: var(--fill-color);\n",
              "    }\n",
              "    30% {\n",
              "      border-color: transparent;\n",
              "      border-left-color: var(--fill-color);\n",
              "      border-top-color: var(--fill-color);\n",
              "      border-right-color: var(--fill-color);\n",
              "    }\n",
              "    40% {\n",
              "      border-color: transparent;\n",
              "      border-right-color: var(--fill-color);\n",
              "      border-top-color: var(--fill-color);\n",
              "    }\n",
              "    60% {\n",
              "      border-color: transparent;\n",
              "      border-right-color: var(--fill-color);\n",
              "    }\n",
              "    80% {\n",
              "      border-color: transparent;\n",
              "      border-right-color: var(--fill-color);\n",
              "      border-bottom-color: var(--fill-color);\n",
              "    }\n",
              "    90% {\n",
              "      border-color: transparent;\n",
              "      border-bottom-color: var(--fill-color);\n",
              "    }\n",
              "  }\n",
              "</style>\n",
              "\n",
              "  <script>\n",
              "    async function quickchart(key) {\n",
              "      const quickchartButtonEl =\n",
              "        document.querySelector('#' + key + ' button');\n",
              "      quickchartButtonEl.disabled = true;  // To prevent multiple clicks.\n",
              "      quickchartButtonEl.classList.add('colab-df-spinner');\n",
              "      try {\n",
              "        const charts = await google.colab.kernel.invokeFunction(\n",
              "            'suggestCharts', [key], {});\n",
              "      } catch (error) {\n",
              "        console.error('Error during call to suggestCharts:', error);\n",
              "      }\n",
              "      quickchartButtonEl.classList.remove('colab-df-spinner');\n",
              "      quickchartButtonEl.classList.add('colab-df-quickchart-complete');\n",
              "    }\n",
              "    (() => {\n",
              "      let quickchartButtonEl =\n",
              "        document.querySelector('#df-b7575759-53b6-4c74-aeba-9047fa0387e4 button');\n",
              "      quickchartButtonEl.style.display =\n",
              "        google.colab.kernel.accessAllowed ? 'block' : 'none';\n",
              "    })();\n",
              "  </script>\n",
              "</div>\n",
              "    </div>\n",
              "  </div>\n"
            ],
            "application/vnd.google.colaboratory.intrinsic+json": {
              "type": "dataframe",
              "variable_name": "vector"
            }
          },
          "metadata": {},
          "execution_count": 58
        }
      ]
    },
    {
      "cell_type": "code",
      "source": [
        "pca = PCA()\n",
        "pca.fit(vector)"
      ],
      "metadata": {
        "id": "REIochNR39FX",
        "colab": {
          "base_uri": "https://localhost:8080/",
          "height": 75
        },
        "outputId": "915e7c1a-9299-489a-9b49-61fd82ce21d9"
      },
      "execution_count": 59,
      "outputs": [
        {
          "output_type": "execute_result",
          "data": {
            "text/plain": [
              "PCA()"
            ],
            "text/html": [
              "<style>#sk-container-id-1 {color: black;background-color: white;}#sk-container-id-1 pre{padding: 0;}#sk-container-id-1 div.sk-toggleable {background-color: white;}#sk-container-id-1 label.sk-toggleable__label {cursor: pointer;display: block;width: 100%;margin-bottom: 0;padding: 0.3em;box-sizing: border-box;text-align: center;}#sk-container-id-1 label.sk-toggleable__label-arrow:before {content: \"▸\";float: left;margin-right: 0.25em;color: #696969;}#sk-container-id-1 label.sk-toggleable__label-arrow:hover:before {color: black;}#sk-container-id-1 div.sk-estimator:hover label.sk-toggleable__label-arrow:before {color: black;}#sk-container-id-1 div.sk-toggleable__content {max-height: 0;max-width: 0;overflow: hidden;text-align: left;background-color: #f0f8ff;}#sk-container-id-1 div.sk-toggleable__content pre {margin: 0.2em;color: black;border-radius: 0.25em;background-color: #f0f8ff;}#sk-container-id-1 input.sk-toggleable__control:checked~div.sk-toggleable__content {max-height: 200px;max-width: 100%;overflow: auto;}#sk-container-id-1 input.sk-toggleable__control:checked~label.sk-toggleable__label-arrow:before {content: \"▾\";}#sk-container-id-1 div.sk-estimator input.sk-toggleable__control:checked~label.sk-toggleable__label {background-color: #d4ebff;}#sk-container-id-1 div.sk-label input.sk-toggleable__control:checked~label.sk-toggleable__label {background-color: #d4ebff;}#sk-container-id-1 input.sk-hidden--visually {border: 0;clip: rect(1px 1px 1px 1px);clip: rect(1px, 1px, 1px, 1px);height: 1px;margin: -1px;overflow: hidden;padding: 0;position: absolute;width: 1px;}#sk-container-id-1 div.sk-estimator {font-family: monospace;background-color: #f0f8ff;border: 1px dotted black;border-radius: 0.25em;box-sizing: border-box;margin-bottom: 0.5em;}#sk-container-id-1 div.sk-estimator:hover {background-color: #d4ebff;}#sk-container-id-1 div.sk-parallel-item::after {content: \"\";width: 100%;border-bottom: 1px solid gray;flex-grow: 1;}#sk-container-id-1 div.sk-label:hover label.sk-toggleable__label {background-color: #d4ebff;}#sk-container-id-1 div.sk-serial::before {content: \"\";position: absolute;border-left: 1px solid gray;box-sizing: border-box;top: 0;bottom: 0;left: 50%;z-index: 0;}#sk-container-id-1 div.sk-serial {display: flex;flex-direction: column;align-items: center;background-color: white;padding-right: 0.2em;padding-left: 0.2em;position: relative;}#sk-container-id-1 div.sk-item {position: relative;z-index: 1;}#sk-container-id-1 div.sk-parallel {display: flex;align-items: stretch;justify-content: center;background-color: white;position: relative;}#sk-container-id-1 div.sk-item::before, #sk-container-id-1 div.sk-parallel-item::before {content: \"\";position: absolute;border-left: 1px solid gray;box-sizing: border-box;top: 0;bottom: 0;left: 50%;z-index: -1;}#sk-container-id-1 div.sk-parallel-item {display: flex;flex-direction: column;z-index: 1;position: relative;background-color: white;}#sk-container-id-1 div.sk-parallel-item:first-child::after {align-self: flex-end;width: 50%;}#sk-container-id-1 div.sk-parallel-item:last-child::after {align-self: flex-start;width: 50%;}#sk-container-id-1 div.sk-parallel-item:only-child::after {width: 0;}#sk-container-id-1 div.sk-dashed-wrapped {border: 1px dashed gray;margin: 0 0.4em 0.5em 0.4em;box-sizing: border-box;padding-bottom: 0.4em;background-color: white;}#sk-container-id-1 div.sk-label label {font-family: monospace;font-weight: bold;display: inline-block;line-height: 1.2em;}#sk-container-id-1 div.sk-label-container {text-align: center;}#sk-container-id-1 div.sk-container {/* jupyter's `normalize.less` sets `[hidden] { display: none; }` but bootstrap.min.css set `[hidden] { display: none !important; }` so we also need the `!important` here to be able to override the default hidden behavior on the sphinx rendered scikit-learn.org. See: https://github.com/scikit-learn/scikit-learn/issues/21755 */display: inline-block !important;position: relative;}#sk-container-id-1 div.sk-text-repr-fallback {display: none;}</style><div id=\"sk-container-id-1\" class=\"sk-top-container\"><div class=\"sk-text-repr-fallback\"><pre>PCA()</pre><b>In a Jupyter environment, please rerun this cell to show the HTML representation or trust the notebook. <br />On GitHub, the HTML representation is unable to render, please try loading this page with nbviewer.org.</b></div><div class=\"sk-container\" hidden><div class=\"sk-item\"><div class=\"sk-estimator sk-toggleable\"><input class=\"sk-toggleable__control sk-hidden--visually\" id=\"sk-estimator-id-1\" type=\"checkbox\" checked><label for=\"sk-estimator-id-1\" class=\"sk-toggleable__label sk-toggleable__label-arrow\">PCA</label><div class=\"sk-toggleable__content\"><pre>PCA()</pre></div></div></div></div></div>"
            ]
          },
          "metadata": {},
          "execution_count": 59
        }
      ]
    },
    {
      "cell_type": "code",
      "source": [
        "\n",
        "plt.figure(figsize=(6,4))\n",
        "plt.plot(np.cumsum(pca.explained_variance_ratio_))\n",
        "plt.title('PCA - Cumulative explained variance vs Number of components')\n",
        "plt.xlabel('Number of components')\n",
        "plt.ylabel('Cumulative explained variance')\n",
        "plt.axhline(y= 0.95, color='red', linestyle='--')\n",
        "plt.axvline(x= 4000, color='green', linestyle='--')\n",
        "plt.show()"
      ],
      "metadata": {
        "colab": {
          "base_uri": "https://localhost:8080/",
          "height": 408
        },
        "id": "iiwlmpllbeNO",
        "outputId": "4bc63aea-f25d-4541-851c-457a67b07887"
      },
      "execution_count": 60,
      "outputs": [
        {
          "output_type": "display_data",
          "data": {
            "text/plain": [
              "<Figure size 600x400 with 1 Axes>"
            ],
            "image/png": "[encoded data removed]"
          },
          "metadata": {}
        }
      ]
    },
    {
      "cell_type": "code",
      "source": [
        "pca = PCA(n_components=4000)\n",
        "pca.fit(vector)\n",
        "X_description = pca.transform(vector)\n",
        "X_description.shape"
      ],
      "metadata": {
        "id": "mP_kYz9H4AXk",
        "colab": {
          "base_uri": "https://localhost:8080/"
        },
        "outputId": "bc655c4a-f942-4cfe-d175-80f33d8a2f52"
      },
      "execution_count": 61,
      "outputs": [
        {
          "output_type": "execute_result",
          "data": {
            "text/plain": [
              "(6694, 4000)"
            ]
          },
          "metadata": {},
          "execution_count": 61
        }
      ]
    },
    {
      "cell_type": "code",
      "source": [
        "X_description_df = pd.DataFrame(X_description, index=df_trans_new.index)"
      ],
      "metadata": {
        "id": "cxouxcfHOfQJ"
      },
      "execution_count": 62,
      "outputs": []
    },
    {
      "cell_type": "code",
      "source": [
        "df_trans_new.drop('description', axis=1,inplace=True)"
      ],
      "metadata": {
        "id": "HVJw8-Nau1nC"
      },
      "execution_count": 63,
      "outputs": []
    },
    {
      "cell_type": "code",
      "source": [
        "X = pd.merge(df_trans_new, X_description_df, left_index=True, right_index=True)"
      ],
      "metadata": {
        "id": "5wJnBFMbIVB9"
      },
      "execution_count": 64,
      "outputs": []
    },
    {
      "cell_type": "code",
      "source": [
        "X.columns = X.columns.astype(str)"
      ],
      "metadata": {
        "id": "G700jvucJpJf"
      },
      "execution_count": 65,
      "outputs": []
    },
    {
      "cell_type": "code",
      "source": [
        "X_test = df_trans_new.copy()"
      ],
      "metadata": {
        "id": "N42Mw-K43uIr"
      },
      "execution_count": 182,
      "outputs": []
    },
    {
      "cell_type": "markdown",
      "source": [
        "# Model building"
      ],
      "metadata": {
        "id": "2Qg3p-nbf3_n"
      }
    },
    {
      "cell_type": "code",
      "source": [
        "X.shape\n"
      ],
      "metadata": {
        "colab": {
          "base_uri": "https://localhost:8080/"
        },
        "id": "GoqZ49vzm3ZA",
        "outputId": "6aa84c55-2b7a-41aa-f5f1-28e3390582e9"
      },
      "execution_count": 100,
      "outputs": [
        {
          "output_type": "execute_result",
          "data": {
            "text/plain": [
              "(6694, 4056)"
            ]
          },
          "metadata": {},
          "execution_count": 100
        }
      ]
    },
    {
      "cell_type": "code",
      "source": [
        "neighbors = NearestNeighbors(n_neighbors=4057)\n",
        "neighbors_fit = neighbors.fit(X)\n",
        "distances, indices = neighbors_fit.kneighbors(X)"
      ],
      "metadata": {
        "id": "OJ42_ubBmb6i"
      },
      "execution_count": 101,
      "outputs": []
    },
    {
      "cell_type": "code",
      "source": [
        "distances = np.sort(distances, axis=0)\n",
        "distances = distances[:,1]\n",
        "plt.plot(distances)"
      ],
      "metadata": {
        "colab": {
          "base_uri": "https://localhost:8080/",
          "height": 501
        },
        "id": "uTbAuO8qoD3Y",
        "outputId": "df5ffdf5-6ae3-47b1-9d19-35f8e88753d3"
      },
      "execution_count": 102,
      "outputs": [
        {
          "output_type": "execute_result",
          "data": {
            "text/plain": [
              "[<matplotlib.lines.Line2D at 0x7caeb4daaec0>]"
            ]
          },
          "metadata": {},
          "execution_count": 102
        },
        {
          "output_type": "display_data",
          "data": {
            "text/plain": [
              "<Figure size 800x550 with 1 Axes>"
            ],
            "image/png": "[encoded data removed]"
          },
          "metadata": {}
        }
      ]
    },
    {
      "cell_type": "code",
      "source": [
        "plt.plot(distances)\n",
        "plt.xlim(-0.5, 300)  # Set limits for X axis\n",
        "plt.ylim(-0.025, 0.1)  # Set limits for Y axis\n",
        "plt.title(\"Zoomed-in DBSCAN Clustering\")\n",
        "\n",
        "plt.tight_layout()\n",
        "plt.show()"
      ],
      "metadata": {
        "colab": {
          "base_uri": "https://localhost:8080/",
          "height": 551
        },
        "id": "2RJpen0Ex1M1",
        "outputId": "c55307d1-5d06-4fee-d686-caf2939b57aa"
      },
      "execution_count": 131,
      "outputs": [
        {
          "output_type": "display_data",
          "data": {
            "text/plain": [
              "<Figure size 800x550 with 1 Axes>"
            ],
            "image/png": "[encoded data removed]"
          },
          "metadata": {}
        }
      ]
    },
    {
      "cell_type": "code",
      "source": [
        "dbscan = DBSCAN(eps=0.015, min_samples=5)\n",
        "dbscan.fit(X)"
      ],
      "metadata": {
        "colab": {
          "base_uri": "https://localhost:8080/",
          "height": 75
        },
        "id": "1_ruSi1KovLG",
        "outputId": "516581f4-b9a5-4ae2-9681-4423a45eb43e"
      },
      "execution_count": 178,
      "outputs": [
        {
          "output_type": "execute_result",
          "data": {
            "text/plain": [
              "DBSCAN(eps=0.015)"
            ],
            "text/html": [
              "<style>#sk-container-id-25 {color: black;background-color: white;}#sk-container-id-25 pre{padding: 0;}#sk-container-id-25 div.sk-toggleable {background-color: white;}#sk-container-id-25 label.sk-toggleable__label {cursor: pointer;display: block;width: 100%;margin-bottom: 0;padding: 0.3em;box-sizing: border-box;text-align: center;}#sk-container-id-25 label.sk-toggleable__label-arrow:before {content: \"▸\";float: left;margin-right: 0.25em;color: #696969;}#sk-container-id-25 label.sk-toggleable__label-arrow:hover:before {color: black;}#sk-container-id-25 div.sk-estimator:hover label.sk-toggleable__label-arrow:before {color: black;}#sk-container-id-25 div.sk-toggleable__content {max-height: 0;max-width: 0;overflow: hidden;text-align: left;background-color: #f0f8ff;}#sk-container-id-25 div.sk-toggleable__content pre {margin: 0.2em;color: black;border-radius: 0.25em;background-color: #f0f8ff;}#sk-container-id-25 input.sk-toggleable__control:checked~div.sk-toggleable__content {max-height: 200px;max-width: 100%;overflow: auto;}#sk-container-id-25 input.sk-toggleable__control:checked~label.sk-toggleable__label-arrow:before {content: \"▾\";}#sk-container-id-25 div.sk-estimator input.sk-toggleable__control:checked~label.sk-toggleable__label {background-color: #d4ebff;}#sk-container-id-25 div.sk-label input.sk-toggleable__control:checked~label.sk-toggleable__label {background-color: #d4ebff;}#sk-container-id-25 input.sk-hidden--visually {border: 0;clip: rect(1px 1px 1px 1px);clip: rect(1px, 1px, 1px, 1px);height: 1px;margin: -1px;overflow: hidden;padding: 0;position: absolute;width: 1px;}#sk-container-id-25 div.sk-estimator {font-family: monospace;background-color: #f0f8ff;border: 1px dotted black;border-radius: 0.25em;box-sizing: border-box;margin-bottom: 0.5em;}#sk-container-id-25 div.sk-estimator:hover {background-color: #d4ebff;}#sk-container-id-25 div.sk-parallel-item::after {content: \"\";width: 100%;border-bottom: 1px solid gray;flex-grow: 1;}#sk-container-id-25 div.sk-label:hover label.sk-toggleable__label {background-color: #d4ebff;}#sk-container-id-25 div.sk-serial::before {content: \"\";position: absolute;border-left: 1px solid gray;box-sizing: border-box;top: 0;bottom: 0;left: 50%;z-index: 0;}#sk-container-id-25 div.sk-serial {display: flex;flex-direction: column;align-items: center;background-color: white;padding-right: 0.2em;padding-left: 0.2em;position: relative;}#sk-container-id-25 div.sk-item {position: relative;z-index: 1;}#sk-container-id-25 div.sk-parallel {display: flex;align-items: stretch;justify-content: center;background-color: white;position: relative;}#sk-container-id-25 div.sk-item::before, #sk-container-id-25 div.sk-parallel-item::before {content: \"\";position: absolute;border-left: 1px solid gray;box-sizing: border-box;top: 0;bottom: 0;left: 50%;z-index: -1;}#sk-container-id-25 div.sk-parallel-item {display: flex;flex-direction: column;z-index: 1;position: relative;background-color: white;}#sk-container-id-25 div.sk-parallel-item:first-child::after {align-self: flex-end;width: 50%;}#sk-container-id-25 div.sk-parallel-item:last-child::after {align-self: flex-start;width: 50%;}#sk-container-id-25 div.sk-parallel-item:only-child::after {width: 0;}#sk-container-id-25 div.sk-dashed-wrapped {border: 1px dashed gray;margin: 0 0.4em 0.5em 0.4em;box-sizing: border-box;padding-bottom: 0.4em;background-color: white;}#sk-container-id-25 div.sk-label label {font-family: monospace;font-weight: bold;display: inline-block;line-height: 1.2em;}#sk-container-id-25 div.sk-label-container {text-align: center;}#sk-container-id-25 div.sk-container {/* jupyter's `normalize.less` sets `[hidden] { display: none; }` but bootstrap.min.css set `[hidden] { display: none !important; }` so we also need the `!important` here to be able to override the default hidden behavior on the sphinx rendered scikit-learn.org. See: https://github.com/scikit-learn/scikit-learn/issues/21755 */display: inline-block !important;position: relative;}#sk-container-id-25 div.sk-text-repr-fallback {display: none;}</style><div id=\"sk-container-id-25\" class=\"sk-top-container\"><div class=\"sk-text-repr-fallback\"><pre>DBSCAN(eps=0.015)</pre><b>In a Jupyter environment, please rerun this cell to show the HTML representation or trust the notebook. <br />On GitHub, the HTML representation is unable to render, please try loading this page with nbviewer.org.</b></div><div class=\"sk-container\" hidden><div class=\"sk-item\"><div class=\"sk-estimator sk-toggleable\"><input class=\"sk-toggleable__control sk-hidden--visually\" id=\"sk-estimator-id-25\" type=\"checkbox\" checked><label for=\"sk-estimator-id-25\" class=\"sk-toggleable__label sk-toggleable__label-arrow\">DBSCAN</label><div class=\"sk-toggleable__content\"><pre>DBSCAN(eps=0.015)</pre></div></div></div></div></div>"
            ]
          },
          "metadata": {},
          "execution_count": 178
        }
      ]
    },
    {
      "cell_type": "code",
      "source": [
        "clusters = dbscan.labels_"
      ],
      "metadata": {
        "id": "D0yXpn-vrZKU"
      },
      "execution_count": 179,
      "outputs": []
    },
    {
      "cell_type": "code",
      "source": [
        "np.unique(clusters)"
      ],
      "metadata": {
        "colab": {
          "base_uri": "https://localhost:8080/"
        },
        "id": "-Ucu9w59r3JV",
        "outputId": "11b3a6fb-fd60-4192-95df-a0eab153195d"
      },
      "execution_count": 180,
      "outputs": [
        {
          "output_type": "execute_result",
          "data": {
            "text/plain": [
              "array([-1,  0,  1,  2,  3,  4,  5,  6,  7])"
            ]
          },
          "metadata": {},
          "execution_count": 180
        }
      ]
    },
    {
      "cell_type": "code",
      "source": [
        "# Calculate evaluation metrics 0.015\n",
        "print('~~'*45)\n",
        "print('Evaluation result :\\n')\n",
        "silhouette = silhouette_score(X, clusters)\n",
        "ch_score = calinski_harabasz_score(X, clusters)\n",
        "db_score = davies_bouldin_score(X, clusters)\n",
        "\n",
        "# Print the results\n",
        "print(f\"Number of clusters: {len(set(clusters))}\")\n",
        "print(f\"Silhouette score: {silhouette}\")\n",
        "print(f\"Calinski-Harabasz score: {ch_score}\")\n",
        "print(f\"Davies-Bouldin score: {db_score}\")"
      ],
      "metadata": {
        "colab": {
          "base_uri": "https://localhost:8080/"
        },
        "id": "TYGwpD0nwR62",
        "outputId": "7bbcf775-4fd2-4064-ef26-18635944c7a9"
      },
      "execution_count": 181,
      "outputs": [
        {
          "output_type": "stream",
          "name": "stdout",
          "text": [
            "~~~~~~~~~~~~~~~~~~~~~~~~~~~~~~~~~~~~~~~~~~~~~~~~~~~~~~~~~~~~~~~~~~~~~~~~~~~~~~~~~~~~~~~~~~\n",
            "Evaluation result :\n",
            "\n",
            "Number of clusters: 9\n",
            "Silhouette score: -0.50807315850904\n",
            "Calinski-Harabasz score: 5.050824148499049\n",
            "Davies-Bouldin score: 1.1193616955764891\n"
          ]
        }
      ]
    },
    {
      "cell_type": "code",
      "source": [
        "neighbors = NearestNeighbors(n_neighbors=57)\n",
        "neighbors_fit = neighbors.fit(X_test)\n",
        "distances, indices = neighbors_fit.kneighbors(X_test)"
      ],
      "metadata": {
        "id": "fK0bTD2D4FQ1"
      },
      "execution_count": 183,
      "outputs": []
    },
    {
      "cell_type": "code",
      "source": [
        "distances = np.sort(distances, axis=0)\n",
        "distances = distances[:,1]\n",
        "plt.plot(distances)"
      ],
      "metadata": {
        "colab": {
          "base_uri": "https://localhost:8080/",
          "height": 501
        },
        "id": "Let6QXhc4NJk",
        "outputId": "ecfd9328-c977-4329-91af-d5c5308f84e3"
      },
      "execution_count": 184,
      "outputs": [
        {
          "output_type": "execute_result",
          "data": {
            "text/plain": [
              "[<matplotlib.lines.Line2D at 0x7caeb49f0850>]"
            ]
          },
          "metadata": {},
          "execution_count": 184
        },
        {
          "output_type": "display_data",
          "data": {
            "text/plain": [
              "<Figure size 800x550 with 1 Axes>"
            ],
            "image/png": "[encoded data removed]"
          },
          "metadata": {}
        }
      ]
    },
    {
      "cell_type": "code",
      "source": [
        "plt.plot(distances)\n",
        "plt.xlim(-0.5, 300)  # Set limits for X axis\n",
        "plt.ylim(-0.025, 0.1)  # Set limits for Y axis\n",
        "plt.title(\"Zoomed-in DBSCAN Clustering\")\n",
        "\n",
        "plt.tight_layout()\n",
        "plt.show()"
      ],
      "metadata": {
        "colab": {
          "base_uri": "https://localhost:8080/",
          "height": 551
        },
        "id": "xpjQKHzP4R-7",
        "outputId": "3c8d80d7-e3f6-447f-aa78-046cf71250c4"
      },
      "execution_count": 185,
      "outputs": [
        {
          "output_type": "display_data",
          "data": {
            "text/plain": [
              "<Figure size 800x550 with 1 Axes>"
            ],
            "image/png": "[encoded data removed]"
          },
          "metadata": {}
        }
      ]
    },
    {
      "cell_type": "code",
      "source": [
        "dbscan_test = DBSCAN(eps=0.015, min_samples=5)\n",
        "dbscan_test.fit(X_test)"
      ],
      "metadata": {
        "colab": {
          "base_uri": "https://localhost:8080/",
          "height": 75
        },
        "id": "SyVUfobq4Y6_",
        "outputId": "a7d95b5d-4c72-4a6a-9fbd-50db1099f0cc"
      },
      "execution_count": 186,
      "outputs": [
        {
          "output_type": "execute_result",
          "data": {
            "text/plain": [
              "DBSCAN(eps=0.015)"
            ],
            "text/html": [
              "<style>#sk-container-id-26 {color: black;background-color: white;}#sk-container-id-26 pre{padding: 0;}#sk-container-id-26 div.sk-toggleable {background-color: white;}#sk-container-id-26 label.sk-toggleable__label {cursor: pointer;display: block;width: 100%;margin-bottom: 0;padding: 0.3em;box-sizing: border-box;text-align: center;}#sk-container-id-26 label.sk-toggleable__label-arrow:before {content: \"▸\";float: left;margin-right: 0.25em;color: #696969;}#sk-container-id-26 label.sk-toggleable__label-arrow:hover:before {color: black;}#sk-container-id-26 div.sk-estimator:hover label.sk-toggleable__label-arrow:before {color: black;}#sk-container-id-26 div.sk-toggleable__content {max-height: 0;max-width: 0;overflow: hidden;text-align: left;background-color: #f0f8ff;}#sk-container-id-26 div.sk-toggleable__content pre {margin: 0.2em;color: black;border-radius: 0.25em;background-color: #f0f8ff;}#sk-container-id-26 input.sk-toggleable__control:checked~div.sk-toggleable__content {max-height: 200px;max-width: 100%;overflow: auto;}#sk-container-id-26 input.sk-toggleable__control:checked~label.sk-toggleable__label-arrow:before {content: \"▾\";}#sk-container-id-26 div.sk-estimator input.sk-toggleable__control:checked~label.sk-toggleable__label {background-color: #d4ebff;}#sk-container-id-26 div.sk-label input.sk-toggleable__control:checked~label.sk-toggleable__label {background-color: #d4ebff;}#sk-container-id-26 input.sk-hidden--visually {border: 0;clip: rect(1px 1px 1px 1px);clip: rect(1px, 1px, 1px, 1px);height: 1px;margin: -1px;overflow: hidden;padding: 0;position: absolute;width: 1px;}#sk-container-id-26 div.sk-estimator {font-family: monospace;background-color: #f0f8ff;border: 1px dotted black;border-radius: 0.25em;box-sizing: border-box;margin-bottom: 0.5em;}#sk-container-id-26 div.sk-estimator:hover {background-color: #d4ebff;}#sk-container-id-26 div.sk-parallel-item::after {content: \"\";width: 100%;border-bottom: 1px solid gray;flex-grow: 1;}#sk-container-id-26 div.sk-label:hover label.sk-toggleable__label {background-color: #d4ebff;}#sk-container-id-26 div.sk-serial::before {content: \"\";position: absolute;border-left: 1px solid gray;box-sizing: border-box;top: 0;bottom: 0;left: 50%;z-index: 0;}#sk-container-id-26 div.sk-serial {display: flex;flex-direction: column;align-items: center;background-color: white;padding-right: 0.2em;padding-left: 0.2em;position: relative;}#sk-container-id-26 div.sk-item {position: relative;z-index: 1;}#sk-container-id-26 div.sk-parallel {display: flex;align-items: stretch;justify-content: center;background-color: white;position: relative;}#sk-container-id-26 div.sk-item::before, #sk-container-id-26 div.sk-parallel-item::before {content: \"\";position: absolute;border-left: 1px solid gray;box-sizing: border-box;top: 0;bottom: 0;left: 50%;z-index: -1;}#sk-container-id-26 div.sk-parallel-item {display: flex;flex-direction: column;z-index: 1;position: relative;background-color: white;}#sk-container-id-26 div.sk-parallel-item:first-child::after {align-self: flex-end;width: 50%;}#sk-container-id-26 div.sk-parallel-item:last-child::after {align-self: flex-start;width: 50%;}#sk-container-id-26 div.sk-parallel-item:only-child::after {width: 0;}#sk-container-id-26 div.sk-dashed-wrapped {border: 1px dashed gray;margin: 0 0.4em 0.5em 0.4em;box-sizing: border-box;padding-bottom: 0.4em;background-color: white;}#sk-container-id-26 div.sk-label label {font-family: monospace;font-weight: bold;display: inline-block;line-height: 1.2em;}#sk-container-id-26 div.sk-label-container {text-align: center;}#sk-container-id-26 div.sk-container {/* jupyter's `normalize.less` sets `[hidden] { display: none; }` but bootstrap.min.css set `[hidden] { display: none !important; }` so we also need the `!important` here to be able to override the default hidden behavior on the sphinx rendered scikit-learn.org. See: https://github.com/scikit-learn/scikit-learn/issues/21755 */display: inline-block !important;position: relative;}#sk-container-id-26 div.sk-text-repr-fallback {display: none;}</style><div id=\"sk-container-id-26\" class=\"sk-top-container\"><div class=\"sk-text-repr-fallback\"><pre>DBSCAN(eps=0.015)</pre><b>In a Jupyter environment, please rerun this cell to show the HTML representation or trust the notebook. <br />On GitHub, the HTML representation is unable to render, please try loading this page with nbviewer.org.</b></div><div class=\"sk-container\" hidden><div class=\"sk-item\"><div class=\"sk-estimator sk-toggleable\"><input class=\"sk-toggleable__control sk-hidden--visually\" id=\"sk-estimator-id-26\" type=\"checkbox\" checked><label for=\"sk-estimator-id-26\" class=\"sk-toggleable__label sk-toggleable__label-arrow\">DBSCAN</label><div class=\"sk-toggleable__content\"><pre>DBSCAN(eps=0.015)</pre></div></div></div></div></div>"
            ]
          },
          "metadata": {},
          "execution_count": 186
        }
      ]
    },
    {
      "cell_type": "code",
      "source": [
        "clusters_test = dbscan_test.labels_\n",
        "np.unique(clusters_test)"
      ],
      "metadata": {
        "colab": {
          "base_uri": "https://localhost:8080/"
        },
        "id": "KlgoPzc44hwD",
        "outputId": "878d334a-4045-4f52-adda-53a0c6013a41"
      },
      "execution_count": 188,
      "outputs": [
        {
          "output_type": "execute_result",
          "data": {
            "text/plain": [
              "array([-1,  0,  1,  2,  3,  4,  5,  6,  7])"
            ]
          },
          "metadata": {},
          "execution_count": 188
        }
      ]
    },
    {
      "cell_type": "code",
      "source": [
        "# Calculate evaluation metrics 0.015\n",
        "print('~~'*45)\n",
        "print('Evaluation result :\\n')\n",
        "silhouette = silhouette_score(X_test, clusters_test)\n",
        "ch_score = calinski_harabasz_score(X_test, clusters_test)\n",
        "db_score = davies_bouldin_score(X_test, clusters_test)\n",
        "\n",
        "# Print the results\n",
        "print(f\"Number of clusters: {len(set(clusters_test))}\")\n",
        "print(f\"Silhouette score: {silhouette}\")\n",
        "print(f\"Calinski-Harabasz score: {ch_score}\")\n",
        "print(f\"Davies-Bouldin score: {db_score}\")"
      ],
      "metadata": {
        "colab": {
          "base_uri": "https://localhost:8080/"
        },
        "id": "5Ki7iaNW4tUE",
        "outputId": "c545459a-3810-46b0-8603-905c6803fa92"
      },
      "execution_count": 189,
      "outputs": [
        {
          "output_type": "stream",
          "name": "stdout",
          "text": [
            "~~~~~~~~~~~~~~~~~~~~~~~~~~~~~~~~~~~~~~~~~~~~~~~~~~~~~~~~~~~~~~~~~~~~~~~~~~~~~~~~~~~~~~~~~~\n",
            "Evaluation result :\n",
            "\n",
            "Number of clusters: 9\n",
            "Silhouette score: -0.5159342447225134\n",
            "Calinski-Harabasz score: 5.049097690393198\n",
            "Davies-Bouldin score: 1.122024299571625\n"
          ]
        }
      ]
    },
    {
      "cell_type": "code",
      "source": [
        "KMeans_model = KMeans(random_state=42)\n",
        "elb_visualizer = kelbow_visualizer(KMeans_model, X, k=(2,30), locate_elbow=True)\n",
        "\n",
        "# Display figure\n",
        "elb_visualizer.show()"
      ],
      "metadata": {
        "id": "KqiUfkLlHbQ9",
        "colab": {
          "base_uri": "https://localhost:8080/",
          "height": 541
        },
        "outputId": "9b9ce1f0-a62e-4be8-d449-484e370a3260"
      },
      "execution_count": 196,
      "outputs": [
        {
          "output_type": "display_data",
          "data": {
            "text/plain": [
              "<Figure size 800x550 with 2 Axes>"
            ],
            "image/png": "[encoded data removed]"
          },
          "metadata": {}
        },
        {
          "output_type": "execute_result",
          "data": {
            "text/plain": [
              "<Axes: title={'center': 'Distortion Score Elbow for KMeans Clustering'}, xlabel='k', ylabel='distortion score'>"
            ]
          },
          "metadata": {},
          "execution_count": 196
        }
      ]
    },
    {
      "cell_type": "code",
      "source": [
        "kmeans = KMeans(n_clusters=10, init='k-means++', random_state= 42)\n",
        "kmeans.fit(X)"
      ],
      "metadata": {
        "colab": {
          "base_uri": "https://localhost:8080/",
          "height": 75
        },
        "id": "7QOrM-ti5V8W",
        "outputId": "14c68500-4ba4-4450-9ea7-3fbe60bad99f"
      },
      "execution_count": 190,
      "outputs": [
        {
          "output_type": "execute_result",
          "data": {
            "text/plain": [
              "KMeans(n_clusters=10, random_state=42)"
            ],
            "text/html": [
              "<style>#sk-container-id-27 {color: black;background-color: white;}#sk-container-id-27 pre{padding: 0;}#sk-container-id-27 div.sk-toggleable {background-color: white;}#sk-container-id-27 label.sk-toggleable__label {cursor: pointer;display: block;width: 100%;margin-bottom: 0;padding: 0.3em;box-sizing: border-box;text-align: center;}#sk-container-id-27 label.sk-toggleable__label-arrow:before {content: \"▸\";float: left;margin-right: 0.25em;color: #696969;}#sk-container-id-27 label.sk-toggleable__label-arrow:hover:before {color: black;}#sk-container-id-27 div.sk-estimator:hover label.sk-toggleable__label-arrow:before {color: black;}#sk-container-id-27 div.sk-toggleable__content {max-height: 0;max-width: 0;overflow: hidden;text-align: left;background-color: #f0f8ff;}#sk-container-id-27 div.sk-toggleable__content pre {margin: 0.2em;color: black;border-radius: 0.25em;background-color: #f0f8ff;}#sk-container-id-27 input.sk-toggleable__control:checked~div.sk-toggleable__content {max-height: 200px;max-width: 100%;overflow: auto;}#sk-container-id-27 input.sk-toggleable__control:checked~label.sk-toggleable__label-arrow:before {content: \"▾\";}#sk-container-id-27 div.sk-estimator input.sk-toggleable__control:checked~label.sk-toggleable__label {background-color: #d4ebff;}#sk-container-id-27 div.sk-label input.sk-toggleable__control:checked~label.sk-toggleable__label {background-color: #d4ebff;}#sk-container-id-27 input.sk-hidden--visually {border: 0;clip: rect(1px 1px 1px 1px);clip: rect(1px, 1px, 1px, 1px);height: 1px;margin: -1px;overflow: hidden;padding: 0;position: absolute;width: 1px;}#sk-container-id-27 div.sk-estimator {font-family: monospace;background-color: #f0f8ff;border: 1px dotted black;border-radius: 0.25em;box-sizing: border-box;margin-bottom: 0.5em;}#sk-container-id-27 div.sk-estimator:hover {background-color: #d4ebff;}#sk-container-id-27 div.sk-parallel-item::after {content: \"\";width: 100%;border-bottom: 1px solid gray;flex-grow: 1;}#sk-container-id-27 div.sk-label:hover label.sk-toggleable__label {background-color: #d4ebff;}#sk-container-id-27 div.sk-serial::before {content: \"\";position: absolute;border-left: 1px solid gray;box-sizing: border-box;top: 0;bottom: 0;left: 50%;z-index: 0;}#sk-container-id-27 div.sk-serial {display: flex;flex-direction: column;align-items: center;background-color: white;padding-right: 0.2em;padding-left: 0.2em;position: relative;}#sk-container-id-27 div.sk-item {position: relative;z-index: 1;}#sk-container-id-27 div.sk-parallel {display: flex;align-items: stretch;justify-content: center;background-color: white;position: relative;}#sk-container-id-27 div.sk-item::before, #sk-container-id-27 div.sk-parallel-item::before {content: \"\";position: absolute;border-left: 1px solid gray;box-sizing: border-box;top: 0;bottom: 0;left: 50%;z-index: -1;}#sk-container-id-27 div.sk-parallel-item {display: flex;flex-direction: column;z-index: 1;position: relative;background-color: white;}#sk-container-id-27 div.sk-parallel-item:first-child::after {align-self: flex-end;width: 50%;}#sk-container-id-27 div.sk-parallel-item:last-child::after {align-self: flex-start;width: 50%;}#sk-container-id-27 div.sk-parallel-item:only-child::after {width: 0;}#sk-container-id-27 div.sk-dashed-wrapped {border: 1px dashed gray;margin: 0 0.4em 0.5em 0.4em;box-sizing: border-box;padding-bottom: 0.4em;background-color: white;}#sk-container-id-27 div.sk-label label {font-family: monospace;font-weight: bold;display: inline-block;line-height: 1.2em;}#sk-container-id-27 div.sk-label-container {text-align: center;}#sk-container-id-27 div.sk-container {/* jupyter's `normalize.less` sets `[hidden] { display: none; }` but bootstrap.min.css set `[hidden] { display: none !important; }` so we also need the `!important` here to be able to override the default hidden behavior on the sphinx rendered scikit-learn.org. See: https://github.com/scikit-learn/scikit-learn/issues/21755 */display: inline-block !important;position: relative;}#sk-container-id-27 div.sk-text-repr-fallback {display: none;}</style><div id=\"sk-container-id-27\" class=\"sk-top-container\"><div class=\"sk-text-repr-fallback\"><pre>KMeans(n_clusters=10, random_state=42)</pre><b>In a Jupyter environment, please rerun this cell to show the HTML representation or trust the notebook. <br />On GitHub, the HTML representation is unable to render, please try loading this page with nbviewer.org.</b></div><div class=\"sk-container\" hidden><div class=\"sk-item\"><div class=\"sk-estimator sk-toggleable\"><input class=\"sk-toggleable__control sk-hidden--visually\" id=\"sk-estimator-id-27\" type=\"checkbox\" checked><label for=\"sk-estimator-id-27\" class=\"sk-toggleable__label sk-toggleable__label-arrow\">KMeans</label><div class=\"sk-toggleable__content\"><pre>KMeans(n_clusters=10, random_state=42)</pre></div></div></div></div></div>"
            ]
          },
          "metadata": {},
          "execution_count": 190
        }
      ]
    },
    {
      "cell_type": "code",
      "source": [
        "clusters_kmeans= kmeans.predict(X)"
      ],
      "metadata": {
        "id": "yLk6SfKl5f_c"
      },
      "execution_count": 191,
      "outputs": []
    },
    {
      "cell_type": "code",
      "source": [
        "clusters_kmeans"
      ],
      "metadata": {
        "colab": {
          "base_uri": "https://localhost:8080/"
        },
        "id": "axvGVcW45m4n",
        "outputId": "6095a5b7-b3dc-4ff5-95f4-f6bc28ebe927"
      },
      "execution_count": 193,
      "outputs": [
        {
          "output_type": "execute_result",
          "data": {
            "text/plain": [
              "array([0, 1, 2, 3, 4, 5, 6, 7, 8, 9], dtype=int32)"
            ]
          },
          "metadata": {},
          "execution_count": 193
        }
      ]
    },
    {
      "cell_type": "code",
      "source": [
        "# Calculate evaluation metrics 0.015\n",
        "print('~~'*45)\n",
        "print('Evaluation result :\\n')\n",
        "silhouette = silhouette_score(X, clusters_kmeans)\n",
        "ch_score = calinski_harabasz_score(X, clusters_kmeans)\n",
        "db_score = davies_bouldin_score(X, clusters_kmeans)\n",
        "\n",
        "# Print the results\n",
        "print(f\"Number of clusters: {len(set(clusters_kmeans))}\")\n",
        "print(f\"Silhouette score: {silhouette}\")\n",
        "print(f\"Calinski-Harabasz score: {ch_score}\")\n",
        "print(f\"Davies-Bouldin score: {db_score}\")"
      ],
      "metadata": {
        "colab": {
          "base_uri": "https://localhost:8080/"
        },
        "id": "n627A92E5vcD",
        "outputId": "f24458fd-d18c-4566-eb2e-0b39b7e132d0"
      },
      "execution_count": 194,
      "outputs": [
        {
          "output_type": "stream",
          "name": "stdout",
          "text": [
            "~~~~~~~~~~~~~~~~~~~~~~~~~~~~~~~~~~~~~~~~~~~~~~~~~~~~~~~~~~~~~~~~~~~~~~~~~~~~~~~~~~~~~~~~~~\n",
            "Evaluation result :\n",
            "\n",
            "Number of clusters: 10\n",
            "Silhouette score: 0.21050039604365292\n",
            "Calinski-Harabasz score: 2689.0107554993892\n",
            "Davies-Bouldin score: 1.3758116443823925\n"
          ]
        }
      ]
    },
    {
      "cell_type": "code",
      "source": [
        "cluster_centroids = pd.DataFrame(kmeans.cluster_centers_, columns=X.columns)"
      ],
      "metadata": {
        "id": "lirykElvJoAb"
      },
      "execution_count": null,
      "outputs": []
    },
    {
      "cell_type": "code",
      "source": [
        "similarity_matrix = cosine_similarity(X, cluster_centroids)"
      ],
      "metadata": {
        "id": "BiFL2qGN6myg"
      },
      "execution_count": 201,
      "outputs": []
    },
    {
      "cell_type": "code",
      "source": [
        "def recommend_for_new_movie(new_movie_features, clustering_model, similarity_matrix):\n",
        "    # Step 1: Cluster Assignment\n",
        "    cluster_index = clustering_model.predict([new_movie_features])[0]\n",
        "\n",
        "    # Step 2: Retrieve Recommendations from Cluster\n",
        "    cluster_indices = [i for i, label in enumerate(clustering_model.labels_) if label == cluster_index]\n",
        "    similarity_scores = similarity_matrix[:, cluster_indices]\n",
        "    mean_similarity_scores = similarity_scores.mean(axis=1)\n",
        "\n",
        "    # Step 3: Get top-N recommendations\n",
        "    top_n_recommendations_indices = mean_similarity_scores.argsort()[-N:][::-1]\n",
        "\n",
        "    return top_n_recommendations_indices"
      ],
      "metadata": {
        "id": "cu_Tshjx6sIK"
      },
      "execution_count": 202,
      "outputs": []
    }
  ]
}