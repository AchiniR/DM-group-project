{
  "nbformat": 4,
  "nbformat_minor": 0,
  "metadata": {
    "colab": {
      "provenance": [],
      "mount_file_id": "1vfYKF0N3sJKC68kA1ZeM-Ba7QbelhgLY",
      "authorship_tag": "ABX9TyMToOXFZQYUfuEJ0A9jaRs4",
      "include_colab_link": true
    },
    "kernelspec": {
      "name": "python3",
      "display_name": "Python 3"
    },
    "language_info": {
      "name": "python"
    }
  },
  "cells": [
    {
      "cell_type": "markdown",
      "metadata": {
        "id": "view-in-github",
        "colab_type": "text"
      },
      "source": [
        "<a href=\"https://colab.research.google.com/github/AchiniR/DM-group-project/blob/main/dbscan_netflix.ipynb\" target=\"_parent\"><img src=\"https://colab.research.google.com/assets/colab-badge.svg\" alt=\"Open In Colab\"/></a>"
      ]
    },
    {
      "cell_type": "code",
      "execution_count": 1,
      "metadata": {
        "id": "vzK6jstT713x"
      },
      "outputs": [],
      "source": [
        "# dataset\n",
        "#https://www.kaggle.com/datasets/jhajalaj/netflix-india-shows-and-movies/data\n",
        "\n",
        "\n",
        "# Ref\n",
        "#https://www.kaggle.com/code/bansodesandeep/netflix-movies-and-tv-shows-clustering/notebook#4.-Cleaning-data"
      ]
    },
    {
      "cell_type": "code",
      "source": [
        "!pip install contractions\n",
        "!pip install yellowbrick"
      ],
      "metadata": {
        "id": "jjP-GeKagj_N",
        "colab": {
          "base_uri": "https://localhost:8080/"
        },
        "outputId": "73bdf608-bf8c-4711-ec33-0b95ab262a69"
      },
      "execution_count": 2,
      "outputs": [
        {
          "output_type": "stream",
          "name": "stdout",
          "text": [
            "Collecting contractions\n",
            "  Downloading contractions-0.1.73-py2.py3-none-any.whl (8.7 kB)\n",
            "Collecting textsearch>=0.0.21 (from contractions)\n",
            "  Downloading textsearch-0.0.24-py2.py3-none-any.whl (7.6 kB)\n",
            "Collecting anyascii (from textsearch>=0.0.21->contractions)\n",
            "  Downloading anyascii-0.3.2-py3-none-any.whl (289 kB)\n",
            "\u001b[2K     \u001b[90m━━━━━━━━━━━━━━━━━━━━━━━━━━━━━━━━━━━━━━━━\u001b[0m \u001b[32m289.9/289.9 kB\u001b[0m \u001b[31m2.7 MB/s\u001b[0m eta \u001b[36m0:00:00\u001b[0m\n",
            "\u001b[?25hCollecting pyahocorasick (from textsearch>=0.0.21->contractions)\n",
            "  Downloading pyahocorasick-2.1.0-cp310-cp310-manylinux_2_5_x86_64.manylinux1_x86_64.manylinux_2_12_x86_64.manylinux2010_x86_64.whl (110 kB)\n",
            "\u001b[2K     \u001b[90m━━━━━━━━━━━━━━━━━━━━━━━━━━━━━━━━━━━━━━━━\u001b[0m \u001b[32m110.7/110.7 kB\u001b[0m \u001b[31m5.5 MB/s\u001b[0m eta \u001b[36m0:00:00\u001b[0m\n",
            "\u001b[?25hInstalling collected packages: pyahocorasick, anyascii, textsearch, contractions\n",
            "Successfully installed anyascii-0.3.2 contractions-0.1.73 pyahocorasick-2.1.0 textsearch-0.0.24\n",
            "Requirement already satisfied: yellowbrick in /usr/local/lib/python3.10/dist-packages (1.5)\n",
            "Requirement already satisfied: matplotlib!=3.0.0,>=2.0.2 in /usr/local/lib/python3.10/dist-packages (from yellowbrick) (3.7.1)\n",
            "Requirement already satisfied: scipy>=1.0.0 in /usr/local/lib/python3.10/dist-packages (from yellowbrick) (1.11.4)\n",
            "Requirement already satisfied: scikit-learn>=1.0.0 in /usr/local/lib/python3.10/dist-packages (from yellowbrick) (1.2.2)\n",
            "Requirement already satisfied: numpy>=1.16.0 in /usr/local/lib/python3.10/dist-packages (from yellowbrick) (1.25.2)\n",
            "Requirement already satisfied: cycler>=0.10.0 in /usr/local/lib/python3.10/dist-packages (from yellowbrick) (0.12.1)\n",
            "Requirement already satisfied: contourpy>=1.0.1 in /usr/local/lib/python3.10/dist-packages (from matplotlib!=3.0.0,>=2.0.2->yellowbrick) (1.2.0)\n",
            "Requirement already satisfied: fonttools>=4.22.0 in /usr/local/lib/python3.10/dist-packages (from matplotlib!=3.0.0,>=2.0.2->yellowbrick) (4.50.0)\n",
            "Requirement already satisfied: kiwisolver>=1.0.1 in /usr/local/lib/python3.10/dist-packages (from matplotlib!=3.0.0,>=2.0.2->yellowbrick) (1.4.5)\n",
            "Requirement already satisfied: packaging>=20.0 in /usr/local/lib/python3.10/dist-packages (from matplotlib!=3.0.0,>=2.0.2->yellowbrick) (24.0)\n",
            "Requirement already satisfied: pillow>=6.2.0 in /usr/local/lib/python3.10/dist-packages (from matplotlib!=3.0.0,>=2.0.2->yellowbrick) (9.4.0)\n",
            "Requirement already satisfied: pyparsing>=2.3.1 in /usr/local/lib/python3.10/dist-packages (from matplotlib!=3.0.0,>=2.0.2->yellowbrick) (3.1.2)\n",
            "Requirement already satisfied: python-dateutil>=2.7 in /usr/local/lib/python3.10/dist-packages (from matplotlib!=3.0.0,>=2.0.2->yellowbrick) (2.8.2)\n",
            "Requirement already satisfied: joblib>=1.1.1 in /usr/local/lib/python3.10/dist-packages (from scikit-learn>=1.0.0->yellowbrick) (1.3.2)\n",
            "Requirement already satisfied: threadpoolctl>=2.0.0 in /usr/local/lib/python3.10/dist-packages (from scikit-learn>=1.0.0->yellowbrick) (3.4.0)\n",
            "Requirement already satisfied: six>=1.5 in /usr/local/lib/python3.10/dist-packages (from python-dateutil>=2.7->matplotlib!=3.0.0,>=2.0.2->yellowbrick) (1.16.0)\n"
          ]
        }
      ]
    },
    {
      "cell_type": "code",
      "source": [
        "from google.colab import drive\n",
        "drive.mount('/content/drive')"
      ],
      "metadata": {
        "colab": {
          "base_uri": "https://localhost:8080/"
        },
        "id": "3n9uRTlgNc0_",
        "outputId": "2b1c2d83-de8a-455f-8022-c20fc351828f"
      },
      "execution_count": 3,
      "outputs": [
        {
          "output_type": "stream",
          "name": "stdout",
          "text": [
            "Mounted at /content/drive\n"
          ]
        }
      ]
    },
    {
      "cell_type": "code",
      "source": [
        "import pandas as pd\n",
        "import numpy as np\n",
        "import matplotlib.pyplot as plt\n",
        "import seaborn as sns\n",
        "from datetime import datetime as dt\n",
        "from sklearn.preprocessing import LabelEncoder\n",
        "from sklearn.model_selection import train_test_split\n",
        "from sklearn.preprocessing import MultiLabelBinarizer\n",
        "from sklearn.feature_extraction.text import TfidfVectorizer\n",
        "from sklearn.cluster import KMeans\n",
        "from sklearn.decomposition import PCA\n",
        "import contractions\n",
        "import nltk\n",
        "from nltk.corpus import stopwords\n",
        "import string\n",
        "from yellowbrick.cluster.elbow import kelbow_visualizer\n",
        "from sklearn.neighbors import NearestNeighbors\n",
        "from sklearn.cluster import DBSCAN\n",
        "from sklearn.metrics import silhouette_score, calinski_harabasz_score, davies_bouldin_score\n",
        "from sklearn.metrics.pairwise import cosine_similarity\n",
        "\n",
        "import warnings\n",
        "warnings.filterwarnings('ignore')"
      ],
      "metadata": {
        "id": "KWb96xuH8IC2"
      },
      "execution_count": 4,
      "outputs": []
    },
    {
      "cell_type": "code",
      "source": [
        "# reading data\n",
        "path = '/content/drive/MyDrive/DM_prroject/netflix_india_shows_and_movies.csv'\n",
        "\n",
        "original_df = pd.read_csv(path,index_col='showid')\n",
        "df = original_df.copy()"
      ],
      "metadata": {
        "id": "Sku9BmYh8IxR"
      },
      "execution_count": 5,
      "outputs": []
    },
    {
      "cell_type": "code",
      "source": [
        "df.info()"
      ],
      "metadata": {
        "id": "f_K8s3Gc9hzl",
        "colab": {
          "base_uri": "https://localhost:8080/"
        },
        "outputId": "bb296cee-f952-480c-89da-3167a42b3ee9"
      },
      "execution_count": 6,
      "outputs": [
        {
          "output_type": "stream",
          "name": "stdout",
          "text": [
            "<class 'pandas.core.frame.DataFrame'>\n",
            "Int64Index: 6698 entries, 81607354 to 81023623\n",
            "Data columns (total 18 columns):\n",
            " #   Column              Non-Null Count  Dtype  \n",
            "---  ------              --------------  -----  \n",
            " 0   name                6698 non-null   object \n",
            " 1   type                6698 non-null   object \n",
            " 2   rating              6698 non-null   object \n",
            " 3   duration            6698 non-null   object \n",
            " 4   description         6698 non-null   object \n",
            " 5   hook_text           3165 non-null   object \n",
            " 6   genre               6698 non-null   object \n",
            " 7   release_year        6685 non-null   float64\n",
            " 8   release_date        6698 non-null   object \n",
            " 9   mood_tag            6051 non-null   object \n",
            " 10  actors              6031 non-null   object \n",
            " 11  creator             1174 non-null   object \n",
            " 12  director            4260 non-null   object \n",
            " 13  audio               3998 non-null   object \n",
            " 14  subtitles           3997 non-null   object \n",
            " 15  tags                6698 non-null   object \n",
            " 16  similar_titles_id   6687 non-null   object \n",
            " 17  production_country  6144 non-null   object \n",
            "dtypes: float64(1), object(17)\n",
            "memory usage: 994.2+ KB\n"
          ]
        }
      ]
    },
    {
      "cell_type": "code",
      "source": [
        "df.head()"
      ],
      "metadata": {
        "id": "il4ghnza9vDb",
        "colab": {
          "base_uri": "https://localhost:8080/",
          "height": 535
        },
        "outputId": "ef9c6d9f-66da-49d7-f57e-e41870773666"
      },
      "execution_count": 7,
      "outputs": [
        {
          "output_type": "execute_result",
          "data": {
            "text/plain": [
              "                            name      type   rating  duration  \\\n",
              "showid                                                          \n",
              "81607354        A Killer Paradox  TVSeries        A  1 Season   \n",
              "81616617                   Ashes     Movie        A    1.6667   \n",
              "81732726                Bhakshak     Movie        A      2.25   \n",
              "81611991  Lover, Stalker, Killer     Movie  U/A 16+       1.5   \n",
              "70305903            Interstellar     Movie  U/A 13+    2.8167   \n",
              "\n",
              "                                                description hook_text  \\\n",
              "showid                                                                  \n",
              "81607354  When one accidental killing leads to another, ...       NaN   \n",
              "81616617  From an intoxicating fantasy to a dangerous af...       NaN   \n",
              "81732726  A struggling local journalist begins a dogged ...       NaN   \n",
              "81611991  In this twisting documentary, a mechanic tries...       NaN   \n",
              "70305903  With humanity teetering on the brink of extinc...       NaN   \n",
              "\n",
              "                genre  release_year release_date  \\\n",
              "showid                                             \n",
              "81607354     Thriller        2024.0     2024-2-9   \n",
              "81616617        Drama        2024.0     2024-2-9   \n",
              "81732726        Drama        2024.0     2024-2-9   \n",
              "81611991  Documentary        2024.0     2024-2-9   \n",
              "70305903       Sci-Fi        2014.0     2024-2-9   \n",
              "\n",
              "                                 mood_tag  \\\n",
              "showid                                      \n",
              "81607354              Offbeat;Suspenseful   \n",
              "81616617  Psychological;Intimate;Romantic   \n",
              "81732726                           Gritty   \n",
              "81611991                              NaN   \n",
              "70305903            Mind-Bending;Cerebral   \n",
              "\n",
              "                                                     actors  \\\n",
              "showid                                                        \n",
              "81607354               Choi Woo-shik;Son Suk-ku;Lee Hee-jun   \n",
              "81616617  Funda Eryiğit;Alperen Duymaz;Mehmet Günsür;Nur...   \n",
              "81732726  Bhumi Pednekar;Sanjay Mishra;Aditya Srivastava...   \n",
              "81611991                                                NaN   \n",
              "70305903  Matthew McConaughey;Anne Hathaway;Jessica Chas...   \n",
              "\n",
              "                           creator           director  \\\n",
              "showid                                                  \n",
              "81607354  Lee Chang-hee;Kim Da-min                NaN   \n",
              "81616617                       NaN      Erdem Tepegöz   \n",
              "81732726                       NaN             Pulkit   \n",
              "81611991                       NaN      Sam Hobkinson   \n",
              "70305903                       NaN  Christopher Nolan   \n",
              "\n",
              "                                                      audio  \\\n",
              "showid                                                        \n",
              "81607354                                                NaN   \n",
              "81616617  English;Turkish - Audio Description;Turkish [O...   \n",
              "81732726  English;Hindi - Audio Description;Hindi [Origi...   \n",
              "81611991     English - Audio Description;English [Original]   \n",
              "70305903                                 English [Original]   \n",
              "\n",
              "                        subtitles  \\\n",
              "showid                              \n",
              "81607354                      NaN   \n",
              "81616617  English;English;Turkish   \n",
              "81732726    English;English;Hindi   \n",
              "81611991                  English   \n",
              "70305903            English;Hindi   \n",
              "\n",
              "                                                       tags  \\\n",
              "showid                                                        \n",
              "81607354  Korean;Crime TV Shows;K-dramas based on Webtoo...   \n",
              "81616617                     Turkish;Dramas;Romantic Movies   \n",
              "81732726  Hindi-Language Movies;Bollywood Movies;Crime M...   \n",
              "81611991  Documentaries;Crime Movies;True Crime Document...   \n",
              "70305903  Sci-Fi Movies;Dramas;Action & Adventure Movies...   \n",
              "\n",
              "                                          similar_titles_id production_country  \n",
              "showid                                                                          \n",
              "81607354  81444051;81461539;81011211;81640988;80990668;8...        South Korea  \n",
              "81616617  81732726;81256740;81671215;81637260;81566662;8...             Turkey  \n",
              "81732726  81671215;81637260;81725616;81637261;81740214;8...              India  \n",
              "81611991  81671836;81130130;81620852;81607097;81212487;8...                NaN  \n",
              "70305903  70131314;81198930;80117456;80023689;80244645;8...      United States  "
            ],
            "text/html": [
              "\n",
              "  <div id=\"df-432eac65-b8da-40bb-a979-bee5ff5d7f86\" class=\"colab-df-container\">\n",
              "    <div>\n",
              "<style scoped>\n",
              "    .dataframe tbody tr th:only-of-type {\n",
              "        vertical-align: middle;\n",
              "    }\n",
              "\n",
              "    .dataframe tbody tr th {\n",
              "        vertical-align: top;\n",
              "    }\n",
              "\n",
              "    .dataframe thead th {\n",
              "        text-align: right;\n",
              "    }\n",
              "</style>\n",
              "<table border=\"1\" class=\"dataframe\">\n",
              "  <thead>\n",
              "    <tr style=\"text-align: right;\">\n",
              "      <th></th>\n",
              "      <th>name</th>\n",
              "      <th>type</th>\n",
              "      <th>rating</th>\n",
              "      <th>duration</th>\n",
              "      <th>description</th>\n",
              "      <th>hook_text</th>\n",
              "      <th>genre</th>\n",
              "      <th>release_year</th>\n",
              "      <th>release_date</th>\n",
              "      <th>mood_tag</th>\n",
              "      <th>actors</th>\n",
              "      <th>creator</th>\n",
              "      <th>director</th>\n",
              "      <th>audio</th>\n",
              "      <th>subtitles</th>\n",
              "      <th>tags</th>\n",
              "      <th>similar_titles_id</th>\n",
              "      <th>production_country</th>\n",
              "    </tr>\n",
              "    <tr>\n",
              "      <th>showid</th>\n",
              "      <th></th>\n",
              "      <th></th>\n",
              "      <th></th>\n",
              "      <th></th>\n",
              "      <th></th>\n",
              "      <th></th>\n",
              "      <th></th>\n",
              "      <th></th>\n",
              "      <th></th>\n",
              "      <th></th>\n",
              "      <th></th>\n",
              "      <th></th>\n",
              "      <th></th>\n",
              "      <th></th>\n",
              "      <th></th>\n",
              "      <th></th>\n",
              "      <th></th>\n",
              "      <th></th>\n",
              "    </tr>\n",
              "  </thead>\n",
              "  <tbody>\n",
              "    <tr>\n",
              "      <th>81607354</th>\n",
              "      <td>A Killer Paradox</td>\n",
              "      <td>TVSeries</td>\n",
              "      <td>A</td>\n",
              "      <td>1 Season</td>\n",
              "      <td>When one accidental killing leads to another, ...</td>\n",
              "      <td>NaN</td>\n",
              "      <td>Thriller</td>\n",
              "      <td>2024.0</td>\n",
              "      <td>2024-2-9</td>\n",
              "      <td>Offbeat;Suspenseful</td>\n",
              "      <td>Choi Woo-shik;Son Suk-ku;Lee Hee-jun</td>\n",
              "      <td>Lee Chang-hee;Kim Da-min</td>\n",
              "      <td>NaN</td>\n",
              "      <td>NaN</td>\n",
              "      <td>NaN</td>\n",
              "      <td>Korean;Crime TV Shows;K-dramas based on Webtoo...</td>\n",
              "      <td>81444051;81461539;81011211;81640988;80990668;8...</td>\n",
              "      <td>South Korea</td>\n",
              "    </tr>\n",
              "    <tr>\n",
              "      <th>81616617</th>\n",
              "      <td>Ashes</td>\n",
              "      <td>Movie</td>\n",
              "      <td>A</td>\n",
              "      <td>1.6667</td>\n",
              "      <td>From an intoxicating fantasy to a dangerous af...</td>\n",
              "      <td>NaN</td>\n",
              "      <td>Drama</td>\n",
              "      <td>2024.0</td>\n",
              "      <td>2024-2-9</td>\n",
              "      <td>Psychological;Intimate;Romantic</td>\n",
              "      <td>Funda Eryiğit;Alperen Duymaz;Mehmet Günsür;Nur...</td>\n",
              "      <td>NaN</td>\n",
              "      <td>Erdem Tepegöz</td>\n",
              "      <td>English;Turkish - Audio Description;Turkish [O...</td>\n",
              "      <td>English;English;Turkish</td>\n",
              "      <td>Turkish;Dramas;Romantic Movies</td>\n",
              "      <td>81732726;81256740;81671215;81637260;81566662;8...</td>\n",
              "      <td>Turkey</td>\n",
              "    </tr>\n",
              "    <tr>\n",
              "      <th>81732726</th>\n",
              "      <td>Bhakshak</td>\n",
              "      <td>Movie</td>\n",
              "      <td>A</td>\n",
              "      <td>2.25</td>\n",
              "      <td>A struggling local journalist begins a dogged ...</td>\n",
              "      <td>NaN</td>\n",
              "      <td>Drama</td>\n",
              "      <td>2024.0</td>\n",
              "      <td>2024-2-9</td>\n",
              "      <td>Gritty</td>\n",
              "      <td>Bhumi Pednekar;Sanjay Mishra;Aditya Srivastava...</td>\n",
              "      <td>NaN</td>\n",
              "      <td>Pulkit</td>\n",
              "      <td>English;Hindi - Audio Description;Hindi [Origi...</td>\n",
              "      <td>English;English;Hindi</td>\n",
              "      <td>Hindi-Language Movies;Bollywood Movies;Crime M...</td>\n",
              "      <td>81671215;81637260;81725616;81637261;81740214;8...</td>\n",
              "      <td>India</td>\n",
              "    </tr>\n",
              "    <tr>\n",
              "      <th>81611991</th>\n",
              "      <td>Lover, Stalker, Killer</td>\n",
              "      <td>Movie</td>\n",
              "      <td>U/A 16+</td>\n",
              "      <td>1.5</td>\n",
              "      <td>In this twisting documentary, a mechanic tries...</td>\n",
              "      <td>NaN</td>\n",
              "      <td>Documentary</td>\n",
              "      <td>2024.0</td>\n",
              "      <td>2024-2-9</td>\n",
              "      <td>NaN</td>\n",
              "      <td>NaN</td>\n",
              "      <td>NaN</td>\n",
              "      <td>Sam Hobkinson</td>\n",
              "      <td>English - Audio Description;English [Original]</td>\n",
              "      <td>English</td>\n",
              "      <td>Documentaries;Crime Movies;True Crime Document...</td>\n",
              "      <td>81671836;81130130;81620852;81607097;81212487;8...</td>\n",
              "      <td>NaN</td>\n",
              "    </tr>\n",
              "    <tr>\n",
              "      <th>70305903</th>\n",
              "      <td>Interstellar</td>\n",
              "      <td>Movie</td>\n",
              "      <td>U/A 13+</td>\n",
              "      <td>2.8167</td>\n",
              "      <td>With humanity teetering on the brink of extinc...</td>\n",
              "      <td>NaN</td>\n",
              "      <td>Sci-Fi</td>\n",
              "      <td>2014.0</td>\n",
              "      <td>2024-2-9</td>\n",
              "      <td>Mind-Bending;Cerebral</td>\n",
              "      <td>Matthew McConaughey;Anne Hathaway;Jessica Chas...</td>\n",
              "      <td>NaN</td>\n",
              "      <td>Christopher Nolan</td>\n",
              "      <td>English [Original]</td>\n",
              "      <td>English;Hindi</td>\n",
              "      <td>Sci-Fi Movies;Dramas;Action &amp; Adventure Movies...</td>\n",
              "      <td>70131314;81198930;80117456;80023689;80244645;8...</td>\n",
              "      <td>United States</td>\n",
              "    </tr>\n",
              "  </tbody>\n",
              "</table>\n",
              "</div>\n",
              "    <div class=\"colab-df-buttons\">\n",
              "\n",
              "  <div class=\"colab-df-container\">\n",
              "    <button class=\"colab-df-convert\" onclick=\"convertToInteractive('df-432eac65-b8da-40bb-a979-bee5ff5d7f86')\"\n",
              "            title=\"Convert this dataframe to an interactive table.\"\n",
              "            style=\"display:none;\">\n",
              "\n",
              "  <svg xmlns=\"http://www.w3.org/2000/svg\" height=\"24px\" viewBox=\"0 -960 960 960\">\n",
              "    <path d=\"M120-120v-720h720v720H120Zm60-500h600v-160H180v160Zm220 220h160v-160H400v160Zm0 220h160v-160H400v160ZM180-400h160v-160H180v160Zm440 0h160v-160H620v160ZM180-180h160v-160H180v160Zm440 0h160v-160H620v160Z\"/>\n",
              "  </svg>\n",
              "    </button>\n",
              "\n",
              "  <style>\n",
              "    .colab-df-container {\n",
              "      display:flex;\n",
              "      gap: 12px;\n",
              "    }\n",
              "\n",
              "    .colab-df-convert {\n",
              "      background-color: #E8F0FE;\n",
              "      border: none;\n",
              "      border-radius: 50%;\n",
              "      cursor: pointer;\n",
              "      display: none;\n",
              "      fill: #1967D2;\n",
              "      height: 32px;\n",
              "      padding: 0 0 0 0;\n",
              "      width: 32px;\n",
              "    }\n",
              "\n",
              "    .colab-df-convert:hover {\n",
              "      background-color: #E2EBFA;\n",
              "      box-shadow: 0px 1px 2px rgba(60, 64, 67, 0.3), 0px 1px 3px 1px rgba(60, 64, 67, 0.15);\n",
              "      fill: #174EA6;\n",
              "    }\n",
              "\n",
              "    .colab-df-buttons div {\n",
              "      margin-bottom: 4px;\n",
              "    }\n",
              "\n",
              "    [theme=dark] .colab-df-convert {\n",
              "      background-color: #3B4455;\n",
              "      fill: #D2E3FC;\n",
              "    }\n",
              "\n",
              "    [theme=dark] .colab-df-convert:hover {\n",
              "      background-color: #434B5C;\n",
              "      box-shadow: 0px 1px 3px 1px rgba(0, 0, 0, 0.15);\n",
              "      filter: drop-shadow(0px 1px 2px rgba(0, 0, 0, 0.3));\n",
              "      fill: #FFFFFF;\n",
              "    }\n",
              "  </style>\n",
              "\n",
              "    <script>\n",
              "      const buttonEl =\n",
              "        document.querySelector('#df-432eac65-b8da-40bb-a979-bee5ff5d7f86 button.colab-df-convert');\n",
              "      buttonEl.style.display =\n",
              "        google.colab.kernel.accessAllowed ? 'block' : 'none';\n",
              "\n",
              "      async function convertToInteractive(key) {\n",
              "        const element = document.querySelector('#df-432eac65-b8da-40bb-a979-bee5ff5d7f86');\n",
              "        const dataTable =\n",
              "          await google.colab.kernel.invokeFunction('convertToInteractive',\n",
              "                                                    [key], {});\n",
              "        if (!dataTable) return;\n",
              "\n",
              "        const docLinkHtml = 'Like what you see? Visit the ' +\n",
              "          '<a target=\"_blank\" href=https://colab.research.google.com/notebooks/data_table.ipynb>data table notebook</a>'\n",
              "          + ' to learn more about interactive tables.';\n",
              "        element.innerHTML = '';\n",
              "        dataTable['output_type'] = 'display_data';\n",
              "        await google.colab.output.renderOutput(dataTable, element);\n",
              "        const docLink = document.createElement('div');\n",
              "        docLink.innerHTML = docLinkHtml;\n",
              "        element.appendChild(docLink);\n",
              "      }\n",
              "    </script>\n",
              "  </div>\n",
              "\n",
              "\n",
              "<div id=\"df-1fe3f97c-ada6-4554-8d3b-0a5c47a25a88\">\n",
              "  <button class=\"colab-df-quickchart\" onclick=\"quickchart('df-1fe3f97c-ada6-4554-8d3b-0a5c47a25a88')\"\n",
              "            title=\"Suggest charts\"\n",
              "            style=\"display:none;\">\n",
              "\n",
              "<svg xmlns=\"http://www.w3.org/2000/svg\" height=\"24px\"viewBox=\"0 0 24 24\"\n",
              "     width=\"24px\">\n",
              "    <g>\n",
              "        <path d=\"M19 3H5c-1.1 0-2 .9-2 2v14c0 1.1.9 2 2 2h14c1.1 0 2-.9 2-2V5c0-1.1-.9-2-2-2zM9 17H7v-7h2v7zm4 0h-2V7h2v10zm4 0h-2v-4h2v4z\"/>\n",
              "    </g>\n",
              "</svg>\n",
              "  </button>\n",
              "\n",
              "<style>\n",
              "  .colab-df-quickchart {\n",
              "      --bg-color: #E8F0FE;\n",
              "      --fill-color: #1967D2;\n",
              "      --hover-bg-color: #E2EBFA;\n",
              "      --hover-fill-color: #174EA6;\n",
              "      --disabled-fill-color: #AAA;\n",
              "      --disabled-bg-color: #DDD;\n",
              "  }\n",
              "\n",
              "  [theme=dark] .colab-df-quickchart {\n",
              "      --bg-color: #3B4455;\n",
              "      --fill-color: #D2E3FC;\n",
              "      --hover-bg-color: #434B5C;\n",
              "      --hover-fill-color: #FFFFFF;\n",
              "      --disabled-bg-color: #3B4455;\n",
              "      --disabled-fill-color: #666;\n",
              "  }\n",
              "\n",
              "  .colab-df-quickchart {\n",
              "    background-color: var(--bg-color);\n",
              "    border: none;\n",
              "    border-radius: 50%;\n",
              "    cursor: pointer;\n",
              "    display: none;\n",
              "    fill: var(--fill-color);\n",
              "    height: 32px;\n",
              "    padding: 0;\n",
              "    width: 32px;\n",
              "  }\n",
              "\n",
              "  .colab-df-quickchart:hover {\n",
              "    background-color: var(--hover-bg-color);\n",
              "    box-shadow: 0 1px 2px rgba(60, 64, 67, 0.3), 0 1px 3px 1px rgba(60, 64, 67, 0.15);\n",
              "    fill: var(--button-hover-fill-color);\n",
              "  }\n",
              "\n",
              "  .colab-df-quickchart-complete:disabled,\n",
              "  .colab-df-quickchart-complete:disabled:hover {\n",
              "    background-color: var(--disabled-bg-color);\n",
              "    fill: var(--disabled-fill-color);\n",
              "    box-shadow: none;\n",
              "  }\n",
              "\n",
              "  .colab-df-spinner {\n",
              "    border: 2px solid var(--fill-color);\n",
              "    border-color: transparent;\n",
              "    border-bottom-color: var(--fill-color);\n",
              "    animation:\n",
              "      spin 1s steps(1) infinite;\n",
              "  }\n",
              "\n",
              "  @keyframes spin {\n",
              "    0% {\n",
              "      border-color: transparent;\n",
              "      border-bottom-color: var(--fill-color);\n",
              "      border-left-color: var(--fill-color);\n",
              "    }\n",
              "    20% {\n",
              "      border-color: transparent;\n",
              "      border-left-color: var(--fill-color);\n",
              "      border-top-color: var(--fill-color);\n",
              "    }\n",
              "    30% {\n",
              "      border-color: transparent;\n",
              "      border-left-color: var(--fill-color);\n",
              "      border-top-color: var(--fill-color);\n",
              "      border-right-color: var(--fill-color);\n",
              "    }\n",
              "    40% {\n",
              "      border-color: transparent;\n",
              "      border-right-color: var(--fill-color);\n",
              "      border-top-color: var(--fill-color);\n",
              "    }\n",
              "    60% {\n",
              "      border-color: transparent;\n",
              "      border-right-color: var(--fill-color);\n",
              "    }\n",
              "    80% {\n",
              "      border-color: transparent;\n",
              "      border-right-color: var(--fill-color);\n",
              "      border-bottom-color: var(--fill-color);\n",
              "    }\n",
              "    90% {\n",
              "      border-color: transparent;\n",
              "      border-bottom-color: var(--fill-color);\n",
              "    }\n",
              "  }\n",
              "</style>\n",
              "\n",
              "  <script>\n",
              "    async function quickchart(key) {\n",
              "      const quickchartButtonEl =\n",
              "        document.querySelector('#' + key + ' button');\n",
              "      quickchartButtonEl.disabled = true;  // To prevent multiple clicks.\n",
              "      quickchartButtonEl.classList.add('colab-df-spinner');\n",
              "      try {\n",
              "        const charts = await google.colab.kernel.invokeFunction(\n",
              "            'suggestCharts', [key], {});\n",
              "      } catch (error) {\n",
              "        console.error('Error during call to suggestCharts:', error);\n",
              "      }\n",
              "      quickchartButtonEl.classList.remove('colab-df-spinner');\n",
              "      quickchartButtonEl.classList.add('colab-df-quickchart-complete');\n",
              "    }\n",
              "    (() => {\n",
              "      let quickchartButtonEl =\n",
              "        document.querySelector('#df-1fe3f97c-ada6-4554-8d3b-0a5c47a25a88 button');\n",
              "      quickchartButtonEl.style.display =\n",
              "        google.colab.kernel.accessAllowed ? 'block' : 'none';\n",
              "    })();\n",
              "  </script>\n",
              "</div>\n",
              "    </div>\n",
              "  </div>\n"
            ],
            "application/vnd.google.colaboratory.intrinsic+json": {
              "type": "dataframe",
              "variable_name": "df",
              "summary": "{\n  \"name\": \"df\",\n  \"rows\": 6698,\n  \"fields\": [\n    {\n      \"column\": \"showid\",\n      \"properties\": {\n        \"dtype\": \"number\",\n        \"std\": 6757110,\n        \"min\": 215309,\n        \"max\": 81755382,\n        \"num_unique_values\": 6698,\n        \"samples\": [\n          81392197,\n          81388078,\n          70139555\n        ],\n        \"semantic_type\": \"\",\n        \"description\": \"\"\n      }\n    },\n    {\n      \"column\": \"name\",\n      \"properties\": {\n        \"dtype\": \"string\",\n        \"num_unique_values\": 6626,\n        \"samples\": [\n          \"Nobody Knows I'm Here\",\n          \"Takki\",\n          \"To All The Boys: Always And Forever\"\n        ],\n        \"semantic_type\": \"\",\n        \"description\": \"\"\n      }\n    },\n    {\n      \"column\": \"type\",\n      \"properties\": {\n        \"dtype\": \"category\",\n        \"num_unique_values\": 2,\n        \"samples\": [\n          \"Movie\",\n          \"TVSeries\"\n        ],\n        \"semantic_type\": \"\",\n        \"description\": \"\"\n      }\n    },\n    {\n      \"column\": \"rating\",\n      \"properties\": {\n        \"dtype\": \"category\",\n        \"num_unique_values\": 5,\n        \"samples\": [\n          \"U/A 16+\",\n          \"U\"\n        ],\n        \"semantic_type\": \"\",\n        \"description\": \"\"\n      }\n    },\n    {\n      \"column\": \"duration\",\n      \"properties\": {\n        \"dtype\": \"category\",\n        \"num_unique_values\": 205,\n        \"samples\": [\n          \"2.2\",\n          \"2 Seasons\"\n        ],\n        \"semantic_type\": \"\",\n        \"description\": \"\"\n      }\n    },\n    {\n      \"column\": \"description\",\n      \"properties\": {\n        \"dtype\": \"string\",\n        \"num_unique_values\": 6559,\n        \"samples\": [\n          \"Matters of the heart introduce chaos into the once-idyllic bachelor existence of three young men who share an apartment.\",\n          \"Angsty Syd navigates high school awkwardness, family drama and an unrequited crush on her best friend while trying to rein in her budding superpowers.\"\n        ],\n        \"semantic_type\": \"\",\n        \"description\": \"\"\n      }\n    },\n    {\n      \"column\": \"hook_text\",\n      \"properties\": {\n        \"dtype\": \"category\",\n        \"num_unique_values\": 3119,\n        \"samples\": [\n          \"Hitting number one in Japan, Fujii Kaze's second album was certified platinum by the Recording Industry Association of Japan.\",\n          \"Nicolas Cantu, Darren Barnet and Mae Whitman star with Benjamin Bratt and Betty Gilpin in this animated fantasy adventure.\"\n        ],\n        \"semantic_type\": \"\",\n        \"description\": \"\"\n      }\n    },\n    {\n      \"column\": \"genre\",\n      \"properties\": {\n        \"dtype\": \"category\",\n        \"num_unique_values\": 20,\n        \"samples\": [\n          \"Thriller\",\n          \"Variety TV\"\n        ],\n        \"semantic_type\": \"\",\n        \"description\": \"\"\n      }\n    },\n    {\n      \"column\": \"release_year\",\n      \"properties\": {\n        \"dtype\": \"number\",\n        \"std\": 6.0920065369960446,\n        \"min\": 1945.0,\n        \"max\": 2024.0,\n        \"num_unique_values\": 56,\n        \"samples\": [\n          2024.0,\n          2012.0\n        ],\n        \"semantic_type\": \"\",\n        \"description\": \"\"\n      }\n    },\n    {\n      \"column\": \"release_date\",\n      \"properties\": {\n        \"dtype\": \"object\",\n        \"num_unique_values\": 1845,\n        \"samples\": [\n          \"2018-11-15\",\n          \"2020-11-13\"\n        ],\n        \"semantic_type\": \"\",\n        \"description\": \"\"\n      }\n    },\n    {\n      \"column\": \"mood_tag\",\n      \"properties\": {\n        \"dtype\": \"category\",\n        \"num_unique_values\": 987,\n        \"samples\": [\n          \"Psychological;Dark\",\n          \"Raunchy;Quirky;Romantic\"\n        ],\n        \"semantic_type\": \"\",\n        \"description\": \"\"\n      }\n    },\n    {\n      \"column\": \"actors\",\n      \"properties\": {\n        \"dtype\": \"string\",\n        \"num_unique_values\": 5694,\n        \"samples\": [\n          \"Jeremy Ray Taylor;Madison Iseman;Caleel Harris;Wendi McLendon-Covey;Chris Parnell;Ken Jeong;Jack Black\",\n          \"Mo'Nique\"\n        ],\n        \"semantic_type\": \"\",\n        \"description\": \"\"\n      }\n    },\n    {\n      \"column\": \"creator\",\n      \"properties\": {\n        \"dtype\": \"category\",\n        \"num_unique_values\": 1061,\n        \"samples\": [\n          \"Keith Chapman\",\n          \"Chinaza Onuzo;Dami Elebe\"\n        ],\n        \"semantic_type\": \"\",\n        \"description\": \"\"\n      }\n    },\n    {\n      \"column\": \"director\",\n      \"properties\": {\n        \"dtype\": \"category\",\n        \"num_unique_values\": 3096,\n        \"samples\": [\n          \"Shashank Khaitan;Raj Mehta;Neeraj Ghaywan;Kayoze Irani\",\n          \"Katt Williams\"\n        ],\n        \"semantic_type\": \"\",\n        \"description\": \"\"\n      }\n    },\n    {\n      \"column\": \"audio\",\n      \"properties\": {\n        \"dtype\": \"category\",\n        \"num_unique_values\": 261,\n        \"samples\": [\n          \"English;Hindi;Korean - Audio Description;Korean [Original];Tamil;Telugu\",\n          \"Arabic (Tunisia) [Original]\"\n        ],\n        \"semantic_type\": \"\",\n        \"description\": \"\"\n      }\n    },\n    {\n      \"column\": \"subtitles\",\n      \"properties\": {\n        \"dtype\": \"category\",\n        \"num_unique_values\": 125,\n        \"samples\": [\n          \"Arabic (Saudi Arabia);English;English\",\n          \"English;English;Thai\"\n        ],\n        \"semantic_type\": \"\",\n        \"description\": \"\"\n      }\n    },\n    {\n      \"column\": \"tags\",\n      \"properties\": {\n        \"dtype\": \"string\",\n        \"num_unique_values\": 3484,\n        \"samples\": [\n          \"Crime Movies;Dramas;Romantic Movies;Marathi-Language Movies\",\n          \"Family Features;Dramas;Comedy Movies;Independent Movies;Marathi-Language Movies\"\n        ],\n        \"semantic_type\": \"\",\n        \"description\": \"\"\n      }\n    },\n    {\n      \"column\": \"similar_titles_id\",\n      \"properties\": {\n        \"dtype\": \"string\",\n        \"num_unique_values\": 6685,\n        \"samples\": [\n          \"70262614;70139075;81210705;70111162;80201175;81508378;70303432;80164904;70107499;81154455;81280352;81269716\",\n          \"81033086;81045305;80242446;81717706;81324413;80177441;80242926;81672085;80160759;81054619;81672780;81426967\"\n        ],\n        \"semantic_type\": \"\",\n        \"description\": \"\"\n      }\n    },\n    {\n      \"column\": \"production_country\",\n      \"properties\": {\n        \"dtype\": \"category\",\n        \"num_unique_values\": 57,\n        \"samples\": [\n          \"South Korea\",\n          \"Japan\"\n        ],\n        \"semantic_type\": \"\",\n        \"description\": \"\"\n      }\n    }\n  ]\n}"
            }
          },
          "metadata": {},
          "execution_count": 7
        }
      ]
    },
    {
      "cell_type": "code",
      "source": [
        "# calculating missing values\n",
        "missing_values = df.isnull()\n",
        "total_missing_values = missing_values.sum()\n",
        "print(total_missing_values)"
      ],
      "metadata": {
        "id": "kPVxEtAG8X6l",
        "colab": {
          "base_uri": "https://localhost:8080/"
        },
        "outputId": "bd26421a-0974-4151-b71e-9280b923c326"
      },
      "execution_count": 8,
      "outputs": [
        {
          "output_type": "stream",
          "name": "stdout",
          "text": [
            "name                     0\n",
            "type                     0\n",
            "rating                   0\n",
            "duration                 0\n",
            "description              0\n",
            "hook_text             3533\n",
            "genre                    0\n",
            "release_year            13\n",
            "release_date             0\n",
            "mood_tag               647\n",
            "actors                 667\n",
            "creator               5524\n",
            "director              2438\n",
            "audio                 2700\n",
            "subtitles             2701\n",
            "tags                     0\n",
            "similar_titles_id       11\n",
            "production_country     554\n",
            "dtype: int64\n"
          ]
        }
      ]
    },
    {
      "cell_type": "code",
      "source": [
        "# convert to date-time\n",
        "df[\"release_date\"] = pd.to_datetime(df['release_date'])\n",
        "\n",
        "# create seperate column for year, month, and day\n",
        "df['month'] = df['release_date'].dt.month\n",
        "df['year'] = df['release_date'].dt.year\n",
        "df['day'] = df['release_date'].dt.day\n",
        "\n",
        "df['day_of_week'] = df['release_date'].dt.dayofweek\n",
        "df['weekend'] = df['day_of_week'].isin([5, 6]).astype(int)"
      ],
      "metadata": {
        "id": "l1rlN0P39C0e"
      },
      "execution_count": 9,
      "outputs": []
    },
    {
      "cell_type": "code",
      "source": [
        "#Drop columns\n",
        "df.drop('release_year',axis=1,inplace=True)\n",
        "df.drop('creator',axis=1,inplace=True)\n",
        "df.drop('release_date',axis=1,inplace=True)"
      ],
      "metadata": {
        "id": "SUWsR4mJ8nY3"
      },
      "execution_count": 10,
      "outputs": []
    },
    {
      "cell_type": "code",
      "source": [
        "df[['director','actors','production_country', 'hook_text', 'audio', 'subtitles', 'mood_tag']] = df[['director','actors','production_country', 'hook_text', 'audio', 'subtitles', 'mood_tag']].fillna('Unknown')\n",
        "df[['similar_titles_id']] = df[['similar_titles_id']].fillna('None')\n",
        "df['rating'] = df['rating'].fillna(df['rating'].mode()[0])"
      ],
      "metadata": {
        "id": "x-0-NL7hBLqk"
      },
      "execution_count": 11,
      "outputs": []
    },
    {
      "cell_type": "code",
      "source": [
        "# Age ratings\n",
        "df.rating.unique()"
      ],
      "metadata": {
        "id": "qOYYo2ZjCShO",
        "colab": {
          "base_uri": "https://localhost:8080/"
        },
        "outputId": "391c51b3-639a-4a9a-c927-ac11c854753a"
      },
      "execution_count": 12,
      "outputs": [
        {
          "output_type": "execute_result",
          "data": {
            "text/plain": [
              "array(['A', 'U/A 16+', 'U/A 13+', 'U/A 7+', 'U'], dtype=object)"
            ]
          },
          "metadata": {},
          "execution_count": 12
        }
      ]
    },
    {
      "cell_type": "code",
      "source": [
        "# Initialize LabelEncoder\n",
        "label_encoder = LabelEncoder()\n",
        "\n",
        "# Fit and transform the 'rating' column\n",
        "df[\"rating_encoded\"] = label_encoder.fit_transform(df[\"rating\"])"
      ],
      "metadata": {
        "id": "x_P0csEVC8V_"
      },
      "execution_count": 13,
      "outputs": []
    },
    {
      "cell_type": "code",
      "source": [
        "#one hot encoding\n",
        "dummies=pd.get_dummies(df.type)\n",
        "\n",
        "df = pd.concat([df,dummies],axis=1)\n",
        "\n",
        "df.drop('type',axis=1,inplace=True)"
      ],
      "metadata": {
        "id": "JTqo6nMzEJoJ"
      },
      "execution_count": 14,
      "outputs": []
    },
    {
      "cell_type": "code",
      "source": [
        "df[df['year']==1970]"
      ],
      "metadata": {
        "id": "Zj9aN96RIe6_",
        "colab": {
          "base_uri": "https://localhost:8080/",
          "height": 551
        },
        "outputId": "5614cad5-13df-4af8-c3f6-16f88c2ef566"
      },
      "execution_count": 15,
      "outputs": [
        {
          "output_type": "execute_result",
          "data": {
            "text/plain": [
              "                                           name  rating duration  \\\n",
              "showid                                                             \n",
              "80151644  Puss in Book: Trapped in an Epic Tale  U/A 7+   0.5833   \n",
              "80196044                               The Crew       A   1.3333   \n",
              "81031181                  Goyo: The Boy General       A   2.4833   \n",
              "81023623                          Close Enemies       A   1.8333   \n",
              "\n",
              "                                                description  \\\n",
              "showid                                                        \n",
              "80151644  Puss in Boots has fallen into a magic book rul...   \n",
              "80196044  After an unexpected misstep, a crew of skilled...   \n",
              "81031181  Brash ladies' man Gregorio \"Goyo\" del Pilar ri...   \n",
              "81023623  After an ambush leaves his partner dead, drug ...   \n",
              "\n",
              "                                                  hook_text     genre  \\\n",
              "showid                                                                  \n",
              "80151644                                            Unknown      Kids   \n",
              "80196044  French hip-hop artist Kaaris co-stars as a men...  Thriller   \n",
              "81031181                                            Unknown     Drama   \n",
              "81023623  Nominated for a Golden Lion at the Venice Film...     Drama   \n",
              "\n",
              "         mood_tag                                             actors  \\\n",
              "showid                                                                 \n",
              "80151644    Goofy  Eric Bauza;Jayma Mays;Maria Bamford;Jeff Benne...   \n",
              "80196044   Gritty  Sami Bouajila;Guillaume Gouix;Youssef Hajdi;Re...   \n",
              "81031181  Unknown  Paulo Avelino;Carlo Aquino;Arron Villaflor;Mon...   \n",
              "81023623   Gritty  Matthias Schoenaerts;Reda Kateb;Adel Bencherif...   \n",
              "\n",
              "                               director    audio  ...  \\\n",
              "showid                                            ...   \n",
              "80151644  Roy Burdine;Johnny Castuciano  Unknown  ...   \n",
              "80196044                Julien Leclercq  Unknown  ...   \n",
              "81031181                  Jerrold Tarog  Unknown  ...   \n",
              "81023623                David Oelhoffen  Unknown  ...   \n",
              "\n",
              "                                          similar_titles_id  \\\n",
              "showid                                                        \n",
              "80151644  80018988;81054409;80994695;81108751;80227574;8...   \n",
              "80196044  81175433;81079723;81446739;81721676;81115400;7...   \n",
              "81031181  81726434;80141777;80218962;81687835;81268316;8...   \n",
              "81023623  81115400;81483371;81102814;81312798;81218770;8...   \n",
              "\n",
              "         production_country month  year  day  day_of_week  weekend  \\\n",
              "showid                                                               \n",
              "80151644      United States     1  1970    1            3        0   \n",
              "80196044             France     1  1970    1            3        0   \n",
              "81031181        Philippines     1  1970    1            3        0   \n",
              "81023623             France     1  1970    1            3        0   \n",
              "\n",
              "          rating_encoded  Movie  TVSeries  \n",
              "showid                                     \n",
              "80151644               4      1         0  \n",
              "80196044               0      1         0  \n",
              "81031181               0      1         0  \n",
              "81023623               0      1         0  \n",
              "\n",
              "[4 rows x 22 columns]"
            ],
            "text/html": [
              "\n",
              "  <div id=\"df-d41ceeae-3499-4073-8aee-ed59c4add25f\" class=\"colab-df-container\">\n",
              "    <div>\n",
              "<style scoped>\n",
              "    .dataframe tbody tr th:only-of-type {\n",
              "        vertical-align: middle;\n",
              "    }\n",
              "\n",
              "    .dataframe tbody tr th {\n",
              "        vertical-align: top;\n",
              "    }\n",
              "\n",
              "    .dataframe thead th {\n",
              "        text-align: right;\n",
              "    }\n",
              "</style>\n",
              "<table border=\"1\" class=\"dataframe\">\n",
              "  <thead>\n",
              "    <tr style=\"text-align: right;\">\n",
              "      <th></th>\n",
              "      <th>name</th>\n",
              "      <th>rating</th>\n",
              "      <th>duration</th>\n",
              "      <th>description</th>\n",
              "      <th>hook_text</th>\n",
              "      <th>genre</th>\n",
              "      <th>mood_tag</th>\n",
              "      <th>actors</th>\n",
              "      <th>director</th>\n",
              "      <th>audio</th>\n",
              "      <th>...</th>\n",
              "      <th>similar_titles_id</th>\n",
              "      <th>production_country</th>\n",
              "      <th>month</th>\n",
              "      <th>year</th>\n",
              "      <th>day</th>\n",
              "      <th>day_of_week</th>\n",
              "      <th>weekend</th>\n",
              "      <th>rating_encoded</th>\n",
              "      <th>Movie</th>\n",
              "      <th>TVSeries</th>\n",
              "    </tr>\n",
              "    <tr>\n",
              "      <th>showid</th>\n",
              "      <th></th>\n",
              "      <th></th>\n",
              "      <th></th>\n",
              "      <th></th>\n",
              "      <th></th>\n",
              "      <th></th>\n",
              "      <th></th>\n",
              "      <th></th>\n",
              "      <th></th>\n",
              "      <th></th>\n",
              "      <th></th>\n",
              "      <th></th>\n",
              "      <th></th>\n",
              "      <th></th>\n",
              "      <th></th>\n",
              "      <th></th>\n",
              "      <th></th>\n",
              "      <th></th>\n",
              "      <th></th>\n",
              "      <th></th>\n",
              "      <th></th>\n",
              "    </tr>\n",
              "  </thead>\n",
              "  <tbody>\n",
              "    <tr>\n",
              "      <th>80151644</th>\n",
              "      <td>Puss in Book: Trapped in an Epic Tale</td>\n",
              "      <td>U/A 7+</td>\n",
              "      <td>0.5833</td>\n",
              "      <td>Puss in Boots has fallen into a magic book rul...</td>\n",
              "      <td>Unknown</td>\n",
              "      <td>Kids</td>\n",
              "      <td>Goofy</td>\n",
              "      <td>Eric Bauza;Jayma Mays;Maria Bamford;Jeff Benne...</td>\n",
              "      <td>Roy Burdine;Johnny Castuciano</td>\n",
              "      <td>Unknown</td>\n",
              "      <td>...</td>\n",
              "      <td>80018988;81054409;80994695;81108751;80227574;8...</td>\n",
              "      <td>United States</td>\n",
              "      <td>1</td>\n",
              "      <td>1970</td>\n",
              "      <td>1</td>\n",
              "      <td>3</td>\n",
              "      <td>0</td>\n",
              "      <td>4</td>\n",
              "      <td>1</td>\n",
              "      <td>0</td>\n",
              "    </tr>\n",
              "    <tr>\n",
              "      <th>80196044</th>\n",
              "      <td>The Crew</td>\n",
              "      <td>A</td>\n",
              "      <td>1.3333</td>\n",
              "      <td>After an unexpected misstep, a crew of skilled...</td>\n",
              "      <td>French hip-hop artist Kaaris co-stars as a men...</td>\n",
              "      <td>Thriller</td>\n",
              "      <td>Gritty</td>\n",
              "      <td>Sami Bouajila;Guillaume Gouix;Youssef Hajdi;Re...</td>\n",
              "      <td>Julien Leclercq</td>\n",
              "      <td>Unknown</td>\n",
              "      <td>...</td>\n",
              "      <td>81175433;81079723;81446739;81721676;81115400;7...</td>\n",
              "      <td>France</td>\n",
              "      <td>1</td>\n",
              "      <td>1970</td>\n",
              "      <td>1</td>\n",
              "      <td>3</td>\n",
              "      <td>0</td>\n",
              "      <td>0</td>\n",
              "      <td>1</td>\n",
              "      <td>0</td>\n",
              "    </tr>\n",
              "    <tr>\n",
              "      <th>81031181</th>\n",
              "      <td>Goyo: The Boy General</td>\n",
              "      <td>A</td>\n",
              "      <td>2.4833</td>\n",
              "      <td>Brash ladies' man Gregorio \"Goyo\" del Pilar ri...</td>\n",
              "      <td>Unknown</td>\n",
              "      <td>Drama</td>\n",
              "      <td>Unknown</td>\n",
              "      <td>Paulo Avelino;Carlo Aquino;Arron Villaflor;Mon...</td>\n",
              "      <td>Jerrold Tarog</td>\n",
              "      <td>Unknown</td>\n",
              "      <td>...</td>\n",
              "      <td>81726434;80141777;80218962;81687835;81268316;8...</td>\n",
              "      <td>Philippines</td>\n",
              "      <td>1</td>\n",
              "      <td>1970</td>\n",
              "      <td>1</td>\n",
              "      <td>3</td>\n",
              "      <td>0</td>\n",
              "      <td>0</td>\n",
              "      <td>1</td>\n",
              "      <td>0</td>\n",
              "    </tr>\n",
              "    <tr>\n",
              "      <th>81023623</th>\n",
              "      <td>Close Enemies</td>\n",
              "      <td>A</td>\n",
              "      <td>1.8333</td>\n",
              "      <td>After an ambush leaves his partner dead, drug ...</td>\n",
              "      <td>Nominated for a Golden Lion at the Venice Film...</td>\n",
              "      <td>Drama</td>\n",
              "      <td>Gritty</td>\n",
              "      <td>Matthias Schoenaerts;Reda Kateb;Adel Bencherif...</td>\n",
              "      <td>David Oelhoffen</td>\n",
              "      <td>Unknown</td>\n",
              "      <td>...</td>\n",
              "      <td>81115400;81483371;81102814;81312798;81218770;8...</td>\n",
              "      <td>France</td>\n",
              "      <td>1</td>\n",
              "      <td>1970</td>\n",
              "      <td>1</td>\n",
              "      <td>3</td>\n",
              "      <td>0</td>\n",
              "      <td>0</td>\n",
              "      <td>1</td>\n",
              "      <td>0</td>\n",
              "    </tr>\n",
              "  </tbody>\n",
              "</table>\n",
              "<p>4 rows × 22 columns</p>\n",
              "</div>\n",
              "    <div class=\"colab-df-buttons\">\n",
              "\n",
              "  <div class=\"colab-df-container\">\n",
              "    <button class=\"colab-df-convert\" onclick=\"convertToInteractive('df-d41ceeae-3499-4073-8aee-ed59c4add25f')\"\n",
              "            title=\"Convert this dataframe to an interactive table.\"\n",
              "            style=\"display:none;\">\n",
              "\n",
              "  <svg xmlns=\"http://www.w3.org/2000/svg\" height=\"24px\" viewBox=\"0 -960 960 960\">\n",
              "    <path d=\"M120-120v-720h720v720H120Zm60-500h600v-160H180v160Zm220 220h160v-160H400v160Zm0 220h160v-160H400v160ZM180-400h160v-160H180v160Zm440 0h160v-160H620v160ZM180-180h160v-160H180v160Zm440 0h160v-160H620v160Z\"/>\n",
              "  </svg>\n",
              "    </button>\n",
              "\n",
              "  <style>\n",
              "    .colab-df-container {\n",
              "      display:flex;\n",
              "      gap: 12px;\n",
              "    }\n",
              "\n",
              "    .colab-df-convert {\n",
              "      background-color: #E8F0FE;\n",
              "      border: none;\n",
              "      border-radius: 50%;\n",
              "      cursor: pointer;\n",
              "      display: none;\n",
              "      fill: #1967D2;\n",
              "      height: 32px;\n",
              "      padding: 0 0 0 0;\n",
              "      width: 32px;\n",
              "    }\n",
              "\n",
              "    .colab-df-convert:hover {\n",
              "      background-color: #E2EBFA;\n",
              "      box-shadow: 0px 1px 2px rgba(60, 64, 67, 0.3), 0px 1px 3px 1px rgba(60, 64, 67, 0.15);\n",
              "      fill: #174EA6;\n",
              "    }\n",
              "\n",
              "    .colab-df-buttons div {\n",
              "      margin-bottom: 4px;\n",
              "    }\n",
              "\n",
              "    [theme=dark] .colab-df-convert {\n",
              "      background-color: #3B4455;\n",
              "      fill: #D2E3FC;\n",
              "    }\n",
              "\n",
              "    [theme=dark] .colab-df-convert:hover {\n",
              "      background-color: #434B5C;\n",
              "      box-shadow: 0px 1px 3px 1px rgba(0, 0, 0, 0.15);\n",
              "      filter: drop-shadow(0px 1px 2px rgba(0, 0, 0, 0.3));\n",
              "      fill: #FFFFFF;\n",
              "    }\n",
              "  </style>\n",
              "\n",
              "    <script>\n",
              "      const buttonEl =\n",
              "        document.querySelector('#df-d41ceeae-3499-4073-8aee-ed59c4add25f button.colab-df-convert');\n",
              "      buttonEl.style.display =\n",
              "        google.colab.kernel.accessAllowed ? 'block' : 'none';\n",
              "\n",
              "      async function convertToInteractive(key) {\n",
              "        const element = document.querySelector('#df-d41ceeae-3499-4073-8aee-ed59c4add25f');\n",
              "        const dataTable =\n",
              "          await google.colab.kernel.invokeFunction('convertToInteractive',\n",
              "                                                    [key], {});\n",
              "        if (!dataTable) return;\n",
              "\n",
              "        const docLinkHtml = 'Like what you see? Visit the ' +\n",
              "          '<a target=\"_blank\" href=https://colab.research.google.com/notebooks/data_table.ipynb>data table notebook</a>'\n",
              "          + ' to learn more about interactive tables.';\n",
              "        element.innerHTML = '';\n",
              "        dataTable['output_type'] = 'display_data';\n",
              "        await google.colab.output.renderOutput(dataTable, element);\n",
              "        const docLink = document.createElement('div');\n",
              "        docLink.innerHTML = docLinkHtml;\n",
              "        element.appendChild(docLink);\n",
              "      }\n",
              "    </script>\n",
              "  </div>\n",
              "\n",
              "\n",
              "<div id=\"df-de86f596-4c83-49e5-9bef-901d6c3d6020\">\n",
              "  <button class=\"colab-df-quickchart\" onclick=\"quickchart('df-de86f596-4c83-49e5-9bef-901d6c3d6020')\"\n",
              "            title=\"Suggest charts\"\n",
              "            style=\"display:none;\">\n",
              "\n",
              "<svg xmlns=\"http://www.w3.org/2000/svg\" height=\"24px\"viewBox=\"0 0 24 24\"\n",
              "     width=\"24px\">\n",
              "    <g>\n",
              "        <path d=\"M19 3H5c-1.1 0-2 .9-2 2v14c0 1.1.9 2 2 2h14c1.1 0 2-.9 2-2V5c0-1.1-.9-2-2-2zM9 17H7v-7h2v7zm4 0h-2V7h2v10zm4 0h-2v-4h2v4z\"/>\n",
              "    </g>\n",
              "</svg>\n",
              "  </button>\n",
              "\n",
              "<style>\n",
              "  .colab-df-quickchart {\n",
              "      --bg-color: #E8F0FE;\n",
              "      --fill-color: #1967D2;\n",
              "      --hover-bg-color: #E2EBFA;\n",
              "      --hover-fill-color: #174EA6;\n",
              "      --disabled-fill-color: #AAA;\n",
              "      --disabled-bg-color: #DDD;\n",
              "  }\n",
              "\n",
              "  [theme=dark] .colab-df-quickchart {\n",
              "      --bg-color: #3B4455;\n",
              "      --fill-color: #D2E3FC;\n",
              "      --hover-bg-color: #434B5C;\n",
              "      --hover-fill-color: #FFFFFF;\n",
              "      --disabled-bg-color: #3B4455;\n",
              "      --disabled-fill-color: #666;\n",
              "  }\n",
              "\n",
              "  .colab-df-quickchart {\n",
              "    background-color: var(--bg-color);\n",
              "    border: none;\n",
              "    border-radius: 50%;\n",
              "    cursor: pointer;\n",
              "    display: none;\n",
              "    fill: var(--fill-color);\n",
              "    height: 32px;\n",
              "    padding: 0;\n",
              "    width: 32px;\n",
              "  }\n",
              "\n",
              "  .colab-df-quickchart:hover {\n",
              "    background-color: var(--hover-bg-color);\n",
              "    box-shadow: 0 1px 2px rgba(60, 64, 67, 0.3), 0 1px 3px 1px rgba(60, 64, 67, 0.15);\n",
              "    fill: var(--button-hover-fill-color);\n",
              "  }\n",
              "\n",
              "  .colab-df-quickchart-complete:disabled,\n",
              "  .colab-df-quickchart-complete:disabled:hover {\n",
              "    background-color: var(--disabled-bg-color);\n",
              "    fill: var(--disabled-fill-color);\n",
              "    box-shadow: none;\n",
              "  }\n",
              "\n",
              "  .colab-df-spinner {\n",
              "    border: 2px solid var(--fill-color);\n",
              "    border-color: transparent;\n",
              "    border-bottom-color: var(--fill-color);\n",
              "    animation:\n",
              "      spin 1s steps(1) infinite;\n",
              "  }\n",
              "\n",
              "  @keyframes spin {\n",
              "    0% {\n",
              "      border-color: transparent;\n",
              "      border-bottom-color: var(--fill-color);\n",
              "      border-left-color: var(--fill-color);\n",
              "    }\n",
              "    20% {\n",
              "      border-color: transparent;\n",
              "      border-left-color: var(--fill-color);\n",
              "      border-top-color: var(--fill-color);\n",
              "    }\n",
              "    30% {\n",
              "      border-color: transparent;\n",
              "      border-left-color: var(--fill-color);\n",
              "      border-top-color: var(--fill-color);\n",
              "      border-right-color: var(--fill-color);\n",
              "    }\n",
              "    40% {\n",
              "      border-color: transparent;\n",
              "      border-right-color: var(--fill-color);\n",
              "      border-top-color: var(--fill-color);\n",
              "    }\n",
              "    60% {\n",
              "      border-color: transparent;\n",
              "      border-right-color: var(--fill-color);\n",
              "    }\n",
              "    80% {\n",
              "      border-color: transparent;\n",
              "      border-right-color: var(--fill-color);\n",
              "      border-bottom-color: var(--fill-color);\n",
              "    }\n",
              "    90% {\n",
              "      border-color: transparent;\n",
              "      border-bottom-color: var(--fill-color);\n",
              "    }\n",
              "  }\n",
              "</style>\n",
              "\n",
              "  <script>\n",
              "    async function quickchart(key) {\n",
              "      const quickchartButtonEl =\n",
              "        document.querySelector('#' + key + ' button');\n",
              "      quickchartButtonEl.disabled = true;  // To prevent multiple clicks.\n",
              "      quickchartButtonEl.classList.add('colab-df-spinner');\n",
              "      try {\n",
              "        const charts = await google.colab.kernel.invokeFunction(\n",
              "            'suggestCharts', [key], {});\n",
              "      } catch (error) {\n",
              "        console.error('Error during call to suggestCharts:', error);\n",
              "      }\n",
              "      quickchartButtonEl.classList.remove('colab-df-spinner');\n",
              "      quickchartButtonEl.classList.add('colab-df-quickchart-complete');\n",
              "    }\n",
              "    (() => {\n",
              "      let quickchartButtonEl =\n",
              "        document.querySelector('#df-de86f596-4c83-49e5-9bef-901d6c3d6020 button');\n",
              "      quickchartButtonEl.style.display =\n",
              "        google.colab.kernel.accessAllowed ? 'block' : 'none';\n",
              "    })();\n",
              "  </script>\n",
              "</div>\n",
              "    </div>\n",
              "  </div>\n"
            ],
            "application/vnd.google.colaboratory.intrinsic+json": {
              "type": "dataframe"
            }
          },
          "metadata": {},
          "execution_count": 15
        }
      ]
    },
    {
      "cell_type": "code",
      "source": [
        "## droping the 1970 movies as all the other movies are from 2015 to present\n",
        "df.drop(df[df['year']==1970].index, axis=0,inplace=True)"
      ],
      "metadata": {
        "id": "nOy1RAG8JZ2y"
      },
      "execution_count": 16,
      "outputs": []
    },
    {
      "cell_type": "code",
      "source": [
        "df.genre.value_counts()"
      ],
      "metadata": {
        "id": "ToKNxL2yKntj",
        "colab": {
          "base_uri": "https://localhost:8080/"
        },
        "outputId": "1f9de33d-fa41-47da-89b1-7b3125d2cbd0"
      },
      "execution_count": 17,
      "outputs": [
        {
          "output_type": "execute_result",
          "data": {
            "text/plain": [
              "Drama               1737\n",
              "Comedy              1357\n",
              "Documentary          791\n",
              "Kids                 642\n",
              "Action               466\n",
              "Thriller             356\n",
              "Romance              355\n",
              "Anime                287\n",
              "Reality TV           259\n",
              "Horror               223\n",
              "Sci-Fi                85\n",
              "Fantasy               65\n",
              "Music                 26\n",
              "Special Interest      10\n",
              "Talk Show             10\n",
              "Variety TV             9\n",
              "Musical                7\n",
              "Sports                 4\n",
              "Western                4\n",
              "Friendship             1\n",
              "Name: genre, dtype: int64"
            ]
          },
          "metadata": {},
          "execution_count": 17
        }
      ]
    },
    {
      "cell_type": "code",
      "source": [
        "# Fit and transform the 'genre' column\n",
        "df[\"genre_encoded\"] = label_encoder.fit_transform(df[\"genre\"])"
      ],
      "metadata": {
        "id": "KukTCwvMm1W7"
      },
      "execution_count": 18,
      "outputs": []
    },
    {
      "cell_type": "code",
      "source": [
        "df.production_country.value_counts()"
      ],
      "metadata": {
        "id": "lqmbgJ-CK4IE",
        "colab": {
          "base_uri": "https://localhost:8080/"
        },
        "outputId": "fc24339c-b0ec-4c0a-ea80-dfcd924755b8"
      },
      "execution_count": 19,
      "outputs": [
        {
          "output_type": "execute_result",
          "data": {
            "text/plain": [
              "United States           1898\n",
              "India                    866\n",
              "Unknown                  554\n",
              "Japan                    477\n",
              "South Korea              402\n",
              "United Kingdom           265\n",
              "Spain                    203\n",
              "Mexico                   148\n",
              "Africa                   146\n",
              "France                   125\n",
              "China                    122\n",
              "Canada                   111\n",
              "Brazil                   101\n",
              "Germany                   86\n",
              "Indonesia                 83\n",
              "Turkey                    78\n",
              "Italy                     76\n",
              "South Africa              76\n",
              "Taiwan                    74\n",
              "Poland                    69\n",
              "Egypt                     68\n",
              "Australia                 67\n",
              "Thailand                  64\n",
              "Philippines               59\n",
              "Colombia                  47\n",
              "Argentina                 44\n",
              "Scandinavia               37\n",
              "Malaysia                  34\n",
              "Singapore                 27\n",
              "Middle East               25\n",
              "Saudi Arabia              24\n",
              "Norway                    23\n",
              "Netherlands               22\n",
              "Vietnam                   21\n",
              "Lebanon                   19\n",
              "Nigeria                   17\n",
              "Swaden                    16\n",
              "Belgium                   16\n",
              "United Arab Emirates      15\n",
              "Russia                    11\n",
              "Kuwait                    11\n",
              "Chile                      9\n",
              "Denmark                    8\n",
              "Peru                       7\n",
              "Israel                     7\n",
              "Ireland                    6\n",
              "Syria                      5\n",
              "Romania                    4\n",
              "Austria                    4\n",
              "New Zealand                3\n",
              "Portugal                   3\n",
              "Ukraine                    3\n",
              "Switzerland                2\n",
              "Greece                     2\n",
              "Afganistan                 1\n",
              "Nepal                      1\n",
              "Finland                    1\n",
              "Czech Republic             1\n",
              "Name: production_country, dtype: int64"
            ]
          },
          "metadata": {},
          "execution_count": 19
        }
      ]
    },
    {
      "cell_type": "code",
      "source": [
        "# Split tags with multiple values\n",
        "tags_split = [tag.split(';') for tag in df['mood_tag'].values]\n",
        "\n",
        "# Use MultiLabelBinarizer for one-hot encoding\n",
        "mlb = MultiLabelBinarizer()\n",
        "encoded_tags = pd.DataFrame(mlb.fit_transform(tags_split), columns=mlb.classes_)"
      ],
      "metadata": {
        "id": "TBe9TJcXseAA"
      },
      "execution_count": 20,
      "outputs": []
    },
    {
      "cell_type": "code",
      "source": [
        "encoded_tags.columns"
      ],
      "metadata": {
        "id": "ElzBcDTxtuyf",
        "colab": {
          "base_uri": "https://localhost:8080/"
        },
        "outputId": "79c2b757-2047-45bc-8be3-a40385c91987"
      },
      "execution_count": 21,
      "outputs": [
        {
          "output_type": "execute_result",
          "data": {
            "text/plain": [
              "Index(['Absurd', 'Adrenaline Rush', 'Bittersweet', 'Campy', 'Cerebral',\n",
              "       'Charming', 'Chilling', 'Controversial', 'Dark', 'Deadpan', 'Emotional',\n",
              "       'Exciting', 'Feel-Good', 'Goofy', 'Gritty', 'Heartfelt', 'Inspiring',\n",
              "       'Intimate', 'Investigative', 'Mind-Bending', 'Nostalgic', 'Offbeat',\n",
              "       'Ominous', 'Provocative', 'Psychological', 'Quirky', 'Raunchy',\n",
              "       'Relaxing', 'Romantic', 'Scandalous', 'Scary', 'Sentimental', 'Steamy',\n",
              "       'Suspenseful', 'Swoonworthy', 'Understated', 'Unknown', 'Violent',\n",
              "       'Witty'],\n",
              "      dtype='object')"
            ]
          },
          "metadata": {},
          "execution_count": 21
        }
      ]
    },
    {
      "cell_type": "code",
      "source": [
        "#dropping unknown tags column\n",
        "encoded_tags.drop('Unknown',axis=1,inplace=True)"
      ],
      "metadata": {
        "id": "ZRsrvyuuvUZb"
      },
      "execution_count": 22,
      "outputs": []
    },
    {
      "cell_type": "code",
      "source": [
        "encoded_tags['showid'] = df.index"
      ],
      "metadata": {
        "id": "5hO8AurNELg_"
      },
      "execution_count": 23,
      "outputs": []
    },
    {
      "cell_type": "code",
      "source": [
        "tags_final = encoded_tags.set_index('showid')"
      ],
      "metadata": {
        "id": "jjUcnBD3E-4x"
      },
      "execution_count": 24,
      "outputs": []
    },
    {
      "cell_type": "code",
      "source": [
        "df.director.value_counts()"
      ],
      "metadata": {
        "id": "eUCo8QqlvrUM",
        "colab": {
          "base_uri": "https://localhost:8080/"
        },
        "outputId": "dd9e2c46-0bcf-40ea-be48-5b39e02f39a1"
      },
      "execution_count": 25,
      "outputs": [
        {
          "output_type": "execute_result",
          "data": {
            "text/plain": [
              "Unknown                  2438\n",
              "Raúl Campos;Jan Suter      17\n",
              "Suhas Kadav                17\n",
              "Rajiv Chilaka              16\n",
              "Marcus Raboy               15\n",
              "                         ... \n",
              "Choi Jin-seong              1\n",
              "Ridha Behi                  1\n",
              "Assad Fouladkar             1\n",
              "Ismail Farouk               1\n",
              "Rhys Thomas                 1\n",
              "Name: director, Length: 3094, dtype: int64"
            ]
          },
          "metadata": {},
          "execution_count": 25
        }
      ]
    },
    {
      "cell_type": "code",
      "source": [
        "# Split tags with multiple values\n",
        "directors_split = [tag.split(';') for tag in df['director'].values]\n",
        "\n",
        "# Use MultiLabelBinarizer for one-hot encoding\n",
        "encoded_directors = pd.DataFrame(mlb.fit_transform(directors_split), columns=mlb.classes_)"
      ],
      "metadata": {
        "id": "cXduki9CwB1v"
      },
      "execution_count": 26,
      "outputs": []
    },
    {
      "cell_type": "code",
      "source": [
        "column_sums = encoded_directors.sum(axis=0)\n",
        "\n",
        "# Print the column sums\n",
        "greater_than_10_columns = column_sums[column_sums >=10].index"
      ],
      "metadata": {
        "id": "lFycjRRizmpv"
      },
      "execution_count": 27,
      "outputs": []
    },
    {
      "cell_type": "code",
      "source": [
        "selected_directors = encoded_directors[greater_than_10_columns]\n",
        "#dropping unknown directors column\n",
        "selected_directors.drop('Unknown',axis=1,inplace=True)"
      ],
      "metadata": {
        "id": "vRrXKzSEwMrC"
      },
      "execution_count": 28,
      "outputs": []
    },
    {
      "cell_type": "code",
      "source": [
        "selected_directors['showid'] = df.index"
      ],
      "metadata": {
        "id": "FI5VMRCrGvMg"
      },
      "execution_count": 29,
      "outputs": []
    },
    {
      "cell_type": "code",
      "source": [
        "directors_final = selected_directors.set_index('showid')"
      ],
      "metadata": {
        "id": "sKHTtPkpGzTn"
      },
      "execution_count": 30,
      "outputs": []
    },
    {
      "cell_type": "code",
      "source": [
        "# Extract numerical part from 'duration' column\n",
        "df['duration'] = df['duration'].str.extract('(\\d+\\.?\\d*)').astype(float)"
      ],
      "metadata": {
        "id": "5F2sttPg5YgB"
      },
      "execution_count": 31,
      "outputs": []
    },
    {
      "cell_type": "code",
      "source": [
        "selected_columns = ['description','month','year','day', 'day_of_week','weekend','rating_encoded','genre_encoded' ]\n",
        "\n",
        "# Create a new DataFrame with only the selected columns\n",
        "df_trans = df[selected_columns].copy()"
      ],
      "metadata": {
        "id": "c6xWeQlV5bxD"
      },
      "execution_count": 32,
      "outputs": []
    },
    {
      "cell_type": "code",
      "source": [
        "df_trans_new = pd.merge(df_trans, tags_final, left_index=True, right_index=True)\n",
        "# df_trans_new = pd.merge(df_trans_new, directors_final, left_index=True, right_index=True)"
      ],
      "metadata": {
        "id": "rM6mpQJS9vy2"
      },
      "execution_count": 33,
      "outputs": []
    },
    {
      "cell_type": "code",
      "source": [
        "df_trans_new.head()"
      ],
      "metadata": {
        "id": "B-ffZk_GD27a",
        "colab": {
          "base_uri": "https://localhost:8080/",
          "height": 582
        },
        "outputId": "d0f87e58-85de-4dbf-ffc2-b96a300268e4"
      },
      "execution_count": 34,
      "outputs": [
        {
          "output_type": "execute_result",
          "data": {
            "text/plain": [
              "                                                description  month  year  day  \\\n",
              "showid                                                                          \n",
              "81607354  When one accidental killing leads to another, ...      2  2024    9   \n",
              "81616617  From an intoxicating fantasy to a dangerous af...      2  2024    9   \n",
              "81732726  A struggling local journalist begins a dogged ...      2  2024    9   \n",
              "81611991  In this twisting documentary, a mechanic tries...      2  2024    9   \n",
              "70305903  With humanity teetering on the brink of extinc...      2  2024    9   \n",
              "\n",
              "          day_of_week  weekend  rating_encoded  genre_encoded  Absurd  \\\n",
              "showid                                                                  \n",
              "81607354            4        0               0             17       0   \n",
              "81616617            4        0               0              4       0   \n",
              "81732726            4        0               0              4       0   \n",
              "81611991            4        0               3              3       0   \n",
              "70305903            4        0               2             13       0   \n",
              "\n",
              "          Adrenaline Rush  ...  Romantic  Scandalous  Scary  Sentimental  \\\n",
              "showid                     ...                                             \n",
              "81607354                0  ...         0           0      0            0   \n",
              "81616617                0  ...         1           0      0            0   \n",
              "81732726                0  ...         0           0      0            0   \n",
              "81611991                0  ...         0           0      0            0   \n",
              "70305903                0  ...         0           0      0            0   \n",
              "\n",
              "          Steamy  Suspenseful  Swoonworthy  Understated  Violent  Witty  \n",
              "showid                                                                   \n",
              "81607354       0            1            0            0        0      0  \n",
              "81616617       0            0            0            0        0      0  \n",
              "81732726       0            0            0            0        0      0  \n",
              "81611991       0            0            0            0        0      0  \n",
              "70305903       0            0            0            0        0      0  \n",
              "\n",
              "[5 rows x 46 columns]"
            ],
            "text/html": [
              "\n",
              "  <div id=\"df-5d6ac5c2-5269-4040-8779-ed5cd4cb81db\" class=\"colab-df-container\">\n",
              "    <div>\n",
              "<style scoped>\n",
              "    .dataframe tbody tr th:only-of-type {\n",
              "        vertical-align: middle;\n",
              "    }\n",
              "\n",
              "    .dataframe tbody tr th {\n",
              "        vertical-align: top;\n",
              "    }\n",
              "\n",
              "    .dataframe thead th {\n",
              "        text-align: right;\n",
              "    }\n",
              "</style>\n",
              "<table border=\"1\" class=\"dataframe\">\n",
              "  <thead>\n",
              "    <tr style=\"text-align: right;\">\n",
              "      <th></th>\n",
              "      <th>description</th>\n",
              "      <th>month</th>\n",
              "      <th>year</th>\n",
              "      <th>day</th>\n",
              "      <th>day_of_week</th>\n",
              "      <th>weekend</th>\n",
              "      <th>rating_encoded</th>\n",
              "      <th>genre_encoded</th>\n",
              "      <th>Absurd</th>\n",
              "      <th>Adrenaline Rush</th>\n",
              "      <th>...</th>\n",
              "      <th>Romantic</th>\n",
              "      <th>Scandalous</th>\n",
              "      <th>Scary</th>\n",
              "      <th>Sentimental</th>\n",
              "      <th>Steamy</th>\n",
              "      <th>Suspenseful</th>\n",
              "      <th>Swoonworthy</th>\n",
              "      <th>Understated</th>\n",
              "      <th>Violent</th>\n",
              "      <th>Witty</th>\n",
              "    </tr>\n",
              "    <tr>\n",
              "      <th>showid</th>\n",
              "      <th></th>\n",
              "      <th></th>\n",
              "      <th></th>\n",
              "      <th></th>\n",
              "      <th></th>\n",
              "      <th></th>\n",
              "      <th></th>\n",
              "      <th></th>\n",
              "      <th></th>\n",
              "      <th></th>\n",
              "      <th></th>\n",
              "      <th></th>\n",
              "      <th></th>\n",
              "      <th></th>\n",
              "      <th></th>\n",
              "      <th></th>\n",
              "      <th></th>\n",
              "      <th></th>\n",
              "      <th></th>\n",
              "      <th></th>\n",
              "      <th></th>\n",
              "    </tr>\n",
              "  </thead>\n",
              "  <tbody>\n",
              "    <tr>\n",
              "      <th>81607354</th>\n",
              "      <td>When one accidental killing leads to another, ...</td>\n",
              "      <td>2</td>\n",
              "      <td>2024</td>\n",
              "      <td>9</td>\n",
              "      <td>4</td>\n",
              "      <td>0</td>\n",
              "      <td>0</td>\n",
              "      <td>17</td>\n",
              "      <td>0</td>\n",
              "      <td>0</td>\n",
              "      <td>...</td>\n",
              "      <td>0</td>\n",
              "      <td>0</td>\n",
              "      <td>0</td>\n",
              "      <td>0</td>\n",
              "      <td>0</td>\n",
              "      <td>1</td>\n",
              "      <td>0</td>\n",
              "      <td>0</td>\n",
              "      <td>0</td>\n",
              "      <td>0</td>\n",
              "    </tr>\n",
              "    <tr>\n",
              "      <th>81616617</th>\n",
              "      <td>From an intoxicating fantasy to a dangerous af...</td>\n",
              "      <td>2</td>\n",
              "      <td>2024</td>\n",
              "      <td>9</td>\n",
              "      <td>4</td>\n",
              "      <td>0</td>\n",
              "      <td>0</td>\n",
              "      <td>4</td>\n",
              "      <td>0</td>\n",
              "      <td>0</td>\n",
              "      <td>...</td>\n",
              "      <td>1</td>\n",
              "      <td>0</td>\n",
              "      <td>0</td>\n",
              "      <td>0</td>\n",
              "      <td>0</td>\n",
              "      <td>0</td>\n",
              "      <td>0</td>\n",
              "      <td>0</td>\n",
              "      <td>0</td>\n",
              "      <td>0</td>\n",
              "    </tr>\n",
              "    <tr>\n",
              "      <th>81732726</th>\n",
              "      <td>A struggling local journalist begins a dogged ...</td>\n",
              "      <td>2</td>\n",
              "      <td>2024</td>\n",
              "      <td>9</td>\n",
              "      <td>4</td>\n",
              "      <td>0</td>\n",
              "      <td>0</td>\n",
              "      <td>4</td>\n",
              "      <td>0</td>\n",
              "      <td>0</td>\n",
              "      <td>...</td>\n",
              "      <td>0</td>\n",
              "      <td>0</td>\n",
              "      <td>0</td>\n",
              "      <td>0</td>\n",
              "      <td>0</td>\n",
              "      <td>0</td>\n",
              "      <td>0</td>\n",
              "      <td>0</td>\n",
              "      <td>0</td>\n",
              "      <td>0</td>\n",
              "    </tr>\n",
              "    <tr>\n",
              "      <th>81611991</th>\n",
              "      <td>In this twisting documentary, a mechanic tries...</td>\n",
              "      <td>2</td>\n",
              "      <td>2024</td>\n",
              "      <td>9</td>\n",
              "      <td>4</td>\n",
              "      <td>0</td>\n",
              "      <td>3</td>\n",
              "      <td>3</td>\n",
              "      <td>0</td>\n",
              "      <td>0</td>\n",
              "      <td>...</td>\n",
              "      <td>0</td>\n",
              "      <td>0</td>\n",
              "      <td>0</td>\n",
              "      <td>0</td>\n",
              "      <td>0</td>\n",
              "      <td>0</td>\n",
              "      <td>0</td>\n",
              "      <td>0</td>\n",
              "      <td>0</td>\n",
              "      <td>0</td>\n",
              "    </tr>\n",
              "    <tr>\n",
              "      <th>70305903</th>\n",
              "      <td>With humanity teetering on the brink of extinc...</td>\n",
              "      <td>2</td>\n",
              "      <td>2024</td>\n",
              "      <td>9</td>\n",
              "      <td>4</td>\n",
              "      <td>0</td>\n",
              "      <td>2</td>\n",
              "      <td>13</td>\n",
              "      <td>0</td>\n",
              "      <td>0</td>\n",
              "      <td>...</td>\n",
              "      <td>0</td>\n",
              "      <td>0</td>\n",
              "      <td>0</td>\n",
              "      <td>0</td>\n",
              "      <td>0</td>\n",
              "      <td>0</td>\n",
              "      <td>0</td>\n",
              "      <td>0</td>\n",
              "      <td>0</td>\n",
              "      <td>0</td>\n",
              "    </tr>\n",
              "  </tbody>\n",
              "</table>\n",
              "<p>5 rows × 46 columns</p>\n",
              "</div>\n",
              "    <div class=\"colab-df-buttons\">\n",
              "\n",
              "  <div class=\"colab-df-container\">\n",
              "    <button class=\"colab-df-convert\" onclick=\"convertToInteractive('df-5d6ac5c2-5269-4040-8779-ed5cd4cb81db')\"\n",
              "            title=\"Convert this dataframe to an interactive table.\"\n",
              "            style=\"display:none;\">\n",
              "\n",
              "  <svg xmlns=\"http://www.w3.org/2000/svg\" height=\"24px\" viewBox=\"0 -960 960 960\">\n",
              "    <path d=\"M120-120v-720h720v720H120Zm60-500h600v-160H180v160Zm220 220h160v-160H400v160Zm0 220h160v-160H400v160ZM180-400h160v-160H180v160Zm440 0h160v-160H620v160ZM180-180h160v-160H180v160Zm440 0h160v-160H620v160Z\"/>\n",
              "  </svg>\n",
              "    </button>\n",
              "\n",
              "  <style>\n",
              "    .colab-df-container {\n",
              "      display:flex;\n",
              "      gap: 12px;\n",
              "    }\n",
              "\n",
              "    .colab-df-convert {\n",
              "      background-color: #E8F0FE;\n",
              "      border: none;\n",
              "      border-radius: 50%;\n",
              "      cursor: pointer;\n",
              "      display: none;\n",
              "      fill: #1967D2;\n",
              "      height: 32px;\n",
              "      padding: 0 0 0 0;\n",
              "      width: 32px;\n",
              "    }\n",
              "\n",
              "    .colab-df-convert:hover {\n",
              "      background-color: #E2EBFA;\n",
              "      box-shadow: 0px 1px 2px rgba(60, 64, 67, 0.3), 0px 1px 3px 1px rgba(60, 64, 67, 0.15);\n",
              "      fill: #174EA6;\n",
              "    }\n",
              "\n",
              "    .colab-df-buttons div {\n",
              "      margin-bottom: 4px;\n",
              "    }\n",
              "\n",
              "    [theme=dark] .colab-df-convert {\n",
              "      background-color: #3B4455;\n",
              "      fill: #D2E3FC;\n",
              "    }\n",
              "\n",
              "    [theme=dark] .colab-df-convert:hover {\n",
              "      background-color: #434B5C;\n",
              "      box-shadow: 0px 1px 3px 1px rgba(0, 0, 0, 0.15);\n",
              "      filter: drop-shadow(0px 1px 2px rgba(0, 0, 0, 0.3));\n",
              "      fill: #FFFFFF;\n",
              "    }\n",
              "  </style>\n",
              "\n",
              "    <script>\n",
              "      const buttonEl =\n",
              "        document.querySelector('#df-5d6ac5c2-5269-4040-8779-ed5cd4cb81db button.colab-df-convert');\n",
              "      buttonEl.style.display =\n",
              "        google.colab.kernel.accessAllowed ? 'block' : 'none';\n",
              "\n",
              "      async function convertToInteractive(key) {\n",
              "        const element = document.querySelector('#df-5d6ac5c2-5269-4040-8779-ed5cd4cb81db');\n",
              "        const dataTable =\n",
              "          await google.colab.kernel.invokeFunction('convertToInteractive',\n",
              "                                                    [key], {});\n",
              "        if (!dataTable) return;\n",
              "\n",
              "        const docLinkHtml = 'Like what you see? Visit the ' +\n",
              "          '<a target=\"_blank\" href=https://colab.research.google.com/notebooks/data_table.ipynb>data table notebook</a>'\n",
              "          + ' to learn more about interactive tables.';\n",
              "        element.innerHTML = '';\n",
              "        dataTable['output_type'] = 'display_data';\n",
              "        await google.colab.output.renderOutput(dataTable, element);\n",
              "        const docLink = document.createElement('div');\n",
              "        docLink.innerHTML = docLinkHtml;\n",
              "        element.appendChild(docLink);\n",
              "      }\n",
              "    </script>\n",
              "  </div>\n",
              "\n",
              "\n",
              "<div id=\"df-c3cfa196-51fd-4049-b272-24c60d68a325\">\n",
              "  <button class=\"colab-df-quickchart\" onclick=\"quickchart('df-c3cfa196-51fd-4049-b272-24c60d68a325')\"\n",
              "            title=\"Suggest charts\"\n",
              "            style=\"display:none;\">\n",
              "\n",
              "<svg xmlns=\"http://www.w3.org/2000/svg\" height=\"24px\"viewBox=\"0 0 24 24\"\n",
              "     width=\"24px\">\n",
              "    <g>\n",
              "        <path d=\"M19 3H5c-1.1 0-2 .9-2 2v14c0 1.1.9 2 2 2h14c1.1 0 2-.9 2-2V5c0-1.1-.9-2-2-2zM9 17H7v-7h2v7zm4 0h-2V7h2v10zm4 0h-2v-4h2v4z\"/>\n",
              "    </g>\n",
              "</svg>\n",
              "  </button>\n",
              "\n",
              "<style>\n",
              "  .colab-df-quickchart {\n",
              "      --bg-color: #E8F0FE;\n",
              "      --fill-color: #1967D2;\n",
              "      --hover-bg-color: #E2EBFA;\n",
              "      --hover-fill-color: #174EA6;\n",
              "      --disabled-fill-color: #AAA;\n",
              "      --disabled-bg-color: #DDD;\n",
              "  }\n",
              "\n",
              "  [theme=dark] .colab-df-quickchart {\n",
              "      --bg-color: #3B4455;\n",
              "      --fill-color: #D2E3FC;\n",
              "      --hover-bg-color: #434B5C;\n",
              "      --hover-fill-color: #FFFFFF;\n",
              "      --disabled-bg-color: #3B4455;\n",
              "      --disabled-fill-color: #666;\n",
              "  }\n",
              "\n",
              "  .colab-df-quickchart {\n",
              "    background-color: var(--bg-color);\n",
              "    border: none;\n",
              "    border-radius: 50%;\n",
              "    cursor: pointer;\n",
              "    display: none;\n",
              "    fill: var(--fill-color);\n",
              "    height: 32px;\n",
              "    padding: 0;\n",
              "    width: 32px;\n",
              "  }\n",
              "\n",
              "  .colab-df-quickchart:hover {\n",
              "    background-color: var(--hover-bg-color);\n",
              "    box-shadow: 0 1px 2px rgba(60, 64, 67, 0.3), 0 1px 3px 1px rgba(60, 64, 67, 0.15);\n",
              "    fill: var(--button-hover-fill-color);\n",
              "  }\n",
              "\n",
              "  .colab-df-quickchart-complete:disabled,\n",
              "  .colab-df-quickchart-complete:disabled:hover {\n",
              "    background-color: var(--disabled-bg-color);\n",
              "    fill: var(--disabled-fill-color);\n",
              "    box-shadow: none;\n",
              "  }\n",
              "\n",
              "  .colab-df-spinner {\n",
              "    border: 2px solid var(--fill-color);\n",
              "    border-color: transparent;\n",
              "    border-bottom-color: var(--fill-color);\n",
              "    animation:\n",
              "      spin 1s steps(1) infinite;\n",
              "  }\n",
              "\n",
              "  @keyframes spin {\n",
              "    0% {\n",
              "      border-color: transparent;\n",
              "      border-bottom-color: var(--fill-color);\n",
              "      border-left-color: var(--fill-color);\n",
              "    }\n",
              "    20% {\n",
              "      border-color: transparent;\n",
              "      border-left-color: var(--fill-color);\n",
              "      border-top-color: var(--fill-color);\n",
              "    }\n",
              "    30% {\n",
              "      border-color: transparent;\n",
              "      border-left-color: var(--fill-color);\n",
              "      border-top-color: var(--fill-color);\n",
              "      border-right-color: var(--fill-color);\n",
              "    }\n",
              "    40% {\n",
              "      border-color: transparent;\n",
              "      border-right-color: var(--fill-color);\n",
              "      border-top-color: var(--fill-color);\n",
              "    }\n",
              "    60% {\n",
              "      border-color: transparent;\n",
              "      border-right-color: var(--fill-color);\n",
              "    }\n",
              "    80% {\n",
              "      border-color: transparent;\n",
              "      border-right-color: var(--fill-color);\n",
              "      border-bottom-color: var(--fill-color);\n",
              "    }\n",
              "    90% {\n",
              "      border-color: transparent;\n",
              "      border-bottom-color: var(--fill-color);\n",
              "    }\n",
              "  }\n",
              "</style>\n",
              "\n",
              "  <script>\n",
              "    async function quickchart(key) {\n",
              "      const quickchartButtonEl =\n",
              "        document.querySelector('#' + key + ' button');\n",
              "      quickchartButtonEl.disabled = true;  // To prevent multiple clicks.\n",
              "      quickchartButtonEl.classList.add('colab-df-spinner');\n",
              "      try {\n",
              "        const charts = await google.colab.kernel.invokeFunction(\n",
              "            'suggestCharts', [key], {});\n",
              "      } catch (error) {\n",
              "        console.error('Error during call to suggestCharts:', error);\n",
              "      }\n",
              "      quickchartButtonEl.classList.remove('colab-df-spinner');\n",
              "      quickchartButtonEl.classList.add('colab-df-quickchart-complete');\n",
              "    }\n",
              "    (() => {\n",
              "      let quickchartButtonEl =\n",
              "        document.querySelector('#df-c3cfa196-51fd-4049-b272-24c60d68a325 button');\n",
              "      quickchartButtonEl.style.display =\n",
              "        google.colab.kernel.accessAllowed ? 'block' : 'none';\n",
              "    })();\n",
              "  </script>\n",
              "</div>\n",
              "    </div>\n",
              "  </div>\n"
            ],
            "application/vnd.google.colaboratory.intrinsic+json": {
              "type": "dataframe",
              "variable_name": "df_trans_new"
            }
          },
          "metadata": {},
          "execution_count": 34
        }
      ]
    },
    {
      "cell_type": "code",
      "source": [
        "df_trans_new.info()"
      ],
      "metadata": {
        "id": "Ar2novmD2B99",
        "colab": {
          "base_uri": "https://localhost:8080/"
        },
        "outputId": "25a46319-c230-4156-a952-87f204ff312f"
      },
      "execution_count": 35,
      "outputs": [
        {
          "output_type": "stream",
          "name": "stdout",
          "text": [
            "<class 'pandas.core.frame.DataFrame'>\n",
            "Int64Index: 6694 entries, 81607354 to 80058424\n",
            "Data columns (total 46 columns):\n",
            " #   Column           Non-Null Count  Dtype \n",
            "---  ------           --------------  ----- \n",
            " 0   description      6694 non-null   object\n",
            " 1   month            6694 non-null   int64 \n",
            " 2   year             6694 non-null   int64 \n",
            " 3   day              6694 non-null   int64 \n",
            " 4   day_of_week      6694 non-null   int64 \n",
            " 5   weekend          6694 non-null   int64 \n",
            " 6   rating_encoded   6694 non-null   int64 \n",
            " 7   genre_encoded    6694 non-null   int64 \n",
            " 8   Absurd           6694 non-null   int64 \n",
            " 9   Adrenaline Rush  6694 non-null   int64 \n",
            " 10  Bittersweet      6694 non-null   int64 \n",
            " 11  Campy            6694 non-null   int64 \n",
            " 12  Cerebral         6694 non-null   int64 \n",
            " 13  Charming         6694 non-null   int64 \n",
            " 14  Chilling         6694 non-null   int64 \n",
            " 15  Controversial    6694 non-null   int64 \n",
            " 16  Dark             6694 non-null   int64 \n",
            " 17  Deadpan          6694 non-null   int64 \n",
            " 18  Emotional        6694 non-null   int64 \n",
            " 19  Exciting         6694 non-null   int64 \n",
            " 20  Feel-Good        6694 non-null   int64 \n",
            " 21  Goofy            6694 non-null   int64 \n",
            " 22  Gritty           6694 non-null   int64 \n",
            " 23  Heartfelt        6694 non-null   int64 \n",
            " 24  Inspiring        6694 non-null   int64 \n",
            " 25  Intimate         6694 non-null   int64 \n",
            " 26  Investigative    6694 non-null   int64 \n",
            " 27  Mind-Bending     6694 non-null   int64 \n",
            " 28  Nostalgic        6694 non-null   int64 \n",
            " 29  Offbeat          6694 non-null   int64 \n",
            " 30  Ominous          6694 non-null   int64 \n",
            " 31  Provocative      6694 non-null   int64 \n",
            " 32  Psychological    6694 non-null   int64 \n",
            " 33  Quirky           6694 non-null   int64 \n",
            " 34  Raunchy          6694 non-null   int64 \n",
            " 35  Relaxing         6694 non-null   int64 \n",
            " 36  Romantic         6694 non-null   int64 \n",
            " 37  Scandalous       6694 non-null   int64 \n",
            " 38  Scary            6694 non-null   int64 \n",
            " 39  Sentimental      6694 non-null   int64 \n",
            " 40  Steamy           6694 non-null   int64 \n",
            " 41  Suspenseful      6694 non-null   int64 \n",
            " 42  Swoonworthy      6694 non-null   int64 \n",
            " 43  Understated      6694 non-null   int64 \n",
            " 44  Violent          6694 non-null   int64 \n",
            " 45  Witty            6694 non-null   int64 \n",
            "dtypes: int64(45), object(1)\n",
            "memory usage: 2.7+ MB\n"
          ]
        }
      ]
    },
    {
      "cell_type": "code",
      "source": [
        "#  standardize the data\n",
        "# Mean\n",
        "X_mean = df_trans_new.mean()\n",
        "\n",
        "# Standard deviation\n",
        "X_std = df_trans_new.std()\n",
        "\n",
        "# Standardization\n",
        "Z = (df_trans_new - X_mean) / X_std"
      ],
      "metadata": {
        "id": "Bgp5ZEsIA9n4"
      },
      "execution_count": 36,
      "outputs": []
    },
    {
      "cell_type": "code",
      "source": [
        "# covariance\n",
        "c = Z.cov()\n",
        "\n",
        "# Plot the covariance matrix\n",
        "import matplotlib.pyplot as plt\n",
        "import seaborn as sns\n",
        "sns.heatmap(c)\n",
        "plt.show()"
      ],
      "metadata": {
        "id": "S_qHVk-WBNza",
        "colab": {
          "base_uri": "https://localhost:8080/",
          "height": 572
        },
        "outputId": "d0c3b7a8-42cd-4a0d-987a-d1b4ecda650c"
      },
      "execution_count": 37,
      "outputs": [
        {
          "output_type": "display_data",
          "data": {
            "text/plain": [
              "<Figure size 800x550 with 2 Axes>"
            ],
            "image/png": "[encoded data removed]"
          },
          "metadata": {}
        }
      ]
    },
    {
      "cell_type": "markdown",
      "source": [
        "# Textual Data Preprocessing\n",
        "Considered the description column"
      ],
      "metadata": {
        "id": "2RVmPnxQf9mT"
      }
    },
    {
      "cell_type": "code",
      "source": [
        "df_text = df_trans_new.copy()"
      ],
      "metadata": {
        "id": "j7jhiu_mgTT4"
      },
      "execution_count": 38,
      "outputs": []
    },
    {
      "cell_type": "code",
      "source": [
        "## Creating new feature having length of words of description variable\n",
        "df_text['description_len'] = df_text['description'].apply(lambda x: len(x.split()))"
      ],
      "metadata": {
        "id": "Npa8EWLXfcMk"
      },
      "execution_count": 39,
      "outputs": []
    },
    {
      "cell_type": "code",
      "source": [
        "def contraction_process(corpus):\n",
        "    '''Function which expands contractions from the corpus\n",
        "    Args:\n",
        "    corpus (string): corpus to which function is to be applied\n",
        "    Returns:\n",
        "    corpus with expanded contractions\n",
        "    '''\n",
        "    corpus = contractions.fix(corpus)\n",
        "    return corpus\n",
        "\n",
        "# Apply the contraction_process function to each examples in description variable\n",
        "df_text['contractions_description']=df_text['description'].apply(contraction_process)\n",
        "df_text.head()"
      ],
      "metadata": {
        "id": "l9DGG81EgfPz",
        "colab": {
          "base_uri": "https://localhost:8080/",
          "height": 582
        },
        "outputId": "96c06fa9-aa35-45fd-8d30-1c75f01b8a85"
      },
      "execution_count": 40,
      "outputs": [
        {
          "output_type": "execute_result",
          "data": {
            "text/plain": [
              "                                                description  month  year  day  \\\n",
              "showid                                                                          \n",
              "81607354  When one accidental killing leads to another, ...      2  2024    9   \n",
              "81616617  From an intoxicating fantasy to a dangerous af...      2  2024    9   \n",
              "81732726  A struggling local journalist begins a dogged ...      2  2024    9   \n",
              "81611991  In this twisting documentary, a mechanic tries...      2  2024    9   \n",
              "70305903  With humanity teetering on the brink of extinc...      2  2024    9   \n",
              "\n",
              "          day_of_week  weekend  rating_encoded  genre_encoded  Absurd  \\\n",
              "showid                                                                  \n",
              "81607354            4        0               0             17       0   \n",
              "81616617            4        0               0              4       0   \n",
              "81732726            4        0               0              4       0   \n",
              "81611991            4        0               3              3       0   \n",
              "70305903            4        0               2             13       0   \n",
              "\n",
              "          Adrenaline Rush  ...  Scary  Sentimental  Steamy  Suspenseful  \\\n",
              "showid                     ...                                            \n",
              "81607354                0  ...      0            0       0            1   \n",
              "81616617                0  ...      0            0       0            0   \n",
              "81732726                0  ...      0            0       0            0   \n",
              "81611991                0  ...      0            0       0            0   \n",
              "70305903                0  ...      0            0       0            0   \n",
              "\n",
              "          Swoonworthy  Understated  Violent  Witty  description_len  \\\n",
              "showid                                                                \n",
              "81607354            0            0        0      0               23   \n",
              "81616617            0            0        0      0               23   \n",
              "81732726            0            0        0      0               22   \n",
              "81611991            0            0        0      0               25   \n",
              "70305903            0            0        0      0               22   \n",
              "\n",
              "                                   contractions_description  \n",
              "showid                                                       \n",
              "81607354  When one accidental killing leads to another, ...  \n",
              "81616617  From an intoxicating fantasy to a dangerous af...  \n",
              "81732726  A struggling local journalist begins a dogged ...  \n",
              "81611991  In this twisting documentary, a mechanic tries...  \n",
              "70305903  With humanity teetering on the brink of extinc...  \n",
              "\n",
              "[5 rows x 48 columns]"
            ],
            "text/html": [
              "\n",
              "  <div id=\"df-ea370c26-8415-4900-8483-15b4cd697507\" class=\"colab-df-container\">\n",
              "    <div>\n",
              "<style scoped>\n",
              "    .dataframe tbody tr th:only-of-type {\n",
              "        vertical-align: middle;\n",
              "    }\n",
              "\n",
              "    .dataframe tbody tr th {\n",
              "        vertical-align: top;\n",
              "    }\n",
              "\n",
              "    .dataframe thead th {\n",
              "        text-align: right;\n",
              "    }\n",
              "</style>\n",
              "<table border=\"1\" class=\"dataframe\">\n",
              "  <thead>\n",
              "    <tr style=\"text-align: right;\">\n",
              "      <th></th>\n",
              "      <th>description</th>\n",
              "      <th>month</th>\n",
              "      <th>year</th>\n",
              "      <th>day</th>\n",
              "      <th>day_of_week</th>\n",
              "      <th>weekend</th>\n",
              "      <th>rating_encoded</th>\n",
              "      <th>genre_encoded</th>\n",
              "      <th>Absurd</th>\n",
              "      <th>Adrenaline Rush</th>\n",
              "      <th>...</th>\n",
              "      <th>Scary</th>\n",
              "      <th>Sentimental</th>\n",
              "      <th>Steamy</th>\n",
              "      <th>Suspenseful</th>\n",
              "      <th>Swoonworthy</th>\n",
              "      <th>Understated</th>\n",
              "      <th>Violent</th>\n",
              "      <th>Witty</th>\n",
              "      <th>description_len</th>\n",
              "      <th>contractions_description</th>\n",
              "    </tr>\n",
              "    <tr>\n",
              "      <th>showid</th>\n",
              "      <th></th>\n",
              "      <th></th>\n",
              "      <th></th>\n",
              "      <th></th>\n",
              "      <th></th>\n",
              "      <th></th>\n",
              "      <th></th>\n",
              "      <th></th>\n",
              "      <th></th>\n",
              "      <th></th>\n",
              "      <th></th>\n",
              "      <th></th>\n",
              "      <th></th>\n",
              "      <th></th>\n",
              "      <th></th>\n",
              "      <th></th>\n",
              "      <th></th>\n",
              "      <th></th>\n",
              "      <th></th>\n",
              "      <th></th>\n",
              "      <th></th>\n",
              "    </tr>\n",
              "  </thead>\n",
              "  <tbody>\n",
              "    <tr>\n",
              "      <th>81607354</th>\n",
              "      <td>When one accidental killing leads to another, ...</td>\n",
              "      <td>2</td>\n",
              "      <td>2024</td>\n",
              "      <td>9</td>\n",
              "      <td>4</td>\n",
              "      <td>0</td>\n",
              "      <td>0</td>\n",
              "      <td>17</td>\n",
              "      <td>0</td>\n",
              "      <td>0</td>\n",
              "      <td>...</td>\n",
              "      <td>0</td>\n",
              "      <td>0</td>\n",
              "      <td>0</td>\n",
              "      <td>1</td>\n",
              "      <td>0</td>\n",
              "      <td>0</td>\n",
              "      <td>0</td>\n",
              "      <td>0</td>\n",
              "      <td>23</td>\n",
              "      <td>When one accidental killing leads to another, ...</td>\n",
              "    </tr>\n",
              "    <tr>\n",
              "      <th>81616617</th>\n",
              "      <td>From an intoxicating fantasy to a dangerous af...</td>\n",
              "      <td>2</td>\n",
              "      <td>2024</td>\n",
              "      <td>9</td>\n",
              "      <td>4</td>\n",
              "      <td>0</td>\n",
              "      <td>0</td>\n",
              "      <td>4</td>\n",
              "      <td>0</td>\n",
              "      <td>0</td>\n",
              "      <td>...</td>\n",
              "      <td>0</td>\n",
              "      <td>0</td>\n",
              "      <td>0</td>\n",
              "      <td>0</td>\n",
              "      <td>0</td>\n",
              "      <td>0</td>\n",
              "      <td>0</td>\n",
              "      <td>0</td>\n",
              "      <td>23</td>\n",
              "      <td>From an intoxicating fantasy to a dangerous af...</td>\n",
              "    </tr>\n",
              "    <tr>\n",
              "      <th>81732726</th>\n",
              "      <td>A struggling local journalist begins a dogged ...</td>\n",
              "      <td>2</td>\n",
              "      <td>2024</td>\n",
              "      <td>9</td>\n",
              "      <td>4</td>\n",
              "      <td>0</td>\n",
              "      <td>0</td>\n",
              "      <td>4</td>\n",
              "      <td>0</td>\n",
              "      <td>0</td>\n",
              "      <td>...</td>\n",
              "      <td>0</td>\n",
              "      <td>0</td>\n",
              "      <td>0</td>\n",
              "      <td>0</td>\n",
              "      <td>0</td>\n",
              "      <td>0</td>\n",
              "      <td>0</td>\n",
              "      <td>0</td>\n",
              "      <td>22</td>\n",
              "      <td>A struggling local journalist begins a dogged ...</td>\n",
              "    </tr>\n",
              "    <tr>\n",
              "      <th>81611991</th>\n",
              "      <td>In this twisting documentary, a mechanic tries...</td>\n",
              "      <td>2</td>\n",
              "      <td>2024</td>\n",
              "      <td>9</td>\n",
              "      <td>4</td>\n",
              "      <td>0</td>\n",
              "      <td>3</td>\n",
              "      <td>3</td>\n",
              "      <td>0</td>\n",
              "      <td>0</td>\n",
              "      <td>...</td>\n",
              "      <td>0</td>\n",
              "      <td>0</td>\n",
              "      <td>0</td>\n",
              "      <td>0</td>\n",
              "      <td>0</td>\n",
              "      <td>0</td>\n",
              "      <td>0</td>\n",
              "      <td>0</td>\n",
              "      <td>25</td>\n",
              "      <td>In this twisting documentary, a mechanic tries...</td>\n",
              "    </tr>\n",
              "    <tr>\n",
              "      <th>70305903</th>\n",
              "      <td>With humanity teetering on the brink of extinc...</td>\n",
              "      <td>2</td>\n",
              "      <td>2024</td>\n",
              "      <td>9</td>\n",
              "      <td>4</td>\n",
              "      <td>0</td>\n",
              "      <td>2</td>\n",
              "      <td>13</td>\n",
              "      <td>0</td>\n",
              "      <td>0</td>\n",
              "      <td>...</td>\n",
              "      <td>0</td>\n",
              "      <td>0</td>\n",
              "      <td>0</td>\n",
              "      <td>0</td>\n",
              "      <td>0</td>\n",
              "      <td>0</td>\n",
              "      <td>0</td>\n",
              "      <td>0</td>\n",
              "      <td>22</td>\n",
              "      <td>With humanity teetering on the brink of extinc...</td>\n",
              "    </tr>\n",
              "  </tbody>\n",
              "</table>\n",
              "<p>5 rows × 48 columns</p>\n",
              "</div>\n",
              "    <div class=\"colab-df-buttons\">\n",
              "\n",
              "  <div class=\"colab-df-container\">\n",
              "    <button class=\"colab-df-convert\" onclick=\"convertToInteractive('df-ea370c26-8415-4900-8483-15b4cd697507')\"\n",
              "            title=\"Convert this dataframe to an interactive table.\"\n",
              "            style=\"display:none;\">\n",
              "\n",
              "  <svg xmlns=\"http://www.w3.org/2000/svg\" height=\"24px\" viewBox=\"0 -960 960 960\">\n",
              "    <path d=\"M120-120v-720h720v720H120Zm60-500h600v-160H180v160Zm220 220h160v-160H400v160Zm0 220h160v-160H400v160ZM180-400h160v-160H180v160Zm440 0h160v-160H620v160ZM180-180h160v-160H180v160Zm440 0h160v-160H620v160Z\"/>\n",
              "  </svg>\n",
              "    </button>\n",
              "\n",
              "  <style>\n",
              "    .colab-df-container {\n",
              "      display:flex;\n",
              "      gap: 12px;\n",
              "    }\n",
              "\n",
              "    .colab-df-convert {\n",
              "      background-color: #E8F0FE;\n",
              "      border: none;\n",
              "      border-radius: 50%;\n",
              "      cursor: pointer;\n",
              "      display: none;\n",
              "      fill: #1967D2;\n",
              "      height: 32px;\n",
              "      padding: 0 0 0 0;\n",
              "      width: 32px;\n",
              "    }\n",
              "\n",
              "    .colab-df-convert:hover {\n",
              "      background-color: #E2EBFA;\n",
              "      box-shadow: 0px 1px 2px rgba(60, 64, 67, 0.3), 0px 1px 3px 1px rgba(60, 64, 67, 0.15);\n",
              "      fill: #174EA6;\n",
              "    }\n",
              "\n",
              "    .colab-df-buttons div {\n",
              "      margin-bottom: 4px;\n",
              "    }\n",
              "\n",
              "    [theme=dark] .colab-df-convert {\n",
              "      background-color: #3B4455;\n",
              "      fill: #D2E3FC;\n",
              "    }\n",
              "\n",
              "    [theme=dark] .colab-df-convert:hover {\n",
              "      background-color: #434B5C;\n",
              "      box-shadow: 0px 1px 3px 1px rgba(0, 0, 0, 0.15);\n",
              "      filter: drop-shadow(0px 1px 2px rgba(0, 0, 0, 0.3));\n",
              "      fill: #FFFFFF;\n",
              "    }\n",
              "  </style>\n",
              "\n",
              "    <script>\n",
              "      const buttonEl =\n",
              "        document.querySelector('#df-ea370c26-8415-4900-8483-15b4cd697507 button.colab-df-convert');\n",
              "      buttonEl.style.display =\n",
              "        google.colab.kernel.accessAllowed ? 'block' : 'none';\n",
              "\n",
              "      async function convertToInteractive(key) {\n",
              "        const element = document.querySelector('#df-ea370c26-8415-4900-8483-15b4cd697507');\n",
              "        const dataTable =\n",
              "          await google.colab.kernel.invokeFunction('convertToInteractive',\n",
              "                                                    [key], {});\n",
              "        if (!dataTable) return;\n",
              "\n",
              "        const docLinkHtml = 'Like what you see? Visit the ' +\n",
              "          '<a target=\"_blank\" href=https://colab.research.google.com/notebooks/data_table.ipynb>data table notebook</a>'\n",
              "          + ' to learn more about interactive tables.';\n",
              "        element.innerHTML = '';\n",
              "        dataTable['output_type'] = 'display_data';\n",
              "        await google.colab.output.renderOutput(dataTable, element);\n",
              "        const docLink = document.createElement('div');\n",
              "        docLink.innerHTML = docLinkHtml;\n",
              "        element.appendChild(docLink);\n",
              "      }\n",
              "    </script>\n",
              "  </div>\n",
              "\n",
              "\n",
              "<div id=\"df-2f7eed63-3b02-47d8-8ed0-171a5a201e1d\">\n",
              "  <button class=\"colab-df-quickchart\" onclick=\"quickchart('df-2f7eed63-3b02-47d8-8ed0-171a5a201e1d')\"\n",
              "            title=\"Suggest charts\"\n",
              "            style=\"display:none;\">\n",
              "\n",
              "<svg xmlns=\"http://www.w3.org/2000/svg\" height=\"24px\"viewBox=\"0 0 24 24\"\n",
              "     width=\"24px\">\n",
              "    <g>\n",
              "        <path d=\"M19 3H5c-1.1 0-2 .9-2 2v14c0 1.1.9 2 2 2h14c1.1 0 2-.9 2-2V5c0-1.1-.9-2-2-2zM9 17H7v-7h2v7zm4 0h-2V7h2v10zm4 0h-2v-4h2v4z\"/>\n",
              "    </g>\n",
              "</svg>\n",
              "  </button>\n",
              "\n",
              "<style>\n",
              "  .colab-df-quickchart {\n",
              "      --bg-color: #E8F0FE;\n",
              "      --fill-color: #1967D2;\n",
              "      --hover-bg-color: #E2EBFA;\n",
              "      --hover-fill-color: #174EA6;\n",
              "      --disabled-fill-color: #AAA;\n",
              "      --disabled-bg-color: #DDD;\n",
              "  }\n",
              "\n",
              "  [theme=dark] .colab-df-quickchart {\n",
              "      --bg-color: #3B4455;\n",
              "      --fill-color: #D2E3FC;\n",
              "      --hover-bg-color: #434B5C;\n",
              "      --hover-fill-color: #FFFFFF;\n",
              "      --disabled-bg-color: #3B4455;\n",
              "      --disabled-fill-color: #666;\n",
              "  }\n",
              "\n",
              "  .colab-df-quickchart {\n",
              "    background-color: var(--bg-color);\n",
              "    border: none;\n",
              "    border-radius: 50%;\n",
              "    cursor: pointer;\n",
              "    display: none;\n",
              "    fill: var(--fill-color);\n",
              "    height: 32px;\n",
              "    padding: 0;\n",
              "    width: 32px;\n",
              "  }\n",
              "\n",
              "  .colab-df-quickchart:hover {\n",
              "    background-color: var(--hover-bg-color);\n",
              "    box-shadow: 0 1px 2px rgba(60, 64, 67, 0.3), 0 1px 3px 1px rgba(60, 64, 67, 0.15);\n",
              "    fill: var(--button-hover-fill-color);\n",
              "  }\n",
              "\n",
              "  .colab-df-quickchart-complete:disabled,\n",
              "  .colab-df-quickchart-complete:disabled:hover {\n",
              "    background-color: var(--disabled-bg-color);\n",
              "    fill: var(--disabled-fill-color);\n",
              "    box-shadow: none;\n",
              "  }\n",
              "\n",
              "  .colab-df-spinner {\n",
              "    border: 2px solid var(--fill-color);\n",
              "    border-color: transparent;\n",
              "    border-bottom-color: var(--fill-color);\n",
              "    animation:\n",
              "      spin 1s steps(1) infinite;\n",
              "  }\n",
              "\n",
              "  @keyframes spin {\n",
              "    0% {\n",
              "      border-color: transparent;\n",
              "      border-bottom-color: var(--fill-color);\n",
              "      border-left-color: var(--fill-color);\n",
              "    }\n",
              "    20% {\n",
              "      border-color: transparent;\n",
              "      border-left-color: var(--fill-color);\n",
              "      border-top-color: var(--fill-color);\n",
              "    }\n",
              "    30% {\n",
              "      border-color: transparent;\n",
              "      border-left-color: var(--fill-color);\n",
              "      border-top-color: var(--fill-color);\n",
              "      border-right-color: var(--fill-color);\n",
              "    }\n",
              "    40% {\n",
              "      border-color: transparent;\n",
              "      border-right-color: var(--fill-color);\n",
              "      border-top-color: var(--fill-color);\n",
              "    }\n",
              "    60% {\n",
              "      border-color: transparent;\n",
              "      border-right-color: var(--fill-color);\n",
              "    }\n",
              "    80% {\n",
              "      border-color: transparent;\n",
              "      border-right-color: var(--fill-color);\n",
              "      border-bottom-color: var(--fill-color);\n",
              "    }\n",
              "    90% {\n",
              "      border-color: transparent;\n",
              "      border-bottom-color: var(--fill-color);\n",
              "    }\n",
              "  }\n",
              "</style>\n",
              "\n",
              "  <script>\n",
              "    async function quickchart(key) {\n",
              "      const quickchartButtonEl =\n",
              "        document.querySelector('#' + key + ' button');\n",
              "      quickchartButtonEl.disabled = true;  // To prevent multiple clicks.\n",
              "      quickchartButtonEl.classList.add('colab-df-spinner');\n",
              "      try {\n",
              "        const charts = await google.colab.kernel.invokeFunction(\n",
              "            'suggestCharts', [key], {});\n",
              "      } catch (error) {\n",
              "        console.error('Error during call to suggestCharts:', error);\n",
              "      }\n",
              "      quickchartButtonEl.classList.remove('colab-df-spinner');\n",
              "      quickchartButtonEl.classList.add('colab-df-quickchart-complete');\n",
              "    }\n",
              "    (() => {\n",
              "      let quickchartButtonEl =\n",
              "        document.querySelector('#df-2f7eed63-3b02-47d8-8ed0-171a5a201e1d button');\n",
              "      quickchartButtonEl.style.display =\n",
              "        google.colab.kernel.accessAllowed ? 'block' : 'none';\n",
              "    })();\n",
              "  </script>\n",
              "</div>\n",
              "    </div>\n",
              "  </div>\n"
            ],
            "application/vnd.google.colaboratory.intrinsic+json": {
              "type": "dataframe",
              "variable_name": "df_text"
            }
          },
          "metadata": {},
          "execution_count": 40
        }
      ]
    },
    {
      "cell_type": "code",
      "source": [
        "nltk.download('stopwords')\n",
        "stopwords = stopwords.words('english')\n",
        "# Displaying the English stopwords\n",
        "np.array(stopwords)"
      ],
      "metadata": {
        "id": "1tvJ4dG1hTu8",
        "colab": {
          "base_uri": "https://localhost:8080/"
        },
        "outputId": "5113dd12-4412-4e61-e440-b991ced73aac"
      },
      "execution_count": 41,
      "outputs": [
        {
          "output_type": "stream",
          "name": "stderr",
          "text": [
            "[nltk_data] Downloading package stopwords to /root/nltk_data...\n",
            "[nltk_data]   Unzipping corpora/stopwords.zip.\n"
          ]
        },
        {
          "output_type": "execute_result",
          "data": {
            "text/plain": [
              "array(['i', 'me', 'my', 'myself', 'we', 'our', 'ours', 'ourselves', 'you',\n",
              "       \"you're\", \"you've\", \"you'll\", \"you'd\", 'your', 'yours', 'yourself',\n",
              "       'yourselves', 'he', 'him', 'his', 'himself', 'she', \"she's\", 'her',\n",
              "       'hers', 'herself', 'it', \"it's\", 'its', 'itself', 'they', 'them',\n",
              "       'their', 'theirs', 'themselves', 'what', 'which', 'who', 'whom',\n",
              "       'this', 'that', \"that'll\", 'these', 'those', 'am', 'is', 'are',\n",
              "       'was', 'were', 'be', 'been', 'being', 'have', 'has', 'had',\n",
              "       'having', 'do', 'does', 'did', 'doing', 'a', 'an', 'the', 'and',\n",
              "       'but', 'if', 'or', 'because', 'as', 'until', 'while', 'of', 'at',\n",
              "       'by', 'for', 'with', 'about', 'against', 'between', 'into',\n",
              "       'through', 'during', 'before', 'after', 'above', 'below', 'to',\n",
              "       'from', 'up', 'down', 'in', 'out', 'on', 'off', 'over', 'under',\n",
              "       'again', 'further', 'then', 'once', 'here', 'there', 'when',\n",
              "       'where', 'why', 'how', 'all', 'any', 'both', 'each', 'few', 'more',\n",
              "       'most', 'other', 'some', 'such', 'no', 'nor', 'not', 'only', 'own',\n",
              "       'same', 'so', 'than', 'too', 'very', 's', 't', 'can', 'will',\n",
              "       'just', 'don', \"don't\", 'should', \"should've\", 'now', 'd', 'll',\n",
              "       'm', 'o', 're', 've', 'y', 'ain', 'aren', \"aren't\", 'couldn',\n",
              "       \"couldn't\", 'didn', \"didn't\", 'doesn', \"doesn't\", 'hadn', \"hadn't\",\n",
              "       'hasn', \"hasn't\", 'haven', \"haven't\", 'isn', \"isn't\", 'ma',\n",
              "       'mightn', \"mightn't\", 'mustn', \"mustn't\", 'needn', \"needn't\",\n",
              "       'shan', \"shan't\", 'shouldn', \"shouldn't\", 'wasn', \"wasn't\",\n",
              "       'weren', \"weren't\", 'won', \"won't\", 'wouldn', \"wouldn't\"],\n",
              "      dtype='<U10')"
            ]
          },
          "metadata": {},
          "execution_count": 41
        }
      ]
    },
    {
      "cell_type": "code",
      "source": [
        "# Extracting punctuations\n",
        "punctuations = string.punctuation\n",
        "# Displaying the punctuations\n",
        "punctuations"
      ],
      "metadata": {
        "id": "OpNzcNdyhctn",
        "colab": {
          "base_uri": "https://localhost:8080/",
          "height": 35
        },
        "outputId": "6176b9dc-ba09-4d16-9de3-fdab1ddf924d"
      },
      "execution_count": 42,
      "outputs": [
        {
          "output_type": "execute_result",
          "data": {
            "text/plain": [
              "'!\"#$%&\\'()*+,-./:;<=>?@[\\\\]^_`{|}~'"
            ],
            "application/vnd.google.colaboratory.intrinsic+json": {
              "type": "string"
            }
          },
          "metadata": {},
          "execution_count": 42
        }
      ]
    },
    {
      "cell_type": "code",
      "source": [
        "def punctuation_count(txt):\n",
        "    count = sum([1 for c in txt if c in punctuations])\n",
        "    return 100*count/len(txt)\n",
        "\n",
        "# Apply function to contractions_description variable\n",
        "df_text['punctuation_%'] = df_text['contractions_description'].apply(lambda x: punctuation_count(x))\n",
        "df_text.head()"
      ],
      "metadata": {
        "id": "5qVGmstIhjRw",
        "colab": {
          "base_uri": "https://localhost:8080/",
          "height": 582
        },
        "outputId": "51a1d881-715e-4b31-ea64-02402d9f2617"
      },
      "execution_count": 43,
      "outputs": [
        {
          "output_type": "execute_result",
          "data": {
            "text/plain": [
              "                                                description  month  year  day  \\\n",
              "showid                                                                          \n",
              "81607354  When one accidental killing leads to another, ...      2  2024    9   \n",
              "81616617  From an intoxicating fantasy to a dangerous af...      2  2024    9   \n",
              "81732726  A struggling local journalist begins a dogged ...      2  2024    9   \n",
              "81611991  In this twisting documentary, a mechanic tries...      2  2024    9   \n",
              "70305903  With humanity teetering on the brink of extinc...      2  2024    9   \n",
              "\n",
              "          day_of_week  weekend  rating_encoded  genre_encoded  Absurd  \\\n",
              "showid                                                                  \n",
              "81607354            4        0               0             17       0   \n",
              "81616617            4        0               0              4       0   \n",
              "81732726            4        0               0              4       0   \n",
              "81611991            4        0               3              3       0   \n",
              "70305903            4        0               2             13       0   \n",
              "\n",
              "          Adrenaline Rush  ...  Sentimental  Steamy  Suspenseful  Swoonworthy  \\\n",
              "showid                     ...                                                  \n",
              "81607354                0  ...            0       0            1            0   \n",
              "81616617                0  ...            0       0            0            0   \n",
              "81732726                0  ...            0       0            0            0   \n",
              "81611991                0  ...            0       0            0            0   \n",
              "70305903                0  ...            0       0            0            0   \n",
              "\n",
              "          Understated  Violent  Witty  description_len  \\\n",
              "showid                                                   \n",
              "81607354            0        0      0               23   \n",
              "81616617            0        0      0               23   \n",
              "81732726            0        0      0               22   \n",
              "81611991            0        0      0               25   \n",
              "70305903            0        0      0               22   \n",
              "\n",
              "                                   contractions_description  punctuation_%  \n",
              "showid                                                                      \n",
              "81607354  When one accidental killing leads to another, ...       2.739726  \n",
              "81616617  From an intoxicating fantasy to a dangerous af...       1.315789  \n",
              "81732726  A struggling local journalist begins a dogged ...       0.735294  \n",
              "81611991  In this twisting documentary, a mechanic tries...       1.360544  \n",
              "70305903  With humanity teetering on the brink of extinc...       1.418440  \n",
              "\n",
              "[5 rows x 49 columns]"
            ],
            "text/html": [
              "\n",
              "  <div id=\"df-71c9f097-6521-40d2-a18b-d512edab4175\" class=\"colab-df-container\">\n",
              "    <div>\n",
              "<style scoped>\n",
              "    .dataframe tbody tr th:only-of-type {\n",
              "        vertical-align: middle;\n",
              "    }\n",
              "\n",
              "    .dataframe tbody tr th {\n",
              "        vertical-align: top;\n",
              "    }\n",
              "\n",
              "    .dataframe thead th {\n",
              "        text-align: right;\n",
              "    }\n",
              "</style>\n",
              "<table border=\"1\" class=\"dataframe\">\n",
              "  <thead>\n",
              "    <tr style=\"text-align: right;\">\n",
              "      <th></th>\n",
              "      <th>description</th>\n",
              "      <th>month</th>\n",
              "      <th>year</th>\n",
              "      <th>day</th>\n",
              "      <th>day_of_week</th>\n",
              "      <th>weekend</th>\n",
              "      <th>rating_encoded</th>\n",
              "      <th>genre_encoded</th>\n",
              "      <th>Absurd</th>\n",
              "      <th>Adrenaline Rush</th>\n",
              "      <th>...</th>\n",
              "      <th>Sentimental</th>\n",
              "      <th>Steamy</th>\n",
              "      <th>Suspenseful</th>\n",
              "      <th>Swoonworthy</th>\n",
              "      <th>Understated</th>\n",
              "      <th>Violent</th>\n",
              "      <th>Witty</th>\n",
              "      <th>description_len</th>\n",
              "      <th>contractions_description</th>\n",
              "      <th>punctuation_%</th>\n",
              "    </tr>\n",
              "    <tr>\n",
              "      <th>showid</th>\n",
              "      <th></th>\n",
              "      <th></th>\n",
              "      <th></th>\n",
              "      <th></th>\n",
              "      <th></th>\n",
              "      <th></th>\n",
              "      <th></th>\n",
              "      <th></th>\n",
              "      <th></th>\n",
              "      <th></th>\n",
              "      <th></th>\n",
              "      <th></th>\n",
              "      <th></th>\n",
              "      <th></th>\n",
              "      <th></th>\n",
              "      <th></th>\n",
              "      <th></th>\n",
              "      <th></th>\n",
              "      <th></th>\n",
              "      <th></th>\n",
              "      <th></th>\n",
              "    </tr>\n",
              "  </thead>\n",
              "  <tbody>\n",
              "    <tr>\n",
              "      <th>81607354</th>\n",
              "      <td>When one accidental killing leads to another, ...</td>\n",
              "      <td>2</td>\n",
              "      <td>2024</td>\n",
              "      <td>9</td>\n",
              "      <td>4</td>\n",
              "      <td>0</td>\n",
              "      <td>0</td>\n",
              "      <td>17</td>\n",
              "      <td>0</td>\n",
              "      <td>0</td>\n",
              "      <td>...</td>\n",
              "      <td>0</td>\n",
              "      <td>0</td>\n",
              "      <td>1</td>\n",
              "      <td>0</td>\n",
              "      <td>0</td>\n",
              "      <td>0</td>\n",
              "      <td>0</td>\n",
              "      <td>23</td>\n",
              "      <td>When one accidental killing leads to another, ...</td>\n",
              "      <td>2.739726</td>\n",
              "    </tr>\n",
              "    <tr>\n",
              "      <th>81616617</th>\n",
              "      <td>From an intoxicating fantasy to a dangerous af...</td>\n",
              "      <td>2</td>\n",
              "      <td>2024</td>\n",
              "      <td>9</td>\n",
              "      <td>4</td>\n",
              "      <td>0</td>\n",
              "      <td>0</td>\n",
              "      <td>4</td>\n",
              "      <td>0</td>\n",
              "      <td>0</td>\n",
              "      <td>...</td>\n",
              "      <td>0</td>\n",
              "      <td>0</td>\n",
              "      <td>0</td>\n",
              "      <td>0</td>\n",
              "      <td>0</td>\n",
              "      <td>0</td>\n",
              "      <td>0</td>\n",
              "      <td>23</td>\n",
              "      <td>From an intoxicating fantasy to a dangerous af...</td>\n",
              "      <td>1.315789</td>\n",
              "    </tr>\n",
              "    <tr>\n",
              "      <th>81732726</th>\n",
              "      <td>A struggling local journalist begins a dogged ...</td>\n",
              "      <td>2</td>\n",
              "      <td>2024</td>\n",
              "      <td>9</td>\n",
              "      <td>4</td>\n",
              "      <td>0</td>\n",
              "      <td>0</td>\n",
              "      <td>4</td>\n",
              "      <td>0</td>\n",
              "      <td>0</td>\n",
              "      <td>...</td>\n",
              "      <td>0</td>\n",
              "      <td>0</td>\n",
              "      <td>0</td>\n",
              "      <td>0</td>\n",
              "      <td>0</td>\n",
              "      <td>0</td>\n",
              "      <td>0</td>\n",
              "      <td>22</td>\n",
              "      <td>A struggling local journalist begins a dogged ...</td>\n",
              "      <td>0.735294</td>\n",
              "    </tr>\n",
              "    <tr>\n",
              "      <th>81611991</th>\n",
              "      <td>In this twisting documentary, a mechanic tries...</td>\n",
              "      <td>2</td>\n",
              "      <td>2024</td>\n",
              "      <td>9</td>\n",
              "      <td>4</td>\n",
              "      <td>0</td>\n",
              "      <td>3</td>\n",
              "      <td>3</td>\n",
              "      <td>0</td>\n",
              "      <td>0</td>\n",
              "      <td>...</td>\n",
              "      <td>0</td>\n",
              "      <td>0</td>\n",
              "      <td>0</td>\n",
              "      <td>0</td>\n",
              "      <td>0</td>\n",
              "      <td>0</td>\n",
              "      <td>0</td>\n",
              "      <td>25</td>\n",
              "      <td>In this twisting documentary, a mechanic tries...</td>\n",
              "      <td>1.360544</td>\n",
              "    </tr>\n",
              "    <tr>\n",
              "      <th>70305903</th>\n",
              "      <td>With humanity teetering on the brink of extinc...</td>\n",
              "      <td>2</td>\n",
              "      <td>2024</td>\n",
              "      <td>9</td>\n",
              "      <td>4</td>\n",
              "      <td>0</td>\n",
              "      <td>2</td>\n",
              "      <td>13</td>\n",
              "      <td>0</td>\n",
              "      <td>0</td>\n",
              "      <td>...</td>\n",
              "      <td>0</td>\n",
              "      <td>0</td>\n",
              "      <td>0</td>\n",
              "      <td>0</td>\n",
              "      <td>0</td>\n",
              "      <td>0</td>\n",
              "      <td>0</td>\n",
              "      <td>22</td>\n",
              "      <td>With humanity teetering on the brink of extinc...</td>\n",
              "      <td>1.418440</td>\n",
              "    </tr>\n",
              "  </tbody>\n",
              "</table>\n",
              "<p>5 rows × 49 columns</p>\n",
              "</div>\n",
              "    <div class=\"colab-df-buttons\">\n",
              "\n",
              "  <div class=\"colab-df-container\">\n",
              "    <button class=\"colab-df-convert\" onclick=\"convertToInteractive('df-71c9f097-6521-40d2-a18b-d512edab4175')\"\n",
              "            title=\"Convert this dataframe to an interactive table.\"\n",
              "            style=\"display:none;\">\n",
              "\n",
              "  <svg xmlns=\"http://www.w3.org/2000/svg\" height=\"24px\" viewBox=\"0 -960 960 960\">\n",
              "    <path d=\"M120-120v-720h720v720H120Zm60-500h600v-160H180v160Zm220 220h160v-160H400v160Zm0 220h160v-160H400v160ZM180-400h160v-160H180v160Zm440 0h160v-160H620v160ZM180-180h160v-160H180v160Zm440 0h160v-160H620v160Z\"/>\n",
              "  </svg>\n",
              "    </button>\n",
              "\n",
              "  <style>\n",
              "    .colab-df-container {\n",
              "      display:flex;\n",
              "      gap: 12px;\n",
              "    }\n",
              "\n",
              "    .colab-df-convert {\n",
              "      background-color: #E8F0FE;\n",
              "      border: none;\n",
              "      border-radius: 50%;\n",
              "      cursor: pointer;\n",
              "      display: none;\n",
              "      fill: #1967D2;\n",
              "      height: 32px;\n",
              "      padding: 0 0 0 0;\n",
              "      width: 32px;\n",
              "    }\n",
              "\n",
              "    .colab-df-convert:hover {\n",
              "      background-color: #E2EBFA;\n",
              "      box-shadow: 0px 1px 2px rgba(60, 64, 67, 0.3), 0px 1px 3px 1px rgba(60, 64, 67, 0.15);\n",
              "      fill: #174EA6;\n",
              "    }\n",
              "\n",
              "    .colab-df-buttons div {\n",
              "      margin-bottom: 4px;\n",
              "    }\n",
              "\n",
              "    [theme=dark] .colab-df-convert {\n",
              "      background-color: #3B4455;\n",
              "      fill: #D2E3FC;\n",
              "    }\n",
              "\n",
              "    [theme=dark] .colab-df-convert:hover {\n",
              "      background-color: #434B5C;\n",
              "      box-shadow: 0px 1px 3px 1px rgba(0, 0, 0, 0.15);\n",
              "      filter: drop-shadow(0px 1px 2px rgba(0, 0, 0, 0.3));\n",
              "      fill: #FFFFFF;\n",
              "    }\n",
              "  </style>\n",
              "\n",
              "    <script>\n",
              "      const buttonEl =\n",
              "        document.querySelector('#df-71c9f097-6521-40d2-a18b-d512edab4175 button.colab-df-convert');\n",
              "      buttonEl.style.display =\n",
              "        google.colab.kernel.accessAllowed ? 'block' : 'none';\n",
              "\n",
              "      async function convertToInteractive(key) {\n",
              "        const element = document.querySelector('#df-71c9f097-6521-40d2-a18b-d512edab4175');\n",
              "        const dataTable =\n",
              "          await google.colab.kernel.invokeFunction('convertToInteractive',\n",
              "                                                    [key], {});\n",
              "        if (!dataTable) return;\n",
              "\n",
              "        const docLinkHtml = 'Like what you see? Visit the ' +\n",
              "          '<a target=\"_blank\" href=https://colab.research.google.com/notebooks/data_table.ipynb>data table notebook</a>'\n",
              "          + ' to learn more about interactive tables.';\n",
              "        element.innerHTML = '';\n",
              "        dataTable['output_type'] = 'display_data';\n",
              "        await google.colab.output.renderOutput(dataTable, element);\n",
              "        const docLink = document.createElement('div');\n",
              "        docLink.innerHTML = docLinkHtml;\n",
              "        element.appendChild(docLink);\n",
              "      }\n",
              "    </script>\n",
              "  </div>\n",
              "\n",
              "\n",
              "<div id=\"df-89a52ec5-d779-4c76-9c00-4ff62806c9d5\">\n",
              "  <button class=\"colab-df-quickchart\" onclick=\"quickchart('df-89a52ec5-d779-4c76-9c00-4ff62806c9d5')\"\n",
              "            title=\"Suggest charts\"\n",
              "            style=\"display:none;\">\n",
              "\n",
              "<svg xmlns=\"http://www.w3.org/2000/svg\" height=\"24px\"viewBox=\"0 0 24 24\"\n",
              "     width=\"24px\">\n",
              "    <g>\n",
              "        <path d=\"M19 3H5c-1.1 0-2 .9-2 2v14c0 1.1.9 2 2 2h14c1.1 0 2-.9 2-2V5c0-1.1-.9-2-2-2zM9 17H7v-7h2v7zm4 0h-2V7h2v10zm4 0h-2v-4h2v4z\"/>\n",
              "    </g>\n",
              "</svg>\n",
              "  </button>\n",
              "\n",
              "<style>\n",
              "  .colab-df-quickchart {\n",
              "      --bg-color: #E8F0FE;\n",
              "      --fill-color: #1967D2;\n",
              "      --hover-bg-color: #E2EBFA;\n",
              "      --hover-fill-color: #174EA6;\n",
              "      --disabled-fill-color: #AAA;\n",
              "      --disabled-bg-color: #DDD;\n",
              "  }\n",
              "\n",
              "  [theme=dark] .colab-df-quickchart {\n",
              "      --bg-color: #3B4455;\n",
              "      --fill-color: #D2E3FC;\n",
              "      --hover-bg-color: #434B5C;\n",
              "      --hover-fill-color: #FFFFFF;\n",
              "      --disabled-bg-color: #3B4455;\n",
              "      --disabled-fill-color: #666;\n",
              "  }\n",
              "\n",
              "  .colab-df-quickchart {\n",
              "    background-color: var(--bg-color);\n",
              "    border: none;\n",
              "    border-radius: 50%;\n",
              "    cursor: pointer;\n",
              "    display: none;\n",
              "    fill: var(--fill-color);\n",
              "    height: 32px;\n",
              "    padding: 0;\n",
              "    width: 32px;\n",
              "  }\n",
              "\n",
              "  .colab-df-quickchart:hover {\n",
              "    background-color: var(--hover-bg-color);\n",
              "    box-shadow: 0 1px 2px rgba(60, 64, 67, 0.3), 0 1px 3px 1px rgba(60, 64, 67, 0.15);\n",
              "    fill: var(--button-hover-fill-color);\n",
              "  }\n",
              "\n",
              "  .colab-df-quickchart-complete:disabled,\n",
              "  .colab-df-quickchart-complete:disabled:hover {\n",
              "    background-color: var(--disabled-bg-color);\n",
              "    fill: var(--disabled-fill-color);\n",
              "    box-shadow: none;\n",
              "  }\n",
              "\n",
              "  .colab-df-spinner {\n",
              "    border: 2px solid var(--fill-color);\n",
              "    border-color: transparent;\n",
              "    border-bottom-color: var(--fill-color);\n",
              "    animation:\n",
              "      spin 1s steps(1) infinite;\n",
              "  }\n",
              "\n",
              "  @keyframes spin {\n",
              "    0% {\n",
              "      border-color: transparent;\n",
              "      border-bottom-color: var(--fill-color);\n",
              "      border-left-color: var(--fill-color);\n",
              "    }\n",
              "    20% {\n",
              "      border-color: transparent;\n",
              "      border-left-color: var(--fill-color);\n",
              "      border-top-color: var(--fill-color);\n",
              "    }\n",
              "    30% {\n",
              "      border-color: transparent;\n",
              "      border-left-color: var(--fill-color);\n",
              "      border-top-color: var(--fill-color);\n",
              "      border-right-color: var(--fill-color);\n",
              "    }\n",
              "    40% {\n",
              "      border-color: transparent;\n",
              "      border-right-color: var(--fill-color);\n",
              "      border-top-color: var(--fill-color);\n",
              "    }\n",
              "    60% {\n",
              "      border-color: transparent;\n",
              "      border-right-color: var(--fill-color);\n",
              "    }\n",
              "    80% {\n",
              "      border-color: transparent;\n",
              "      border-right-color: var(--fill-color);\n",
              "      border-bottom-color: var(--fill-color);\n",
              "    }\n",
              "    90% {\n",
              "      border-color: transparent;\n",
              "      border-bottom-color: var(--fill-color);\n",
              "    }\n",
              "  }\n",
              "</style>\n",
              "\n",
              "  <script>\n",
              "    async function quickchart(key) {\n",
              "      const quickchartButtonEl =\n",
              "        document.querySelector('#' + key + ' button');\n",
              "      quickchartButtonEl.disabled = true;  // To prevent multiple clicks.\n",
              "      quickchartButtonEl.classList.add('colab-df-spinner');\n",
              "      try {\n",
              "        const charts = await google.colab.kernel.invokeFunction(\n",
              "            'suggestCharts', [key], {});\n",
              "      } catch (error) {\n",
              "        console.error('Error during call to suggestCharts:', error);\n",
              "      }\n",
              "      quickchartButtonEl.classList.remove('colab-df-spinner');\n",
              "      quickchartButtonEl.classList.add('colab-df-quickchart-complete');\n",
              "    }\n",
              "    (() => {\n",
              "      let quickchartButtonEl =\n",
              "        document.querySelector('#df-89a52ec5-d779-4c76-9c00-4ff62806c9d5 button');\n",
              "      quickchartButtonEl.style.display =\n",
              "        google.colab.kernel.accessAllowed ? 'block' : 'none';\n",
              "    })();\n",
              "  </script>\n",
              "</div>\n",
              "    </div>\n",
              "  </div>\n"
            ],
            "application/vnd.google.colaboratory.intrinsic+json": {
              "type": "dataframe",
              "variable_name": "df_text"
            }
          },
          "metadata": {},
          "execution_count": 43
        }
      ]
    },
    {
      "cell_type": "code",
      "source": [
        "plt.figure(figsize=(12,6))\n",
        "bins = np.linspace(0, 250, 50)\n",
        "\n",
        "# Plot histogram\n",
        "plt.hist(df_text['punctuation_%'], bins)\n",
        "plt.axvline(df_text['punctuation_%'].mean(), color='black', linestyle='dashed', label='average_punctuation_%')\n",
        "\n",
        "# Labeling to plot\n",
        "plt.title('Histogram for percentage of punctuations in corpus')\n",
        "plt.xlabel('percentage of punctuations')\n",
        "plt.ylabel('numbers')\n",
        "plt.legend(loc='best')\n",
        "plt.xlim(0,20)\n",
        "\n",
        "# Display plot\n",
        "plt.show()"
      ],
      "metadata": {
        "id": "6OYYQSR8jKp0",
        "colab": {
          "base_uri": "https://localhost:8080/",
          "height": 562
        },
        "outputId": "96a0f317-58c4-46a4-a0cd-4eaec5c97a10"
      },
      "execution_count": 44,
      "outputs": [
        {
          "output_type": "display_data",
          "data": {
            "text/plain": [
              "<Figure size 1200x600 with 1 Axes>"
            ],
            "image/png": "[encoded data removed]"
          },
          "metadata": {}
        }
      ]
    },
    {
      "cell_type": "code",
      "source": [
        "## Function to remove stopwords and punctuations and lower casing to the corpus\n",
        "\n",
        "def remove_stopwords_punctuations(corpus):\n",
        "    '''Function which removes stopwords and punctuations and lower casing to the corpus\n",
        "    Args:\n",
        "    corpus (string) to which function is to be applied\n",
        "    Returns:\n",
        "    lowercase corpus without stopwords and punctuations\n",
        "    '''\n",
        "    nopunc =[char for char in corpus if char not in punctuations]\n",
        "    nopunc=''.join(nopunc)\n",
        "    return ' '.join([word.lower() for word in nopunc.split() if word.lower() not in stopwords])\n",
        "\n",
        "# Apply the remove_stopwords_punctuations function to each instance in variable contractions_description\n",
        "df_text['no_sw_pun_description']=df_text['contractions_description'].apply(remove_stopwords_punctuations)"
      ],
      "metadata": {
        "id": "Z0uqR1gIjTlQ"
      },
      "execution_count": 45,
      "outputs": []
    },
    {
      "cell_type": "code",
      "source": [
        "import re\n",
        "\n",
        "def remove_URL(corpus):\n",
        "    '''\n",
        "    Removes URL addresses from a corpus, if present\n",
        "    Args:\n",
        "        corpus (string): String to which the function is to be applied\n",
        "    Returns:\n",
        "        clean string without URL addresses\n",
        "    '''\n",
        "    return re.sub(r'https?://\\S+|www\\.\\S+', '', corpus)\n",
        "\n",
        "# Apply the remove_URL function to each instance in variable no_sw_pun_description\n",
        "df_text['clean_description']=df_text['no_sw_pun_description'].apply(remove_URL)"
      ],
      "metadata": {
        "id": "CsMv2r02jpTh"
      },
      "execution_count": 46,
      "outputs": []
    },
    {
      "cell_type": "code",
      "source": [
        "def remove_emails(corpus):\n",
        "    '''\n",
        "    Removes email addresses from a corpus, if present\n",
        "    Args:\n",
        "        corpus (string): String to which the function is to be applied\n",
        "    Returns:\n",
        "        clean string without email addresses\n",
        "    '''\n",
        "    corpus_split = corpus.split()\n",
        "    return ' '.join([i for i in corpus_split if '@' not in i])\n",
        "\n",
        "# Apply the remove_emails function to each instance in variable clean_description\n",
        "df_text['clean_description']=df_text['clean_description'].apply(remove_emails)"
      ],
      "metadata": {
        "id": "AyEmw3OajztC"
      },
      "execution_count": 47,
      "outputs": []
    },
    {
      "cell_type": "code",
      "source": [
        "from bs4 import BeautifulSoup\n",
        "\n",
        "def remove_html_tags(corpus):\n",
        "    '''\n",
        "    Removes HTML-Tags from a corpus, if present\n",
        "    Args:\n",
        "        text (string): corpus to which the function is to be applied,\n",
        "    Returns:\n",
        "        Clean corpus without HTML-Tags\n",
        "    '''\n",
        "    return BeautifulSoup(corpus, 'html.parser').get_text()\n",
        "\n",
        "# Apply the remove_html_tags function to each instance in variable clean_description\n",
        "df_text['clean_description']=df_text['clean_description'].apply(remove_html_tags)"
      ],
      "metadata": {
        "id": "AWrgCzPIj1_2"
      },
      "execution_count": 48,
      "outputs": []
    },
    {
      "cell_type": "code",
      "source": [
        "def remove_special_char(corpus):\n",
        "    \"\"\"Remove Special Characters from the corpus, if present\n",
        "    args:\n",
        "    corpus (string): corpus to which a function is to be applied\n",
        "    return:\n",
        "    clean corpus without  special characters\n",
        "    \"\"\"\n",
        "    return re.sub(r\"[^a-zA-Z0-9]\",\" \",corpus)\n",
        "\n",
        "# Apply the remove_special_char function to each instance in variable clean_description\n",
        "df_text['clean_description']=df_text['clean_description'].apply(remove_special_char)"
      ],
      "metadata": {
        "id": "741nsrLgj96f"
      },
      "execution_count": 49,
      "outputs": []
    },
    {
      "cell_type": "code",
      "source": [
        "def remove_digits(corpus):\n",
        "    '''\n",
        "    Removes digits from a corpus, if present\n",
        "    Args:\n",
        "        corpus (string): corpus to which the function is to be applied\n",
        "    Returns:\n",
        "        Clean string without digits\n",
        "    '''\n",
        "    return re.sub('\\w*\\d\\w*','',corpus)\n",
        "\n",
        "# Apply the remove_digits function to each instance in variable clean_description\n",
        "df_text['clean_description']=df_text['clean_description'].apply(remove_digits)"
      ],
      "metadata": {
        "id": "SCO46ONqkEty"
      },
      "execution_count": 50,
      "outputs": []
    },
    {
      "cell_type": "code",
      "source": [
        "def remove_extra_whitespaces(corpus):\n",
        "    '''\n",
        "    Removes extra whitespaces from a corpus, if present\n",
        "    Args:\n",
        "        text (string): corpus to which the function is to be applied\n",
        "    Returns:\n",
        "        Clean string without extra whitespaces\n",
        "    '''\n",
        "    return re.sub(r'^\\s*|\\s\\s*', ' ', corpus).strip()\n",
        "\n",
        "# Apply the remove_extra_whitespaces function to each instance to variable clean_description\n",
        "df_text['clean_description']=df_text['clean_description'].apply(remove_extra_whitespaces)"
      ],
      "metadata": {
        "id": "QRI62fQPkF9F"
      },
      "execution_count": 51,
      "outputs": []
    },
    {
      "cell_type": "code",
      "source": [
        "nltk.download('punkt')\n",
        "\n",
        "def tokenization_fun(corpus):\n",
        "    '''\n",
        "    Function tokenize corpus\n",
        "    Args:\n",
        "        corpus (string): corpus to which the function is to be applied\n",
        "    Returns:\n",
        "        tokenised corpus\n",
        "    '''\n",
        "    return nltk.word_tokenize(corpus)\n",
        "\n",
        "# Apply the tokenization_fun function to each instance in variable clean_description\n",
        "df_text['tokenized_description']=df_text['clean_description'].apply(tokenization_fun)"
      ],
      "metadata": {
        "id": "lQq_Rjqokdkw",
        "colab": {
          "base_uri": "https://localhost:8080/"
        },
        "outputId": "914e1f3b-6950-4093-a78b-c69f79fbabbf"
      },
      "execution_count": 52,
      "outputs": [
        {
          "output_type": "stream",
          "name": "stderr",
          "text": [
            "[nltk_data] Downloading package punkt to /root/nltk_data...\n",
            "[nltk_data]   Unzipping tokenizers/punkt.zip.\n"
          ]
        }
      ]
    },
    {
      "cell_type": "code",
      "source": [
        "from nltk.stem.porter import PorterStemmer\n",
        "\n",
        "# Create object for stemming\n",
        "porter_stemmer = PorterStemmer()\n",
        "\n",
        "# Creating function for stemming\n",
        "def stemming(tokenized_text):\n",
        "    '''Function which stem each word in token'''\n",
        "    text = [porter_stemmer.stem(word) for word in tokenized_text]\n",
        "    return text"
      ],
      "metadata": {
        "id": "VrW0BucekmeG"
      },
      "execution_count": 53,
      "outputs": []
    },
    {
      "cell_type": "code",
      "source": [
        "from nltk.stem import WordNetLemmatizer\n",
        "\n",
        "# Download all nltk corpuses\n",
        "nltk.download('wordnet')\n",
        "nltk.download('omw-1.4')\n",
        "\n",
        "# Create object for lemmatization\n",
        "lemmatizer = WordNetLemmatizer()\n",
        "\n",
        "# Creating function for lemmatization\n",
        "def lemmatization(tokenized_text):\n",
        "    '''Function which lemmatize each word in token'''\n",
        "    text = [lemmatizer.lemmatize(word, pos=\"v\") for word in tokenized_text]\n",
        "    return text\n",
        "\n",
        "# Apply the lemmatization function to each instance in variable tokenized_description\n",
        "df_text['lemmatized_description'] = df_text['tokenized_description'].apply(lambda x : lemmatization(x))"
      ],
      "metadata": {
        "id": "8sRR4pL6ku5y",
        "colab": {
          "base_uri": "https://localhost:8080/"
        },
        "outputId": "59fbeae6-0c2d-4620-8923-1d9cd70ab364"
      },
      "execution_count": 54,
      "outputs": [
        {
          "output_type": "stream",
          "name": "stderr",
          "text": [
            "[nltk_data] Downloading package wordnet to /root/nltk_data...\n",
            "[nltk_data] Downloading package omw-1.4 to /root/nltk_data...\n"
          ]
        }
      ]
    },
    {
      "cell_type": "code",
      "source": [
        "df_text['final_description'] = df_text['lemmatized_description'].apply(lambda x: ' '.join(x))"
      ],
      "metadata": {
        "id": "m_E2ZqOvkzqR"
      },
      "execution_count": 55,
      "outputs": []
    },
    {
      "cell_type": "code",
      "source": [
        "from sklearn.feature_extraction.text import TfidfVectorizer, CountVectorizer\n",
        "\n",
        "# Create the object of tfid vectorizer\n",
        "tfid_vectorizer = TfidfVectorizer()\n",
        "\n",
        "# Fit the vectorizer using the text data\n",
        "X = tfid_vectorizer.fit(df_text['final_description'])\n",
        "\n",
        "# Collect the vocabulary items used in the vectorizer\n",
        "dictionary = X.vocabulary_.items()\n",
        "\n",
        "## Bar plot of top words after cleaning text\n",
        "\n",
        "# Lists to store the vocab and counts\n",
        "vocab = []\n",
        "count = []\n",
        "\n",
        "# Iterate through each vocab and count append the value to designated lists\n",
        "for key, value in dictionary:\n",
        "    vocab.append(key)\n",
        "    count.append(value)\n",
        "\n",
        "# Store the count in panadas dataframe with vocab as index\n",
        "vocab_count_df = pd.Series(count, index=vocab)\n",
        "\n",
        "# Sort the dataframe\n",
        "vocab_count_df= vocab_count_df.sort_values(ascending=False)\n",
        "\n",
        "# Top 20 vocab\n",
        "top_vacab = vocab_count_df.head(20)\n",
        "\n",
        "# Plot of the top 20 vocab\n",
        "plt.figure(figsize=(10,5))\n",
        "ax=sns.barplot(y=top_vacab.index, x=top_vacab.values, color='goldenrod')\n",
        "ax.set_title('Top 20 most frequent words')\n",
        "ax.set_xlabel('frequency')\n",
        "ax.set_ylabel('words')\n",
        "ax.bar_label(ax.containers[0])\n",
        "plt.show()"
      ],
      "metadata": {
        "id": "CB1rNa9hlQmy",
        "colab": {
          "base_uri": "https://localhost:8080/",
          "height": 485
        },
        "outputId": "34ad5b4e-6649-4ab0-9eb1-b47e1ead0223"
      },
      "execution_count": 56,
      "outputs": [
        {
          "output_type": "display_data",
          "data": {
            "text/plain": [
              "<Figure size 1000x500 with 1 Axes>"
            ],
            "image/png": "[encoded data removed]"
          },
          "metadata": {}
        }
      ]
    },
    {
      "cell_type": "code",
      "source": [
        "# Create the object of tfid vectorizer\n",
        "vectorizer=TfidfVectorizer(max_features = 10000)\n",
        "\n",
        "# Fit the vectorizer using the text data\n",
        "X_tfidf = vectorizer.fit_transform(df_text['final_description'])\n"
      ],
      "metadata": {
        "id": "loVy-jGA-OLl"
      },
      "execution_count": 57,
      "outputs": []
    },
    {
      "cell_type": "code",
      "source": [
        "vector = pd.DataFrame(X_tfidf.toarray(), columns = vectorizer.get_feature_names_out(), index=df_trans_new.index)\n",
        "vector.head()"
      ],
      "metadata": {
        "id": "afCs1ePpnSxy",
        "colab": {
          "base_uri": "https://localhost:8080/",
          "height": 267
        },
        "outputId": "c689bce3-2b9a-4bdf-d53e-9b2e8a8b1648"
      },
      "execution_count": 58,
      "outputs": [
        {
          "output_type": "execute_result",
          "data": {
            "text/plain": [
              "          aamir  aaron  abandon  abbey  abby  abduct  abduction  abductors  \\\n",
              "showid                                                                       \n",
              "81607354    0.0    0.0      0.0    0.0   0.0     0.0        0.0        0.0   \n",
              "81616617    0.0    0.0      0.0    0.0   0.0     0.0        0.0        0.0   \n",
              "81732726    0.0    0.0      0.0    0.0   0.0     0.0        0.0        0.0   \n",
              "81611991    0.0    0.0      0.0    0.0   0.0     0.0        0.0        0.0   \n",
              "70305903    0.0    0.0      0.0    0.0   0.0     0.0        0.0        0.0   \n",
              "\n",
              "          abilities  ability  ...  zombies  zombieslaying  zone  zoo  \\\n",
              "showid                        ...                                      \n",
              "81607354        0.0      0.0  ...      0.0            0.0   0.0  0.0   \n",
              "81616617        0.0      0.0  ...      0.0            0.0   0.0  0.0   \n",
              "81732726        0.0      0.0  ...      0.0            0.0   0.0  0.0   \n",
              "81611991        0.0      0.0  ...      0.0            0.0   0.0  0.0   \n",
              "70305903        0.0      0.0  ...      0.0            0.0   0.0  0.0   \n",
              "\n",
              "          zoologist  zoom  zorro  zoya  zquez  zulu  \n",
              "showid                                               \n",
              "81607354        0.0   0.0    0.0   0.0    0.0   0.0  \n",
              "81616617        0.0   0.0    0.0   0.0    0.0   0.0  \n",
              "81732726        0.0   0.0    0.0   0.0    0.0   0.0  \n",
              "81611991        0.0   0.0    0.0   0.0    0.0   0.0  \n",
              "70305903        0.0   0.0    0.0   0.0    0.0   0.0  \n",
              "\n",
              "[5 rows x 10000 columns]"
            ],
            "text/html": [
              "\n",
              "  <div id=\"df-363d16ea-aec1-4890-bc2d-f1bc7f9b4618\" class=\"colab-df-container\">\n",
              "    <div>\n",
              "<style scoped>\n",
              "    .dataframe tbody tr th:only-of-type {\n",
              "        vertical-align: middle;\n",
              "    }\n",
              "\n",
              "    .dataframe tbody tr th {\n",
              "        vertical-align: top;\n",
              "    }\n",
              "\n",
              "    .dataframe thead th {\n",
              "        text-align: right;\n",
              "    }\n",
              "</style>\n",
              "<table border=\"1\" class=\"dataframe\">\n",
              "  <thead>\n",
              "    <tr style=\"text-align: right;\">\n",
              "      <th></th>\n",
              "      <th>aamir</th>\n",
              "      <th>aaron</th>\n",
              "      <th>abandon</th>\n",
              "      <th>abbey</th>\n",
              "      <th>abby</th>\n",
              "      <th>abduct</th>\n",
              "      <th>abduction</th>\n",
              "      <th>abductors</th>\n",
              "      <th>abilities</th>\n",
              "      <th>ability</th>\n",
              "      <th>...</th>\n",
              "      <th>zombies</th>\n",
              "      <th>zombieslaying</th>\n",
              "      <th>zone</th>\n",
              "      <th>zoo</th>\n",
              "      <th>zoologist</th>\n",
              "      <th>zoom</th>\n",
              "      <th>zorro</th>\n",
              "      <th>zoya</th>\n",
              "      <th>zquez</th>\n",
              "      <th>zulu</th>\n",
              "    </tr>\n",
              "    <tr>\n",
              "      <th>showid</th>\n",
              "      <th></th>\n",
              "      <th></th>\n",
              "      <th></th>\n",
              "      <th></th>\n",
              "      <th></th>\n",
              "      <th></th>\n",
              "      <th></th>\n",
              "      <th></th>\n",
              "      <th></th>\n",
              "      <th></th>\n",
              "      <th></th>\n",
              "      <th></th>\n",
              "      <th></th>\n",
              "      <th></th>\n",
              "      <th></th>\n",
              "      <th></th>\n",
              "      <th></th>\n",
              "      <th></th>\n",
              "      <th></th>\n",
              "      <th></th>\n",
              "      <th></th>\n",
              "    </tr>\n",
              "  </thead>\n",
              "  <tbody>\n",
              "    <tr>\n",
              "      <th>81607354</th>\n",
              "      <td>0.0</td>\n",
              "      <td>0.0</td>\n",
              "      <td>0.0</td>\n",
              "      <td>0.0</td>\n",
              "      <td>0.0</td>\n",
              "      <td>0.0</td>\n",
              "      <td>0.0</td>\n",
              "      <td>0.0</td>\n",
              "      <td>0.0</td>\n",
              "      <td>0.0</td>\n",
              "      <td>...</td>\n",
              "      <td>0.0</td>\n",
              "      <td>0.0</td>\n",
              "      <td>0.0</td>\n",
              "      <td>0.0</td>\n",
              "      <td>0.0</td>\n",
              "      <td>0.0</td>\n",
              "      <td>0.0</td>\n",
              "      <td>0.0</td>\n",
              "      <td>0.0</td>\n",
              "      <td>0.0</td>\n",
              "    </tr>\n",
              "    <tr>\n",
              "      <th>81616617</th>\n",
              "      <td>0.0</td>\n",
              "      <td>0.0</td>\n",
              "      <td>0.0</td>\n",
              "      <td>0.0</td>\n",
              "      <td>0.0</td>\n",
              "      <td>0.0</td>\n",
              "      <td>0.0</td>\n",
              "      <td>0.0</td>\n",
              "      <td>0.0</td>\n",
              "      <td>0.0</td>\n",
              "      <td>...</td>\n",
              "      <td>0.0</td>\n",
              "      <td>0.0</td>\n",
              "      <td>0.0</td>\n",
              "      <td>0.0</td>\n",
              "      <td>0.0</td>\n",
              "      <td>0.0</td>\n",
              "      <td>0.0</td>\n",
              "      <td>0.0</td>\n",
              "      <td>0.0</td>\n",
              "      <td>0.0</td>\n",
              "    </tr>\n",
              "    <tr>\n",
              "      <th>81732726</th>\n",
              "      <td>0.0</td>\n",
              "      <td>0.0</td>\n",
              "      <td>0.0</td>\n",
              "      <td>0.0</td>\n",
              "      <td>0.0</td>\n",
              "      <td>0.0</td>\n",
              "      <td>0.0</td>\n",
              "      <td>0.0</td>\n",
              "      <td>0.0</td>\n",
              "      <td>0.0</td>\n",
              "      <td>...</td>\n",
              "      <td>0.0</td>\n",
              "      <td>0.0</td>\n",
              "      <td>0.0</td>\n",
              "      <td>0.0</td>\n",
              "      <td>0.0</td>\n",
              "      <td>0.0</td>\n",
              "      <td>0.0</td>\n",
              "      <td>0.0</td>\n",
              "      <td>0.0</td>\n",
              "      <td>0.0</td>\n",
              "    </tr>\n",
              "    <tr>\n",
              "      <th>81611991</th>\n",
              "      <td>0.0</td>\n",
              "      <td>0.0</td>\n",
              "      <td>0.0</td>\n",
              "      <td>0.0</td>\n",
              "      <td>0.0</td>\n",
              "      <td>0.0</td>\n",
              "      <td>0.0</td>\n",
              "      <td>0.0</td>\n",
              "      <td>0.0</td>\n",
              "      <td>0.0</td>\n",
              "      <td>...</td>\n",
              "      <td>0.0</td>\n",
              "      <td>0.0</td>\n",
              "      <td>0.0</td>\n",
              "      <td>0.0</td>\n",
              "      <td>0.0</td>\n",
              "      <td>0.0</td>\n",
              "      <td>0.0</td>\n",
              "      <td>0.0</td>\n",
              "      <td>0.0</td>\n",
              "      <td>0.0</td>\n",
              "    </tr>\n",
              "    <tr>\n",
              "      <th>70305903</th>\n",
              "      <td>0.0</td>\n",
              "      <td>0.0</td>\n",
              "      <td>0.0</td>\n",
              "      <td>0.0</td>\n",
              "      <td>0.0</td>\n",
              "      <td>0.0</td>\n",
              "      <td>0.0</td>\n",
              "      <td>0.0</td>\n",
              "      <td>0.0</td>\n",
              "      <td>0.0</td>\n",
              "      <td>...</td>\n",
              "      <td>0.0</td>\n",
              "      <td>0.0</td>\n",
              "      <td>0.0</td>\n",
              "      <td>0.0</td>\n",
              "      <td>0.0</td>\n",
              "      <td>0.0</td>\n",
              "      <td>0.0</td>\n",
              "      <td>0.0</td>\n",
              "      <td>0.0</td>\n",
              "      <td>0.0</td>\n",
              "    </tr>\n",
              "  </tbody>\n",
              "</table>\n",
              "<p>5 rows × 10000 columns</p>\n",
              "</div>\n",
              "    <div class=\"colab-df-buttons\">\n",
              "\n",
              "  <div class=\"colab-df-container\">\n",
              "    <button class=\"colab-df-convert\" onclick=\"convertToInteractive('df-363d16ea-aec1-4890-bc2d-f1bc7f9b4618')\"\n",
              "            title=\"Convert this dataframe to an interactive table.\"\n",
              "            style=\"display:none;\">\n",
              "\n",
              "  <svg xmlns=\"http://www.w3.org/2000/svg\" height=\"24px\" viewBox=\"0 -960 960 960\">\n",
              "    <path d=\"M120-120v-720h720v720H120Zm60-500h600v-160H180v160Zm220 220h160v-160H400v160Zm0 220h160v-160H400v160ZM180-400h160v-160H180v160Zm440 0h160v-160H620v160ZM180-180h160v-160H180v160Zm440 0h160v-160H620v160Z\"/>\n",
              "  </svg>\n",
              "    </button>\n",
              "\n",
              "  <style>\n",
              "    .colab-df-container {\n",
              "      display:flex;\n",
              "      gap: 12px;\n",
              "    }\n",
              "\n",
              "    .colab-df-convert {\n",
              "      background-color: #E8F0FE;\n",
              "      border: none;\n",
              "      border-radius: 50%;\n",
              "      cursor: pointer;\n",
              "      display: none;\n",
              "      fill: #1967D2;\n",
              "      height: 32px;\n",
              "      padding: 0 0 0 0;\n",
              "      width: 32px;\n",
              "    }\n",
              "\n",
              "    .colab-df-convert:hover {\n",
              "      background-color: #E2EBFA;\n",
              "      box-shadow: 0px 1px 2px rgba(60, 64, 67, 0.3), 0px 1px 3px 1px rgba(60, 64, 67, 0.15);\n",
              "      fill: #174EA6;\n",
              "    }\n",
              "\n",
              "    .colab-df-buttons div {\n",
              "      margin-bottom: 4px;\n",
              "    }\n",
              "\n",
              "    [theme=dark] .colab-df-convert {\n",
              "      background-color: #3B4455;\n",
              "      fill: #D2E3FC;\n",
              "    }\n",
              "\n",
              "    [theme=dark] .colab-df-convert:hover {\n",
              "      background-color: #434B5C;\n",
              "      box-shadow: 0px 1px 3px 1px rgba(0, 0, 0, 0.15);\n",
              "      filter: drop-shadow(0px 1px 2px rgba(0, 0, 0, 0.3));\n",
              "      fill: #FFFFFF;\n",
              "    }\n",
              "  </style>\n",
              "\n",
              "    <script>\n",
              "      const buttonEl =\n",
              "        document.querySelector('#df-363d16ea-aec1-4890-bc2d-f1bc7f9b4618 button.colab-df-convert');\n",
              "      buttonEl.style.display =\n",
              "        google.colab.kernel.accessAllowed ? 'block' : 'none';\n",
              "\n",
              "      async function convertToInteractive(key) {\n",
              "        const element = document.querySelector('#df-363d16ea-aec1-4890-bc2d-f1bc7f9b4618');\n",
              "        const dataTable =\n",
              "          await google.colab.kernel.invokeFunction('convertToInteractive',\n",
              "                                                    [key], {});\n",
              "        if (!dataTable) return;\n",
              "\n",
              "        const docLinkHtml = 'Like what you see? Visit the ' +\n",
              "          '<a target=\"_blank\" href=https://colab.research.google.com/notebooks/data_table.ipynb>data table notebook</a>'\n",
              "          + ' to learn more about interactive tables.';\n",
              "        element.innerHTML = '';\n",
              "        dataTable['output_type'] = 'display_data';\n",
              "        await google.colab.output.renderOutput(dataTable, element);\n",
              "        const docLink = document.createElement('div');\n",
              "        docLink.innerHTML = docLinkHtml;\n",
              "        element.appendChild(docLink);\n",
              "      }\n",
              "    </script>\n",
              "  </div>\n",
              "\n",
              "\n",
              "<div id=\"df-a741ac02-ddfd-47c8-a1f1-68c7210a51e9\">\n",
              "  <button class=\"colab-df-quickchart\" onclick=\"quickchart('df-a741ac02-ddfd-47c8-a1f1-68c7210a51e9')\"\n",
              "            title=\"Suggest charts\"\n",
              "            style=\"display:none;\">\n",
              "\n",
              "<svg xmlns=\"http://www.w3.org/2000/svg\" height=\"24px\"viewBox=\"0 0 24 24\"\n",
              "     width=\"24px\">\n",
              "    <g>\n",
              "        <path d=\"M19 3H5c-1.1 0-2 .9-2 2v14c0 1.1.9 2 2 2h14c1.1 0 2-.9 2-2V5c0-1.1-.9-2-2-2zM9 17H7v-7h2v7zm4 0h-2V7h2v10zm4 0h-2v-4h2v4z\"/>\n",
              "    </g>\n",
              "</svg>\n",
              "  </button>\n",
              "\n",
              "<style>\n",
              "  .colab-df-quickchart {\n",
              "      --bg-color: #E8F0FE;\n",
              "      --fill-color: #1967D2;\n",
              "      --hover-bg-color: #E2EBFA;\n",
              "      --hover-fill-color: #174EA6;\n",
              "      --disabled-fill-color: #AAA;\n",
              "      --disabled-bg-color: #DDD;\n",
              "  }\n",
              "\n",
              "  [theme=dark] .colab-df-quickchart {\n",
              "      --bg-color: #3B4455;\n",
              "      --fill-color: #D2E3FC;\n",
              "      --hover-bg-color: #434B5C;\n",
              "      --hover-fill-color: #FFFFFF;\n",
              "      --disabled-bg-color: #3B4455;\n",
              "      --disabled-fill-color: #666;\n",
              "  }\n",
              "\n",
              "  .colab-df-quickchart {\n",
              "    background-color: var(--bg-color);\n",
              "    border: none;\n",
              "    border-radius: 50%;\n",
              "    cursor: pointer;\n",
              "    display: none;\n",
              "    fill: var(--fill-color);\n",
              "    height: 32px;\n",
              "    padding: 0;\n",
              "    width: 32px;\n",
              "  }\n",
              "\n",
              "  .colab-df-quickchart:hover {\n",
              "    background-color: var(--hover-bg-color);\n",
              "    box-shadow: 0 1px 2px rgba(60, 64, 67, 0.3), 0 1px 3px 1px rgba(60, 64, 67, 0.15);\n",
              "    fill: var(--button-hover-fill-color);\n",
              "  }\n",
              "\n",
              "  .colab-df-quickchart-complete:disabled,\n",
              "  .colab-df-quickchart-complete:disabled:hover {\n",
              "    background-color: var(--disabled-bg-color);\n",
              "    fill: var(--disabled-fill-color);\n",
              "    box-shadow: none;\n",
              "  }\n",
              "\n",
              "  .colab-df-spinner {\n",
              "    border: 2px solid var(--fill-color);\n",
              "    border-color: transparent;\n",
              "    border-bottom-color: var(--fill-color);\n",
              "    animation:\n",
              "      spin 1s steps(1) infinite;\n",
              "  }\n",
              "\n",
              "  @keyframes spin {\n",
              "    0% {\n",
              "      border-color: transparent;\n",
              "      border-bottom-color: var(--fill-color);\n",
              "      border-left-color: var(--fill-color);\n",
              "    }\n",
              "    20% {\n",
              "      border-color: transparent;\n",
              "      border-left-color: var(--fill-color);\n",
              "      border-top-color: var(--fill-color);\n",
              "    }\n",
              "    30% {\n",
              "      border-color: transparent;\n",
              "      border-left-color: var(--fill-color);\n",
              "      border-top-color: var(--fill-color);\n",
              "      border-right-color: var(--fill-color);\n",
              "    }\n",
              "    40% {\n",
              "      border-color: transparent;\n",
              "      border-right-color: var(--fill-color);\n",
              "      border-top-color: var(--fill-color);\n",
              "    }\n",
              "    60% {\n",
              "      border-color: transparent;\n",
              "      border-right-color: var(--fill-color);\n",
              "    }\n",
              "    80% {\n",
              "      border-color: transparent;\n",
              "      border-right-color: var(--fill-color);\n",
              "      border-bottom-color: var(--fill-color);\n",
              "    }\n",
              "    90% {\n",
              "      border-color: transparent;\n",
              "      border-bottom-color: var(--fill-color);\n",
              "    }\n",
              "  }\n",
              "</style>\n",
              "\n",
              "  <script>\n",
              "    async function quickchart(key) {\n",
              "      const quickchartButtonEl =\n",
              "        document.querySelector('#' + key + ' button');\n",
              "      quickchartButtonEl.disabled = true;  // To prevent multiple clicks.\n",
              "      quickchartButtonEl.classList.add('colab-df-spinner');\n",
              "      try {\n",
              "        const charts = await google.colab.kernel.invokeFunction(\n",
              "            'suggestCharts', [key], {});\n",
              "      } catch (error) {\n",
              "        console.error('Error during call to suggestCharts:', error);\n",
              "      }\n",
              "      quickchartButtonEl.classList.remove('colab-df-spinner');\n",
              "      quickchartButtonEl.classList.add('colab-df-quickchart-complete');\n",
              "    }\n",
              "    (() => {\n",
              "      let quickchartButtonEl =\n",
              "        document.querySelector('#df-a741ac02-ddfd-47c8-a1f1-68c7210a51e9 button');\n",
              "      quickchartButtonEl.style.display =\n",
              "        google.colab.kernel.accessAllowed ? 'block' : 'none';\n",
              "    })();\n",
              "  </script>\n",
              "</div>\n",
              "    </div>\n",
              "  </div>\n"
            ],
            "application/vnd.google.colaboratory.intrinsic+json": {
              "type": "dataframe",
              "variable_name": "vector"
            }
          },
          "metadata": {},
          "execution_count": 58
        }
      ]
    },
    {
      "cell_type": "code",
      "source": [
        "pca = PCA()\n",
        "pca.fit(vector)"
      ],
      "metadata": {
        "id": "REIochNR39FX",
        "colab": {
          "base_uri": "https://localhost:8080/",
          "height": 75
        },
        "outputId": "9701197a-c387-4e0e-b962-9ab447fe754d"
      },
      "execution_count": 59,
      "outputs": [
        {
          "output_type": "execute_result",
          "data": {
            "text/plain": [
              "PCA()"
            ],
            "text/html": [
              "<style>#sk-container-id-1 {color: black;background-color: white;}#sk-container-id-1 pre{padding: 0;}#sk-container-id-1 div.sk-toggleable {background-color: white;}#sk-container-id-1 label.sk-toggleable__label {cursor: pointer;display: block;width: 100%;margin-bottom: 0;padding: 0.3em;box-sizing: border-box;text-align: center;}#sk-container-id-1 label.sk-toggleable__label-arrow:before {content: \"▸\";float: left;margin-right: 0.25em;color: #696969;}#sk-container-id-1 label.sk-toggleable__label-arrow:hover:before {color: black;}#sk-container-id-1 div.sk-estimator:hover label.sk-toggleable__label-arrow:before {color: black;}#sk-container-id-1 div.sk-toggleable__content {max-height: 0;max-width: 0;overflow: hidden;text-align: left;background-color: #f0f8ff;}#sk-container-id-1 div.sk-toggleable__content pre {margin: 0.2em;color: black;border-radius: 0.25em;background-color: #f0f8ff;}#sk-container-id-1 input.sk-toggleable__control:checked~div.sk-toggleable__content {max-height: 200px;max-width: 100%;overflow: auto;}#sk-container-id-1 input.sk-toggleable__control:checked~label.sk-toggleable__label-arrow:before {content: \"▾\";}#sk-container-id-1 div.sk-estimator input.sk-toggleable__control:checked~label.sk-toggleable__label {background-color: #d4ebff;}#sk-container-id-1 div.sk-label input.sk-toggleable__control:checked~label.sk-toggleable__label {background-color: #d4ebff;}#sk-container-id-1 input.sk-hidden--visually {border: 0;clip: rect(1px 1px 1px 1px);clip: rect(1px, 1px, 1px, 1px);height: 1px;margin: -1px;overflow: hidden;padding: 0;position: absolute;width: 1px;}#sk-container-id-1 div.sk-estimator {font-family: monospace;background-color: #f0f8ff;border: 1px dotted black;border-radius: 0.25em;box-sizing: border-box;margin-bottom: 0.5em;}#sk-container-id-1 div.sk-estimator:hover {background-color: #d4ebff;}#sk-container-id-1 div.sk-parallel-item::after {content: \"\";width: 100%;border-bottom: 1px solid gray;flex-grow: 1;}#sk-container-id-1 div.sk-label:hover label.sk-toggleable__label {background-color: #d4ebff;}#sk-container-id-1 div.sk-serial::before {content: \"\";position: absolute;border-left: 1px solid gray;box-sizing: border-box;top: 0;bottom: 0;left: 50%;z-index: 0;}#sk-container-id-1 div.sk-serial {display: flex;flex-direction: column;align-items: center;background-color: white;padding-right: 0.2em;padding-left: 0.2em;position: relative;}#sk-container-id-1 div.sk-item {position: relative;z-index: 1;}#sk-container-id-1 div.sk-parallel {display: flex;align-items: stretch;justify-content: center;background-color: white;position: relative;}#sk-container-id-1 div.sk-item::before, #sk-container-id-1 div.sk-parallel-item::before {content: \"\";position: absolute;border-left: 1px solid gray;box-sizing: border-box;top: 0;bottom: 0;left: 50%;z-index: -1;}#sk-container-id-1 div.sk-parallel-item {display: flex;flex-direction: column;z-index: 1;position: relative;background-color: white;}#sk-container-id-1 div.sk-parallel-item:first-child::after {align-self: flex-end;width: 50%;}#sk-container-id-1 div.sk-parallel-item:last-child::after {align-self: flex-start;width: 50%;}#sk-container-id-1 div.sk-parallel-item:only-child::after {width: 0;}#sk-container-id-1 div.sk-dashed-wrapped {border: 1px dashed gray;margin: 0 0.4em 0.5em 0.4em;box-sizing: border-box;padding-bottom: 0.4em;background-color: white;}#sk-container-id-1 div.sk-label label {font-family: monospace;font-weight: bold;display: inline-block;line-height: 1.2em;}#sk-container-id-1 div.sk-label-container {text-align: center;}#sk-container-id-1 div.sk-container {/* jupyter's `normalize.less` sets `[hidden] { display: none; }` but bootstrap.min.css set `[hidden] { display: none !important; }` so we also need the `!important` here to be able to override the default hidden behavior on the sphinx rendered scikit-learn.org. See: https://github.com/scikit-learn/scikit-learn/issues/21755 */display: inline-block !important;position: relative;}#sk-container-id-1 div.sk-text-repr-fallback {display: none;}</style><div id=\"sk-container-id-1\" class=\"sk-top-container\"><div class=\"sk-text-repr-fallback\"><pre>PCA()</pre><b>In a Jupyter environment, please rerun this cell to show the HTML representation or trust the notebook. <br />On GitHub, the HTML representation is unable to render, please try loading this page with nbviewer.org.</b></div><div class=\"sk-container\" hidden><div class=\"sk-item\"><div class=\"sk-estimator sk-toggleable\"><input class=\"sk-toggleable__control sk-hidden--visually\" id=\"sk-estimator-id-1\" type=\"checkbox\" checked><label for=\"sk-estimator-id-1\" class=\"sk-toggleable__label sk-toggleable__label-arrow\">PCA</label><div class=\"sk-toggleable__content\"><pre>PCA()</pre></div></div></div></div></div>"
            ]
          },
          "metadata": {},
          "execution_count": 59
        }
      ]
    },
    {
      "cell_type": "code",
      "source": [
        "\n",
        "plt.figure(figsize=(6,4))\n",
        "plt.plot(np.cumsum(pca.explained_variance_ratio_))\n",
        "plt.title('PCA - Cumulative explained variance vs Number of components')\n",
        "plt.xlabel('Number of components')\n",
        "plt.ylabel('Cumulative explained variance')\n",
        "plt.axhline(y= 0.95, color='red', linestyle='--')\n",
        "plt.axvline(x= 4000, color='green', linestyle='--')\n",
        "plt.show()"
      ],
      "metadata": {
        "colab": {
          "base_uri": "https://localhost:8080/",
          "height": 408
        },
        "id": "iiwlmpllbeNO",
        "outputId": "1a6d619d-ac98-4735-f724-eab98f786fd3"
      },
      "execution_count": 60,
      "outputs": [
        {
          "output_type": "display_data",
          "data": {
            "text/plain": [
              "<Figure size 600x400 with 1 Axes>"
            ],
            "image/png": "[encoded data removed]"
          },
          "metadata": {}
        }
      ]
    },
    {
      "cell_type": "code",
      "source": [
        "pca = PCA(n_components=4000)\n",
        "pca.fit(vector)\n",
        "X_description = pca.transform(vector)\n",
        "X_description.shape"
      ],
      "metadata": {
        "id": "mP_kYz9H4AXk",
        "colab": {
          "base_uri": "https://localhost:8080/"
        },
        "outputId": "b81f5ac5-1ede-4689-bda0-5f3b1bf6f898"
      },
      "execution_count": 61,
      "outputs": [
        {
          "output_type": "execute_result",
          "data": {
            "text/plain": [
              "(6694, 4000)"
            ]
          },
          "metadata": {},
          "execution_count": 61
        }
      ]
    },
    {
      "cell_type": "code",
      "source": [
        "X_description_df = pd.DataFrame(X_description, index=df_trans_new.index)"
      ],
      "metadata": {
        "id": "cxouxcfHOfQJ"
      },
      "execution_count": 62,
      "outputs": []
    },
    {
      "cell_type": "code",
      "source": [
        "df_trans_new.drop('description', axis=1,inplace=True)"
      ],
      "metadata": {
        "id": "HVJw8-Nau1nC"
      },
      "execution_count": 63,
      "outputs": []
    },
    {
      "cell_type": "code",
      "source": [
        "X = pd.merge(df_trans_new, X_description_df, left_index=True, right_index=True)"
      ],
      "metadata": {
        "id": "5wJnBFMbIVB9"
      },
      "execution_count": 64,
      "outputs": []
    },
    {
      "cell_type": "code",
      "source": [
        "X.columns = X.columns.astype(str)"
      ],
      "metadata": {
        "id": "G700jvucJpJf"
      },
      "execution_count": 65,
      "outputs": []
    },
    {
      "cell_type": "code",
      "source": [
        "X_test = df_trans_new.copy()"
      ],
      "metadata": {
        "id": "N42Mw-K43uIr"
      },
      "execution_count": 66,
      "outputs": []
    },
    {
      "cell_type": "markdown",
      "source": [
        "# Model building"
      ],
      "metadata": {
        "id": "2Qg3p-nbf3_n"
      }
    },
    {
      "cell_type": "code",
      "source": [
        "X.shape\n"
      ],
      "metadata": {
        "colab": {
          "base_uri": "https://localhost:8080/"
        },
        "id": "GoqZ49vzm3ZA",
        "outputId": "7319ced5-d51a-440c-c783-c79c446808c2"
      },
      "execution_count": 67,
      "outputs": [
        {
          "output_type": "execute_result",
          "data": {
            "text/plain": [
              "(6694, 4045)"
            ]
          },
          "metadata": {},
          "execution_count": 67
        }
      ]
    },
    {
      "cell_type": "code",
      "source": [
        "neighbors = NearestNeighbors(n_neighbors=4057)\n",
        "neighbors_fit = neighbors.fit(X)\n",
        "distances, indices = neighbors_fit.kneighbors(X)"
      ],
      "metadata": {
        "id": "OJ42_ubBmb6i"
      },
      "execution_count": 68,
      "outputs": []
    },
    {
      "cell_type": "code",
      "source": [
        "distances = np.sort(distances, axis=0)\n",
        "distances = distances[:,1]\n",
        "plt.plot(distances)"
      ],
      "metadata": {
        "colab": {
          "base_uri": "https://localhost:8080/",
          "height": 501
        },
        "id": "uTbAuO8qoD3Y",
        "outputId": "feb6c9d3-0aad-4f5b-ff17-0f12d3b38972"
      },
      "execution_count": 69,
      "outputs": [
        {
          "output_type": "execute_result",
          "data": {
            "text/plain": [
              "[<matplotlib.lines.Line2D at 0x7dd16d0b1300>]"
            ]
          },
          "metadata": {},
          "execution_count": 69
        },
        {
          "output_type": "display_data",
          "data": {
            "text/plain": [
              "<Figure size 800x550 with 1 Axes>"
            ],
            "image/png": "[encoded data removed]"
          },
          "metadata": {}
        }
      ]
    },
    {
      "cell_type": "code",
      "source": [
        "plt.plot(distances)\n",
        "plt.xlim(-0.5, 300)  # Set limits for X axis\n",
        "plt.ylim(-0.025, 0.1)  # Set limits for Y axis\n",
        "plt.title(\"Zoomed-in DBSCAN Clustering\")\n",
        "\n",
        "plt.tight_layout()\n",
        "plt.show()"
      ],
      "metadata": {
        "colab": {
          "base_uri": "https://localhost:8080/",
          "height": 551
        },
        "id": "2RJpen0Ex1M1",
        "outputId": "32eb0fc9-40b6-46b7-f8c3-91a96dd4be16"
      },
      "execution_count": 70,
      "outputs": [
        {
          "output_type": "display_data",
          "data": {
            "text/plain": [
              "<Figure size 800x550 with 1 Axes>"
            ],
            "image/png": "[encoded data removed]"
          },
          "metadata": {}
        }
      ]
    },
    {
      "cell_type": "code",
      "source": [
        "dbscan = DBSCAN(eps=0.015, min_samples=5)\n",
        "dbscan.fit(X)"
      ],
      "metadata": {
        "colab": {
          "base_uri": "https://localhost:8080/",
          "height": 75
        },
        "id": "1_ruSi1KovLG",
        "outputId": "62226e31-0ca0-4c21-c8bd-b1ec14e78c88"
      },
      "execution_count": 71,
      "outputs": [
        {
          "output_type": "execute_result",
          "data": {
            "text/plain": [
              "DBSCAN(eps=0.015)"
            ],
            "text/html": [
              "<style>#sk-container-id-2 {color: black;background-color: white;}#sk-container-id-2 pre{padding: 0;}#sk-container-id-2 div.sk-toggleable {background-color: white;}#sk-container-id-2 label.sk-toggleable__label {cursor: pointer;display: block;width: 100%;margin-bottom: 0;padding: 0.3em;box-sizing: border-box;text-align: center;}#sk-container-id-2 label.sk-toggleable__label-arrow:before {content: \"▸\";float: left;margin-right: 0.25em;color: #696969;}#sk-container-id-2 label.sk-toggleable__label-arrow:hover:before {color: black;}#sk-container-id-2 div.sk-estimator:hover label.sk-toggleable__label-arrow:before {color: black;}#sk-container-id-2 div.sk-toggleable__content {max-height: 0;max-width: 0;overflow: hidden;text-align: left;background-color: #f0f8ff;}#sk-container-id-2 div.sk-toggleable__content pre {margin: 0.2em;color: black;border-radius: 0.25em;background-color: #f0f8ff;}#sk-container-id-2 input.sk-toggleable__control:checked~div.sk-toggleable__content {max-height: 200px;max-width: 100%;overflow: auto;}#sk-container-id-2 input.sk-toggleable__control:checked~label.sk-toggleable__label-arrow:before {content: \"▾\";}#sk-container-id-2 div.sk-estimator input.sk-toggleable__control:checked~label.sk-toggleable__label {background-color: #d4ebff;}#sk-container-id-2 div.sk-label input.sk-toggleable__control:checked~label.sk-toggleable__label {background-color: #d4ebff;}#sk-container-id-2 input.sk-hidden--visually {border: 0;clip: rect(1px 1px 1px 1px);clip: rect(1px, 1px, 1px, 1px);height: 1px;margin: -1px;overflow: hidden;padding: 0;position: absolute;width: 1px;}#sk-container-id-2 div.sk-estimator {font-family: monospace;background-color: #f0f8ff;border: 1px dotted black;border-radius: 0.25em;box-sizing: border-box;margin-bottom: 0.5em;}#sk-container-id-2 div.sk-estimator:hover {background-color: #d4ebff;}#sk-container-id-2 div.sk-parallel-item::after {content: \"\";width: 100%;border-bottom: 1px solid gray;flex-grow: 1;}#sk-container-id-2 div.sk-label:hover label.sk-toggleable__label {background-color: #d4ebff;}#sk-container-id-2 div.sk-serial::before {content: \"\";position: absolute;border-left: 1px solid gray;box-sizing: border-box;top: 0;bottom: 0;left: 50%;z-index: 0;}#sk-container-id-2 div.sk-serial {display: flex;flex-direction: column;align-items: center;background-color: white;padding-right: 0.2em;padding-left: 0.2em;position: relative;}#sk-container-id-2 div.sk-item {position: relative;z-index: 1;}#sk-container-id-2 div.sk-parallel {display: flex;align-items: stretch;justify-content: center;background-color: white;position: relative;}#sk-container-id-2 div.sk-item::before, #sk-container-id-2 div.sk-parallel-item::before {content: \"\";position: absolute;border-left: 1px solid gray;box-sizing: border-box;top: 0;bottom: 0;left: 50%;z-index: -1;}#sk-container-id-2 div.sk-parallel-item {display: flex;flex-direction: column;z-index: 1;position: relative;background-color: white;}#sk-container-id-2 div.sk-parallel-item:first-child::after {align-self: flex-end;width: 50%;}#sk-container-id-2 div.sk-parallel-item:last-child::after {align-self: flex-start;width: 50%;}#sk-container-id-2 div.sk-parallel-item:only-child::after {width: 0;}#sk-container-id-2 div.sk-dashed-wrapped {border: 1px dashed gray;margin: 0 0.4em 0.5em 0.4em;box-sizing: border-box;padding-bottom: 0.4em;background-color: white;}#sk-container-id-2 div.sk-label label {font-family: monospace;font-weight: bold;display: inline-block;line-height: 1.2em;}#sk-container-id-2 div.sk-label-container {text-align: center;}#sk-container-id-2 div.sk-container {/* jupyter's `normalize.less` sets `[hidden] { display: none; }` but bootstrap.min.css set `[hidden] { display: none !important; }` so we also need the `!important` here to be able to override the default hidden behavior on the sphinx rendered scikit-learn.org. See: https://github.com/scikit-learn/scikit-learn/issues/21755 */display: inline-block !important;position: relative;}#sk-container-id-2 div.sk-text-repr-fallback {display: none;}</style><div id=\"sk-container-id-2\" class=\"sk-top-container\"><div class=\"sk-text-repr-fallback\"><pre>DBSCAN(eps=0.015)</pre><b>In a Jupyter environment, please rerun this cell to show the HTML representation or trust the notebook. <br />On GitHub, the HTML representation is unable to render, please try loading this page with nbviewer.org.</b></div><div class=\"sk-container\" hidden><div class=\"sk-item\"><div class=\"sk-estimator sk-toggleable\"><input class=\"sk-toggleable__control sk-hidden--visually\" id=\"sk-estimator-id-2\" type=\"checkbox\" checked><label for=\"sk-estimator-id-2\" class=\"sk-toggleable__label sk-toggleable__label-arrow\">DBSCAN</label><div class=\"sk-toggleable__content\"><pre>DBSCAN(eps=0.015)</pre></div></div></div></div></div>"
            ]
          },
          "metadata": {},
          "execution_count": 71
        }
      ]
    },
    {
      "cell_type": "code",
      "source": [
        "clusters = dbscan.labels_"
      ],
      "metadata": {
        "id": "D0yXpn-vrZKU"
      },
      "execution_count": 72,
      "outputs": []
    },
    {
      "cell_type": "code",
      "source": [
        "np.unique(clusters)"
      ],
      "metadata": {
        "colab": {
          "base_uri": "https://localhost:8080/"
        },
        "id": "-Ucu9w59r3JV",
        "outputId": "ad259ae8-7e11-4536-d45e-41ce76b58fd6"
      },
      "execution_count": 73,
      "outputs": [
        {
          "output_type": "execute_result",
          "data": {
            "text/plain": [
              "array([-1,  0,  1,  2,  3,  4,  5,  6,  7,  8,  9, 10])"
            ]
          },
          "metadata": {},
          "execution_count": 73
        }
      ]
    },
    {
      "cell_type": "code",
      "source": [
        "# Calculate evaluation metrics 0.015\n",
        "print('~~'*45)\n",
        "print('Evaluation result :\\n')\n",
        "silhouette = silhouette_score(X, clusters)\n",
        "ch_score = calinski_harabasz_score(X, clusters)\n",
        "db_score = davies_bouldin_score(X, clusters)\n",
        "\n",
        "# Print the results\n",
        "print(f\"Number of clusters: {len(set(clusters))}\")\n",
        "print(f\"Silhouette score: {silhouette}\")\n",
        "print(f\"Calinski-Harabasz score: {ch_score}\")\n",
        "print(f\"Davies-Bouldin score: {db_score}\")"
      ],
      "metadata": {
        "colab": {
          "base_uri": "https://localhost:8080/"
        },
        "id": "TYGwpD0nwR62",
        "outputId": "37424927-6338-45b5-b17e-bfa54ce52f2a"
      },
      "execution_count": 74,
      "outputs": [
        {
          "output_type": "stream",
          "name": "stdout",
          "text": [
            "~~~~~~~~~~~~~~~~~~~~~~~~~~~~~~~~~~~~~~~~~~~~~~~~~~~~~~~~~~~~~~~~~~~~~~~~~~~~~~~~~~~~~~~~~~\n",
            "Evaluation result :\n",
            "\n",
            "Number of clusters: 12\n",
            "Silhouette score: -0.5241136237623291\n",
            "Calinski-Harabasz score: 6.133878908524855\n",
            "Davies-Bouldin score: 1.0198022372127957\n"
          ]
        }
      ]
    },
    {
      "cell_type": "code",
      "source": [
        "neighbors = NearestNeighbors(n_neighbors=57)\n",
        "neighbors_fit = neighbors.fit(X_test)\n",
        "distances, indices = neighbors_fit.kneighbors(X_test)"
      ],
      "metadata": {
        "id": "fK0bTD2D4FQ1"
      },
      "execution_count": 75,
      "outputs": []
    },
    {
      "cell_type": "code",
      "source": [
        "distances = np.sort(distances, axis=0)\n",
        "distances = distances[:,1]\n",
        "plt.plot(distances)"
      ],
      "metadata": {
        "colab": {
          "base_uri": "https://localhost:8080/",
          "height": 501
        },
        "id": "Let6QXhc4NJk",
        "outputId": "08314919-18b1-4015-92b9-43aa302ec2e8"
      },
      "execution_count": 76,
      "outputs": [
        {
          "output_type": "execute_result",
          "data": {
            "text/plain": [
              "[<matplotlib.lines.Line2D at 0x7dd172dd1720>]"
            ]
          },
          "metadata": {},
          "execution_count": 76
        },
        {
          "output_type": "display_data",
          "data": {
            "text/plain": [
              "<Figure size 800x550 with 1 Axes>"
            ],
            "image/png": "[encoded data removed]"
          },
          "metadata": {}
        }
      ]
    },
    {
      "cell_type": "code",
      "source": [
        "plt.plot(distances)\n",
        "plt.xlim(-0.5, 500)  # Set limits for X axis\n",
        "plt.ylim(-0.025, 0.1)  # Set limits for Y axis\n",
        "plt.title(\"Zoomed-in DBSCAN Clustering\")\n",
        "\n",
        "plt.tight_layout()\n",
        "plt.show()"
      ],
      "metadata": {
        "colab": {
          "base_uri": "https://localhost:8080/",
          "height": 551
        },
        "id": "xpjQKHzP4R-7",
        "outputId": "f635ede6-5a3b-488d-a5c9-140a970b36b2"
      },
      "execution_count": 77,
      "outputs": [
        {
          "output_type": "display_data",
          "data": {
            "text/plain": [
              "<Figure size 800x550 with 1 Axes>"
            ],
            "image/png": "[encoded data removed]"
          },
          "metadata": {}
        }
      ]
    },
    {
      "cell_type": "code",
      "source": [
        "dbscan_test = DBSCAN(eps=0.015, min_samples=5)\n",
        "dbscan_test.fit(X_test)"
      ],
      "metadata": {
        "colab": {
          "base_uri": "https://localhost:8080/",
          "height": 75
        },
        "id": "SyVUfobq4Y6_",
        "outputId": "78b07482-3331-4e6f-ce52-d88599d5e1f3"
      },
      "execution_count": 78,
      "outputs": [
        {
          "output_type": "execute_result",
          "data": {
            "text/plain": [
              "DBSCAN(eps=0.015)"
            ],
            "text/html": [
              "<style>#sk-container-id-3 {color: black;background-color: white;}#sk-container-id-3 pre{padding: 0;}#sk-container-id-3 div.sk-toggleable {background-color: white;}#sk-container-id-3 label.sk-toggleable__label {cursor: pointer;display: block;width: 100%;margin-bottom: 0;padding: 0.3em;box-sizing: border-box;text-align: center;}#sk-container-id-3 label.sk-toggleable__label-arrow:before {content: \"▸\";float: left;margin-right: 0.25em;color: #696969;}#sk-container-id-3 label.sk-toggleable__label-arrow:hover:before {color: black;}#sk-container-id-3 div.sk-estimator:hover label.sk-toggleable__label-arrow:before {color: black;}#sk-container-id-3 div.sk-toggleable__content {max-height: 0;max-width: 0;overflow: hidden;text-align: left;background-color: #f0f8ff;}#sk-container-id-3 div.sk-toggleable__content pre {margin: 0.2em;color: black;border-radius: 0.25em;background-color: #f0f8ff;}#sk-container-id-3 input.sk-toggleable__control:checked~div.sk-toggleable__content {max-height: 200px;max-width: 100%;overflow: auto;}#sk-container-id-3 input.sk-toggleable__control:checked~label.sk-toggleable__label-arrow:before {content: \"▾\";}#sk-container-id-3 div.sk-estimator input.sk-toggleable__control:checked~label.sk-toggleable__label {background-color: #d4ebff;}#sk-container-id-3 div.sk-label input.sk-toggleable__control:checked~label.sk-toggleable__label {background-color: #d4ebff;}#sk-container-id-3 input.sk-hidden--visually {border: 0;clip: rect(1px 1px 1px 1px);clip: rect(1px, 1px, 1px, 1px);height: 1px;margin: -1px;overflow: hidden;padding: 0;position: absolute;width: 1px;}#sk-container-id-3 div.sk-estimator {font-family: monospace;background-color: #f0f8ff;border: 1px dotted black;border-radius: 0.25em;box-sizing: border-box;margin-bottom: 0.5em;}#sk-container-id-3 div.sk-estimator:hover {background-color: #d4ebff;}#sk-container-id-3 div.sk-parallel-item::after {content: \"\";width: 100%;border-bottom: 1px solid gray;flex-grow: 1;}#sk-container-id-3 div.sk-label:hover label.sk-toggleable__label {background-color: #d4ebff;}#sk-container-id-3 div.sk-serial::before {content: \"\";position: absolute;border-left: 1px solid gray;box-sizing: border-box;top: 0;bottom: 0;left: 50%;z-index: 0;}#sk-container-id-3 div.sk-serial {display: flex;flex-direction: column;align-items: center;background-color: white;padding-right: 0.2em;padding-left: 0.2em;position: relative;}#sk-container-id-3 div.sk-item {position: relative;z-index: 1;}#sk-container-id-3 div.sk-parallel {display: flex;align-items: stretch;justify-content: center;background-color: white;position: relative;}#sk-container-id-3 div.sk-item::before, #sk-container-id-3 div.sk-parallel-item::before {content: \"\";position: absolute;border-left: 1px solid gray;box-sizing: border-box;top: 0;bottom: 0;left: 50%;z-index: -1;}#sk-container-id-3 div.sk-parallel-item {display: flex;flex-direction: column;z-index: 1;position: relative;background-color: white;}#sk-container-id-3 div.sk-parallel-item:first-child::after {align-self: flex-end;width: 50%;}#sk-container-id-3 div.sk-parallel-item:last-child::after {align-self: flex-start;width: 50%;}#sk-container-id-3 div.sk-parallel-item:only-child::after {width: 0;}#sk-container-id-3 div.sk-dashed-wrapped {border: 1px dashed gray;margin: 0 0.4em 0.5em 0.4em;box-sizing: border-box;padding-bottom: 0.4em;background-color: white;}#sk-container-id-3 div.sk-label label {font-family: monospace;font-weight: bold;display: inline-block;line-height: 1.2em;}#sk-container-id-3 div.sk-label-container {text-align: center;}#sk-container-id-3 div.sk-container {/* jupyter's `normalize.less` sets `[hidden] { display: none; }` but bootstrap.min.css set `[hidden] { display: none !important; }` so we also need the `!important` here to be able to override the default hidden behavior on the sphinx rendered scikit-learn.org. See: https://github.com/scikit-learn/scikit-learn/issues/21755 */display: inline-block !important;position: relative;}#sk-container-id-3 div.sk-text-repr-fallback {display: none;}</style><div id=\"sk-container-id-3\" class=\"sk-top-container\"><div class=\"sk-text-repr-fallback\"><pre>DBSCAN(eps=0.015)</pre><b>In a Jupyter environment, please rerun this cell to show the HTML representation or trust the notebook. <br />On GitHub, the HTML representation is unable to render, please try loading this page with nbviewer.org.</b></div><div class=\"sk-container\" hidden><div class=\"sk-item\"><div class=\"sk-estimator sk-toggleable\"><input class=\"sk-toggleable__control sk-hidden--visually\" id=\"sk-estimator-id-3\" type=\"checkbox\" checked><label for=\"sk-estimator-id-3\" class=\"sk-toggleable__label sk-toggleable__label-arrow\">DBSCAN</label><div class=\"sk-toggleable__content\"><pre>DBSCAN(eps=0.015)</pre></div></div></div></div></div>"
            ]
          },
          "metadata": {},
          "execution_count": 78
        }
      ]
    },
    {
      "cell_type": "code",
      "source": [
        "clusters_test = dbscan_test.labels_\n",
        "np.unique(clusters_test)"
      ],
      "metadata": {
        "colab": {
          "base_uri": "https://localhost:8080/"
        },
        "id": "KlgoPzc44hwD",
        "outputId": "48f05dc5-b539-4ac3-c0e4-2548cadc4936"
      },
      "execution_count": 79,
      "outputs": [
        {
          "output_type": "execute_result",
          "data": {
            "text/plain": [
              "array([-1,  0,  1,  2,  3,  4,  5,  6,  7,  8,  9, 10, 11, 12, 13])"
            ]
          },
          "metadata": {},
          "execution_count": 79
        }
      ]
    },
    {
      "cell_type": "code",
      "source": [
        "# Calculate evaluation metrics 0.015\n",
        "print('~~'*45)\n",
        "print('Evaluation result :\\n')\n",
        "silhouette = silhouette_score(X_test, clusters_test)\n",
        "ch_score = calinski_harabasz_score(X_test, clusters_test)\n",
        "db_score = davies_bouldin_score(X_test, clusters_test)\n",
        "\n",
        "# Print the results\n",
        "print(f\"Number of clusters: {len(set(clusters_test))}\")\n",
        "print(f\"Silhouette score: {silhouette}\")\n",
        "print(f\"Calinski-Harabasz score: {ch_score}\")\n",
        "print(f\"Davies-Bouldin score: {db_score}\")"
      ],
      "metadata": {
        "colab": {
          "base_uri": "https://localhost:8080/"
        },
        "id": "5Ki7iaNW4tUE",
        "outputId": "949342c3-d451-49dc-c565-24dd26dc7a10"
      },
      "execution_count": 80,
      "outputs": [
        {
          "output_type": "stream",
          "name": "stdout",
          "text": [
            "~~~~~~~~~~~~~~~~~~~~~~~~~~~~~~~~~~~~~~~~~~~~~~~~~~~~~~~~~~~~~~~~~~~~~~~~~~~~~~~~~~~~~~~~~~\n",
            "Evaluation result :\n",
            "\n",
            "Number of clusters: 15\n",
            "Silhouette score: -0.5434801537694716\n",
            "Calinski-Harabasz score: 5.88686561066761\n",
            "Davies-Bouldin score: 1.083235729711377\n"
          ]
        }
      ]
    },
    {
      "cell_type": "code",
      "source": [
        "KMeans_model = KMeans(random_state=42)\n",
        "elb_visualizer = kelbow_visualizer(KMeans_model, X, k=(2,30), locate_elbow=True)\n",
        "\n",
        "# Display figure\n",
        "elb_visualizer.show()"
      ],
      "metadata": {
        "id": "KqiUfkLlHbQ9",
        "colab": {
          "base_uri": "https://localhost:8080/",
          "height": 541
        },
        "outputId": "ef2f93d3-ec37-4cea-df2e-508b6fea15c6"
      },
      "execution_count": 81,
      "outputs": [
        {
          "output_type": "display_data",
          "data": {
            "text/plain": [
              "<Figure size 800x550 with 2 Axes>"
            ],
            "image/png": "[encoded data removed]"
          },
          "metadata": {}
        },
        {
          "output_type": "execute_result",
          "data": {
            "text/plain": [
              "<Axes: title={'center': 'Distortion Score Elbow for KMeans Clustering'}, xlabel='k', ylabel='distortion score'>"
            ]
          },
          "metadata": {},
          "execution_count": 81
        }
      ]
    },
    {
      "cell_type": "code",
      "source": [
        "kmeans = KMeans(n_clusters=10, init='k-means++', random_state= 42)\n",
        "kmeans.fit(X)"
      ],
      "metadata": {
        "colab": {
          "base_uri": "https://localhost:8080/",
          "height": 75
        },
        "id": "7QOrM-ti5V8W",
        "outputId": "f5fff3e9-4a66-416a-a6e5-2847ffc5c1e6"
      },
      "execution_count": 82,
      "outputs": [
        {
          "output_type": "execute_result",
          "data": {
            "text/plain": [
              "KMeans(n_clusters=10, random_state=42)"
            ],
            "text/html": [
              "<style>#sk-container-id-4 {color: black;background-color: white;}#sk-container-id-4 pre{padding: 0;}#sk-container-id-4 div.sk-toggleable {background-color: white;}#sk-container-id-4 label.sk-toggleable__label {cursor: pointer;display: block;width: 100%;margin-bottom: 0;padding: 0.3em;box-sizing: border-box;text-align: center;}#sk-container-id-4 label.sk-toggleable__label-arrow:before {content: \"▸\";float: left;margin-right: 0.25em;color: #696969;}#sk-container-id-4 label.sk-toggleable__label-arrow:hover:before {color: black;}#sk-container-id-4 div.sk-estimator:hover label.sk-toggleable__label-arrow:before {color: black;}#sk-container-id-4 div.sk-toggleable__content {max-height: 0;max-width: 0;overflow: hidden;text-align: left;background-color: #f0f8ff;}#sk-container-id-4 div.sk-toggleable__content pre {margin: 0.2em;color: black;border-radius: 0.25em;background-color: #f0f8ff;}#sk-container-id-4 input.sk-toggleable__control:checked~div.sk-toggleable__content {max-height: 200px;max-width: 100%;overflow: auto;}#sk-container-id-4 input.sk-toggleable__control:checked~label.sk-toggleable__label-arrow:before {content: \"▾\";}#sk-container-id-4 div.sk-estimator input.sk-toggleable__control:checked~label.sk-toggleable__label {background-color: #d4ebff;}#sk-container-id-4 div.sk-label input.sk-toggleable__control:checked~label.sk-toggleable__label {background-color: #d4ebff;}#sk-container-id-4 input.sk-hidden--visually {border: 0;clip: rect(1px 1px 1px 1px);clip: rect(1px, 1px, 1px, 1px);height: 1px;margin: -1px;overflow: hidden;padding: 0;position: absolute;width: 1px;}#sk-container-id-4 div.sk-estimator {font-family: monospace;background-color: #f0f8ff;border: 1px dotted black;border-radius: 0.25em;box-sizing: border-box;margin-bottom: 0.5em;}#sk-container-id-4 div.sk-estimator:hover {background-color: #d4ebff;}#sk-container-id-4 div.sk-parallel-item::after {content: \"\";width: 100%;border-bottom: 1px solid gray;flex-grow: 1;}#sk-container-id-4 div.sk-label:hover label.sk-toggleable__label {background-color: #d4ebff;}#sk-container-id-4 div.sk-serial::before {content: \"\";position: absolute;border-left: 1px solid gray;box-sizing: border-box;top: 0;bottom: 0;left: 50%;z-index: 0;}#sk-container-id-4 div.sk-serial {display: flex;flex-direction: column;align-items: center;background-color: white;padding-right: 0.2em;padding-left: 0.2em;position: relative;}#sk-container-id-4 div.sk-item {position: relative;z-index: 1;}#sk-container-id-4 div.sk-parallel {display: flex;align-items: stretch;justify-content: center;background-color: white;position: relative;}#sk-container-id-4 div.sk-item::before, #sk-container-id-4 div.sk-parallel-item::before {content: \"\";position: absolute;border-left: 1px solid gray;box-sizing: border-box;top: 0;bottom: 0;left: 50%;z-index: -1;}#sk-container-id-4 div.sk-parallel-item {display: flex;flex-direction: column;z-index: 1;position: relative;background-color: white;}#sk-container-id-4 div.sk-parallel-item:first-child::after {align-self: flex-end;width: 50%;}#sk-container-id-4 div.sk-parallel-item:last-child::after {align-self: flex-start;width: 50%;}#sk-container-id-4 div.sk-parallel-item:only-child::after {width: 0;}#sk-container-id-4 div.sk-dashed-wrapped {border: 1px dashed gray;margin: 0 0.4em 0.5em 0.4em;box-sizing: border-box;padding-bottom: 0.4em;background-color: white;}#sk-container-id-4 div.sk-label label {font-family: monospace;font-weight: bold;display: inline-block;line-height: 1.2em;}#sk-container-id-4 div.sk-label-container {text-align: center;}#sk-container-id-4 div.sk-container {/* jupyter's `normalize.less` sets `[hidden] { display: none; }` but bootstrap.min.css set `[hidden] { display: none !important; }` so we also need the `!important` here to be able to override the default hidden behavior on the sphinx rendered scikit-learn.org. See: https://github.com/scikit-learn/scikit-learn/issues/21755 */display: inline-block !important;position: relative;}#sk-container-id-4 div.sk-text-repr-fallback {display: none;}</style><div id=\"sk-container-id-4\" class=\"sk-top-container\"><div class=\"sk-text-repr-fallback\"><pre>KMeans(n_clusters=10, random_state=42)</pre><b>In a Jupyter environment, please rerun this cell to show the HTML representation or trust the notebook. <br />On GitHub, the HTML representation is unable to render, please try loading this page with nbviewer.org.</b></div><div class=\"sk-container\" hidden><div class=\"sk-item\"><div class=\"sk-estimator sk-toggleable\"><input class=\"sk-toggleable__control sk-hidden--visually\" id=\"sk-estimator-id-4\" type=\"checkbox\" checked><label for=\"sk-estimator-id-4\" class=\"sk-toggleable__label sk-toggleable__label-arrow\">KMeans</label><div class=\"sk-toggleable__content\"><pre>KMeans(n_clusters=10, random_state=42)</pre></div></div></div></div></div>"
            ]
          },
          "metadata": {},
          "execution_count": 82
        }
      ]
    },
    {
      "cell_type": "code",
      "source": [
        "clusters_kmeans= kmeans.predict(X)"
      ],
      "metadata": {
        "id": "yLk6SfKl5f_c"
      },
      "execution_count": 83,
      "outputs": []
    },
    {
      "cell_type": "code",
      "source": [
        "clusters_kmeans"
      ],
      "metadata": {
        "colab": {
          "base_uri": "https://localhost:8080/"
        },
        "id": "axvGVcW45m4n",
        "outputId": "ec5cfe33-3c14-4a43-d369-352b7b5844bf"
      },
      "execution_count": 84,
      "outputs": [
        {
          "output_type": "execute_result",
          "data": {
            "text/plain": [
              "array([6, 0, 0, ..., 4, 4, 4], dtype=int32)"
            ]
          },
          "metadata": {},
          "execution_count": 84
        }
      ]
    },
    {
      "cell_type": "code",
      "source": [
        "# Calculate evaluation metrics 0.015\n",
        "print('~~'*45)\n",
        "print('Evaluation result :\\n')\n",
        "silhouette = silhouette_score(X, clusters_kmeans)\n",
        "ch_score = calinski_harabasz_score(X, clusters_kmeans)\n",
        "db_score = davies_bouldin_score(X, clusters_kmeans)\n",
        "\n",
        "# Print the results\n",
        "print(f\"Number of clusters: {len(set(clusters_kmeans))}\")\n",
        "print(f\"Silhouette score: {silhouette}\")\n",
        "print(f\"Calinski-Harabasz score: {ch_score}\")\n",
        "print(f\"Davies-Bouldin score: {db_score}\")"
      ],
      "metadata": {
        "colab": {
          "base_uri": "https://localhost:8080/"
        },
        "id": "n627A92E5vcD",
        "outputId": "558d958f-778f-4289-86b6-729e2334f4db"
      },
      "execution_count": 85,
      "outputs": [
        {
          "output_type": "stream",
          "name": "stdout",
          "text": [
            "~~~~~~~~~~~~~~~~~~~~~~~~~~~~~~~~~~~~~~~~~~~~~~~~~~~~~~~~~~~~~~~~~~~~~~~~~~~~~~~~~~~~~~~~~~\n",
            "Evaluation result :\n",
            "\n",
            "Number of clusters: 10\n",
            "Silhouette score: 0.2133644740031503\n",
            "Calinski-Harabasz score: 2792.450689020364\n",
            "Davies-Bouldin score: 1.3686890609010982\n"
          ]
        }
      ]
    },
    {
      "cell_type": "code",
      "source": [
        "cluster_centroids = pd.DataFrame(kmeans.cluster_centers_, columns=X.columns)"
      ],
      "metadata": {
        "id": "lirykElvJoAb"
      },
      "execution_count": 86,
      "outputs": []
    },
    {
      "cell_type": "code",
      "source": [
        "similarity_matrix = cosine_similarity(X, cluster_centroids)"
      ],
      "metadata": {
        "id": "BiFL2qGN6myg"
      },
      "execution_count": 87,
      "outputs": []
    },
    {
      "cell_type": "code",
      "source": [
        "def recommend_for_new_movie(new_movie_features, clustering_model, similarity_matrix):\n",
        "    # Step 1: Cluster Assignment\n",
        "    cluster_index = clustering_model.predict([new_movie_features])[0]\n",
        "\n",
        "    # Step 2: Retrieve Recommendations from Cluster\n",
        "    cluster_indices = [i for i, label in enumerate(clustering_model.labels_) if label == cluster_index]\n",
        "    similarity_scores = similarity_matrix[:, cluster_indices]\n",
        "    mean_similarity_scores = similarity_scores.mean(axis=1)\n",
        "\n",
        "    # Step 3: Get top-N recommendations\n",
        "    top_n_recommendations_indices = mean_similarity_scores.argsort()[-N:][::-1]\n",
        "\n",
        "    return top_n_recommendations_indices"
      ],
      "metadata": {
        "id": "cu_Tshjx6sIK"
      },
      "execution_count": 88,
      "outputs": []
    }
  ]
}